{
 "cells": [
  {
   "cell_type": "code",
   "execution_count": 1,
   "id": "3e5762fa-f371-42f2-81ec-48dd6e483e3b",
   "metadata": {},
   "outputs": [],
   "source": [
    "import pandas as pd\n",
    "import numpy as np"
   ]
  },
  {
   "cell_type": "code",
   "execution_count": 2,
   "id": "cf9df58d-2e37-4a03-bc4d-3adecb8a4f8c",
   "metadata": {},
   "outputs": [],
   "source": [
    "dtypes = ['int64', 'int32', 'float64', 'complex', 'object', 'bool']\n",
    "data = dict([(x, np.ones(shape=2000).astype(x)) for x in dtypes])"
   ]
  },
  {
   "cell_type": "code",
   "execution_count": 3,
   "id": "2667ae74-30e7-45c0-a34d-9679129f06b9",
   "metadata": {},
   "outputs": [
    {
     "data": {
      "text/plain": [
       "{'int64': array([1, 1, 1, ..., 1, 1, 1], shape=(2000,)),\n",
       " 'int32': array([1, 1, 1, ..., 1, 1, 1], shape=(2000,), dtype=int32),\n",
       " 'float64': array([1., 1., 1., ..., 1., 1., 1.], shape=(2000,)),\n",
       " 'complex': array([1.+0.j, 1.+0.j, 1.+0.j, ..., 1.+0.j, 1.+0.j, 1.+0.j], shape=(2000,)),\n",
       " 'object': array([1.0, 1.0, 1.0, ..., 1.0, 1.0, 1.0], shape=(2000,), dtype=object),\n",
       " 'bool': array([ True,  True,  True, ...,  True,  True,  True], shape=(2000,))}"
      ]
     },
     "execution_count": 3,
     "metadata": {},
     "output_type": "execute_result"
    }
   ],
   "source": [
    "data"
   ]
  },
  {
   "cell_type": "code",
   "execution_count": 4,
   "id": "27025f70-3c83-4b76-b3a2-bf5661404857",
   "metadata": {},
   "outputs": [
    {
     "data": {
      "text/html": [
       "<div>\n",
       "<style scoped>\n",
       "    .dataframe tbody tr th:only-of-type {\n",
       "        vertical-align: middle;\n",
       "    }\n",
       "\n",
       "    .dataframe tbody tr th {\n",
       "        vertical-align: top;\n",
       "    }\n",
       "\n",
       "    .dataframe thead th {\n",
       "        text-align: right;\n",
       "    }\n",
       "</style>\n",
       "<table border=\"1\" class=\"dataframe\">\n",
       "  <thead>\n",
       "    <tr style=\"text-align: right;\">\n",
       "      <th></th>\n",
       "      <th>int64</th>\n",
       "      <th>int32</th>\n",
       "      <th>float64</th>\n",
       "      <th>complex</th>\n",
       "      <th>object</th>\n",
       "      <th>bool</th>\n",
       "    </tr>\n",
       "  </thead>\n",
       "  <tbody>\n",
       "    <tr>\n",
       "      <th>0</th>\n",
       "      <td>1</td>\n",
       "      <td>1</td>\n",
       "      <td>1.0</td>\n",
       "      <td>1.0+0.0j</td>\n",
       "      <td>1.0</td>\n",
       "      <td>True</td>\n",
       "    </tr>\n",
       "    <tr>\n",
       "      <th>1</th>\n",
       "      <td>1</td>\n",
       "      <td>1</td>\n",
       "      <td>1.0</td>\n",
       "      <td>1.0+0.0j</td>\n",
       "      <td>1.0</td>\n",
       "      <td>True</td>\n",
       "    </tr>\n",
       "    <tr>\n",
       "      <th>2</th>\n",
       "      <td>1</td>\n",
       "      <td>1</td>\n",
       "      <td>1.0</td>\n",
       "      <td>1.0+0.0j</td>\n",
       "      <td>1.0</td>\n",
       "      <td>True</td>\n",
       "    </tr>\n",
       "    <tr>\n",
       "      <th>3</th>\n",
       "      <td>1</td>\n",
       "      <td>1</td>\n",
       "      <td>1.0</td>\n",
       "      <td>1.0+0.0j</td>\n",
       "      <td>1.0</td>\n",
       "      <td>True</td>\n",
       "    </tr>\n",
       "    <tr>\n",
       "      <th>4</th>\n",
       "      <td>1</td>\n",
       "      <td>1</td>\n",
       "      <td>1.0</td>\n",
       "      <td>1.0+0.0j</td>\n",
       "      <td>1.0</td>\n",
       "      <td>True</td>\n",
       "    </tr>\n",
       "    <tr>\n",
       "      <th>...</th>\n",
       "      <td>...</td>\n",
       "      <td>...</td>\n",
       "      <td>...</td>\n",
       "      <td>...</td>\n",
       "      <td>...</td>\n",
       "      <td>...</td>\n",
       "    </tr>\n",
       "    <tr>\n",
       "      <th>1995</th>\n",
       "      <td>1</td>\n",
       "      <td>1</td>\n",
       "      <td>1.0</td>\n",
       "      <td>1.0+0.0j</td>\n",
       "      <td>1.0</td>\n",
       "      <td>True</td>\n",
       "    </tr>\n",
       "    <tr>\n",
       "      <th>1996</th>\n",
       "      <td>1</td>\n",
       "      <td>1</td>\n",
       "      <td>1.0</td>\n",
       "      <td>1.0+0.0j</td>\n",
       "      <td>1.0</td>\n",
       "      <td>True</td>\n",
       "    </tr>\n",
       "    <tr>\n",
       "      <th>1997</th>\n",
       "      <td>1</td>\n",
       "      <td>1</td>\n",
       "      <td>1.0</td>\n",
       "      <td>1.0+0.0j</td>\n",
       "      <td>1.0</td>\n",
       "      <td>True</td>\n",
       "    </tr>\n",
       "    <tr>\n",
       "      <th>1998</th>\n",
       "      <td>1</td>\n",
       "      <td>1</td>\n",
       "      <td>1.0</td>\n",
       "      <td>1.0+0.0j</td>\n",
       "      <td>1.0</td>\n",
       "      <td>True</td>\n",
       "    </tr>\n",
       "    <tr>\n",
       "      <th>1999</th>\n",
       "      <td>1</td>\n",
       "      <td>1</td>\n",
       "      <td>1.0</td>\n",
       "      <td>1.0+0.0j</td>\n",
       "      <td>1.0</td>\n",
       "      <td>True</td>\n",
       "    </tr>\n",
       "  </tbody>\n",
       "</table>\n",
       "<p>2000 rows × 6 columns</p>\n",
       "</div>"
      ],
      "text/plain": [
       "      int64  int32  float64   complex object  bool\n",
       "0         1      1      1.0  1.0+0.0j    1.0  True\n",
       "1         1      1      1.0  1.0+0.0j    1.0  True\n",
       "2         1      1      1.0  1.0+0.0j    1.0  True\n",
       "3         1      1      1.0  1.0+0.0j    1.0  True\n",
       "4         1      1      1.0  1.0+0.0j    1.0  True\n",
       "...     ...    ...      ...       ...    ...   ...\n",
       "1995      1      1      1.0  1.0+0.0j    1.0  True\n",
       "1996      1      1      1.0  1.0+0.0j    1.0  True\n",
       "1997      1      1      1.0  1.0+0.0j    1.0  True\n",
       "1998      1      1      1.0  1.0+0.0j    1.0  True\n",
       "1999      1      1      1.0  1.0+0.0j    1.0  True\n",
       "\n",
       "[2000 rows x 6 columns]"
      ]
     },
     "execution_count": 4,
     "metadata": {},
     "output_type": "execute_result"
    }
   ],
   "source": [
    "df = pd.DataFrame(data)\n",
    "df"
   ]
  },
  {
   "cell_type": "code",
   "execution_count": 5,
   "id": "a27df615-8978-4c04-92e2-edc0c17ec9bc",
   "metadata": {},
   "outputs": [
    {
     "name": "stdout",
     "output_type": "stream",
     "text": [
      "<class 'pandas.core.frame.DataFrame'>\n",
      "RangeIndex: 2000 entries, 0 to 1999\n",
      "Data columns (total 6 columns):\n",
      " #   Column   Non-Null Count  Dtype     \n",
      "---  ------   --------------  -----     \n",
      " 0   int64    2000 non-null   int64     \n",
      " 1   int32    2000 non-null   int32     \n",
      " 2   float64  2000 non-null   float64   \n",
      " 3   complex  2000 non-null   complex128\n",
      " 4   object   2000 non-null   object    \n",
      " 5   bool     2000 non-null   bool      \n",
      "dtypes: bool(1), complex128(1), float64(1), int32(1), int64(1), object(1)\n",
      "memory usage: 88.0+ KB\n"
     ]
    }
   ],
   "source": [
    "df.info()"
   ]
  },
  {
   "cell_type": "code",
   "execution_count": 6,
   "id": "085939a2-93d4-4285-b97b-ee78e5e8f86a",
   "metadata": {},
   "outputs": [
    {
     "data": {
      "text/plain": [
       "int64      16000\n",
       "int32       8000\n",
       "float64    16000\n",
       "complex    32000\n",
       "object     64000\n",
       "bool        2000\n",
       "dtype: int64"
      ]
     },
     "execution_count": 6,
     "metadata": {},
     "output_type": "execute_result"
    }
   ],
   "source": [
    "df.memory_usage(index=False, deep=True)"
   ]
  },
  {
   "cell_type": "code",
   "execution_count": 7,
   "id": "0e35cf82-89e4-4437-8bab-9ff1384be2df",
   "metadata": {},
   "outputs": [
    {
     "data": {
      "text/plain": [
       "0       1\n",
       "1       1\n",
       "2       1\n",
       "3       1\n",
       "4       1\n",
       "       ..\n",
       "1995    1\n",
       "1996    1\n",
       "1997    1\n",
       "1998    1\n",
       "1999    1\n",
       "Name: int64, Length: 2000, dtype: int64"
      ]
     },
     "execution_count": 7,
     "metadata": {},
     "output_type": "execute_result"
    }
   ],
   "source": [
    "int64 = df.get('int64')\n",
    "int64"
   ]
  },
  {
   "cell_type": "code",
   "execution_count": 8,
   "id": "21c57ca0-c3a5-4b5e-a480-2cdbe79c5f7b",
   "metadata": {},
   "outputs": [
    {
     "data": {
      "text/html": [
       "<div>\n",
       "<style scoped>\n",
       "    .dataframe tbody tr th:only-of-type {\n",
       "        vertical-align: middle;\n",
       "    }\n",
       "\n",
       "    .dataframe tbody tr th {\n",
       "        vertical-align: top;\n",
       "    }\n",
       "\n",
       "    .dataframe thead th {\n",
       "        text-align: right;\n",
       "    }\n",
       "</style>\n",
       "<table border=\"1\" class=\"dataframe\">\n",
       "  <thead>\n",
       "    <tr style=\"text-align: right;\">\n",
       "      <th></th>\n",
       "      <th>A</th>\n",
       "      <th>B</th>\n",
       "      <th>C C</th>\n",
       "    </tr>\n",
       "  </thead>\n",
       "  <tbody>\n",
       "    <tr>\n",
       "      <th>0</th>\n",
       "      <td>1</td>\n",
       "      <td>10</td>\n",
       "      <td>10</td>\n",
       "    </tr>\n",
       "    <tr>\n",
       "      <th>1</th>\n",
       "      <td>2</td>\n",
       "      <td>8</td>\n",
       "      <td>9</td>\n",
       "    </tr>\n",
       "    <tr>\n",
       "      <th>2</th>\n",
       "      <td>3</td>\n",
       "      <td>6</td>\n",
       "      <td>8</td>\n",
       "    </tr>\n",
       "    <tr>\n",
       "      <th>3</th>\n",
       "      <td>4</td>\n",
       "      <td>4</td>\n",
       "      <td>7</td>\n",
       "    </tr>\n",
       "    <tr>\n",
       "      <th>4</th>\n",
       "      <td>5</td>\n",
       "      <td>2</td>\n",
       "      <td>6</td>\n",
       "    </tr>\n",
       "  </tbody>\n",
       "</table>\n",
       "</div>"
      ],
      "text/plain": [
       "   A   B  C C\n",
       "0  1  10   10\n",
       "1  2   8    9\n",
       "2  3   6    8\n",
       "3  4   4    7\n",
       "4  5   2    6"
      ]
     },
     "execution_count": 8,
     "metadata": {},
     "output_type": "execute_result"
    }
   ],
   "source": [
    "df = pd.DataFrame({'A': range(1, 6),\n",
    "                   'B': range(10, 0, -2),\n",
    "                   'C C': range(10, 5, -1)})\n",
    "df"
   ]
  },
  {
   "cell_type": "code",
   "execution_count": 9,
   "id": "525c89a7-a4f4-4667-85e8-e0ed6d496ad9",
   "metadata": {},
   "outputs": [
    {
     "data": {
      "text/html": [
       "<div>\n",
       "<style scoped>\n",
       "    .dataframe tbody tr th:only-of-type {\n",
       "        vertical-align: middle;\n",
       "    }\n",
       "\n",
       "    .dataframe tbody tr th {\n",
       "        vertical-align: top;\n",
       "    }\n",
       "\n",
       "    .dataframe thead th {\n",
       "        text-align: right;\n",
       "    }\n",
       "</style>\n",
       "<table border=\"1\" class=\"dataframe\">\n",
       "  <thead>\n",
       "    <tr style=\"text-align: right;\">\n",
       "      <th></th>\n",
       "      <th>A</th>\n",
       "      <th>B</th>\n",
       "      <th>C C</th>\n",
       "    </tr>\n",
       "  </thead>\n",
       "  <tbody>\n",
       "    <tr>\n",
       "      <th>0</th>\n",
       "      <td>1</td>\n",
       "      <td>10</td>\n",
       "      <td>10</td>\n",
       "    </tr>\n",
       "    <tr>\n",
       "      <th>1</th>\n",
       "      <td>2</td>\n",
       "      <td>8</td>\n",
       "      <td>9</td>\n",
       "    </tr>\n",
       "    <tr>\n",
       "      <th>2</th>\n",
       "      <td>3</td>\n",
       "      <td>6</td>\n",
       "      <td>8</td>\n",
       "    </tr>\n",
       "  </tbody>\n",
       "</table>\n",
       "</div>"
      ],
      "text/plain": [
       "   A   B  C C\n",
       "0  1  10   10\n",
       "1  2   8    9\n",
       "2  3   6    8"
      ]
     },
     "execution_count": 9,
     "metadata": {},
     "output_type": "execute_result"
    }
   ],
   "source": [
    "# query\n",
    "df.query('A < B')"
   ]
  },
  {
   "cell_type": "code",
   "execution_count": 10,
   "id": "58848165-cbc8-4753-98ef-c2fcd036aa5e",
   "metadata": {},
   "outputs": [
    {
     "data": {
      "text/html": [
       "<div>\n",
       "<style scoped>\n",
       "    .dataframe tbody tr th:only-of-type {\n",
       "        vertical-align: middle;\n",
       "    }\n",
       "\n",
       "    .dataframe tbody tr th {\n",
       "        vertical-align: top;\n",
       "    }\n",
       "\n",
       "    .dataframe thead th {\n",
       "        text-align: right;\n",
       "    }\n",
       "</style>\n",
       "<table border=\"1\" class=\"dataframe\">\n",
       "  <thead>\n",
       "    <tr style=\"text-align: right;\">\n",
       "      <th></th>\n",
       "      <th>A</th>\n",
       "      <th>B</th>\n",
       "      <th>C C</th>\n",
       "    </tr>\n",
       "  </thead>\n",
       "  <tbody>\n",
       "    <tr>\n",
       "      <th>0</th>\n",
       "      <td>1</td>\n",
       "      <td>10</td>\n",
       "      <td>10</td>\n",
       "    </tr>\n",
       "    <tr>\n",
       "      <th>1</th>\n",
       "      <td>2</td>\n",
       "      <td>8</td>\n",
       "      <td>9</td>\n",
       "    </tr>\n",
       "    <tr>\n",
       "      <th>2</th>\n",
       "      <td>3</td>\n",
       "      <td>6</td>\n",
       "      <td>8</td>\n",
       "    </tr>\n",
       "  </tbody>\n",
       "</table>\n",
       "</div>"
      ],
      "text/plain": [
       "   A   B  C C\n",
       "0  1  10   10\n",
       "1  2   8    9\n",
       "2  3   6    8"
      ]
     },
     "execution_count": 10,
     "metadata": {},
     "output_type": "execute_result"
    }
   ],
   "source": [
    "df[df.A < df.B]"
   ]
  },
  {
   "cell_type": "code",
   "execution_count": 11,
   "id": "922800d6-d6de-448b-b13d-ec9fc5660197",
   "metadata": {},
   "outputs": [
    {
     "data": {
      "text/html": [
       "<div>\n",
       "<style scoped>\n",
       "    .dataframe tbody tr th:only-of-type {\n",
       "        vertical-align: middle;\n",
       "    }\n",
       "\n",
       "    .dataframe tbody tr th {\n",
       "        vertical-align: top;\n",
       "    }\n",
       "\n",
       "    .dataframe thead th {\n",
       "        text-align: right;\n",
       "    }\n",
       "</style>\n",
       "<table border=\"1\" class=\"dataframe\">\n",
       "  <thead>\n",
       "    <tr style=\"text-align: right;\">\n",
       "      <th></th>\n",
       "      <th>A</th>\n",
       "      <th>B</th>\n",
       "      <th>C C</th>\n",
       "    </tr>\n",
       "  </thead>\n",
       "  <tbody>\n",
       "    <tr>\n",
       "      <th>0</th>\n",
       "      <td>1</td>\n",
       "      <td>10</td>\n",
       "      <td>10</td>\n",
       "    </tr>\n",
       "  </tbody>\n",
       "</table>\n",
       "</div>"
      ],
      "text/plain": [
       "   A   B  C C\n",
       "0  1  10   10"
      ]
     },
     "execution_count": 11,
     "metadata": {},
     "output_type": "execute_result"
    }
   ],
   "source": [
    "df.query('B == `C C`')"
   ]
  },
  {
   "cell_type": "code",
   "execution_count": 12,
   "id": "a37c5570-70ef-43eb-9148-b08b1d5edfba",
   "metadata": {},
   "outputs": [
    {
     "data": {
      "text/html": [
       "<div>\n",
       "<style scoped>\n",
       "    .dataframe tbody tr th:only-of-type {\n",
       "        vertical-align: middle;\n",
       "    }\n",
       "\n",
       "    .dataframe tbody tr th {\n",
       "        vertical-align: top;\n",
       "    }\n",
       "\n",
       "    .dataframe thead th {\n",
       "        text-align: right;\n",
       "    }\n",
       "</style>\n",
       "<table border=\"1\" class=\"dataframe\">\n",
       "  <thead>\n",
       "    <tr style=\"text-align: right;\">\n",
       "      <th></th>\n",
       "      <th>A</th>\n",
       "      <th>B</th>\n",
       "      <th>C C</th>\n",
       "    </tr>\n",
       "  </thead>\n",
       "  <tbody>\n",
       "    <tr>\n",
       "      <th>0</th>\n",
       "      <td>1</td>\n",
       "      <td>10</td>\n",
       "      <td>10</td>\n",
       "    </tr>\n",
       "  </tbody>\n",
       "</table>\n",
       "</div>"
      ],
      "text/plain": [
       "   A   B  C C\n",
       "0  1  10   10"
      ]
     },
     "execution_count": 12,
     "metadata": {},
     "output_type": "execute_result"
    }
   ],
   "source": [
    "df[df.B == df['C C']]"
   ]
  },
  {
   "cell_type": "code",
   "execution_count": 13,
   "id": "5cc7c072-2288-4056-8794-fccf719dc25b",
   "metadata": {},
   "outputs": [
    {
     "data": {
      "text/html": [
       "<div>\n",
       "<style scoped>\n",
       "    .dataframe tbody tr th:only-of-type {\n",
       "        vertical-align: middle;\n",
       "    }\n",
       "\n",
       "    .dataframe tbody tr th {\n",
       "        vertical-align: top;\n",
       "    }\n",
       "\n",
       "    .dataframe thead th {\n",
       "        text-align: right;\n",
       "    }\n",
       "</style>\n",
       "<table border=\"1\" class=\"dataframe\">\n",
       "  <thead>\n",
       "    <tr style=\"text-align: right;\">\n",
       "      <th></th>\n",
       "      <th>A</th>\n",
       "      <th>B</th>\n",
       "      <th>C C</th>\n",
       "      <th>D</th>\n",
       "    </tr>\n",
       "  </thead>\n",
       "  <tbody>\n",
       "    <tr>\n",
       "      <th>0</th>\n",
       "      <td>1</td>\n",
       "      <td>10</td>\n",
       "      <td>10</td>\n",
       "      <td>2</td>\n",
       "    </tr>\n",
       "    <tr>\n",
       "      <th>1</th>\n",
       "      <td>2</td>\n",
       "      <td>8</td>\n",
       "      <td>9</td>\n",
       "      <td>4</td>\n",
       "    </tr>\n",
       "    <tr>\n",
       "      <th>2</th>\n",
       "      <td>3</td>\n",
       "      <td>6</td>\n",
       "      <td>8</td>\n",
       "      <td>6</td>\n",
       "    </tr>\n",
       "    <tr>\n",
       "      <th>3</th>\n",
       "      <td>4</td>\n",
       "      <td>4</td>\n",
       "      <td>7</td>\n",
       "      <td>8</td>\n",
       "    </tr>\n",
       "    <tr>\n",
       "      <th>4</th>\n",
       "      <td>5</td>\n",
       "      <td>2</td>\n",
       "      <td>6</td>\n",
       "      <td>10</td>\n",
       "    </tr>\n",
       "  </tbody>\n",
       "</table>\n",
       "</div>"
      ],
      "text/plain": [
       "   A   B  C C   D\n",
       "0  1  10   10   2\n",
       "1  2   8    9   4\n",
       "2  3   6    8   6\n",
       "3  4   4    7   8\n",
       "4  5   2    6  10"
      ]
     },
     "execution_count": 13,
     "metadata": {},
     "output_type": "execute_result"
    }
   ],
   "source": [
    "# eval\n",
    "pd.eval('D = df.A * 2', target=df)"
   ]
  },
  {
   "cell_type": "code",
   "execution_count": 14,
   "id": "31b8f18e-580d-4d75-805b-abb36e209134",
   "metadata": {},
   "outputs": [
    {
     "data": {
      "text/plain": [
       "array([ 0,  2,  4,  6,  8, 11, 13, 15, 17, 19])"
      ]
     },
     "execution_count": 14,
     "metadata": {},
     "output_type": "execute_result"
    }
   ],
   "source": [
    "# cut\n",
    "df = np.array([1,2,3,4,5,6,7,8,9,10])\n",
    "pd.cut(df, bins=20, labels=False)"
   ]
  },
  {
   "cell_type": "code",
   "execution_count": 15,
   "id": "3f85cc84-ad11-42eb-8062-e737a08b3b0c",
   "metadata": {},
   "outputs": [
    {
     "data": {
      "text/plain": [
       "['0-20', '0-20', '0-20', '0-20', '0-20', ..., '80-100', '80-100', '80-100', '80-100', '80-100']\n",
       "Length: 100\n",
       "Categories (5, object): ['0-20' < '20-40' < '40-60' < '60-80' < '80-100']"
      ]
     },
     "execution_count": 15,
     "metadata": {},
     "output_type": "execute_result"
    }
   ],
   "source": [
    "df = np.array(np.arange(1,101))\n",
    "pd.cut(df, bins=5, labels=['0-20', '20-40', '40-60', '60-80', '80-100'], precision=20)"
   ]
  },
  {
   "cell_type": "code",
   "execution_count": 16,
   "id": "cfde4dc8-23d4-41e0-8849-66031dc577bc",
   "metadata": {},
   "outputs": [
    {
     "data": {
      "text/plain": [
       "0    99\n",
       "1    99\n",
       "2    99\n",
       "3    99\n",
       "4    99\n",
       "5    99\n",
       "6     6\n",
       "7     7\n",
       "8     8\n",
       "9     9\n",
       "dtype: int64"
      ]
     },
     "execution_count": 16,
     "metadata": {},
     "output_type": "execute_result"
    }
   ],
   "source": [
    "# where vs mask\n",
    "# where : replace when where condition is false\n",
    "# mask : replaces when where condition is True\n",
    "\n",
    "df = pd.Series(range(10))\n",
    "arr = df.where(df>5, 99) # df>5 False = 99, true = df\n",
    "arr"
   ]
  },
  {
   "cell_type": "code",
   "execution_count": 17,
   "id": "4acf3140-0c94-47c3-a235-eba9631a4936",
   "metadata": {},
   "outputs": [
    {
     "data": {
      "text/plain": [
       "0     0\n",
       "1     1\n",
       "2     2\n",
       "3     3\n",
       "4     4\n",
       "5     5\n",
       "6    99\n",
       "7    99\n",
       "8    99\n",
       "9    99\n",
       "dtype: int64"
      ]
     },
     "execution_count": 17,
     "metadata": {},
     "output_type": "execute_result"
    }
   ],
   "source": [
    "arr = df.mask(df>5, 99) # df>5 true = 99, false = df\n",
    "arr"
   ]
  },
  {
   "cell_type": "code",
   "execution_count": 18,
   "id": "aad40f9c-d3f2-457b-a36f-c064244fea2b",
   "metadata": {},
   "outputs": [
    {
     "data": {
      "text/plain": [
       "array([[ 1,  4],\n",
       "       [ 9, 16]])"
      ]
     },
     "execution_count": 18,
     "metadata": {},
     "output_type": "execute_result"
    }
   ],
   "source": [
    "# multiplication, dot, @\n",
    "# Dot\n",
    "df1 = np.array([[1,2], [3,4]])\n",
    "df2 = np.array([[1,2], [3,4]])\n",
    "df3 = df1 * df2\n",
    "df3"
   ]
  },
  {
   "cell_type": "code",
   "execution_count": 19,
   "id": "36d7e867-877e-408b-8775-a1e790ea3650",
   "metadata": {},
   "outputs": [
    {
     "data": {
      "text/plain": [
       "array([[ 7, 10],\n",
       "       [15, 22]])"
      ]
     },
     "execution_count": 19,
     "metadata": {},
     "output_type": "execute_result"
    }
   ],
   "source": [
    "# dot\n",
    "df3 = np.dot(df1, df2)\n",
    "df3"
   ]
  },
  {
   "cell_type": "code",
   "execution_count": 20,
   "id": "d6561dac-2d64-40af-9a0d-98a3ea31cd7b",
   "metadata": {},
   "outputs": [
    {
     "data": {
      "text/plain": [
       "array([[ 7, 10],\n",
       "       [15, 22]])"
      ]
     },
     "execution_count": 20,
     "metadata": {},
     "output_type": "execute_result"
    }
   ],
   "source": [
    "# @\n",
    "df3 = df1 @ df2\n",
    "df3"
   ]
  },
  {
   "cell_type": "code",
   "execution_count": 21,
   "id": "5f7c9240-586d-4924-b992-167b8f3c9672",
   "metadata": {},
   "outputs": [
    {
     "data": {
      "text/html": [
       "<div>\n",
       "<style scoped>\n",
       "    .dataframe tbody tr th:only-of-type {\n",
       "        vertical-align: middle;\n",
       "    }\n",
       "\n",
       "    .dataframe tbody tr th {\n",
       "        vertical-align: top;\n",
       "    }\n",
       "\n",
       "    .dataframe thead th {\n",
       "        text-align: right;\n",
       "    }\n",
       "</style>\n",
       "<table border=\"1\" class=\"dataframe\">\n",
       "  <thead>\n",
       "    <tr style=\"text-align: right;\">\n",
       "      <th></th>\n",
       "      <th>A</th>\n",
       "      <th>B</th>\n",
       "    </tr>\n",
       "  </thead>\n",
       "  <tbody>\n",
       "    <tr>\n",
       "      <th>0</th>\n",
       "      <td>4</td>\n",
       "      <td>9</td>\n",
       "    </tr>\n",
       "    <tr>\n",
       "      <th>1</th>\n",
       "      <td>4</td>\n",
       "      <td>9</td>\n",
       "    </tr>\n",
       "    <tr>\n",
       "      <th>2</th>\n",
       "      <td>4</td>\n",
       "      <td>9</td>\n",
       "    </tr>\n",
       "  </tbody>\n",
       "</table>\n",
       "</div>"
      ],
      "text/plain": [
       "   A  B\n",
       "0  4  9\n",
       "1  4  9\n",
       "2  4  9"
      ]
     },
     "execution_count": 21,
     "metadata": {},
     "output_type": "execute_result"
    }
   ],
   "source": [
    "# apply, map\n",
    "\n",
    "df = pd.DataFrame([[4,9]] * 3, columns=['A', 'B'])\n",
    "df"
   ]
  },
  {
   "cell_type": "code",
   "execution_count": 22,
   "id": "9702ff5b-5695-484c-95dd-7627b2ce7894",
   "metadata": {},
   "outputs": [
    {
     "name": "stdout",
     "output_type": "stream",
     "text": [
      "     A    B\n",
      "0  2.0  3.0\n",
      "1  2.0  3.0\n",
      "2  2.0  3.0\n",
      "0    13\n",
      "1    13\n",
      "2    13\n",
      "dtype: int64\n",
      "       A     B\n",
      "0  False  True\n",
      "1  False  True\n",
      "2  False  True\n"
     ]
    }
   ],
   "source": [
    "print(df.apply(np.sqrt)) \n",
    "print(df.apply(np.sum, axis=1)) # 4+9\n",
    "print(df.apply(lambda x: x > 5))"
   ]
  },
  {
   "cell_type": "code",
   "execution_count": 23,
   "id": "18f8c111-942c-4a7f-91ee-248b84fb0e3f",
   "metadata": {},
   "outputs": [
    {
     "data": {
      "text/html": [
       "<div>\n",
       "<style scoped>\n",
       "    .dataframe tbody tr th:only-of-type {\n",
       "        vertical-align: middle;\n",
       "    }\n",
       "\n",
       "    .dataframe tbody tr th {\n",
       "        vertical-align: top;\n",
       "    }\n",
       "\n",
       "    .dataframe thead th {\n",
       "        text-align: right;\n",
       "    }\n",
       "</style>\n",
       "<table border=\"1\" class=\"dataframe\">\n",
       "  <thead>\n",
       "    <tr style=\"text-align: right;\">\n",
       "      <th></th>\n",
       "      <th>Col1</th>\n",
       "      <th>Col2</th>\n",
       "    </tr>\n",
       "  </thead>\n",
       "  <tbody>\n",
       "    <tr>\n",
       "      <th>1</th>\n",
       "      <td>Hello,</td>\n",
       "      <td>World!</td>\n",
       "    </tr>\n",
       "  </tbody>\n",
       "</table>\n",
       "</div>"
      ],
      "text/plain": [
       "      Col1    Col2\n",
       "1  Hello,   World!"
      ]
     },
     "execution_count": 23,
     "metadata": {},
     "output_type": "execute_result"
    }
   ],
   "source": [
    "d = {'Col1' : 'Hello, ', 'Col2' : 'World!'}\n",
    "df = pd.DataFrame(data=d, index=[1])\n",
    "df"
   ]
  },
  {
   "cell_type": "code",
   "execution_count": 24,
   "id": "9146c6b5-6708-4772-8000-864544ad1733",
   "metadata": {},
   "outputs": [
    {
     "data": {
      "text/html": [
       "<div>\n",
       "<style scoped>\n",
       "    .dataframe tbody tr th:only-of-type {\n",
       "        vertical-align: middle;\n",
       "    }\n",
       "\n",
       "    .dataframe tbody tr th {\n",
       "        vertical-align: top;\n",
       "    }\n",
       "\n",
       "    .dataframe thead th {\n",
       "        text-align: right;\n",
       "    }\n",
       "</style>\n",
       "<table border=\"1\" class=\"dataframe\">\n",
       "  <thead>\n",
       "    <tr style=\"text-align: right;\">\n",
       "      <th></th>\n",
       "      <th>Col1</th>\n",
       "      <th>Col2</th>\n",
       "    </tr>\n",
       "  </thead>\n",
       "  <tbody>\n",
       "    <tr>\n",
       "      <th>1</th>\n",
       "      <td>7</td>\n",
       "      <td>6</td>\n",
       "    </tr>\n",
       "  </tbody>\n",
       "</table>\n",
       "</div>"
      ],
      "text/plain": [
       "   Col1  Col2\n",
       "1     7     6"
      ]
     },
     "execution_count": 24,
     "metadata": {},
     "output_type": "execute_result"
    }
   ],
   "source": [
    "df.map(lambda x: len(x))"
   ]
  },
  {
   "cell_type": "code",
   "execution_count": 25,
   "id": "ba9f427f-f246-434f-bb61-47e5a4915094",
   "metadata": {},
   "outputs": [
    {
     "name": "stdout",
     "output_type": "stream",
     "text": [
      "           Col1         Col2\n",
      "1  I am Hello,   I am World!\n"
     ]
    }
   ],
   "source": [
    "df1 = df.map(\"I am {}\".format)\n",
    "print(df1)"
   ]
  },
  {
   "cell_type": "code",
   "execution_count": 26,
   "id": "9d0cca93-176c-4042-ab82-da31e4993550",
   "metadata": {},
   "outputs": [
    {
     "data": {
      "text/html": [
       "<div>\n",
       "<style scoped>\n",
       "    .dataframe tbody tr th:only-of-type {\n",
       "        vertical-align: middle;\n",
       "    }\n",
       "\n",
       "    .dataframe tbody tr th {\n",
       "        vertical-align: top;\n",
       "    }\n",
       "\n",
       "    .dataframe thead th {\n",
       "        text-align: right;\n",
       "    }\n",
       "</style>\n",
       "<table border=\"1\" class=\"dataframe\">\n",
       "  <thead>\n",
       "    <tr style=\"text-align: right;\">\n",
       "      <th></th>\n",
       "      <th>0</th>\n",
       "      <th>1</th>\n",
       "      <th>2</th>\n",
       "    </tr>\n",
       "  </thead>\n",
       "  <tbody>\n",
       "    <tr>\n",
       "      <th>0</th>\n",
       "      <td>1</td>\n",
       "      <td>2</td>\n",
       "      <td>3</td>\n",
       "    </tr>\n",
       "    <tr>\n",
       "      <th>1</th>\n",
       "      <td>4</td>\n",
       "      <td>5</td>\n",
       "      <td>6</td>\n",
       "    </tr>\n",
       "  </tbody>\n",
       "</table>\n",
       "</div>"
      ],
      "text/plain": [
       "   0  1  2\n",
       "0  1  2  3\n",
       "1  4  5  6"
      ]
     },
     "execution_count": 26,
     "metadata": {},
     "output_type": "execute_result"
    }
   ],
   "source": [
    "df = pd.DataFrame([[1,2,3], [4,5,6]])\n",
    "df"
   ]
  },
  {
   "cell_type": "code",
   "execution_count": 27,
   "id": "965f7b8e-545f-4436-8545-bd0bd0539157",
   "metadata": {},
   "outputs": [
    {
     "data": {
      "text/html": [
       "<div>\n",
       "<style scoped>\n",
       "    .dataframe tbody tr th:only-of-type {\n",
       "        vertical-align: middle;\n",
       "    }\n",
       "\n",
       "    .dataframe tbody tr th {\n",
       "        vertical-align: top;\n",
       "    }\n",
       "\n",
       "    .dataframe thead th {\n",
       "        text-align: right;\n",
       "    }\n",
       "</style>\n",
       "<table border=\"1\" class=\"dataframe\">\n",
       "  <thead>\n",
       "    <tr style=\"text-align: right;\">\n",
       "      <th></th>\n",
       "      <th>sum</th>\n",
       "      <th>min</th>\n",
       "      <th>max</th>\n",
       "      <th>mean</th>\n",
       "      <th>median</th>\n",
       "    </tr>\n",
       "  </thead>\n",
       "  <tbody>\n",
       "    <tr>\n",
       "      <th>0</th>\n",
       "      <td>6.0</td>\n",
       "      <td>1.0</td>\n",
       "      <td>3.0</td>\n",
       "      <td>2.0</td>\n",
       "      <td>2.0</td>\n",
       "    </tr>\n",
       "    <tr>\n",
       "      <th>1</th>\n",
       "      <td>15.0</td>\n",
       "      <td>4.0</td>\n",
       "      <td>6.0</td>\n",
       "      <td>5.0</td>\n",
       "      <td>5.0</td>\n",
       "    </tr>\n",
       "  </tbody>\n",
       "</table>\n",
       "</div>"
      ],
      "text/plain": [
       "    sum  min  max  mean  median\n",
       "0   6.0  1.0  3.0   2.0     2.0\n",
       "1  15.0  4.0  6.0   5.0     5.0"
      ]
     },
     "execution_count": 27,
     "metadata": {},
     "output_type": "execute_result"
    }
   ],
   "source": [
    "df.agg(['sum', 'min', 'max', 'mean', 'median'], axis=1)"
   ]
  },
  {
   "cell_type": "code",
   "execution_count": 28,
   "id": "8bfb8c6b-bd37-40b3-beff-da55d8d5c48b",
   "metadata": {},
   "outputs": [
    {
     "data": {
      "text/plain": [
       "((1, 11),\n",
       " (1, 12),\n",
       " (3, 13),\n",
       " (3, 14),\n",
       " (5, 15),\n",
       " (5, 16),\n",
       " (5, 17),\n",
       " (8, 18),\n",
       " (8, 19),\n",
       " (8, 20))"
      ]
     },
     "execution_count": 28,
     "metadata": {},
     "output_type": "execute_result"
    }
   ],
   "source": [
    "# multi Indexing\n",
    "data = [\n",
    "    [1,1,3,3,5,5,5,8,8,8],\n",
    "    [11,12,13,14,15,16,17,18,19,20]\n",
    "]\n",
    "tup = tuple(zip(*data))\n",
    "tup"
   ]
  },
  {
   "cell_type": "code",
   "execution_count": 29,
   "id": "89cd6067-07dd-4225-be43-9536ee3d4b60",
   "metadata": {},
   "outputs": [
    {
     "data": {
      "text/plain": [
       "MultiIndex([(1, 11),\n",
       "            (1, 12),\n",
       "            (3, 13),\n",
       "            (3, 14),\n",
       "            (5, 15),\n",
       "            (5, 16),\n",
       "            (5, 17),\n",
       "            (8, 18),\n",
       "            (8, 19),\n",
       "            (8, 20)],\n",
       "           names=['first', 'second'])"
      ]
     },
     "execution_count": 29,
     "metadata": {},
     "output_type": "execute_result"
    }
   ],
   "source": [
    "df = pd.MultiIndex.from_tuples(tup, name=['first', 'second'])\n",
    "df"
   ]
  },
  {
   "cell_type": "code",
   "execution_count": 30,
   "id": "26ebccb6-b760-4817-8574-dd2aa6f13e77",
   "metadata": {},
   "outputs": [
    {
     "data": {
      "text/plain": [
       "1  11    0.813701\n",
       "   12   -0.297918\n",
       "3  13   -0.478617\n",
       "   14   -0.000682\n",
       "5  15    0.355520\n",
       "   16   -0.480976\n",
       "   17   -0.453967\n",
       "8  18   -0.083462\n",
       "   19    0.707407\n",
       "   20    0.346431\n",
       "dtype: float64"
      ]
     },
     "execution_count": 30,
     "metadata": {},
     "output_type": "execute_result"
    }
   ],
   "source": [
    "df1 = pd.Series(np.random.randn(10), index=tup)\n",
    "df1"
   ]
  },
  {
   "cell_type": "code",
   "execution_count": 31,
   "id": "04467088-1343-4834-b47d-97b65ee3d0c4",
   "metadata": {},
   "outputs": [
    {
     "data": {
      "text/plain": [
       "DatetimeIndex(['2020-05-01 00:00:00', '2020-05-01 00:05:00',\n",
       "               '2020-05-01 00:10:00', '2020-05-01 00:15:00',\n",
       "               '2020-05-01 00:20:00'],\n",
       "              dtype='datetime64[ns]', freq='5min')"
      ]
     },
     "execution_count": 31,
     "metadata": {},
     "output_type": "execute_result"
    }
   ],
   "source": [
    "# date range\n",
    "pd.date_range('5/1/2020', periods=5, freq='5min')"
   ]
  },
  {
   "cell_type": "code",
   "execution_count": 32,
   "id": "bea254b0-fe7c-4187-9cd4-ac66e38b408a",
   "metadata": {},
   "outputs": [
    {
     "data": {
      "text/plain": [
       "DatetimeIndex(['2022-01-01', '2022-01-02', '2022-01-03', '2022-01-04',\n",
       "               '2022-01-05', '2022-01-06', '2022-01-07', '2022-01-08'],\n",
       "              dtype='datetime64[ns]', freq=None)"
      ]
     },
     "execution_count": 32,
     "metadata": {},
     "output_type": "execute_result"
    }
   ],
   "source": [
    "pd.date_range(start='1/1/2022', end='1/8/2022', periods=8)"
   ]
  },
  {
   "cell_type": "code",
   "execution_count": 33,
   "id": "7122bdab-dc68-4de2-b23f-f35c59e4cbd4",
   "metadata": {},
   "outputs": [
    {
     "data": {
      "text/plain": [
       "DatetimeIndex(['2003-12-31', '2004-01-31', '2004-02-29', '2004-03-31',\n",
       "               '2004-04-30'],\n",
       "              dtype='datetime64[ns]', freq='ME')"
      ]
     },
     "execution_count": 33,
     "metadata": {},
     "output_type": "execute_result"
    }
   ],
   "source": [
    "pd.date_range('12/31/3', periods=5, freq='ME') # month end"
   ]
  },
  {
   "cell_type": "code",
   "execution_count": 34,
   "id": "8868c4c0-ae7c-4281-806d-9bcffb54ee2e",
   "metadata": {},
   "outputs": [
    {
     "data": {
      "text/plain": [
       "2000-01-01 00:00:00    0\n",
       "2000-01-01 00:01:00    1\n",
       "2000-01-01 00:02:00    2\n",
       "2000-01-01 00:03:00    3\n",
       "2000-01-01 00:04:00    4\n",
       "2000-01-01 00:05:00    5\n",
       "2000-01-01 00:06:00    6\n",
       "2000-01-01 00:07:00    7\n",
       "2000-01-01 00:08:00    8\n",
       "Freq: min, dtype: int64"
      ]
     },
     "execution_count": 34,
     "metadata": {},
     "output_type": "execute_result"
    }
   ],
   "source": [
    "# resample\n",
    "index = pd.date_range('1/1/2000', periods=9, freq='min')\n",
    "df = pd.Series(range(len(index)), index=index)\n",
    "df"
   ]
  },
  {
   "cell_type": "code",
   "execution_count": 35,
   "id": "af6ad05f-4d32-4b38-8996-407774dffbc4",
   "metadata": {},
   "outputs": [
    {
     "data": {
      "text/plain": [
       "2000-01-01 00:00:00    10\n",
       "2000-01-01 00:05:00    26\n",
       "Freq: 5min, dtype: int64"
      ]
     },
     "execution_count": 35,
     "metadata": {},
     "output_type": "execute_result"
    }
   ],
   "source": [
    "df.resample('5min').sum() # sum = 1+2+3+4"
   ]
  },
  {
   "cell_type": "code",
   "execution_count": 36,
   "id": "8ed6f802-9277-4fdd-99ab-aa9bd457e521",
   "metadata": {},
   "outputs": [
    {
     "data": {
      "text/plain": [
       "2000-01-01 00:00:00     0\n",
       "2000-01-01 00:05:00    15\n",
       "2000-01-01 00:10:00    21\n",
       "Freq: 5min, dtype: int64"
      ]
     },
     "execution_count": 36,
     "metadata": {},
     "output_type": "execute_result"
    }
   ],
   "source": [
    "df.resample('5min', label='right', closed='right').sum()"
   ]
  },
  {
   "cell_type": "code",
   "execution_count": 37,
   "id": "04cc5b25-ab78-4068-bf8d-68a36b332433",
   "metadata": {},
   "outputs": [
    {
     "data": {
      "text/html": [
       "<div>\n",
       "<style scoped>\n",
       "    .dataframe tbody tr th:only-of-type {\n",
       "        vertical-align: middle;\n",
       "    }\n",
       "\n",
       "    .dataframe tbody tr th {\n",
       "        vertical-align: top;\n",
       "    }\n",
       "\n",
       "    .dataframe thead th {\n",
       "        text-align: right;\n",
       "    }\n",
       "</style>\n",
       "<table border=\"1\" class=\"dataframe\">\n",
       "  <thead>\n",
       "    <tr style=\"text-align: right;\">\n",
       "      <th></th>\n",
       "      <th>col1</th>\n",
       "      <th>col2</th>\n",
       "    </tr>\n",
       "  </thead>\n",
       "  <tbody>\n",
       "    <tr>\n",
       "      <th>0</th>\n",
       "      <td>True</td>\n",
       "      <td>True</td>\n",
       "    </tr>\n",
       "    <tr>\n",
       "      <th>1</th>\n",
       "      <td>True</td>\n",
       "      <td>False</td>\n",
       "    </tr>\n",
       "  </tbody>\n",
       "</table>\n",
       "</div>"
      ],
      "text/plain": [
       "   col1   col2\n",
       "0  True   True\n",
       "1  True  False"
      ]
     },
     "execution_count": 37,
     "metadata": {},
     "output_type": "execute_result"
    }
   ],
   "source": [
    "# all (and), any (or)\n",
    "data = {'col1' : [True, True],\n",
    "        'col2' : [True, False]}\n",
    "df = pd.DataFrame(data)\n",
    "df"
   ]
  },
  {
   "cell_type": "code",
   "execution_count": 38,
   "id": "39284577-1870-4254-8738-666efc5c3c73",
   "metadata": {},
   "outputs": [
    {
     "name": "stdout",
     "output_type": "stream",
     "text": [
      "col1     True\n",
      "col2    False\n",
      "dtype: bool\n",
      "0     True\n",
      "1    False\n",
      "dtype: bool\n"
     ]
    }
   ],
   "source": [
    "print(df.all())\n",
    "print(df.all(axis=1))"
   ]
  },
  {
   "cell_type": "code",
   "execution_count": 39,
   "id": "2f79b3a9-0b1a-4044-ba49-b60d3639cb9b",
   "metadata": {},
   "outputs": [
    {
     "name": "stdout",
     "output_type": "stream",
     "text": [
      "col1    True\n",
      "col2    True\n",
      "dtype: bool\n",
      "0    True\n",
      "1    True\n",
      "dtype: bool\n"
     ]
    }
   ],
   "source": [
    "print(df.any())\n",
    "print(df.any(axis=1))"
   ]
  },
  {
   "cell_type": "code",
   "execution_count": 40,
   "id": "c216111b-b465-492c-918c-2b75f572c872",
   "metadata": {},
   "outputs": [
    {
     "data": {
      "text/plain": [
       "0      This\n",
       "1        is\n",
       "2    String\n",
       "3      <NA>\n",
       "4      <NA>\n",
       "5       inf\n",
       "6         1\n",
       "7      True\n",
       "8     Array\n",
       "dtype: string"
      ]
     },
     "execution_count": 40,
     "metadata": {},
     "output_type": "execute_result"
    }
   ],
   "source": [
    "# string array\n",
    "df = pd.Series(['This', 'is', 'String', None, np.nan, np.inf, 1, True, 'Array'], dtype=pd.StringDtype())\n",
    "df"
   ]
  },
  {
   "cell_type": "code",
   "execution_count": 41,
   "id": "ddc3f793-8254-4582-80a2-b056ae2c19a4",
   "metadata": {},
   "outputs": [
    {
     "name": "stdout",
     "output_type": "stream",
     "text": [
      "0       4\n",
      "1       2\n",
      "2       6\n",
      "3    <NA>\n",
      "4    <NA>\n",
      "5       3\n",
      "6       1\n",
      "7       4\n",
      "8       5\n",
      "dtype: Int64\n",
      "\n",
      "0      this\n",
      "1        is\n",
      "2    string\n",
      "3      <NA>\n",
      "4      <NA>\n",
      "5       inf\n",
      "6         1\n",
      "7      true\n",
      "8     array\n",
      "dtype: string\n",
      "\n",
      "0      THIS\n",
      "1        IS\n",
      "2    STRING\n",
      "3      <NA>\n",
      "4      <NA>\n",
      "5       INF\n",
      "6         1\n",
      "7      TRUE\n",
      "8     ARRAY\n",
      "dtype: string\n"
     ]
    }
   ],
   "source": [
    "print(df.str.len())\n",
    "print()\n",
    "print(df.str.lower())\n",
    "print()\n",
    "print(df.str.upper())"
   ]
  },
  {
   "cell_type": "code",
   "execution_count": 42,
   "id": "35901a08-62d6-4a11-b56d-8b37660cc9cb",
   "metadata": {},
   "outputs": [
    {
     "data": {
      "text/html": [
       "<div>\n",
       "<style scoped>\n",
       "    .dataframe tbody tr th:only-of-type {\n",
       "        vertical-align: middle;\n",
       "    }\n",
       "\n",
       "    .dataframe tbody tr th {\n",
       "        vertical-align: top;\n",
       "    }\n",
       "\n",
       "    .dataframe thead th {\n",
       "        text-align: right;\n",
       "    }\n",
       "</style>\n",
       "<table border=\"1\" class=\"dataframe\">\n",
       "  <thead>\n",
       "    <tr style=\"text-align: right;\">\n",
       "      <th></th>\n",
       "      <th>Col 1</th>\n",
       "      <th>Col 2</th>\n",
       "    </tr>\n",
       "  </thead>\n",
       "  <tbody>\n",
       "    <tr>\n",
       "      <th>0</th>\n",
       "      <td>-0.889267</td>\n",
       "      <td>-1.638230</td>\n",
       "    </tr>\n",
       "    <tr>\n",
       "      <th>1</th>\n",
       "      <td>-2.003593</td>\n",
       "      <td>0.697368</td>\n",
       "    </tr>\n",
       "    <tr>\n",
       "      <th>2</th>\n",
       "      <td>-0.217689</td>\n",
       "      <td>-0.895033</td>\n",
       "    </tr>\n",
       "  </tbody>\n",
       "</table>\n",
       "</div>"
      ],
      "text/plain": [
       "    Col 1     Col 2  \n",
       "0 -0.889267 -1.638230\n",
       "1 -2.003593  0.697368\n",
       "2 -0.217689 -0.895033"
      ]
     },
     "execution_count": 42,
     "metadata": {},
     "output_type": "execute_result"
    }
   ],
   "source": [
    "df = pd.DataFrame(np.random.randn(3,2), columns=[\"  Col 1  \", \"  Col 2  \"], index=range(3))\n",
    "df"
   ]
  },
  {
   "cell_type": "code",
   "execution_count": 43,
   "id": "2056f921-a202-4c55-a6ef-a09458140a7f",
   "metadata": {},
   "outputs": [
    {
     "name": "stdout",
     "output_type": "stream",
     "text": [
      "Index(['COL 1', 'COL 2'], dtype='object')\n",
      "Index(['Col_1', 'Col_2'], dtype='object')\n"
     ]
    }
   ],
   "source": [
    "df.columns = df.columns.str.strip()\n",
    "print(df.columns.str.upper())\n",
    "print(df.columns.str.replace(' ', '_'))"
   ]
  },
  {
   "cell_type": "code",
   "execution_count": 44,
   "id": "aba8d441-1c08-4465-bb23-bc03df6dbb8c",
   "metadata": {},
   "outputs": [
    {
     "data": {
      "text/plain": [
       "0    a_b_c\n",
       "1    d_e_f\n",
       "2      NaN\n",
       "3    g_h_i\n",
       "dtype: object"
      ]
     },
     "execution_count": 44,
     "metadata": {},
     "output_type": "execute_result"
    }
   ],
   "source": [
    "df = pd.Series(['a_b_c', 'd_e_f', np.nan, 'g_h_i'])\n",
    "df"
   ]
  },
  {
   "cell_type": "code",
   "execution_count": 45,
   "id": "37319686-61d4-417d-8d54-fba3a74ba33a",
   "metadata": {},
   "outputs": [
    {
     "name": "stdout",
     "output_type": "stream",
     "text": [
      "     0    1\n",
      "0  a_b    c\n",
      "1  d_e    f\n",
      "2  NaN  NaN\n",
      "3  g_h    i\n",
      "0      b\n",
      "1      e\n",
      "2    NaN\n",
      "3      h\n",
      "dtype: object\n",
      "0      b\n",
      "1      e\n",
      "2    NaN\n",
      "3      h\n",
      "dtype: object\n"
     ]
    }
   ],
   "source": [
    "print(df.str.rsplit('_', expand=True, n=1)) # reverse split n=1 char\n",
    "print(df.str.split('_').str.get(1))\n",
    "print(df.str.split('_').str[1])"
   ]
  },
  {
   "cell_type": "code",
   "execution_count": 46,
   "id": "01ebddef-563a-4267-94f4-08a1d9b2d62b",
   "metadata": {},
   "outputs": [
    {
     "data": {
      "text/plain": [
       "0       A\n",
       "1       B\n",
       "2       C\n",
       "3    Aaba\n",
       "4    Baca\n",
       "5        \n",
       "6    <NA>\n",
       "7    CABA\n",
       "8     dog\n",
       "9     cat\n",
       "dtype: string"
      ]
     },
     "execution_count": 46,
     "metadata": {},
     "output_type": "execute_result"
    }
   ],
   "source": [
    "# regex\n",
    "s3 = pd.Series([\"A\", \"B\", \"C\", \"Aaba\", \"Baca\", \"\", np.nan, \"CABA\", \"dog\", \"cat\"],  dtype=\"string\",)\n",
    "s3"
   ]
  },
  {
   "cell_type": "code",
   "execution_count": 47,
   "id": "90d6b30b-d47e-4100-b592-b0cdbbb29521",
   "metadata": {},
   "outputs": [
    {
     "data": {
      "text/plain": [
       "0          A\n",
       "1          B\n",
       "2          C\n",
       "3    XX-XXba\n",
       "4    XX-XXca\n",
       "5           \n",
       "6       <NA>\n",
       "7    XX-XXBA\n",
       "8      XX-XX\n",
       "9     XX-XXt\n",
       "dtype: string"
      ]
     },
     "execution_count": 47,
     "metadata": {},
     "output_type": "execute_result"
    }
   ],
   "source": [
    "s3.str.replace(\"^.a|dog\", \"XX-XX\", regex=True, case=False)"
   ]
  },
  {
   "cell_type": "code",
   "execution_count": 48,
   "id": "9268066c-854a-42f5-affe-df3b491ee522",
   "metadata": {},
   "outputs": [
    {
     "data": {
      "text/plain": [
       "'abc-d'"
      ]
     },
     "execution_count": 48,
     "metadata": {},
     "output_type": "execute_result"
    }
   ],
   "source": [
    "# concat\n",
    "s4 = pd.Series(['a', 'b', 'c', np.nan, 'd'], dtype='string')\n",
    "s4.str.cat(sep='', na_rep='-')"
   ]
  },
  {
   "cell_type": "code",
   "execution_count": 49,
   "id": "8b76c056-be2b-4cd4-87aa-a150ab629389",
   "metadata": {},
   "outputs": [
    {
     "name": "stdout",
     "output_type": "stream",
     "text": [
      "0       A\n",
      "1       B\n",
      "2       C\n",
      "3       A\n",
      "4       B\n",
      "5    <NA>\n",
      "6       C\n",
      "7       d\n",
      "8       c\n",
      "dtype: string\n",
      "0    <NA>\n",
      "1    <NA>\n",
      "2    <NA>\n",
      "3       a\n",
      "4       a\n",
      "5    <NA>\n",
      "6       A\n",
      "7       o\n",
      "8       a\n",
      "dtype: string\n",
      "0    <NA>\n",
      "1    <NA>\n",
      "2    <NA>\n",
      "3       b\n",
      "4       c\n",
      "5    <NA>\n",
      "6       B\n",
      "7       g\n",
      "8       t\n",
      "dtype: string\n"
     ]
    }
   ],
   "source": [
    "s = pd.Series(\n",
    "    [\"A\", \"B\", \"C\", \"Aaba\", \"Baca\", np.nan, \"CABA\", \"dog\", \"cat\"], dtype=\"string\"\n",
    ")\n",
    "\n",
    "print(s.str[0])\n",
    "print(s.str[1])\n",
    "print(s.str[2])"
   ]
  },
  {
   "cell_type": "code",
   "execution_count": 50,
   "id": "8e9397e1-9b9b-4e68-b3b6-58dc7698d679",
   "metadata": {},
   "outputs": [
    {
     "data": {
      "text/plain": [
       "0    False\n",
       "1    False\n",
       "2     True\n",
       "3     True\n",
       "4     True\n",
       "5     True\n",
       "dtype: boolean"
      ]
     },
     "execution_count": 50,
     "metadata": {},
     "output_type": "execute_result"
    }
   ],
   "source": [
    "# pattern\n",
    "pattern = r\"[0-9][a-z]\"\n",
    "\n",
    "pd.Series(\n",
    "    [\"1\", \"2\", \"3a\", \"3b\", \"03c\", \"4dx\"],\n",
    "    dtype=\"string\",\n",
    ").str.contains(pattern)"
   ]
  },
  {
   "cell_type": "code",
   "execution_count": 51,
   "id": "d2c0c47d-f9b4-4519-808c-0517afedd38b",
   "metadata": {},
   "outputs": [
    {
     "data": {
      "text/html": [
       "<div>\n",
       "<style scoped>\n",
       "    .dataframe tbody tr th:only-of-type {\n",
       "        vertical-align: middle;\n",
       "    }\n",
       "\n",
       "    .dataframe tbody tr th {\n",
       "        vertical-align: top;\n",
       "    }\n",
       "\n",
       "    .dataframe thead th {\n",
       "        text-align: right;\n",
       "    }\n",
       "</style>\n",
       "<table border=\"1\" class=\"dataframe\">\n",
       "  <thead>\n",
       "    <tr style=\"text-align: right;\">\n",
       "      <th></th>\n",
       "      <th>a</th>\n",
       "      <th>b</th>\n",
       "      <th>c</th>\n",
       "    </tr>\n",
       "  </thead>\n",
       "  <tbody>\n",
       "    <tr>\n",
       "      <th>0</th>\n",
       "      <td>1</td>\n",
       "      <td>0</td>\n",
       "      <td>0</td>\n",
       "    </tr>\n",
       "    <tr>\n",
       "      <th>1</th>\n",
       "      <td>1</td>\n",
       "      <td>1</td>\n",
       "      <td>0</td>\n",
       "    </tr>\n",
       "    <tr>\n",
       "      <th>2</th>\n",
       "      <td>0</td>\n",
       "      <td>0</td>\n",
       "      <td>0</td>\n",
       "    </tr>\n",
       "    <tr>\n",
       "      <th>3</th>\n",
       "      <td>1</td>\n",
       "      <td>0</td>\n",
       "      <td>1</td>\n",
       "    </tr>\n",
       "  </tbody>\n",
       "</table>\n",
       "</div>"
      ],
      "text/plain": [
       "   a  b  c\n",
       "0  1  0  0\n",
       "1  1  1  0\n",
       "2  0  0  0\n",
       "3  1  0  1"
      ]
     },
     "execution_count": 51,
     "metadata": {},
     "output_type": "execute_result"
    }
   ],
   "source": [
    "# dummies\n",
    "s = pd.Series([\"a\", \"a|b\", np.nan, \"a|c\"], dtype=\"string\")\n",
    "s.str.get_dummies(sep='|')"
   ]
  },
  {
   "cell_type": "code",
   "execution_count": 52,
   "id": "2e2f5177-cac8-4cea-b85d-aca6f4e32647",
   "metadata": {},
   "outputs": [
    {
     "data": {
      "text/plain": [
       "0    1.0\n",
       "1    2.0\n",
       "2    NaN\n",
       "dtype: float64"
      ]
     },
     "execution_count": 52,
     "metadata": {},
     "output_type": "execute_result"
    }
   ],
   "source": [
    "# working with missing values\n",
    "pd.Series([1,2], dtype=np.int32).reindex([0,1,2])"
   ]
  },
  {
   "cell_type": "code",
   "execution_count": 53,
   "id": "03cc06d6-25f3-4454-ac4a-8c4829b4e729",
   "metadata": {},
   "outputs": [
    {
     "data": {
      "text/plain": [
       "0     True\n",
       "1    False\n",
       "2      NaN\n",
       "dtype: object"
      ]
     },
     "execution_count": 53,
     "metadata": {},
     "output_type": "execute_result"
    }
   ],
   "source": [
    "pd.Series([True, False], dtype=np.bool).reindex([0,1,2])"
   ]
  },
  {
   "cell_type": "code",
   "execution_count": 54,
   "id": "32e61f44-b968-4983-801c-e5993feb61c2",
   "metadata": {},
   "outputs": [
    {
     "data": {
      "text/plain": [
       "0   1970-01-01 00:00:00.000000001\n",
       "1   1970-01-01 00:00:00.000000002\n",
       "2                             NaT\n",
       "dtype: datetime64[ns]"
      ]
     },
     "execution_count": 54,
     "metadata": {},
     "output_type": "execute_result"
    }
   ],
   "source": [
    "pd.Series([1,2], dtype=np.dtype('datetime64[ns]')).reindex([0,1,2])"
   ]
  },
  {
   "cell_type": "code",
   "execution_count": 55,
   "id": "bbeb6e92-26c6-4ed4-b938-5061b2a55722",
   "metadata": {},
   "outputs": [
    {
     "data": {
      "text/plain": [
       "0       1\n",
       "1       2\n",
       "2    <NA>\n",
       "dtype: Int32"
      ]
     },
     "execution_count": 55,
     "metadata": {},
     "output_type": "execute_result"
    }
   ],
   "source": [
    "pd.Series([1,2], dtype='Int32').reindex([0,1,2])"
   ]
  },
  {
   "cell_type": "code",
   "execution_count": 56,
   "id": "b65ee9e1-6b0c-4c2e-87db-d2bc438150eb",
   "metadata": {},
   "outputs": [
    {
     "data": {
      "text/plain": [
       "0    Hello\n",
       "1    world\n",
       "2     <NA>\n",
       "dtype: string"
      ]
     },
     "execution_count": 56,
     "metadata": {},
     "output_type": "execute_result"
    }
   ],
   "source": [
    "pd.Series(['Hello', 'world'], dtype='string').reindex([0,1,2])"
   ]
  },
  {
   "cell_type": "code",
   "execution_count": 57,
   "id": "0983e647-7863-4d28-b9c5-17affd0c7f6c",
   "metadata": {},
   "outputs": [
    {
     "name": "stdout",
     "output_type": "stream",
     "text": [
      "True\n",
      "False\n",
      "False\n",
      "<NA>\n"
     ]
    }
   ],
   "source": [
    "print(None == None)\n",
    "print(np.nan == np.nan)\n",
    "print(pd.NaT == pd.NaT)\n",
    "print(pd.NA == pd.NA)"
   ]
  },
  {
   "cell_type": "code",
   "execution_count": 63,
   "id": "354e6ef5-0d5e-463c-b340-72d50fd4d647",
   "metadata": {},
   "outputs": [
    {
     "name": "stdout",
     "output_type": "stream",
     "text": [
      "0    <NA>\n",
      "1    <NA>\n",
      "dtype: boolean\n",
      "0    True\n",
      "1    <NA>\n",
      "dtype: boolean\n",
      "0    False\n",
      "1     True\n",
      "dtype: bool\n"
     ]
    }
   ],
   "source": [
    "ser = pd.Series([True, None], dtype=\"boolean\")\n",
    "print(ser == pd.NA)\n",
    "print(ser)\n",
    "print(pd.isna(ser))"
   ]
  },
  {
   "cell_type": "code",
   "execution_count": 65,
   "id": "1c049c1a-fd72-4ce0-9a65-121a9aa6c428",
   "metadata": {},
   "outputs": [
    {
     "name": "stdout",
     "output_type": "stream",
     "text": [
      "<NA>\n",
      "<NA>\n",
      "<NA>\n",
      "<NA>\n",
      "<NA>\n",
      "True\n"
     ]
    }
   ],
   "source": [
    "# mathametical op with None value\n",
    "print(pd.NA + 1)\n",
    "print('A' * pd.NA)\n",
    "print(pd.NA / 0)\n",
    "print(pd.NA ** 1)\n",
    "print(pd.NA < 5)\n",
    "print(pd.isna(pd.NA))"
   ]
  },
  {
   "cell_type": "code",
   "execution_count": 71,
   "id": "1ab5567a-fb22-4d0b-8a1c-ab63d5db598b",
   "metadata": {},
   "outputs": [
    {
     "name": "stdout",
     "output_type": "stream",
     "text": [
      "True\n",
      "True\n",
      "<NA>\n",
      "\n",
      "False\n",
      "False\n",
      "<NA>\n"
     ]
    }
   ],
   "source": [
    "# logical op\n",
    "print(True | False)\n",
    "print(True | pd.NA)\n",
    "print(False | pd.NA)\n",
    "print()\n",
    "print(False & True)\n",
    "print(False & pd.NA)\n",
    "print(True & pd.NA)"
   ]
  },
  {
   "cell_type": "code",
   "execution_count": 72,
   "id": "b5dcfc8f-5c96-4de0-b8a1-c96c8e31ac9c",
   "metadata": {},
   "outputs": [
    {
     "name": "stdout",
     "output_type": "stream",
     "text": [
      "0    NaN\n",
      "1    NaN\n",
      "2    2.0\n",
      "3    3.0\n",
      "dtype: float64\n",
      "0    NaN\n",
      "1    1.0\n",
      "2    NaN\n",
      "3    4.0\n",
      "dtype: float64\n"
     ]
    }
   ],
   "source": [
    "ser1 = pd.Series([np.nan, np.nan, 2, 3])\n",
    "ser2 = pd.Series([np.nan, 1, np.nan, 4])\n",
    "print(ser1)\n",
    "print(ser2)"
   ]
  },
  {
   "cell_type": "code",
   "execution_count": 77,
   "id": "40095164-b032-47c3-a38f-c0902d44da5a",
   "metadata": {},
   "outputs": [
    {
     "name": "stdout",
     "output_type": "stream",
     "text": [
      "0    NaN\n",
      "1    NaN\n",
      "2    NaN\n",
      "3    7.0\n",
      "dtype: float64\n",
      "0     NaN\n",
      "1     NaN\n",
      "2     NaN\n",
      "3    12.0\n",
      "dtype: float64\n"
     ]
    }
   ],
   "source": [
    "print(ser1 + ser2)\n",
    "print(ser1 * ser2)"
   ]
  },
  {
   "cell_type": "code",
   "execution_count": 79,
   "id": "7cb44d15-771a-4be8-9ccd-9688098bcc3c",
   "metadata": {},
   "outputs": [
    {
     "name": "stdout",
     "output_type": "stream",
     "text": [
      "0    NaN\n",
      "1    NaN\n",
      "2    2.0\n",
      "3    5.0\n",
      "dtype: float64\n",
      "0   NaN\n",
      "1   NaN\n",
      "2   NaN\n",
      "3   NaN\n",
      "dtype: float64\n",
      "0    NaN\n",
      "1    NaN\n",
      "2    2.0\n",
      "3    6.0\n",
      "dtype: float64\n",
      "0   NaN\n",
      "1   NaN\n",
      "2   NaN\n",
      "3   NaN\n",
      "dtype: float64\n"
     ]
    }
   ],
   "source": [
    "print(ser1.cumsum())\n",
    "print(ser2.cumsum(skipna=False))\n",
    "print(ser1.cumprod())\n",
    "print(ser2.cumprod(skipna=False))"
   ]
  },
  {
   "cell_type": "code",
   "execution_count": 84,
   "id": "6a817afd-ed9d-4eb0-8466-aea62a74a325",
   "metadata": {},
   "outputs": [
    {
     "name": "stdout",
     "output_type": "stream",
     "text": [
      "0    NaN\n",
      "1    NaN\n",
      "2    2.0\n",
      "3    3.0\n",
      "dtype: float64\n",
      "0    0.0\n",
      "1    0.0\n",
      "2    2.0\n",
      "3    3.0\n",
      "dtype: float64\n",
      "0    NaN\n",
      "1    NaN\n",
      "2    2.0\n",
      "3    3.0\n",
      "dtype: float64\n"
     ]
    }
   ],
   "source": [
    "print(ser2)\n",
    "print(ser2.fillna(0))\n",
    "print(ser2.ffill()) # forward fill"
   ]
  },
  {
   "cell_type": "code",
   "execution_count": 86,
   "id": "e6626d4d-84a9-45f7-9c3a-2422c46e108d",
   "metadata": {},
   "outputs": [
    {
     "name": "stdout",
     "output_type": "stream",
     "text": [
      "0    NaN\n",
      "1    1.0\n",
      "2    NaN\n",
      "3    4.0\n",
      "dtype: float64\n",
      "0    1.0\n",
      "1    1.0\n",
      "2    4.0\n",
      "3    4.0\n",
      "dtype: float64\n"
     ]
    }
   ],
   "source": [
    "print(ser2)\n",
    "print(ser2.bfill()) # backward fill"
   ]
  },
  {
   "cell_type": "code",
   "execution_count": 89,
   "id": "7de63829-e1f0-4b9d-9698-b1c2e4e13a89",
   "metadata": {},
   "outputs": [
    {
     "name": "stdout",
     "output_type": "stream",
     "text": [
      "0    1.0\n",
      "1    2.0\n",
      "2    NaN\n",
      "3    3.0\n",
      "4    NaN\n",
      "5    5.0\n",
      "dtype: float64\n",
      "0    1.0\n",
      "1    2.0\n",
      "2    2.5\n",
      "3    3.0\n",
      "4    4.0\n",
      "5    5.0\n",
      "dtype: float64\n"
     ]
    }
   ],
   "source": [
    "# interpolation\n",
    "\n",
    "ser = pd.Series([1,2,np.nan,3,np.nan,5])\n",
    "print(ser)\n",
    "print(ser.interpolate())"
   ]
  },
  {
   "cell_type": "code",
   "execution_count": 91,
   "id": "a276df11-8987-43bf-a31e-2196014ab570",
   "metadata": {},
   "outputs": [
    {
     "name": "stdout",
     "output_type": "stream",
     "text": [
      "     a    b    c     d\n",
      "0  0.0  NaN -1.0   1.0\n",
      "1  NaN  2.0  NaN   NaN\n",
      "2  2.0  3.0  NaN   9.0\n",
      "3  NaN  4.0 -4.0  16.0\n"
     ]
    }
   ],
   "source": [
    "df = pd.DataFrame([(0.0, np.nan, -1.0, 1.0),\n",
    "                   (np.nan, 2.0, np.nan, np.nan),\n",
    "                   (2.0, 3.0, np.nan, 9.0),\n",
    "                   (np.nan, 4.0, -4.0, 16.0)],\n",
    "                  columns=list('abcd'))\n",
    "print(df)"
   ]
  },
  {
   "cell_type": "code",
   "execution_count": 93,
   "id": "611f8e61-4dbf-4e2c-89b0-4634d8980c8f",
   "metadata": {},
   "outputs": [
    {
     "data": {
      "text/html": [
       "<div>\n",
       "<style scoped>\n",
       "    .dataframe tbody tr th:only-of-type {\n",
       "        vertical-align: middle;\n",
       "    }\n",
       "\n",
       "    .dataframe tbody tr th {\n",
       "        vertical-align: top;\n",
       "    }\n",
       "\n",
       "    .dataframe thead th {\n",
       "        text-align: right;\n",
       "    }\n",
       "</style>\n",
       "<table border=\"1\" class=\"dataframe\">\n",
       "  <thead>\n",
       "    <tr style=\"text-align: right;\">\n",
       "      <th></th>\n",
       "      <th>a</th>\n",
       "      <th>b</th>\n",
       "      <th>c</th>\n",
       "      <th>d</th>\n",
       "    </tr>\n",
       "  </thead>\n",
       "  <tbody>\n",
       "    <tr>\n",
       "      <th>0</th>\n",
       "      <td>0.0</td>\n",
       "      <td>2.0</td>\n",
       "      <td>-1.0</td>\n",
       "      <td>1.0</td>\n",
       "    </tr>\n",
       "    <tr>\n",
       "      <th>1</th>\n",
       "      <td>1.0</td>\n",
       "      <td>2.0</td>\n",
       "      <td>-2.0</td>\n",
       "      <td>5.0</td>\n",
       "    </tr>\n",
       "    <tr>\n",
       "      <th>2</th>\n",
       "      <td>2.0</td>\n",
       "      <td>3.0</td>\n",
       "      <td>-3.0</td>\n",
       "      <td>9.0</td>\n",
       "    </tr>\n",
       "    <tr>\n",
       "      <th>3</th>\n",
       "      <td>NaN</td>\n",
       "      <td>4.0</td>\n",
       "      <td>-4.0</td>\n",
       "      <td>16.0</td>\n",
       "    </tr>\n",
       "  </tbody>\n",
       "</table>\n",
       "</div>"
      ],
      "text/plain": [
       "     a    b    c     d\n",
       "0  0.0  2.0 -1.0   1.0\n",
       "1  1.0  2.0 -2.0   5.0\n",
       "2  2.0  3.0 -3.0   9.0\n",
       "3  NaN  4.0 -4.0  16.0"
      ]
     },
     "execution_count": 93,
     "metadata": {},
     "output_type": "execute_result"
    }
   ],
   "source": [
    "df.interpolate(method='linear', limit_direction='backward', axis=0)"
   ]
  },
  {
   "cell_type": "code",
   "execution_count": 95,
   "id": "84aa80b4-596e-4ce2-8979-4f4991a6c03d",
   "metadata": {},
   "outputs": [
    {
     "data": {
      "text/plain": [
       "2020-01-01    5.0\n",
       "2020-01-02    NaN\n",
       "2020-01-03    NaN\n",
       "2020-01-04    9.0\n",
       "2020-01-05    6.0\n",
       "2020-01-06    NaN\n",
       "2020-01-07    NaN\n",
       "2020-01-08    9.0\n",
       "2020-01-09    9.0\n",
       "2020-01-10    NaN\n",
       "Freq: D, dtype: float32"
      ]
     },
     "execution_count": 95,
     "metadata": {},
     "output_type": "execute_result"
    }
   ],
   "source": [
    "idx = pd.date_range('2020-1-1', periods=10, freq='D')\n",
    "data = np.random.randint(0,10,10).astype(np.float32)\n",
    "ser = pd.Series(data, index=idx)\n",
    "ser.iloc[[1,2,5,6,9]] = np.nan\n",
    "ser"
   ]
  },
  {
   "cell_type": "code",
   "execution_count": 96,
   "id": "11b78e7f-f76c-402a-9455-cd64f6ee42ca",
   "metadata": {},
   "outputs": [
    {
     "data": {
      "text/plain": [
       "<Axes: >"
      ]
     },
     "execution_count": 96,
     "metadata": {},
     "output_type": "execute_result"
    },
    {
     "data": {
      "image/png": "[encoded data removed]",
      "text/plain": [
       "<Figure size 640x480 with 1 Axes>"
      ]
     },
     "metadata": {},
     "output_type": "display_data"
    }
   ],
   "source": [
    "ser.plot()"
   ]
  },
  {
   "cell_type": "code",
   "execution_count": 99,
   "id": "7dde76cb-594b-4fb4-bdac-3dfd13f4542b",
   "metadata": {},
   "outputs": [
    {
     "name": "stdout",
     "output_type": "stream",
     "text": [
      "2020-01-01    5.000000\n",
      "2020-01-02    6.333333\n",
      "2020-01-03    7.666667\n",
      "2020-01-04    9.000000\n",
      "2020-01-05    6.000000\n",
      "2020-01-06    7.000000\n",
      "2020-01-07    8.000000\n",
      "2020-01-08    9.000000\n",
      "2020-01-09    9.000000\n",
      "2020-01-10    9.000000\n",
      "Freq: D, dtype: float32\n"
     ]
    },
    {
     "data": {
      "text/plain": [
       "<Axes: >"
      ]
     },
     "execution_count": 99,
     "metadata": {},
     "output_type": "execute_result"
    },
    {
     "data": {
      "image/png": "[encoded data removed]",
      "text/plain": [
       "<Figure size 640x480 with 1 Axes>"
      ]
     },
     "metadata": {},
     "output_type": "display_data"
    }
   ],
   "source": [
    "print(ser.interpolate())\n",
    "ser.interpolate().plot()"
   ]
  },
  {
   "cell_type": "code",
   "execution_count": 102,
   "id": "14e31aca-365d-4a19-b1fe-ef24b0911127",
   "metadata": {},
   "outputs": [
    {
     "name": "stdout",
     "output_type": "stream",
     "text": [
      "A    1\n",
      "A    1\n",
      "B    2\n",
      "dtype: int64\n",
      "A    1\n",
      "A    1\n",
      "dtype: int64\n"
     ]
    }
   ],
   "source": [
    "# duplicate label\n",
    "ser = pd.Series([1,1,2], index=['A', 'A', 'B'])\n",
    "print(ser)\n",
    "print(ser['A'])"
   ]
  },
  {
   "cell_type": "code",
   "execution_count": 106,
   "id": "36b3929e-f2e7-4876-ab8e-112483a6855b",
   "metadata": {},
   "outputs": [
    {
     "data": {
      "text/plain": [
       "False"
      ]
     },
     "execution_count": 106,
     "metadata": {},
     "output_type": "execute_result"
    }
   ],
   "source": [
    "ser.index.is_unique"
   ]
  },
  {
   "cell_type": "code",
   "execution_count": 111,
   "id": "eca9b16d-ae7b-4f4b-afe1-bc5bbfea8e29",
   "metadata": {},
   "outputs": [
    {
     "name": "stdout",
     "output_type": "stream",
     "text": [
      "   A\n",
      "a  0\n",
      "a  1\n",
      "b  2\n",
      "   A\n",
      "a  0\n",
      "a  1\n"
     ]
    }
   ],
   "source": [
    "df = pd.DataFrame({'A' : [0,1,2]}, index=['a', 'a', 'b'])\n",
    "print(df)\n",
    "print(df.loc['a'])"
   ]
  },
  {
   "cell_type": "code",
   "execution_count": 112,
   "id": "d59b55ad-0371-4449-8865-3628684a681d",
   "metadata": {},
   "outputs": [
    {
     "name": "stdout",
     "output_type": "stream",
     "text": [
      "False\n",
      "True\n"
     ]
    }
   ],
   "source": [
    "print(df.index.is_unique)\n",
    "print(df.columns.is_unique)"
   ]
  },
  {
   "cell_type": "code",
   "execution_count": 113,
   "id": "50bfb6e8-4a06-433a-b45e-fb55cad4ba89",
   "metadata": {},
   "outputs": [
    {
     "data": {
      "text/plain": [
       "array([False,  True, False])"
      ]
     },
     "execution_count": 113,
     "metadata": {},
     "output_type": "execute_result"
    }
   ],
   "source": [
    "df.index.duplicated()"
   ]
  },
  {
   "cell_type": "code",
   "execution_count": 115,
   "id": "e681c7b0-6ef1-4461-959e-222f3ebeb640",
   "metadata": {},
   "outputs": [
    {
     "data": {
      "text/html": [
       "<div>\n",
       "<style scoped>\n",
       "    .dataframe tbody tr th:only-of-type {\n",
       "        vertical-align: middle;\n",
       "    }\n",
       "\n",
       "    .dataframe tbody tr th {\n",
       "        vertical-align: top;\n",
       "    }\n",
       "\n",
       "    .dataframe thead th {\n",
       "        text-align: right;\n",
       "    }\n",
       "</style>\n",
       "<table border=\"1\" class=\"dataframe\">\n",
       "  <thead>\n",
       "    <tr style=\"text-align: right;\">\n",
       "      <th></th>\n",
       "      <th>A</th>\n",
       "    </tr>\n",
       "  </thead>\n",
       "  <tbody>\n",
       "    <tr>\n",
       "      <th>a</th>\n",
       "      <td>0.5</td>\n",
       "    </tr>\n",
       "    <tr>\n",
       "      <th>b</th>\n",
       "      <td>2.0</td>\n",
       "    </tr>\n",
       "  </tbody>\n",
       "</table>\n",
       "</div>"
      ],
      "text/plain": [
       "     A\n",
       "a  0.5\n",
       "b  2.0"
      ]
     },
     "execution_count": 115,
     "metadata": {},
     "output_type": "execute_result"
    }
   ],
   "source": [
    "df.groupby(level=0).mean()"
   ]
  },
  {
   "cell_type": "code",
   "execution_count": 118,
   "id": "7d2f213e-ac06-4e3e-b13d-64aeb5718a9e",
   "metadata": {},
   "outputs": [
    {
     "name": "stdout",
     "output_type": "stream",
     "text": [
      "Index has duplicates.\n",
      "      positions\n",
      "label          \n",
      "a        [0, 1]\n"
     ]
    }
   ],
   "source": [
    "try: \n",
    "    ser = pd.Series([1,2,3], index=['a', 'a', 'b']).set_flags(allows_duplicate_labels=False)\n",
    "except Exception as e:\n",
    "    print(e)"
   ]
  },
  {
   "cell_type": "code",
   "execution_count": 121,
   "id": "0aa73ed3-62de-4bfe-960c-01cb71f659ea",
   "metadata": {},
   "outputs": [
    {
     "data": {
      "text/plain": [
       "True"
      ]
     },
     "execution_count": 121,
     "metadata": {},
     "output_type": "execute_result"
    }
   ],
   "source": [
    "# check if any series/DF allows duplicate labels\n",
    "df.flags.allows_duplicate_labels"
   ]
  },
  {
   "cell_type": "code",
   "execution_count": 122,
   "id": "d46e6b70-13cf-4e61-ac09-54dc494c0f94",
   "metadata": {},
   "outputs": [
    {
     "name": "stdout",
     "output_type": "stream",
     "text": [
      "Skewness: 2.583418285586088\n",
      "Kurtosis: 6.875110534253125\n"
     ]
    }
   ],
   "source": [
    "data = [12, 15, 14, 10, 10, 20, 30, 100]  \n",
    "\n",
    "series = pd.Series(data)\n",
    "\n",
    "print(\"Skewness:\", series.skew())\n",
    "print(\"Kurtosis:\", series.kurt())  \n"
   ]
  },
  {
   "cell_type": "code",
   "execution_count": 126,
   "id": "58f36d1d-90c5-4677-bbde-9cef0866e114",
   "metadata": {},
   "outputs": [
    {
     "name": "stdout",
     "output_type": "stream",
     "text": [
      "92.5\n",
      "2.5\n",
      "Outliers:\n",
      "    salary\n",
      "9     200\n"
     ]
    }
   ],
   "source": [
    "import pandas as pd\n",
    "import numpy as np\n",
    "\n",
    "# Simulate salary data with outliers\n",
    "data = {'salary': [30, 32, 35, 40, 45, 50, 55, 60, 65, 200]}  # here 200 is outlier\n",
    "df = pd.DataFrame(data)\n",
    "\n",
    "Q1 = df['salary'].quantile(0.25)\n",
    "Q3 = df['salary'].quantile(0.75)\n",
    "IQR = Q3 - Q1\n",
    "\n",
    "lower_bound = Q1 - 1.5 * IQR\n",
    "upper_bound = Q3 + 1.5 * IQR\n",
    "\n",
    "print(upper_bound)\n",
    "print(lower_bound)\n",
    "outliers = df[(df['salary'] < lower_bound) | (df['salary'] > upper_bound)]\n",
    "print(\"Outliers:\\n\", outliers)\n"
   ]
  }
 ],
 "metadata": {
  "kernelspec": {
   "display_name": "Python 3 (ipykernel)",
   "language": "python",
   "name": "python3"
  },
  "language_info": {
   "codemirror_mode": {
    "name": "ipython",
    "version": 3
   },
   "file_extension": ".py",
   "mimetype": "text/x-python",
   "name": "python",
   "nbconvert_exporter": "python",
   "pygments_lexer": "ipython3",
   "version": "3.13.4"
  }
 },
 "nbformat": 4,
 "nbformat_minor": 5
}
