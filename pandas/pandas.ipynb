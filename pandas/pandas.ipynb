{
 "cells": [
  {
   "cell_type": "markdown",
   "id": "75531cff-188f-4024-8878-9940ae73f25f",
   "metadata": {},
   "source": [
    "Pandas"
   ]
  },
  {
   "cell_type": "code",
   "execution_count": 1,
   "id": "1cd5b4e5-d9a4-4e6c-a731-7f1349cd82da",
   "metadata": {},
   "outputs": [],
   "source": [
    "import pandas as pd\n",
    "import numpy as np"
   ]
  },
  {
   "cell_type": "code",
   "execution_count": 2,
   "id": "9d94cf97-5ac0-43a0-b296-0eb5d5007296",
   "metadata": {},
   "outputs": [
    {
     "name": "stdout",
     "output_type": "stream",
     "text": [
      "0    10\n",
      "1    20\n",
      "2    30\n",
      "3    40\n",
      "4    50\n",
      "dtype: int64\n",
      "ds[1] :  20\n",
      "A    10\n",
      "B    20\n",
      "C    30\n",
      "D    40\n",
      "E    50\n",
      "dtype: int64\n",
      "ds[\"C\"] :  30\n",
      "\n",
      "alice      10\n",
      "bob        20\n",
      "charlie    30\n",
      "dtype: int64\n"
     ]
    }
   ],
   "source": [
    "# data series\n",
    "\n",
    "arr = np.array([10,20,30,40,50])\n",
    "\n",
    "ds = pd.Series(arr)\n",
    "print(ds)\n",
    "print('''ds[1] : ''',ds[1])\n",
    "ds = pd.Series(arr, index=[\"A\",\"B\",\"C\",\"D\",\"E\"])\n",
    "print(ds)\n",
    "print('''ds[\"C\"] : ''', ds[\"C\"])\n",
    "\n",
    "print()\n",
    "data = {\"alice\" : 10, \"bob\" : 20, \"charlie\" : 30}\n",
    "ds = pd.Series(data)\n",
    "print(ds)"
   ]
  },
  {
   "cell_type": "code",
   "execution_count": 3,
   "id": "a5167d30-2f32-4a78-a7b4-a009bc23dbe7",
   "metadata": {},
   "outputs": [
    {
     "data": {
      "text/html": [
       "<div>\n",
       "<style scoped>\n",
       "    .dataframe tbody tr th:only-of-type {\n",
       "        vertical-align: middle;\n",
       "    }\n",
       "\n",
       "    .dataframe tbody tr th {\n",
       "        vertical-align: top;\n",
       "    }\n",
       "\n",
       "    .dataframe thead th {\n",
       "        text-align: right;\n",
       "    }\n",
       "</style>\n",
       "<table border=\"1\" class=\"dataframe\">\n",
       "  <thead>\n",
       "    <tr style=\"text-align: right;\">\n",
       "      <th></th>\n",
       "      <th>Name</th>\n",
       "      <th>Age</th>\n",
       "      <th>City</th>\n",
       "    </tr>\n",
       "  </thead>\n",
       "  <tbody>\n",
       "    <tr>\n",
       "      <th>0</th>\n",
       "      <td>Alice</td>\n",
       "      <td>18</td>\n",
       "      <td>New York</td>\n",
       "    </tr>\n",
       "    <tr>\n",
       "      <th>1</th>\n",
       "      <td>Bob</td>\n",
       "      <td>20</td>\n",
       "      <td>London</td>\n",
       "    </tr>\n",
       "    <tr>\n",
       "      <th>2</th>\n",
       "      <td>Charlie</td>\n",
       "      <td>22</td>\n",
       "      <td>Sapin</td>\n",
       "    </tr>\n",
       "  </tbody>\n",
       "</table>\n",
       "</div>"
      ],
      "text/plain": [
       "      Name  Age      City\n",
       "0    Alice   18  New York\n",
       "1      Bob   20    London\n",
       "2  Charlie   22     Sapin"
      ]
     },
     "execution_count": 3,
     "metadata": {},
     "output_type": "execute_result"
    }
   ],
   "source": [
    "# data Frame\n",
    "\n",
    "data = {\n",
    "    \"Name\" : [\"Alice\", \"Bob\", \"Charlie\"],\n",
    "    \"Age\" : [18, 20, 22],\n",
    "    \"City\" : [\"New York\", \"London\", \"Sapin\"]\n",
    "}\n",
    "\n",
    "df = pd.DataFrame(data)\n",
    "df"
   ]
  },
  {
   "cell_type": "code",
   "execution_count": 4,
   "id": "b5e4187a-701c-49f2-8d9a-ea74cc4ebc6d",
   "metadata": {},
   "outputs": [
    {
     "name": "stdout",
     "output_type": "stream",
     "text": [
      "Name       Alice\n",
      "Age           18\n",
      "City    New York\n",
      "Name: 0, dtype: object\n",
      "\n",
      "    Name  Age      City\n",
      "0  Alice   18  New York\n",
      "1    Bob   20    London\n"
     ]
    }
   ],
   "source": [
    "print(df.loc[0]) # it returns series\n",
    "print()\n",
    "print(df.loc[[0,1]])"
   ]
  },
  {
   "cell_type": "code",
   "execution_count": 5,
   "id": "e8089bdf-6fda-41ea-9bd9-1db79a173e50",
   "metadata": {},
   "outputs": [
    {
     "data": {
      "text/html": [
       "<div>\n",
       "<style scoped>\n",
       "    .dataframe tbody tr th:only-of-type {\n",
       "        vertical-align: middle;\n",
       "    }\n",
       "\n",
       "    .dataframe tbody tr th {\n",
       "        vertical-align: top;\n",
       "    }\n",
       "\n",
       "    .dataframe thead th {\n",
       "        text-align: right;\n",
       "    }\n",
       "</style>\n",
       "<table border=\"1\" class=\"dataframe\">\n",
       "  <thead>\n",
       "    <tr style=\"text-align: right;\">\n",
       "      <th></th>\n",
       "      <th>Age</th>\n",
       "    </tr>\n",
       "  </thead>\n",
       "  <tbody>\n",
       "    <tr>\n",
       "      <th>count</th>\n",
       "      <td>3.0</td>\n",
       "    </tr>\n",
       "    <tr>\n",
       "      <th>mean</th>\n",
       "      <td>20.0</td>\n",
       "    </tr>\n",
       "    <tr>\n",
       "      <th>std</th>\n",
       "      <td>2.0</td>\n",
       "    </tr>\n",
       "    <tr>\n",
       "      <th>min</th>\n",
       "      <td>18.0</td>\n",
       "    </tr>\n",
       "    <tr>\n",
       "      <th>25%</th>\n",
       "      <td>19.0</td>\n",
       "    </tr>\n",
       "    <tr>\n",
       "      <th>50%</th>\n",
       "      <td>20.0</td>\n",
       "    </tr>\n",
       "    <tr>\n",
       "      <th>75%</th>\n",
       "      <td>21.0</td>\n",
       "    </tr>\n",
       "    <tr>\n",
       "      <th>max</th>\n",
       "      <td>22.0</td>\n",
       "    </tr>\n",
       "  </tbody>\n",
       "</table>\n",
       "</div>"
      ],
      "text/plain": [
       "        Age\n",
       "count   3.0\n",
       "mean   20.0\n",
       "std     2.0\n",
       "min    18.0\n",
       "25%    19.0\n",
       "50%    20.0\n",
       "75%    21.0\n",
       "max    22.0"
      ]
     },
     "execution_count": 5,
     "metadata": {},
     "output_type": "execute_result"
    }
   ],
   "source": [
    "df.describe()"
   ]
  },
  {
   "cell_type": "code",
   "execution_count": 6,
   "id": "3f7e022d-60aa-4a3a-9deb-a3abbf4df504",
   "metadata": {},
   "outputs": [
    {
     "name": "stdout",
     "output_type": "stream",
     "text": [
      "      Name  Age      City\n",
      "0    Alice   18  New York\n",
      "1      Bob   20    London\n",
      "2  Charlie   22   Toronto\n"
     ]
    }
   ],
   "source": [
    "# read csv\n",
    "df = pd.read_excel('C:/Users/admin/OneDrive/Temp/test.xlsx')\n",
    "print(df)"
   ]
  },
  {
   "cell_type": "code",
   "execution_count": 7,
   "id": "0353390a-29b8-4564-bec9-925c736ca5e2",
   "metadata": {},
   "outputs": [
    {
     "data": {
      "text/html": [
       "<div>\n",
       "<style scoped>\n",
       "    .dataframe tbody tr th:only-of-type {\n",
       "        vertical-align: middle;\n",
       "    }\n",
       "\n",
       "    .dataframe tbody tr th {\n",
       "        vertical-align: top;\n",
       "    }\n",
       "\n",
       "    .dataframe thead th {\n",
       "        text-align: right;\n",
       "    }\n",
       "</style>\n",
       "<table border=\"1\" class=\"dataframe\">\n",
       "  <thead>\n",
       "    <tr style=\"text-align: right;\">\n",
       "      <th></th>\n",
       "      <th>Name</th>\n",
       "      <th>Age</th>\n",
       "    </tr>\n",
       "  </thead>\n",
       "  <tbody>\n",
       "    <tr>\n",
       "      <th>0</th>\n",
       "      <td>Person_1</td>\n",
       "      <td>56</td>\n",
       "    </tr>\n",
       "    <tr>\n",
       "      <th>1</th>\n",
       "      <td>Person_2</td>\n",
       "      <td>46</td>\n",
       "    </tr>\n",
       "    <tr>\n",
       "      <th>2</th>\n",
       "      <td>Person_3</td>\n",
       "      <td>32</td>\n",
       "    </tr>\n",
       "    <tr>\n",
       "      <th>3</th>\n",
       "      <td>Person_4</td>\n",
       "      <td>25</td>\n",
       "    </tr>\n",
       "    <tr>\n",
       "      <th>4</th>\n",
       "      <td>Person_5</td>\n",
       "      <td>38</td>\n",
       "    </tr>\n",
       "    <tr>\n",
       "      <th>5</th>\n",
       "      <td>Person_6</td>\n",
       "      <td>56</td>\n",
       "    </tr>\n",
       "    <tr>\n",
       "      <th>6</th>\n",
       "      <td>Person_7</td>\n",
       "      <td>36</td>\n",
       "    </tr>\n",
       "    <tr>\n",
       "      <th>7</th>\n",
       "      <td>Person_8</td>\n",
       "      <td>40</td>\n",
       "    </tr>\n",
       "    <tr>\n",
       "      <th>8</th>\n",
       "      <td>Person_9</td>\n",
       "      <td>28</td>\n",
       "    </tr>\n",
       "    <tr>\n",
       "      <th>9</th>\n",
       "      <td>Person_10</td>\n",
       "      <td>28</td>\n",
       "    </tr>\n",
       "  </tbody>\n",
       "</table>\n",
       "</div>"
      ],
      "text/plain": [
       "        Name  Age\n",
       "0   Person_1   56\n",
       "1   Person_2   46\n",
       "2   Person_3   32\n",
       "3   Person_4   25\n",
       "4   Person_5   38\n",
       "5   Person_6   56\n",
       "6   Person_7   36\n",
       "7   Person_8   40\n",
       "8   Person_9   28\n",
       "9  Person_10   28"
      ]
     },
     "execution_count": 7,
     "metadata": {},
     "output_type": "execute_result"
    }
   ],
   "source": [
    "df = pd.read_excel('sample_random_data.xlsx') # read excel\n",
    "df[['Name','Age']]"
   ]
  },
  {
   "cell_type": "code",
   "execution_count": 8,
   "id": "1b0329d3-087f-4e45-ae36-16f1a8c9f992",
   "metadata": {},
   "outputs": [
    {
     "name": "stdout",
     "output_type": "stream",
     "text": [
      "60\n"
     ]
    },
    {
     "data": {
      "text/html": [
       "<div>\n",
       "<style scoped>\n",
       "    .dataframe tbody tr th:only-of-type {\n",
       "        vertical-align: middle;\n",
       "    }\n",
       "\n",
       "    .dataframe tbody tr th {\n",
       "        vertical-align: top;\n",
       "    }\n",
       "\n",
       "    .dataframe thead th {\n",
       "        text-align: right;\n",
       "    }\n",
       "</style>\n",
       "<table border=\"1\" class=\"dataframe\">\n",
       "  <thead>\n",
       "    <tr style=\"text-align: right;\">\n",
       "      <th></th>\n",
       "      <th>ID</th>\n",
       "      <th>Name</th>\n",
       "      <th>Age</th>\n",
       "      <th>City</th>\n",
       "      <th>Salary</th>\n",
       "      <th>Joining Date</th>\n",
       "    </tr>\n",
       "  </thead>\n",
       "  <tbody>\n",
       "    <tr>\n",
       "      <th>0</th>\n",
       "      <td>1</td>\n",
       "      <td>Person_1</td>\n",
       "      <td>56</td>\n",
       "      <td>Sydney</td>\n",
       "      <td>83707</td>\n",
       "      <td>2020-01-31</td>\n",
       "    </tr>\n",
       "    <tr>\n",
       "      <th>1</th>\n",
       "      <td>2</td>\n",
       "      <td>Person_2</td>\n",
       "      <td>46</td>\n",
       "      <td>Tokyo</td>\n",
       "      <td>115305</td>\n",
       "      <td>2020-02-29</td>\n",
       "    </tr>\n",
       "    <tr>\n",
       "      <th>2</th>\n",
       "      <td>3</td>\n",
       "      <td>Person_3</td>\n",
       "      <td>32</td>\n",
       "      <td>Mumbai</td>\n",
       "      <td>58693</td>\n",
       "      <td>2020-03-31</td>\n",
       "    </tr>\n",
       "    <tr>\n",
       "      <th>3</th>\n",
       "      <td>4</td>\n",
       "      <td>Person_4</td>\n",
       "      <td>25</td>\n",
       "      <td>Sydney</td>\n",
       "      <td>101932</td>\n",
       "      <td>2020-04-30</td>\n",
       "    </tr>\n",
       "    <tr>\n",
       "      <th>4</th>\n",
       "      <td>5</td>\n",
       "      <td>Person_5</td>\n",
       "      <td>38</td>\n",
       "      <td>London</td>\n",
       "      <td>55658</td>\n",
       "      <td>2020-05-31</td>\n",
       "    </tr>\n",
       "  </tbody>\n",
       "</table>\n",
       "</div>"
      ],
      "text/plain": [
       "   ID      Name  Age    City  Salary Joining Date\n",
       "0   1  Person_1   56  Sydney   83707   2020-01-31\n",
       "1   2  Person_2   46   Tokyo  115305   2020-02-29\n",
       "2   3  Person_3   32  Mumbai   58693   2020-03-31\n",
       "3   4  Person_4   25  Sydney  101932   2020-04-30\n",
       "4   5  Person_5   38  London   55658   2020-05-31"
      ]
     },
     "execution_count": 8,
     "metadata": {},
     "output_type": "execute_result"
    }
   ],
   "source": [
    "print(pd.options.display.max_rows) #  show maximum no. rows printing\n",
    "\n",
    "#pd.options.display.max_rows = 60\n",
    "df.head()"
   ]
  },
  {
   "cell_type": "code",
   "execution_count": 9,
   "id": "ab6a3fdb-ad5f-4a41-b66d-c20183db93eb",
   "metadata": {},
   "outputs": [
    {
     "name": "stdout",
     "output_type": "stream",
     "text": [
      "   user_id username                email          signup_date  active  score\n",
      "0        1   user_1   user_1@example.com  2023-11-18 00:00:00    True  19.97\n",
      "1        2   user_2   user_2@example.com  2023-07-21 00:00:00    True  59.24\n",
      "2        3   user_3   user_3@example.com  2022-05-11 00:00:00   False  60.75\n",
      "3        4   user_4   user_4@example.com  2022-01-21 00:00:00   False   6.51\n",
      "4        5   user_5   user_5@example.com  2023-01-23 00:00:00   False  96.56\n",
      "5        6   user_6   user_6@example.com  2022-08-30 00:00:00    True  30.46\n",
      "6        7   user_7   user_7@example.com  2023-07-19 00:00:00    True  68.42\n",
      "7        8   user_8   user_8@example.com  2023-01-02 00:00:00    True  12.20\n",
      "8        9   user_9   user_9@example.com  2023-05-24 00:00:00    True   3.44\n",
      "9       10  user_10  user_10@example.com  2022-07-25 00:00:00   False  25.88\n"
     ]
    }
   ],
   "source": [
    "df = pd.read_json('sample_random_data.json') # read json\n",
    "print(df.head(10)) # show first 5 records, .head(10) shows first 10 records"
   ]
  },
  {
   "cell_type": "code",
   "execution_count": 10,
   "id": "6eb6cde9-d38e-40dc-b404-2fd303c450cc",
   "metadata": {},
   "outputs": [
    {
     "data": {
      "text/html": [
       "<div>\n",
       "<style scoped>\n",
       "    .dataframe tbody tr th:only-of-type {\n",
       "        vertical-align: middle;\n",
       "    }\n",
       "\n",
       "    .dataframe tbody tr th {\n",
       "        vertical-align: top;\n",
       "    }\n",
       "\n",
       "    .dataframe thead th {\n",
       "        text-align: right;\n",
       "    }\n",
       "</style>\n",
       "<table border=\"1\" class=\"dataframe\">\n",
       "  <thead>\n",
       "    <tr style=\"text-align: right;\">\n",
       "      <th></th>\n",
       "      <th>user_id</th>\n",
       "      <th>username</th>\n",
       "      <th>email</th>\n",
       "      <th>signup_date</th>\n",
       "      <th>active</th>\n",
       "      <th>score</th>\n",
       "    </tr>\n",
       "  </thead>\n",
       "  <tbody>\n",
       "    <tr>\n",
       "      <th>5</th>\n",
       "      <td>6</td>\n",
       "      <td>user_6</td>\n",
       "      <td>user_6@example.com</td>\n",
       "      <td>2022-08-30 00:00:00</td>\n",
       "      <td>True</td>\n",
       "      <td>30.46</td>\n",
       "    </tr>\n",
       "    <tr>\n",
       "      <th>6</th>\n",
       "      <td>7</td>\n",
       "      <td>user_7</td>\n",
       "      <td>user_7@example.com</td>\n",
       "      <td>2023-07-19 00:00:00</td>\n",
       "      <td>True</td>\n",
       "      <td>68.42</td>\n",
       "    </tr>\n",
       "    <tr>\n",
       "      <th>7</th>\n",
       "      <td>8</td>\n",
       "      <td>user_8</td>\n",
       "      <td>user_8@example.com</td>\n",
       "      <td>2023-01-02 00:00:00</td>\n",
       "      <td>True</td>\n",
       "      <td>12.20</td>\n",
       "    </tr>\n",
       "    <tr>\n",
       "      <th>8</th>\n",
       "      <td>9</td>\n",
       "      <td>user_9</td>\n",
       "      <td>user_9@example.com</td>\n",
       "      <td>2023-05-24 00:00:00</td>\n",
       "      <td>True</td>\n",
       "      <td>3.44</td>\n",
       "    </tr>\n",
       "    <tr>\n",
       "      <th>9</th>\n",
       "      <td>10</td>\n",
       "      <td>user_10</td>\n",
       "      <td>user_10@example.com</td>\n",
       "      <td>2022-07-25 00:00:00</td>\n",
       "      <td>False</td>\n",
       "      <td>25.88</td>\n",
       "    </tr>\n",
       "  </tbody>\n",
       "</table>\n",
       "</div>"
      ],
      "text/plain": [
       "   user_id username                email          signup_date  active  score\n",
       "5        6   user_6   user_6@example.com  2022-08-30 00:00:00    True  30.46\n",
       "6        7   user_7   user_7@example.com  2023-07-19 00:00:00    True  68.42\n",
       "7        8   user_8   user_8@example.com  2023-01-02 00:00:00    True  12.20\n",
       "8        9   user_9   user_9@example.com  2023-05-24 00:00:00    True   3.44\n",
       "9       10  user_10  user_10@example.com  2022-07-25 00:00:00   False  25.88"
      ]
     },
     "execution_count": 10,
     "metadata": {},
     "output_type": "execute_result"
    }
   ],
   "source": [
    "df.tail() # show last 5 record \n",
    "# if .tail(-3) : it show records after 3rd row"
   ]
  },
  {
   "cell_type": "code",
   "execution_count": 11,
   "id": "2f848024-6da4-405d-b500-25a09e819e31",
   "metadata": {},
   "outputs": [
    {
     "name": "stdout",
     "output_type": "stream",
     "text": [
      "<class 'pandas.core.frame.DataFrame'>\n",
      "RangeIndex: 10 entries, 0 to 9\n",
      "Data columns (total 6 columns):\n",
      " #   Column       Non-Null Count  Dtype  \n",
      "---  ------       --------------  -----  \n",
      " 0   user_id      10 non-null     int64  \n",
      " 1   username     10 non-null     object \n",
      " 2   email        10 non-null     object \n",
      " 3   signup_date  10 non-null     object \n",
      " 4   active       10 non-null     bool   \n",
      " 5   score        10 non-null     float64\n",
      "dtypes: bool(1), float64(1), int64(1), object(3)\n",
      "memory usage: 542.0+ bytes\n"
     ]
    }
   ],
   "source": [
    "df.info()"
   ]
  },
  {
   "cell_type": "code",
   "execution_count": null,
   "id": "2c6465f3-8b42-4e37-8e7d-a1f6a40396a3",
   "metadata": {},
   "outputs": [],
   "source": []
  }
 ],
 "metadata": {
  "kernelspec": {
   "display_name": "Python 3 (ipykernel)",
   "language": "python",
   "name": "python3"
  },
  "language_info": {
   "codemirror_mode": {
    "name": "ipython",
    "version": 3
   },
   "file_extension": ".py",
   "mimetype": "text/x-python",
   "name": "python",
   "nbconvert_exporter": "python",
   "pygments_lexer": "ipython3",
   "version": "3.13.4"
  }
 },
 "nbformat": 4,
 "nbformat_minor": 5
}
