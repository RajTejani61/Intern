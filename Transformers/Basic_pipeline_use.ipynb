{
  "nbformat": 4,
  "nbformat_minor": 0,
  "metadata": {
    "colab": {
      "provenance": [],
      "gpuType": "T4",
      "mount_file_id": "1Frsiez4lpcAUKXyegAdEJo6A3ERuXuFt",
      "authorship_tag": "ABX9TyNAc0jd6TET/PERK4rOXNj7",
      "include_colab_link": true
    },
    "kernelspec": {
      "name": "python3",
      "display_name": "Python 3"
    },
    "language_info": {
      "name": "python"
    },
    "accelerator": "GPU"
  },
  "cells": [
    {
      "cell_type": "markdown",
      "metadata": {
        "id": "view-in-github",
        "colab_type": "text"
      },
      "source": [
        "<a href=\"https://colab.research.google.com/github/RajTejani61/Intern/blob/main/Transformers/Basic_pipeline_use.ipynb\" target=\"_parent\"><img src=\"https://colab.research.google.com/assets/colab-badge.svg\" alt=\"Open In Colab\"/></a>"
      ]
    },
    {
      "cell_type": "code",
      "source": [
        "from transformers import pipeline"
      ],
      "metadata": {
        "id": "NxAlKPSDnF4p"
      },
      "execution_count": 4,
      "outputs": []
    },
    {
      "cell_type": "markdown",
      "source": [
        "## Sentiment Analysis"
      ],
      "metadata": {
        "id": "FhowAl9fnMbb"
      }
    },
    {
      "cell_type": "code",
      "source": [
        "classifier = pipeline(\"sentiment-analysis\")"
      ],
      "metadata": {
        "colab": {
          "base_uri": "https://localhost:8080/"
        },
        "id": "o4cnwCeunJUT",
        "outputId": "74fc4fa7-edd5-402f-8a4d-d96db75d3cd1"
      },
      "execution_count": 23,
      "outputs": [
        {
          "output_type": "stream",
          "name": "stderr",
          "text": [
            "No model was supplied, defaulted to distilbert/distilbert-base-uncased-finetuned-sst-2-english and revision 714eb0f (https://huggingface.co/distilbert/distilbert-base-uncased-finetuned-sst-2-english).\n",
            "Using a pipeline without specifying a model name and revision in production is not recommended.\n",
            "Device set to use cuda:0\n"
          ]
        }
      ]
    },
    {
      "cell_type": "code",
      "source": [
        "classifier([\"this movie is so awesome.\", \"this movie is so bad.\"])"
      ],
      "metadata": {
        "colab": {
          "base_uri": "https://localhost:8080/"
        },
        "id": "lqk3hS10nJN2",
        "outputId": "1bb4e143-a28f-414f-f800-0f7c4f043dcd"
      },
      "execution_count": 24,
      "outputs": [
        {
          "output_type": "execute_result",
          "data": {
            "text/plain": [
              "[{'label': 'POSITIVE', 'score': 0.9998741149902344},\n",
              " {'label': 'NEGATIVE', 'score': 0.9998039603233337}]"
            ]
          },
          "metadata": {},
          "execution_count": 24
        }
      ]
    },
    {
      "cell_type": "markdown",
      "source": [
        "## Text Generation\n"
      ],
      "metadata": {
        "id": "37HD4KugnQVF"
      }
    },
    {
      "cell_type": "code",
      "source": [
        "text_generation = pipeline(\"text-generation\")"
      ],
      "metadata": {
        "colab": {
          "base_uri": "https://localhost:8080/"
        },
        "id": "QrYojkU5nTDi",
        "outputId": "cf4b0a23-dbfd-491e-8d35-81d5573c09e5"
      },
      "execution_count": 25,
      "outputs": [
        {
          "output_type": "stream",
          "name": "stderr",
          "text": [
            "No model was supplied, defaulted to openai-community/gpt2 and revision 607a30d (https://huggingface.co/openai-community/gpt2).\n",
            "Using a pipeline without specifying a model name and revision in production is not recommended.\n",
            "Device set to use cuda:0\n"
          ]
        }
      ]
    },
    {
      "cell_type": "code",
      "source": [
        "text = text_generation(\"this movie is so awesome.\")\n",
        "print(text)\n",
        "print(len(text[0]['generated_text']))\n"
      ],
      "metadata": {
        "colab": {
          "base_uri": "https://localhost:8080/"
        },
        "id": "oPBCNr-InTAL",
        "outputId": "51fcc899-f820-477a-fb2f-bab95f356f93"
      },
      "execution_count": 26,
      "outputs": [
        {
          "output_type": "stream",
          "name": "stderr",
          "text": [
            "Setting `pad_token_id` to `eos_token_id`:50256 for open-end generation.\n"
          ]
        },
        {
          "output_type": "stream",
          "name": "stdout",
          "text": [
            "[{'generated_text': 'this movie is so awesome. It\\'s the best movie EVER! It\\'s also the best movie EVER!!!! You\\'ve got to watch it as soon as you are. I can\\'t wait to see it!\" -Mackenzie King\\n\\n\"I love this movie. I do not know how to say this. It\\'s a thriller that is so original, so dark, and it\\'s about a girl who comes to a world of monsters and a war that starts with the deaths of her friends, and after that, she has to find her friends and make a new life, and it\\'s a story that is so beautiful and beautiful and beautiful, and you don\\'t want to miss it. It\\'s a great movie, it\\'s the best movie ever, and it\\'s one of the best movies EVER!!! I read that last comment and I\\'m so glad I did. I really love this movie, and I\\'m so happy I did!!!! I love making movies. I never thought I\\'d be able to make a movie like this one. I\\'m just so happy that I did.\" -Dennis\\n\\n\"This is truly one of the best movies ever. And it\\'s the best movie EVER!!!! This is how I would describe this movie. It\\'s dark, scary and dark. I love'}]\n",
            "999\n"
          ]
        }
      ]
    },
    {
      "cell_type": "code",
      "source": [
        "text = text_generation(\"In this course, we will tech you how to\")\n",
        "print(text)\n",
        "print(len(text[0]['generated_text']))"
      ],
      "metadata": {
        "colab": {
          "base_uri": "https://localhost:8080/"
        },
        "id": "lK-Aa7NEnS92",
        "outputId": "71edf587-d4e7-48c6-de68-c4b999f98ef5"
      },
      "execution_count": 27,
      "outputs": [
        {
          "output_type": "stream",
          "name": "stderr",
          "text": [
            "Setting `pad_token_id` to `eos_token_id`:50256 for open-end generation.\n"
          ]
        },
        {
          "output_type": "stream",
          "name": "stdout",
          "text": [
            "[{'generated_text': 'In this course, we will tech you how to create web applications using JavaScript and WebGL using Node.js. Once you have successfully written your application, we will build your web application using Node.js.\\n\\nNote: The code for this course is a part of our Node.js course that you can download from the webinar. Please read the JavaScript documentation for more information.'}]\n",
            "375\n"
          ]
        }
      ]
    },
    {
      "cell_type": "code",
      "source": [
        "generator = pipeline(\"text-generation\", model=\"HuggingFaceTB/SmolLM2-360M\")"
      ],
      "metadata": {
        "colab": {
          "base_uri": "https://localhost:8080/"
        },
        "id": "U2GDfSu3nZo6",
        "outputId": "6c31dd56-6087-442b-9932-d7bd0a90e5c9"
      },
      "execution_count": 28,
      "outputs": [
        {
          "output_type": "stream",
          "name": "stderr",
          "text": [
            "Device set to use cuda:0\n"
          ]
        }
      ]
    },
    {
      "cell_type": "code",
      "source": [
        "generator(\n",
        "    \"In this course, we will teach you how to\",\n",
        "    max_length=30,\n",
        "    num_return_sequences=2,\n",
        ")"
      ],
      "metadata": {
        "colab": {
          "base_uri": "https://localhost:8080/"
        },
        "id": "IcwbrEbqnZla",
        "outputId": "ebd47f32-0608-445a-ba28-965461723091"
      },
      "execution_count": 29,
      "outputs": [
        {
          "output_type": "stream",
          "name": "stderr",
          "text": [
            "Truncation was not explicitly activated but `max_length` is provided a specific value, please use `truncation=True` to explicitly truncate examples to max length. Defaulting to 'longest_first' truncation strategy. If you encode pairs of sequences (GLUE-style) with the tokenizer you can select this strategy more precisely by providing a specific strategy to `truncation`.\n",
            "Setting `pad_token_id` to `eos_token_id`:0 for open-end generation.\n",
            "Both `max_new_tokens` (=256) and `max_length`(=30) seem to have been set. `max_new_tokens` will take precedence. Please refer to the documentation for more information. (https://huggingface.co/docs/transformers/main/en/main_classes/text_generation)\n"
          ]
        },
        {
          "output_type": "execute_result",
          "data": {
            "text/plain": [
              "[{'generated_text': 'In this course, we will teach you how to use the tools and methods of engineering for the design of mechanical systems and structures. You will learn how to apply the best engineering practices and methods to your design projects. You will learn what engineering is, how to solve engineering problems, and how to communicate with engineers. You will learn how to use the most important engineering tools, such as computer-aided design (CAD), computer-aided manufacturing (CAM), and analytical tools. You will also learn how to work in a team, how to communicate with coworkers, and how to make decisions.\\n\\nTopics and Objectives\\n\\nThis course will introduce you to the fundamental concepts of engineering, which will prepare you for the study of engineering. You will be introduced to the fundamental concepts of engineering such as geometry, trigonometry, and physics. You will learn how to solve engineering problems, how to communicate with engineers, and how to work in a team. You will also learn how to use the most important engineering tools such as computer-aided design (CAD), computer-aided manufacturing (CAM), and analytical tools. You will also learn how to work in a team, how to communicate with coworkers, and how to make decisions.\\n\\nThe course will also introduce you to the basic concepts of civil engineering, which'},\n",
              " {'generated_text': 'In this course, we will teach you how to write a thesis statement for any topic. This will help you make sure that your essay and writing skills are at their best. There are many ways to write a thesis statement, and we will go through the different methods and approaches.\\n\\nWe will also provide you with some tips and tricks to make your writing process more efficient and effective. In addition, we will teach you how to write a thesis statement for any topic. This will help you make sure that your writing skills are at their best.\\n\\nThere are many ways to write a thesis statement, and we will go through the different methods and approaches.\\n\\nWe will also provide you with some tips and tricks to make your writing process more efficient and effective. In addition, we will teach you how to write a thesis statement for any topic. This will help you make sure that your writing skills are at their best.\\n\\nThere are many ways to write a thesis statement, and we will go through the different methods and approaches.\\n\\nWe will also provide you with some tips and tricks to make your writing process more efficient and effective. In addition, we will teach you how to write a thesis statement for any topic. This will help you make sure that your writing skills are at their best.\\n\\n'}]"
            ]
          },
          "metadata": {},
          "execution_count": 29
        }
      ]
    },
    {
      "cell_type": "markdown",
      "source": [
        "## Zero shot classification\n"
      ],
      "metadata": {
        "id": "EEfROmPyncvJ"
      }
    },
    {
      "cell_type": "code",
      "source": [
        "zero_shot_classifier = pipeline(\"zero-shot-classification\")"
      ],
      "metadata": {
        "colab": {
          "base_uri": "https://localhost:8080/"
        },
        "id": "YHjopkaJnezh",
        "outputId": "110a2316-1c95-4dc3-a726-ca3fb2d660d7"
      },
      "execution_count": 30,
      "outputs": [
        {
          "output_type": "stream",
          "name": "stderr",
          "text": [
            "No model was supplied, defaulted to facebook/bart-large-mnli and revision d7645e1 (https://huggingface.co/facebook/bart-large-mnli).\n",
            "Using a pipeline without specifying a model name and revision in production is not recommended.\n",
            "Device set to use cuda:0\n"
          ]
        }
      ]
    },
    {
      "cell_type": "code",
      "source": [
        "sentence1 = \"I love eating burger.\"\n",
        "sentence2 = \"I love watching football with my friends.\"\n",
        "labels = [\"technology\", \"food\", \"politics\", \"sport\"]"
      ],
      "metadata": {
        "id": "MSyJdfgVneuv"
      },
      "execution_count": 31,
      "outputs": []
    },
    {
      "cell_type": "code",
      "source": [
        "res1 = zero_shot_classifier(sentence1, candidate_labels=labels)\n",
        "print(res1)"
      ],
      "metadata": {
        "colab": {
          "base_uri": "https://localhost:8080/"
        },
        "id": "eSkgaZBcnerY",
        "outputId": "fa83f229-3159-4adb-d864-fc6b24112f48"
      },
      "execution_count": 32,
      "outputs": [
        {
          "output_type": "stream",
          "name": "stdout",
          "text": [
            "{'sequence': 'I love eating burger.', 'labels': ['food', 'sport', 'technology', 'politics'], 'scores': [0.9932583570480347, 0.004768116865307093, 0.001132781500928104, 0.0008407288696616888]}\n"
          ]
        }
      ]
    },
    {
      "cell_type": "code",
      "execution_count": 33,
      "metadata": {
        "colab": {
          "base_uri": "https://localhost:8080/"
        },
        "id": "NWic76o4lv3f",
        "outputId": "e5aeec12-3a73-4035-e796-1086dcff912b"
      },
      "outputs": [
        {
          "output_type": "stream",
          "name": "stdout",
          "text": [
            "{'sequence': 'I love watching football with my friends.', 'labels': ['sport', 'technology', 'food', 'politics'], 'scores': [0.9960604310035706, 0.001764417509548366, 0.0014025638811290264, 0.0007725887116976082]}\n"
          ]
        }
      ],
      "source": [
        "res2 = zero_shot_classifier(sentence2, candidate_labels=labels)\n",
        "print(res2)"
      ]
    },
    {
      "cell_type": "markdown",
      "source": [
        "## Fill mask"
      ],
      "metadata": {
        "id": "jV61KzqooGdh"
      }
    },
    {
      "cell_type": "code",
      "source": [
        "fill_mask = pipeline(\"fill-mask\")"
      ],
      "metadata": {
        "colab": {
          "base_uri": "https://localhost:8080/"
        },
        "id": "4I55FXMbmbTL",
        "outputId": "a34493f2-710f-4ac0-eb74-45c5c839068d"
      },
      "execution_count": 34,
      "outputs": [
        {
          "output_type": "stream",
          "name": "stderr",
          "text": [
            "No model was supplied, defaulted to distilbert/distilroberta-base and revision fb53ab8 (https://huggingface.co/distilbert/distilroberta-base).\n",
            "Using a pipeline without specifying a model name and revision in production is not recommended.\n",
            "Some weights of the model checkpoint at distilbert/distilroberta-base were not used when initializing RobertaForMaskedLM: ['roberta.pooler.dense.bias', 'roberta.pooler.dense.weight']\n",
            "- This IS expected if you are initializing RobertaForMaskedLM from the checkpoint of a model trained on another task or with another architecture (e.g. initializing a BertForSequenceClassification model from a BertForPreTraining model).\n",
            "- This IS NOT expected if you are initializing RobertaForMaskedLM from the checkpoint of a model that you expect to be exactly identical (initializing a BertForSequenceClassification model from a BertForSequenceClassification model).\n",
            "Device set to use cuda:0\n"
          ]
        }
      ]
    },
    {
      "cell_type": "code",
      "source": [
        "txt = \"This course will teach you about <mask> model.\"\n",
        "fill_mask(txt, top_k=2)"
      ],
      "metadata": {
        "colab": {
          "base_uri": "https://localhost:8080/"
        },
        "id": "OJotizhnoM31",
        "outputId": "9d4698d8-ede0-48a0-aca2-fa6ae746640c"
      },
      "execution_count": 35,
      "outputs": [
        {
          "output_type": "execute_result",
          "data": {
            "text/plain": [
              "[{'score': 0.06261218339204788,\n",
              "  'token': 30412,\n",
              "  'token_str': ' mathematical',\n",
              "  'sequence': 'This course will teach you about mathematical model.'},\n",
              " {'score': 0.06109543517231941,\n",
              "  'token': 265,\n",
              "  'token_str': ' business',\n",
              "  'sequence': 'This course will teach you about business model.'}]"
            ]
          },
          "metadata": {},
          "execution_count": 35
        }
      ]
    },
    {
      "cell_type": "code",
      "source": [
        "ner = pipeline(\"ner\", grouped_entities=True)"
      ],
      "metadata": {
        "colab": {
          "base_uri": "https://localhost:8080/"
        },
        "id": "viKwGCmroh3p",
        "outputId": "86670804-5e37-473d-db28-9dfef7f94943"
      },
      "execution_count": 36,
      "outputs": [
        {
          "output_type": "stream",
          "name": "stderr",
          "text": [
            "No model was supplied, defaulted to dbmdz/bert-large-cased-finetuned-conll03-english and revision 4c53496 (https://huggingface.co/dbmdz/bert-large-cased-finetuned-conll03-english).\n",
            "Using a pipeline without specifying a model name and revision in production is not recommended.\n",
            "Some weights of the model checkpoint at dbmdz/bert-large-cased-finetuned-conll03-english were not used when initializing BertForTokenClassification: ['bert.pooler.dense.bias', 'bert.pooler.dense.weight']\n",
            "- This IS expected if you are initializing BertForTokenClassification from the checkpoint of a model trained on another task or with another architecture (e.g. initializing a BertForSequenceClassification model from a BertForPreTraining model).\n",
            "- This IS NOT expected if you are initializing BertForTokenClassification from the checkpoint of a model that you expect to be exactly identical (initializing a BertForSequenceClassification model from a BertForSequenceClassification model).\n",
            "Device set to use cuda:0\n"
          ]
        }
      ]
    },
    {
      "cell_type": "code",
      "source": [
        "ner(\"My name is Sylvain and I work at Hugging Face in Brooklyn.\")"
      ],
      "metadata": {
        "colab": {
          "base_uri": "https://localhost:8080/"
        },
        "id": "Z0-E9Dz8qol8",
        "outputId": "0af535ae-db81-4ac2-97c8-757f8c7589d5"
      },
      "execution_count": 37,
      "outputs": [
        {
          "output_type": "execute_result",
          "data": {
            "text/plain": [
              "[{'entity_group': 'PER',\n",
              "  'score': np.float32(0.9981694),\n",
              "  'word': 'Sylvain',\n",
              "  'start': 11,\n",
              "  'end': 18},\n",
              " {'entity_group': 'ORG',\n",
              "  'score': np.float32(0.9796019),\n",
              "  'word': 'Hugging Face',\n",
              "  'start': 33,\n",
              "  'end': 45},\n",
              " {'entity_group': 'LOC',\n",
              "  'score': np.float32(0.9932106),\n",
              "  'word': 'Brooklyn',\n",
              "  'start': 49,\n",
              "  'end': 57}]"
            ]
          },
          "metadata": {},
          "execution_count": 37
        }
      ]
    },
    {
      "cell_type": "markdown",
      "source": [
        "## Question Answer"
      ],
      "metadata": {
        "id": "7Ge1T7WLrI5V"
      }
    },
    {
      "cell_type": "code",
      "source": [
        "question_answer = pipeline(\"question-answering\")"
      ],
      "metadata": {
        "colab": {
          "base_uri": "https://localhost:8080/"
        },
        "id": "fOnG-eBSq8sx",
        "outputId": "1e8b656b-5050-40b1-9a7f-dadfa90a3800"
      },
      "execution_count": 39,
      "outputs": [
        {
          "output_type": "stream",
          "name": "stderr",
          "text": [
            "No model was supplied, defaulted to distilbert/distilbert-base-cased-distilled-squad and revision 564e9b5 (https://huggingface.co/distilbert/distilbert-base-cased-distilled-squad).\n",
            "Using a pipeline without specifying a model name and revision in production is not recommended.\n",
            "Device set to use cuda:0\n"
          ]
        }
      ]
    },
    {
      "cell_type": "code",
      "source": [
        "question_answer(\n",
        "    question=\"Where do I work?\",\n",
        "    context=\"My name is Sylvain and I work at Hugging Face in Brooklyn\",\n",
        ")"
      ],
      "metadata": {
        "colab": {
          "base_uri": "https://localhost:8080/"
        },
        "id": "YPC3bmIWq-uc",
        "outputId": "06956c76-e0e6-4f2c-9352-4d7f14ce41af"
      },
      "execution_count": 43,
      "outputs": [
        {
          "output_type": "execute_result",
          "data": {
            "text/plain": [
              "{'score': 0.6949763894081116, 'start': 33, 'end': 45, 'answer': 'Hugging Face'}"
            ]
          },
          "metadata": {},
          "execution_count": 43
        }
      ]
    },
    {
      "cell_type": "markdown",
      "source": [
        "## Image classification"
      ],
      "metadata": {
        "id": "wNG0_3wkrtvJ"
      }
    },
    {
      "cell_type": "code",
      "source": [
        "image_classifier = pipeline(\n",
        "    task=\"image-classification\", model=\"google/vit-base-patch16-224\"\n",
        ")"
      ],
      "metadata": {
        "colab": {
          "base_uri": "https://localhost:8080/"
        },
        "id": "Xh0r3PYnrSEB",
        "outputId": "9da3c669-289c-4524-d63d-602c1d4b3961"
      },
      "execution_count": 46,
      "outputs": [
        {
          "output_type": "stream",
          "name": "stderr",
          "text": [
            "Fast image processor class <class 'transformers.models.vit.image_processing_vit_fast.ViTImageProcessorFast'> is available for this model. Using slow image processor class. To use the fast image processor class set `use_fast=True`.\n",
            "Device set to use cuda:0\n"
          ]
        }
      ]
    },
    {
      "cell_type": "code",
      "source": [
        "result = image_classifier(\n",
        "    \"https://picsum.photos/id/237/200/300\"\n",
        ")\n",
        "print(result)"
      ],
      "metadata": {
        "colab": {
          "base_uri": "https://localhost:8080/"
        },
        "id": "H0XN-mz6r0gG",
        "outputId": "d40dfedf-df5c-4e97-94c1-80a49c6f7933"
      },
      "execution_count": 48,
      "outputs": [
        {
          "output_type": "stream",
          "name": "stdout",
          "text": [
            "[{'label': 'Labrador retriever', 'score': 0.9820438623428345}, {'label': 'flat-coated retriever', 'score': 0.008525816723704338}, {'label': 'curly-coated retriever', 'score': 0.0025857137516140938}, {'label': 'kelpie', 'score': 0.0016176617937162519}, {'label': 'Newfoundland, Newfoundland dog', 'score': 0.0007654132787138224}]\n"
          ]
        }
      ]
    },
    {
      "cell_type": "code",
      "source": [],
      "metadata": {
        "id": "mCabbtYasRcQ"
      },
      "execution_count": null,
      "outputs": []
    }
  ]
}