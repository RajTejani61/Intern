{
 "cells": [
  {
   "cell_type": "code",
   "execution_count": 1,
   "id": "3d0428a7",
   "metadata": {},
   "outputs": [],
   "source": [
    "import torch\n",
    "import torch.nn as nn\n",
    "import torch.optim as optim\n",
    "import nltk\n",
    "from nltk.corpus import gutenberg\n",
    "from collections import Counter"
   ]
  },
  {
   "cell_type": "code",
   "execution_count": 2,
   "id": "20f59dc4",
   "metadata": {},
   "outputs": [],
   "source": [
    "pairs = [\n",
    "    (\"a man is playing guitar\", \"ein mann spielt gitarre\"),\n",
    "    (\"a woman is cooking\", \"eine frau kocht\"),\n",
    "    (\"children are playing football\", \"kinder spielen fußball\"),\n",
    "    (\"he is reading a book\", \"er liest ein buch\"),\n",
    "    (\"she is riding a bike\", \"sie fährt fahrrad\")\n",
    "]"
   ]
  },
  {
   "cell_type": "code",
   "execution_count": 3,
   "id": "f4e74ff6",
   "metadata": {},
   "outputs": [],
   "source": [
    "SPECIALS = [\"<unk>\", \"<pad>\", \"<bos>\", \"<eos>\"]"
   ]
  },
  {
   "cell_type": "code",
   "execution_count": 4,
   "id": "92f561a9",
   "metadata": {},
   "outputs": [],
   "source": [
    "def tokenize_text(text):\n",
    "    text = text.lower()\n",
    "    tokens = nltk.word_tokenize(text)\n",
    "    return tokens"
   ]
  },
  {
   "cell_type": "code",
   "execution_count": null,
   "id": "395f8f29",
   "metadata": {},
   "outputs": [],
   "source": [
    "def build_vocab(sentences, tokenizer=tokenize_text):\n",
    "    counter = Counter()\n",
    "    for s in sentences:\n",
    "        counter.update(tokenizer(s))\n",
    "    \n",
    "    vocab = {word: i+len(SPECIALS) for i, word in enumerate(counter.keys())}\n",
    "    \n",
    "    for i, sp in enumerate(SPECIALS):\n",
    "        vocab[sp] = i\n",
    "    \n",
    "    return vocab"
   ]
  },
  {
   "cell_type": "code",
   "execution_count": 6,
   "id": "f784b088",
   "metadata": {},
   "outputs": [],
   "source": [
    "vocab_en = build_vocab([src for src, _ in pairs], tokenizer=tokenize_text)\n",
    "vocab_de = build_vocab([tgt for _, tgt in pairs], tokenizer=tokenize_text)"
   ]
  },
  {
   "cell_type": "code",
   "execution_count": 7,
   "id": "2d5d10c7",
   "metadata": {},
   "outputs": [
    {
     "name": "stdout",
     "output_type": "stream",
     "text": [
      "English vocab: {'a': 4, 'man': 5, 'is': 6, 'playing': 7, 'guitar': 8, 'woman': 9, 'cooking': 10, 'children': 11, 'are': 12, 'football': 13, 'he': 14, 'reading': 15, 'book': 16, 'she': 17, 'riding': 18, 'bike': 19, '<unk>': 0, '<pad>': 1, '<bos>': 2, '<eos>': 3}\n",
      "German vocab: {'ein': 4, 'mann': 5, 'spielt': 6, 'gitarre': 7, 'eine': 8, 'frau': 9, 'kocht': 10, 'kinder': 11, 'spielen': 12, 'fußball': 13, 'er': 14, 'liest': 15, 'buch': 16, 'sie': 17, 'fährt': 18, 'fahrrad': 19, '<unk>': 0, '<pad>': 1, '<bos>': 2, '<eos>': 3}\n"
     ]
    }
   ],
   "source": [
    "print(\"English vocab:\", vocab_en)\n",
    "print(\"German vocab:\", vocab_de)"
   ]
  },
  {
   "cell_type": "code",
   "execution_count": 8,
   "id": "aa19832d",
   "metadata": {},
   "outputs": [],
   "source": [
    "def encode_sentence(sentence, vocab, tokenizer, add_bos=True, add_eos=True):\n",
    "    tokens = tokenizer(sentence)\n",
    "    ids = []\n",
    "    if add_bos:\n",
    "        ids.append(vocab[\"<bos>\"])\n",
    "    ids += [vocab.get(tok, vocab[\"<unk>\"]) for tok in tokens]\n",
    "    if add_eos:\n",
    "        ids.append(vocab[\"<eos>\"])\n",
    "    return torch.tensor(ids, dtype=torch.long)"
   ]
  },
  {
   "cell_type": "code",
   "execution_count": 9,
   "id": "40290506",
   "metadata": {},
   "outputs": [],
   "source": [
    "class Seq2SeqTransformer(nn.Module):\n",
    "    def __init__(self, num_encoder_layers, num_decoder_layers, emb_size, \n",
    "                 nhead, src_vocab_size, tgt_vocab_size, dim_feedforward=512):\n",
    "        super(Seq2SeqTransformer, self).__init__()\n",
    "        \n",
    "        self.transformer = nn.Transformer(\n",
    "            d_model=emb_size, \n",
    "            nhead=nhead, \n",
    "            num_encoder_layers=num_encoder_layers,\n",
    "            num_decoder_layers=num_decoder_layers,\n",
    "            dim_feedforward=dim_feedforward\n",
    "        )\n",
    "        \n",
    "        self.src_embed = nn.Embedding(src_vocab_size, emb_size)\n",
    "        self.tgt_embed = nn.Embedding(tgt_vocab_size, emb_size)\n",
    "        self.fc_out = nn.Linear(emb_size, tgt_vocab_size)\n",
    "\n",
    "    def forward(self, src, tgt):\n",
    "        src_emb = self.src_embed(src).transpose(0, 1)\n",
    "        tgt_emb = self.tgt_embed(tgt).transpose(0, 1)\n",
    "\n",
    "        output = self.transformer(src_emb, tgt_emb)\n",
    "        return self.fc_out(output)\n"
   ]
  },
  {
   "cell_type": "code",
   "execution_count": 10,
   "id": "7e90ab1d",
   "metadata": {},
   "outputs": [
    {
     "name": "stderr",
     "output_type": "stream",
     "text": [
      "c:\\ProgramData\\anaconda3\\envs\\torch_env\\lib\\site-packages\\torch\\nn\\modules\\transformer.py:306: UserWarning: enable_nested_tensor is True, but self.use_nested_tensor is False because encoder_layer.self_attn.batch_first was not True(use batch_first for better inference performance)\n",
      "  warnings.warn(f\"enable_nested_tensor is True, but self.use_nested_tensor is False because {why_not_sparsity_fast_path}\")\n",
      "c:\\ProgramData\\anaconda3\\envs\\torch_env\\lib\\site-packages\\torch\\nn\\functional.py:5504: UserWarning: 1Torch was not compiled with flash attention. (Triggered internally at ..\\aten\\src\\ATen\\native\\transformers\\cuda\\sdp_utils.cpp:455.)\n",
      "  attn_output = scaled_dot_product_attention(q, k, v, attn_mask, dropout_p, is_causal)\n"
     ]
    },
    {
     "name": "stdout",
     "output_type": "stream",
     "text": [
      "Epoch 0, Loss: 15.6510\n",
      "Epoch 1, Loss: 10.1689\n",
      "Epoch 2, Loss: 6.9444\n",
      "Epoch 3, Loss: 4.8464\n",
      "Epoch 4, Loss: 2.9222\n",
      "Epoch 5, Loss: 2.0507\n",
      "Epoch 6, Loss: 1.4303\n",
      "Epoch 7, Loss: 0.9970\n",
      "Epoch 8, Loss: 0.9022\n",
      "Epoch 9, Loss: 0.5630\n",
      "Epoch 10, Loss: 0.4751\n",
      "Epoch 11, Loss: 0.4398\n",
      "Epoch 12, Loss: 0.3492\n",
      "Epoch 13, Loss: 0.3261\n",
      "Epoch 14, Loss: 0.2589\n",
      "Epoch 15, Loss: 0.2519\n",
      "Epoch 16, Loss: 0.2344\n",
      "Epoch 17, Loss: 0.2186\n",
      "Epoch 18, Loss: 0.1935\n",
      "Epoch 19, Loss: 0.1535\n"
     ]
    }
   ],
   "source": [
    "device = torch.device('cuda' if torch.cuda.is_available() else 'cpu')\n",
    "\n",
    "SRC_VOCAB_SIZE = len(vocab_en)\n",
    "TGT_VOCAB_SIZE = len(vocab_de)\n",
    "EMB_SIZE = 128\n",
    "NHEAD = 4\n",
    "FFN_HID_DIM = 256\n",
    "NUM_ENCODER_LAYERS = 2\n",
    "NUM_DECODER_LAYERS = 2\n",
    "\n",
    "model = Seq2SeqTransformer(NUM_ENCODER_LAYERS, NUM_DECODER_LAYERS, EMB_SIZE, NHEAD,\n",
    "                           SRC_VOCAB_SIZE, TGT_VOCAB_SIZE, FFN_HID_DIM).to(device)\n",
    "\n",
    "loss_fn = nn.CrossEntropyLoss(ignore_index=vocab_de[\"<pad>\"])\n",
    "optimizer = optim.Adam(model.parameters(), lr=0.001)\n",
    "\n",
    "for epoch in range(20):\n",
    "    total_loss = 0\n",
    "    for src_text, tgt_text in pairs:\n",
    "        src = encode_sentence(src_text, vocab_en, tokenize_text).unsqueeze(0).to(device)\n",
    "        tgt = encode_sentence(tgt_text, vocab_de, tokenize_text).unsqueeze(0).to(device)\n",
    "\n",
    "        optimizer.zero_grad()\n",
    "        output = model(src, tgt[:, :-1])\n",
    "        loss = loss_fn(output.reshape(-1, output.shape[-1]), tgt[:, 1:].reshape(-1))\n",
    "        loss.backward()\n",
    "        optimizer.step()\n",
    "        total_loss += loss.item()\n",
    "    print(f\"Epoch {epoch}, Loss: {total_loss:.4f}\")\n"
   ]
  },
  {
   "cell_type": "code",
   "execution_count": 11,
   "id": "5d5b8624",
   "metadata": {},
   "outputs": [
    {
     "name": "stdout",
     "output_type": "stream",
     "text": [
      "<bos> ein ein mann ein mann mann spielt\n"
     ]
    }
   ],
   "source": [
    "def translate(model, sentence, max_len=20):\n",
    "    model.eval()\n",
    "    src = encode_sentence(sentence, vocab_en, tokenize_text).unsqueeze(0).to(device)\n",
    "    tgt = torch.tensor([[vocab_de[\"<bos>\"]]], dtype=torch.long).to(device)\n",
    "\n",
    "    for _ in range(max_len):\n",
    "        output = model(src, tgt)\n",
    "        next_token = output.argmax(2)[:, -1]  # Shape: (1, output_length)\n",
    "        if next_token.dim() == 0:\n",
    "            next_token_value = next_token.item()  # Get the actual value\n",
    "        else:\n",
    "            next_token_value = next_token.argmax()  # Get the index of the highest value\n",
    "        tgt = torch.cat([tgt, next_token.unsqueeze(0)], dim=1)\n",
    "        if next_token_value == vocab_de[\"<eos>\"]:\n",
    "            break\n",
    "\n",
    "    return \" \".join([list(vocab_de.keys())[list(vocab_de.values()).index(tok)] \n",
    "                     for tok in tgt.squeeze().tolist()])\n",
    "print(translate(model, \"a man is playing guitar\"))\n"
   ]
  },
  {
   "cell_type": "code",
   "execution_count": null,
   "id": "c088c1b0",
   "metadata": {},
   "outputs": [],
   "source": []
  }
 ],
 "metadata": {
  "kernelspec": {
   "display_name": "torch_env",
   "language": "python",
   "name": "python3"
  },
  "language_info": {
   "codemirror_mode": {
    "name": "ipython",
    "version": 3
   },
   "file_extension": ".py",
   "mimetype": "text/x-python",
   "name": "python",
   "nbconvert_exporter": "python",
   "pygments_lexer": "ipython3",
   "version": "3.10.18"
  }
 },
 "nbformat": 4,
 "nbformat_minor": 5
}
