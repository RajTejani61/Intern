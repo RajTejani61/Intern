{
 "cells": [
  {
   "cell_type": "code",
   "execution_count": 1,
   "id": "6d828f0b-3991-45e6-a0d3-62c0bc83cc32",
   "metadata": {},
   "outputs": [],
   "source": [
    "import numpy as np\n",
    "import pandas as pd"
   ]
  },
  {
   "cell_type": "code",
   "execution_count": 3,
   "id": "a1b7d7c1-0092-4b58-a0e0-142201bb0aae",
   "metadata": {},
   "outputs": [],
   "source": [
    "x = np.array([1,2,4,6,8])\n",
    "y = np.array([3,4,8,10,15])"
   ]
  },
  {
   "cell_type": "code",
   "execution_count": 4,
   "id": "e501114f-5518-4047-aaa7-f2ef3fb21666",
   "metadata": {},
   "outputs": [
    {
     "name": "stdout",
     "output_type": "stream",
     "text": [
      "4.2\n",
      "8.0\n"
     ]
    }
   ],
   "source": [
    "X = x.mean()\n",
    "Y = y.mean()\n",
    "print(X)\n",
    "print(Y)"
   ]
  },
  {
   "cell_type": "code",
   "execution_count": 5,
   "id": "8b1fd084-bd1b-4dec-ba55-562a6261e065",
   "metadata": {},
   "outputs": [],
   "source": [
    "# y = mx + c\n",
    "# m = (X - xi)(Y - yi) / (X - xi)2\n",
    "# c = Y - mX"
   ]
  },
  {
   "cell_type": "code",
   "execution_count": 48,
   "id": "00aa9e12-9858-46dc-ac55-5b33c88505dc",
   "metadata": {},
   "outputs": [],
   "source": [
    "n = len(x)\n",
    "x_x = (X - x) \n",
    "y_y = (Y - y)\n",
    "x_x2 = (x_x * x_x).cumsum()\n",
    "xy = (x_x * y_y).cumsum()\n",
    "\n",
    "xy = xy[-1]\n",
    "x_x2 = x_x2[-1]"
   ]
  },
  {
   "cell_type": "code",
   "execution_count": 49,
   "id": "8dddcaf0-82fd-473a-858c-93414c802d11",
   "metadata": {},
   "outputs": [
    {
     "name": "stdout",
     "output_type": "stream",
     "text": [
      "[ 3.2  2.2  0.2 -1.8 -3.8]\n",
      "[ 5.  4.  0. -2. -7.]\n",
      "55.0\n",
      "32.800000000000004\n"
     ]
    }
   ],
   "source": [
    "print(x_x)\n",
    "print(y_y)\n",
    "print(xy)\n",
    "print(x_x2)\n"
   ]
  },
  {
   "cell_type": "code",
   "execution_count": 50,
   "id": "4bd381b7-fea7-47e5-93c2-aa295a932cd1",
   "metadata": {},
   "outputs": [],
   "source": [
    "m = xy / x_x2"
   ]
  },
  {
   "cell_type": "code",
   "execution_count": 52,
   "id": "2f385dd0-da12-4e0a-9830-20d4b09385f6",
   "metadata": {},
   "outputs": [],
   "source": [
    "c = Y - (m * X)"
   ]
  },
  {
   "cell_type": "code",
   "execution_count": 53,
   "id": "f4c42b9c-8f6f-42fd-ac32-3854b9d71642",
   "metadata": {},
   "outputs": [
    {
     "name": "stdout",
     "output_type": "stream",
     "text": [
      "1.6768292682926826\n",
      "0.9573170731707323\n"
     ]
    }
   ],
   "source": [
    "print(m)\n",
    "print(c)"
   ]
  },
  {
   "cell_type": "code",
   "execution_count": 57,
   "id": "bc890f28-d1fc-47aa-888b-9aaa44cb1349",
   "metadata": {},
   "outputs": [
    {
     "name": "stdout",
     "output_type": "stream",
     "text": [
      " Y = 1.68 X + 0.96\n"
     ]
    }
   ],
   "source": [
    "print(f\" Y = {m:.2f} X + {c:.2f}\")"
   ]
  },
  {
   "cell_type": "code",
   "execution_count": null,
   "id": "b597c59f-2338-4205-8213-53e24ac191b2",
   "metadata": {},
   "outputs": [],
   "source": []
  }
 ],
 "metadata": {
  "kernelspec": {
   "display_name": "Python 3 (ipykernel)",
   "language": "python",
   "name": "python3"
  },
  "language_info": {
   "codemirror_mode": {
    "name": "ipython",
    "version": 3
   },
   "file_extension": ".py",
   "mimetype": "text/x-python",
   "name": "python",
   "nbconvert_exporter": "python",
   "pygments_lexer": "ipython3",
   "version": "3.13.4"
  }
 },
 "nbformat": 4,
 "nbformat_minor": 5
}
