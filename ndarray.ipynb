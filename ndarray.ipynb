{
 "cells": [
  {
   "cell_type": "code",
   "execution_count": 3,
   "id": "81ffae05-7c1c-46b0-b851-ba55be36b6ff",
   "metadata": {},
   "outputs": [],
   "source": [
    "import numpy as np"
   ]
  },
  {
   "cell_type": "code",
   "execution_count": 11,
   "id": "6ffc7677-c194-4c46-a015-bb23bb43397a",
   "metadata": {},
   "outputs": [
    {
     "name": "stdout",
     "output_type": "stream",
     "text": [
      "[1 2 3 4]\n",
      "[[1 2 3]\n",
      " [4 5 6]]\n",
      "[[[1 2 3]\n",
      "  [4 5 6]\n",
      "  [7 8 9]]]\n",
      "[[[ 1  2  3]\n",
      "  [ 4  5  6]]\n",
      "\n",
      " [[ 7  8  9]\n",
      "  [10 11 12]]]\n",
      "[1 2 3 4 5]\n"
     ]
    }
   ],
   "source": [
    "# 1 Rank Array\n",
    "a = np.array([1, 2, 3, 4])\n",
    "\n",
    "# 2 rank arrak\n",
    "b = np.array([[1,2,3], [4,5,6]])\n",
    "\n",
    "# 3 rank array\n",
    "c = np.array([[[1, 2, 3], \n",
    "\t\t\t [4, 5, 6],\n",
    "\t\t\t [7, 8, 9]]])\n",
    "\n",
    "#3d array\n",
    "d = np.array([[[1,2,3],[4,5,6]],\n",
    "               [[7,8,9],[10,11,12]]])\n",
    "\n",
    "# passing touple as an array\n",
    "tup = (1, 2, 3, 4, 5)\n",
    "e = np.array(tup)\n",
    "\n",
    "print(a)\n",
    "print(b)\n",
    "print(c)\n",
    "print(d)\n",
    "print(e)"
   ]
  },
  {
   "cell_type": "code",
   "execution_count": 30,
   "id": "f889c564-f359-4691-a641-a5d236575c43",
   "metadata": {},
   "outputs": [
    {
     "name": "stdout",
     "output_type": "stream",
     "text": [
      "3\n",
      "[4 5 6]\n",
      "[3]\n",
      "[7 8 9]\n",
      "[1 2 3 4 5]\n",
      "5\n"
     ]
    }
   ],
   "source": [
    "#accessing array\n",
    "\n",
    "print(a[2])\n",
    "print(b[1,:])\n",
    "print(c[0,:1, 2])\n",
    "print(d[1,0,:])\n",
    "print(e)\n",
    "print(e[-1])"
   ]
  },
  {
   "cell_type": "code",
   "execution_count": 33,
   "id": "1ef3c913-c6a1-42e3-84be-e668d06f731c",
   "metadata": {},
   "outputs": [
    {
     "name": "stdout",
     "output_type": "stream",
     "text": [
      "[2 3]\n",
      "[1 2 3]\n"
     ]
    }
   ],
   "source": [
    "# slicing\n",
    "# [start : End : Step]\n",
    "print(a[-3:-1])\n",
    "print(b[0,:])"
   ]
  },
  {
   "cell_type": "code",
   "execution_count": 41,
   "id": "8c27a8f3-7e41-4698-983c-c768fdf4601d",
   "metadata": {},
   "outputs": [
    {
     "name": "stdout",
     "output_type": "stream",
     "text": [
      "1\n",
      "2\n",
      "3\n",
      "3\n",
      "1\n"
     ]
    }
   ],
   "source": [
    "print(a.ndim)\n",
    "print(b.ndim)\n",
    "print(c.ndim)\n",
    "print(d.ndim)\n",
    "print(e.ndim)"
   ]
  },
  {
   "cell_type": "code",
   "execution_count": null,
   "id": "427eee9f-67a6-4aef-b91b-f344eda7ed95",
   "metadata": {},
   "outputs": [],
   "source": []
  }
 ],
 "metadata": {
  "kernelspec": {
   "display_name": "Python 3 (ipykernel)",
   "language": "python",
   "name": "python3"
  },
  "language_info": {
   "codemirror_mode": {
    "name": "ipython",
    "version": 3
   },
   "file_extension": ".py",
   "mimetype": "text/x-python",
   "name": "python",
   "nbconvert_exporter": "python",
   "pygments_lexer": "ipython3",
   "version": "3.13.4"
  }
 },
 "nbformat": 4,
 "nbformat_minor": 5
}
