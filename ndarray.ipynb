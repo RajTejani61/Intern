{
 "cells": [
  {
   "cell_type": "markdown",
   "id": "7dc14ea8-233e-408e-b826-de5feef163fc",
   "metadata": {},
   "source": [
    "Numpy"
   ]
  },
  {
   "cell_type": "code",
   "execution_count": 6,
   "id": "81ffae05-7c1c-46b0-b851-ba55be36b6ff",
   "metadata": {},
   "outputs": [],
   "source": [
    "import numpy as np"
   ]
  },
  {
   "cell_type": "code",
   "execution_count": 7,
   "id": "6ffc7677-c194-4c46-a015-bb23bb43397a",
   "metadata": {},
   "outputs": [
    {
     "name": "stdout",
     "output_type": "stream",
     "text": [
      "[1 2 3 4]\n",
      "[[1 2 3]\n",
      " [4 5 6]]\n",
      "[[[1 2 3]\n",
      "  [4 5 6]\n",
      "  [7 8 9]]]\n",
      "[[[ 1  2  3]\n",
      "  [ 4  5  6]]\n",
      "\n",
      " [[ 7  8  9]\n",
      "  [10 11 12]]]\n",
      "[1 2 3 4 5]\n"
     ]
    }
   ],
   "source": [
    "# 1 Rank Array\n",
    "a = np.array([1, 2, 3, 4])\n",
    "\n",
    "# 2 rank arrak\n",
    "b = np.array([[1,2,3], [4,5,6]])\n",
    "\n",
    "# 3 rank array\n",
    "c = np.array([[[1, 2, 3], \n",
    "\t\t\t [4, 5, 6],\n",
    "\t\t\t [7, 8, 9]]])\n",
    "\n",
    "#3d array\n",
    "d = np.array([[[1,2,3],[4,5,6]],\n",
    "               [[7,8,9],[10,11,12]]])\n",
    "\n",
    "# passing touple as an array\n",
    "tup = (1, 2, 3, 4, 5)\n",
    "e = np.array(tup)\n",
    "\n",
    "print(a)\n",
    "print(b)\n",
    "print(c)\n",
    "print(d)\n",
    "print(e)"
   ]
  },
  {
   "cell_type": "code",
   "execution_count": 8,
   "id": "f889c564-f359-4691-a641-a5d236575c43",
   "metadata": {},
   "outputs": [
    {
     "name": "stdout",
     "output_type": "stream",
     "text": [
      "3\n",
      "[4 5 6]\n",
      "[3]\n",
      "[7 8 9]\n",
      "[1 2 3 4 5]\n",
      "5\n"
     ]
    }
   ],
   "source": [
    "#accessing array\n",
    "\n",
    "print(a[2])\n",
    "print(b[1,:])\n",
    "print(c[0,:1, 2])\n",
    "print(d[1,0,:])\n",
    "print(e)\n",
    "print(e[-1])"
   ]
  },
  {
   "cell_type": "code",
   "execution_count": 9,
   "id": "1ef3c913-c6a1-42e3-84be-e668d06f731c",
   "metadata": {},
   "outputs": [
    {
     "name": "stdout",
     "output_type": "stream",
     "text": [
      "[2 3]\n",
      "[1 2 3]\n"
     ]
    }
   ],
   "source": [
    "# slicing\n",
    "# [start : End : Step]\n",
    "print(a[-3:-1])\n",
    "print(b[0,:])"
   ]
  },
  {
   "cell_type": "code",
   "execution_count": 10,
   "id": "8c27a8f3-7e41-4698-983c-c768fdf4601d",
   "metadata": {},
   "outputs": [
    {
     "name": "stdout",
     "output_type": "stream",
     "text": [
      "1\n",
      "2\n",
      "3\n",
      "3\n",
      "1\n"
     ]
    }
   ],
   "source": [
    "print(a.ndim)\n",
    "print(b.ndim)\n",
    "print(c.ndim)\n",
    "print(d.ndim)\n",
    "print(e.ndim)"
   ]
  },
  {
   "cell_type": "code",
   "execution_count": 27,
   "id": "427eee9f-67a6-4aef-b91b-f344eda7ed95",
   "metadata": {},
   "outputs": [
    {
     "name": "stdout",
     "output_type": "stream",
     "text": [
      "int64\n",
      "[b'a' b'2' b'3']\n",
      "|S21\n",
      "|S21\n",
      "<U6\n",
      "invalid literal for int() with base 10: 'a'\n"
     ]
    }
   ],
   "source": [
    "print(e.dtype)\n",
    "\n",
    "a = np.array(a, dtype='S')\n",
    "print(a)\n",
    "print(a.dtype)\n",
    "\n",
    "#a = np.array(a, dtype='i4') # 4 bytes Int\n",
    "print(a.dtype)\n",
    "\n",
    "a = np.array([\"Apple\", \"Cherry\", \"Banana\"])\n",
    "print(a.dtype)\n",
    "\n",
    "try:\n",
    "    a = np.array(['a', 2, 3], dtype='i')\n",
    "    print(a)\n",
    "except Exception as e:\n",
    "    print(e)"
   ]
  },
  {
   "cell_type": "code",
   "execution_count": 36,
   "id": "59856cb3-8766-4603-b6b4-7d9fb36bc8b4",
   "metadata": {},
   "outputs": [
    {
     "name": "stdout",
     "output_type": "stream",
     "text": [
      "float64\n",
      "[1 2 3 4 5 6]\n",
      "int32\n"
     ]
    }
   ],
   "source": [
    "arr = np.array([1.1, 2.2, 3.3, 4.4, 5.5, 6.6])\n",
    "print(arr.dtype)\n",
    "\n",
    "new_arr = arr.astype('i')\n",
    "print(new_arr)\n",
    "print(new_arr.dtype)"
   ]
  },
  {
   "cell_type": "code",
   "execution_count": 43,
   "id": "c683bd70-13b9-4f15-8f85-1177d54de2e1",
   "metadata": {},
   "outputs": [
    {
     "name": "stdout",
     "output_type": "stream",
     "text": [
      "[1 2 3 4 5]\n",
      "[1 2 3 4 5]\n",
      "[42  2  3  4  5]\n",
      "\n",
      "[1 2 3 4 5]\n",
      "[  1 200   3   4   5]\n",
      "[  1 200   3   4   5]\n",
      "\n",
      "None\n",
      "[  1 200   3   4   5]\n"
     ]
    }
   ],
   "source": [
    "# Copy vs View\n",
    "\n",
    "arr = np.array([1, 2, 3, 4, 5])\n",
    "cpy_arr = arr.copy()\n",
    "print(cpy_arr)\n",
    "cpy_arr[0] = 42\n",
    "print(arr)\n",
    "print(cpy_arr, end=\"\\n\\n\")\n",
    "\n",
    "# view\n",
    "view_arr = arr.view()\n",
    "print(view_arr)\n",
    "view_arr[1] = 200\n",
    "print(arr)\n",
    "print(view_arr, end=\"\\n\\n\")\n",
    "\n",
    "print(cpy_arr.base) # None = owns data\n",
    "print(view_arr.base) # return original array"
   ]
  },
  {
   "cell_type": "code",
   "execution_count": 70,
   "id": "afd2ccbb-9f08-476d-8c2b-61cb89918918",
   "metadata": {},
   "outputs": [
    {
     "name": "stdout",
     "output_type": "stream",
     "text": [
      "(2, 5)\n",
      "[[[[1 2 3 4 5]]]]\n",
      "(1, 1, 1, 5)\n",
      "\n",
      "(4, 3)\n",
      "[[ 1  2  3]\n",
      " [ 4  5  6]\n",
      " [ 7  8  9]\n",
      " [10 11 12]]\n",
      "\n",
      "(2, 3, 2)\n",
      "[[[ 1  2]\n",
      "  [ 3  4]\n",
      "  [ 5  6]]\n",
      "\n",
      " [[ 7  8]\n",
      "  [ 9 10]\n",
      "  [11 12]]]\n",
      "\n",
      "[ 1  2  3  4  5  6  7  8  9 10 11 12]\n",
      "cannot reshape array of size 12 into shape (3,3)\n",
      "\n",
      "[[ 1  2  3  4  5  6]\n",
      " [ 7  8  9 10 11 12]]\n",
      "[[[ 1  2  3]\n",
      "  [ 4  5  6]]\n",
      "\n",
      " [[ 7  8  9]\n",
      "  [10 11 12]]]\n",
      "can only specify one unknown dimension\n"
     ]
    }
   ],
   "source": [
    "# shape, Reshape\n",
    "\n",
    "arr = np.array([[1, 2, 3, 4, 5],[6, 7, 8, 9, 10]])\n",
    "print(arr.shape)\n",
    "\n",
    "arr1 = np.array([1, 2, 3, 4, 5], ndmin=4)\n",
    "print(arr1)\n",
    "print(arr1.shape, end='\\n\\n')\n",
    "\n",
    "arr = np.array([1, 2, 3, 4, 5, 6, 7, 8, 9, 10, 11, 12])\n",
    "new_arr = arr.reshape(4,3)\n",
    "print(new_arr.shape)\n",
    "print(new_arr, end='\\n\\n')\n",
    "\n",
    "new_arr = arr.reshape(2, 3, 2)\n",
    "print(new_arr.shape)\n",
    "print(new_arr, end='\\n\\n')\n",
    "\n",
    "print(new_arr.base) #It creats view\n",
    "\n",
    "\n",
    "try:\n",
    "    new_arr = arr.reshape(3,3)\n",
    "    new_arr = arr.reshape(4, 4)\n",
    "    print(new_arr)\n",
    "except Exception as e:\n",
    "    print(e, end='\\n\\n')\n",
    "\n",
    "# we can use -1 that creat array automaticaly  \n",
    "print(arr.reshape(2, -1))\n",
    "print(arr.reshape(2, 2, -1))\n",
    "\n",
    "# note : we can use -1 for any 1 dimension\n",
    "try:\n",
    "    print(arr.reshape(-1, -1))\n",
    "except Exception as e:\n",
    "    print(e)"
   ]
  },
  {
   "cell_type": "code",
   "execution_count": 186,
   "id": "c56840b4-75e8-40fe-9d8f-07f7af25a61a",
   "metadata": {},
   "outputs": [
    {
     "name": "stdout",
     "output_type": "stream",
     "text": [
      "[1 2 3 4 5]\n",
      "1\n",
      "2\n",
      "3\n",
      "4\n",
      "5\n",
      "[[11 12 13 14]\n",
      " [15 16 17 18]]\n",
      "11\n",
      "12\n",
      "13\n",
      "14\n",
      "15\n",
      "16\n",
      "17\n",
      "18\n",
      "[[[ 1  2  3]\n",
      "  [ 4  5  6]]\n",
      "\n",
      " [[ 7  8  9]\n",
      "  [10 11 12]]]\n",
      "nditer\n",
      "1\n",
      "3\n",
      "4\n",
      "6\n",
      "7\n",
      "9\n",
      "10\n",
      "12\n",
      "ndenumerate\n",
      "(0,) 1\n",
      "(1,) 2\n",
      "\n",
      "\n",
      "\n",
      "(0, 0, 0) 1\n",
      "(0, 0, 1) 2\n",
      "(0, 0, 2) 3\n",
      "(0, 1, 0) 4\n",
      "(0, 1, 1) 5\n",
      "(0, 1, 2) 6\n",
      "(1, 0, 0) 7\n",
      "(1, 0, 1) 8\n",
      "(1, 0, 2) 9\n",
      "(1, 1, 0) 10\n",
      "(1, 1, 1) 11\n",
      "(1, 1, 2) 12\n"
     ]
    }
   ],
   "source": [
    "# Iteration\n",
    "\n",
    "a = np.array([1, 2, 3, 4, 5])\n",
    "\n",
    "print(a)\n",
    "for i in a:\n",
    "    print(i)\n",
    "\n",
    "b = np.array([[11,12,13,14] , [15,16,17,18]])\n",
    "print(b)\n",
    "for i in b:\n",
    "    for j in i:\n",
    "        print(j)\n",
    "\n",
    "c = np.array([[[1,2,3],[4,5,6]],\n",
    "              [[7,8,9],[10,11,12]]])\n",
    "print(c)\n",
    "'''\n",
    "for i in c:\n",
    "    for j in i:\n",
    "        for k in j:\n",
    "            print(k)\n",
    "'''\n",
    "# nditerate\n",
    "print(\"nditer\")\n",
    "for i in np.nditer(c[:, :, ::2]):\n",
    "    print(i)\n",
    "\n",
    "#ndenumerate\n",
    "print(\"ndenumerate\")\n",
    "for idx,i in np.ndenumerate(a[:2]):\n",
    "    print(idx, i)\n",
    "\n",
    "print('\\n\\n')\n",
    "\n",
    "for idx, i in np.ndenumerate(c):\n",
    "    print(idx, i)"
   ]
  },
  {
   "cell_type": "code",
   "execution_count": 126,
   "id": "7ad94432-5c19-4379-9008-82230f6f526d",
   "metadata": {},
   "outputs": [
    {
     "name": "stdout",
     "output_type": "stream",
     "text": [
      "[1 2 3 4 5 6 7 8]\n",
      "[[1 2]\n",
      " [3 4]\n",
      " [5 6]\n",
      " [7 8]]\n",
      "2\n",
      "[[1 2 5 6]\n",
      " [3 4 7 8]]\n",
      "2\n",
      "\n",
      "\n",
      "\n",
      "\n",
      "Stack axis=0, None\n",
      "[[[1 2]\n",
      "  [3 4]]\n",
      "\n",
      " [[5 6]\n",
      "  [7 8]]]\n",
      "\n",
      "\n",
      "\n",
      "Satck Axis=1\n",
      "[[[1 2]\n",
      "  [5 6]]\n",
      "\n",
      " [[3 4]\n",
      "  [7 8]]]\n",
      "\n",
      "\n",
      "\n",
      "Vertical Stack\n",
      "[[1 2]\n",
      " [3 4]\n",
      " [5 6]\n",
      " [7 8]]\n",
      "\n",
      "\n",
      "\n",
      "Horizontal Stack\n",
      "[[1 2 5 6]\n",
      " [3 4 7 8]]\n",
      "\n",
      "\n",
      "\n",
      "Depth(Height) stack\n",
      "[[[1 5]\n",
      "  [2 6]]\n",
      "\n",
      " [[3 7]\n",
      "  [4 8]]]\n"
     ]
    }
   ],
   "source": [
    "# Join\n",
    "\n",
    "a = np.array([[1,2],[3,4]])\n",
    "b = np.array([[5,6],[7,8]])\n",
    "\n",
    "# concatenate\n",
    "print(np.concatenate((a, b), axis=None))\n",
    "new_arr = np.concatenate((a, b), axis=0)\n",
    "print(new_arr)\n",
    "print(new_arr.ndim)\n",
    "\n",
    "new_arr = np.concatenate((a, b), axis=1)\n",
    "print(new_arr)\n",
    "print(new_arr.ndim)\n",
    "print('\\n\\n\\n')\n",
    "\n",
    "\n",
    "# stack\n",
    "print(\"Stack axis=0, None\")\n",
    "new_arr = np.stack((a, b))\n",
    "print(new_arr)\n",
    "new_arr = np.stack((a, b), axis=0) # same as above\n",
    "print('\\n\\n')\n",
    "print(\"Satck Axis=1\")\n",
    "new_arr = np.stack((a, b), axis=1)\n",
    "print(new_arr)\n",
    "print('\\n\\n')\n",
    "\n",
    "# vstack\n",
    "new_arr = np.vstack((a,b))\n",
    "print(\"Vertical Stack\")\n",
    "print(new_arr)\n",
    "print('\\n\\n')\n",
    "\n",
    "# hstack\n",
    "new_arr = np.hstack((a, b))\n",
    "print(\"Horizontal Stack\")\n",
    "print(new_arr)\n",
    "print('\\n\\n')\n",
    "\n",
    "# dstack\n",
    "new_arr = np.dstack((a, b))\n",
    "print(\"Depth(Height) stack\")\n",
    "print(new_arr)"
   ]
  },
  {
   "cell_type": "code",
   "execution_count": 149,
   "id": "eef95b90-eebd-47c2-a334-dad6da150f96",
   "metadata": {},
   "outputs": [
    {
     "name": "stdout",
     "output_type": "stream",
     "text": [
      "[array([1, 2, 3]), array([4, 5])]\n",
      "[1 2 3]\n",
      "[4 5]\n",
      "\n",
      "[array([[1, 2, 3],\n",
      "       [4, 5, 6]]), array([[ 7,  8,  9],\n",
      "       [10, 11, 12]]), array([[13, 14, 15]])]\n",
      "\n",
      "[array([[[1, 2],\n",
      "        [3, 4]]]), array([[[5, 6],\n",
      "        [7, 8]]]), array([[[ 9, 10],\n",
      "        [11, 12]]])]\n"
     ]
    }
   ],
   "source": [
    "# Array Split\n",
    "\n",
    "arr = np.array([1,2,3,4,5])\n",
    "\n",
    "newarr = np.array_split(arr, 2)\n",
    "print(newarr)\n",
    "print(newarr[0])\n",
    "print(newarr[1])\n",
    "print()\n",
    "\n",
    "# 2-D split\n",
    "arr = np.array([[1,2,3],[4,5,6], [7,8,9], [10,11,12], [13,14,15]])\n",
    "new_arr = np.array_split(arr, 3) \n",
    "print(new_arr)\n",
    "print()\n",
    "\n",
    "# 3-D split\n",
    "arr = np.array([[[1,2],[3,4]],[[5,6],[7,8]], [[9,10],[11,12]]])\n",
    "new_arr = np.array_split(arr, 3)\n",
    "print(new_arr)"
   ]
  },
  {
   "cell_type": "code",
   "execution_count": 170,
   "id": "57bee75d-4f93-40ba-869b-091ac261a65e",
   "metadata": {},
   "outputs": [
    {
     "name": "stdout",
     "output_type": "stream",
     "text": [
      "(array([5]),)\n",
      "[ 0  1  2  3  4 50 60 70 80 90]\n",
      "(array([0, 2, 4, 6, 8]),)\n",
      "8\n",
      "[10 11 12]\n"
     ]
    }
   ],
   "source": [
    "# Where\n",
    "\n",
    "arr = np.arange(10) # [0,1,2,3,4,5,6,7,8,9]\n",
    "print(np.where(arr == 5))\n",
    "x = np.where(arr < 5, arr, arr*10 ) #(condition, true, false)\n",
    "print(x)\n",
    "\n",
    "y = np.where(arr%2 == 0) # it returns index\n",
    "print(y)\n",
    "\n",
    "# search sorted\n",
    "# it works only in sorted array\n",
    "\n",
    "arr = np.arange(15)\n",
    "print(np.searchsorted(arr, 7, side=\"right\"))\n",
    "print(np.searchsorted(arr, [10,11,12]))"
   ]
  },
  {
   "cell_type": "code",
   "execution_count": 184,
   "id": "f6fd52d1-15ba-4824-a236-9436d6b10307",
   "metadata": {
    "scrolled": true
   },
   "outputs": [
    {
     "name": "stdout",
     "output_type": "stream",
     "text": [
      "[1 4 6]\n",
      "\n",
      "[2 4]\n",
      "[3 4 5]\n"
     ]
    }
   ],
   "source": [
    "# filter\n",
    "\n",
    "arr = np.array([1,2,3,4,5,6])\n",
    "filter_arr = [True, False, False, True, False, True]\n",
    "new_arr = arr[filter_arr]\n",
    "print(new_arr)\n",
    "print()\n",
    "\n",
    "arr = np.array([1,2,3,4,5])\n",
    "filter_arr = arr%2 == 0\n",
    "print(arr[filter_arr])\n",
    "filter_arr = arr > 2\n",
    "print(arr[filter_arr])"
   ]
  },
  {
   "cell_type": "code",
   "execution_count": 176,
   "id": "474357ed-4bd5-4937-8a78-addef4e2ce39",
   "metadata": {},
   "outputs": [
    {
     "name": "stdout",
     "output_type": "stream",
     "text": [
      "[ 0  1 21 23 33 45 52 65]\n",
      "[[0 2 5 6 9]\n",
      " [0 1 6 8 9]]\n",
      "[False False False  True  True]\n"
     ]
    }
   ],
   "source": [
    "# sort\n",
    "\n",
    "arr = np.array([1,0,52,33,45,21,65,23])\n",
    "sorted_arr = np.sort(arr)\n",
    "print(sorted_arr)\n",
    "\n",
    "# 2-D array sort\n",
    "arr = np.array([[2,0,6,5,9],[6,0,8,9,1]])\n",
    "sorted_arr = np.sort(arr)\n",
    "print(sorted_arr)\n",
    "\n",
    "arr = np.array([False, True, True, False, False])\n",
    "print(np.sort(arr))"
   ]
  },
  {
   "cell_type": "code",
   "execution_count": null,
   "id": "93fc5472-9b6e-4aff-af24-15b8c2e8d22c",
   "metadata": {},
   "outputs": [],
   "source": []
  }
 ],
 "metadata": {
  "kernelspec": {
   "display_name": "Python 3 (ipykernel)",
   "language": "python",
   "name": "python3"
  },
  "language_info": {
   "codemirror_mode": {
    "name": "ipython",
    "version": 3
   },
   "file_extension": ".py",
   "mimetype": "text/x-python",
   "name": "python",
   "nbconvert_exporter": "python",
   "pygments_lexer": "ipython3",
   "version": "3.13.4"
  }
 },
 "nbformat": 4,
 "nbformat_minor": 5
}
