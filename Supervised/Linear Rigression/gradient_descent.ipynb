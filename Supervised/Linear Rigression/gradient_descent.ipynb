{
 "cells": [
  {
   "cell_type": "code",
   "execution_count": 1,
   "id": "c8fe2ff2",
   "metadata": {},
   "outputs": [],
   "source": [
    "import numpy as np"
   ]
  },
  {
   "cell_type": "code",
   "execution_count": 22,
   "id": "889d0558",
   "metadata": {},
   "outputs": [],
   "source": [
    "X = [1, 2, 3]\n",
    "y = [2, 4, 6]\n",
    "m = 1\n",
    "b = 0\n",
    "n = len(X)\n",
    "\n",
    "y_pred = [m*x + b for x in X]  # [1, 2, 3]\n",
    "error = [yp - yt for yp, yt in zip(y_pred, y)] # [-1, -2, -3]\n"
   ]
  },
  {
   "cell_type": "code",
   "execution_count": 23,
   "id": "ab0d48cb",
   "metadata": {},
   "outputs": [
    {
     "name": "stdout",
     "output_type": "stream",
     "text": [
      "-9.333333333333332 -4.0\n"
     ]
    }
   ],
   "source": [
    "dm = (2/n) * np.dot(error, X) # (-1*1) + (-2*2) + (-3*3) = -14\n",
    "db = (2/n) * np.sum(error)\t# -6 \n",
    "print(dm, db)"
   ]
  },
  {
   "cell_type": "code",
   "execution_count": 24,
   "id": "40bd7d62",
   "metadata": {},
   "outputs": [
    {
     "name": "stdout",
     "output_type": "stream",
     "text": [
      "1.0933333333333333 0.04\n"
     ]
    }
   ],
   "source": [
    "# increment m and b\n",
    "learning_rate = 0.01\n",
    "m -= dm * learning_rate\n",
    "b -= db * learning_rate\n",
    "print(m, b)"
   ]
  },
  {
   "cell_type": "code",
   "execution_count": null,
   "id": "47f73435",
   "metadata": {},
   "outputs": [],
   "source": []
  }
 ],
 "metadata": {
  "kernelspec": {
   "display_name": "Python 3",
   "language": "python",
   "name": "python3"
  },
  "language_info": {
   "codemirror_mode": {
    "name": "ipython",
    "version": 3
   },
   "file_extension": ".py",
   "mimetype": "text/x-python",
   "name": "python",
   "nbconvert_exporter": "python",
   "pygments_lexer": "ipython3",
   "version": "3.13.4"
  }
 },
 "nbformat": 4,
 "nbformat_minor": 5
}
