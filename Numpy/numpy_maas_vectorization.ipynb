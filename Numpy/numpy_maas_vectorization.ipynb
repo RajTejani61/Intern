{
 "cells": [
  {
   "cell_type": "code",
   "execution_count": 1,
   "id": "7a03eb3f-f828-4906-b663-fcf8cd23ba61",
   "metadata": {},
   "outputs": [],
   "source": [
    "import numpy as np\n",
    "import numpy.ma as ma"
   ]
  },
  {
   "cell_type": "code",
   "execution_count": 18,
   "id": "aaba1850-52ab-4176-ac14-df6cc22eecf6",
   "metadata": {},
   "outputs": [
    {
     "data": {
      "text/plain": [
       "array([ 1.,  2.,  3., nan,  5.,  6., inf])"
      ]
     },
     "execution_count": 18,
     "metadata": {},
     "output_type": "execute_result"
    }
   ],
   "source": [
    "arr = np.array([1, 2, 3, np.nan, 5, 6, np.inf])\n",
    "arr"
   ]
  },
  {
   "cell_type": "code",
   "execution_count": 19,
   "id": "0a6ef566-daad-43cf-b6e5-e569897911d0",
   "metadata": {},
   "outputs": [
    {
     "data": {
      "text/plain": [
       "np.float64(nan)"
      ]
     },
     "execution_count": 19,
     "metadata": {},
     "output_type": "execute_result"
    }
   ],
   "source": [
    "arr.mean()"
   ]
  },
  {
   "cell_type": "code",
   "execution_count": 22,
   "id": "12c0b852-16d7-420f-a9d1-9e7a530c946d",
   "metadata": {},
   "outputs": [
    {
     "name": "stdout",
     "output_type": "stream",
     "text": [
      "[1.0 2.0 3.0 -- 5.0 6.0 --]\n",
      "3.4\n",
      "17.0\n",
      "[False False False  True False False  True]\n"
     ]
    }
   ],
   "source": [
    "masked_arr = ma.masked_array(arr, mask=[0,0,0,1,0,0,1])\n",
    "print(masked_arr)\n",
    "print(masked_arr.mean())\n",
    "print(masked_arr.sum())\n",
    "print(ma.getmask(masked_arr))"
   ]
  },
  {
   "cell_type": "code",
   "execution_count": 23,
   "id": "3c3f605f-a27d-4196-8f7b-e81775b7364f",
   "metadata": {},
   "outputs": [
    {
     "name": "stdout",
     "output_type": "stream",
     "text": [
      "[[1 2 --]\n",
      " [-- 5 6]]\n"
     ]
    }
   ],
   "source": [
    "arr = np.array([[1,2,3], [4,5,6]])\n",
    "print(ma.masked_array(arr, mask=[[0,0,1], [1,0,0]]))"
   ]
  },
  {
   "cell_type": "code",
   "execution_count": 24,
   "id": "3b9c6cea-92a5-4a15-84f9-8450f8acd919",
   "metadata": {},
   "outputs": [
    {
     "name": "stdout",
     "output_type": "stream",
     "text": [
      "[1 2 3 4 -- --]\n"
     ]
    }
   ],
   "source": [
    "arr = np.array([1,2,3,4,5,6])\n",
    "print(ma.masked_greater(arr, value=4))"
   ]
  },
  {
   "cell_type": "code",
   "execution_count": 25,
   "id": "b696d926-95e0-4a57-8604-89b2416598d7",
   "metadata": {},
   "outputs": [
    {
     "name": "stdout",
     "output_type": "stream",
     "text": [
      "[1 -- -- -- 5 6]\n"
     ]
    }
   ],
   "source": [
    "print(ma.masked_inside(arr, v1=2, v2=4))"
   ]
  },
  {
   "cell_type": "code",
   "execution_count": 26,
   "id": "309e2877-c788-417e-a5ea-f596dfd88bc4",
   "metadata": {},
   "outputs": [
    {
     "name": "stdout",
     "output_type": "stream",
     "text": [
      "[-- 2 3 4 -- --]\n"
     ]
    }
   ],
   "source": [
    "print(ma.masked_outside(arr, v1=2, v2=4))"
   ]
  },
  {
   "cell_type": "code",
   "execution_count": 27,
   "id": "cc55bea7-e67f-45b4-aebc-08214935a10a",
   "metadata": {},
   "outputs": [
    {
     "name": "stdout",
     "output_type": "stream",
     "text": [
      "[1 -- 3 -- 5 --]\n"
     ]
    }
   ],
   "source": [
    "print(ma.masked_where(arr%2 == 0, arr))"
   ]
  },
  {
   "cell_type": "code",
   "execution_count": 29,
   "id": "3db2f2dc-cbc9-491a-b3ba-a25bfb6cd766",
   "metadata": {},
   "outputs": [
    {
     "name": "stdout",
     "output_type": "stream",
     "text": [
      "[1.0 2.0 3.0 -- 5.0 6.0 --]\n"
     ]
    }
   ],
   "source": [
    "arr = np.array([1, 2, 3, np.nan, 5, 6, np.inf])\n",
    "print(ma.masked_invalid(arr))"
   ]
  },
  {
   "cell_type": "code",
   "execution_count": null,
   "id": "5a5431de-12f7-4e80-933b-b3f23fa4bf6c",
   "metadata": {},
   "outputs": [],
   "source": []
  },
  {
   "cell_type": "code",
   "execution_count": 40,
   "id": "8d8d3105-0279-433b-beb4-647606f50471",
   "metadata": {},
   "outputs": [],
   "source": [
    "# vcetorization\n",
    "arr = np.array([[1,2,3], [4,5,6]])\n",
    "\n",
    "def square_if_even(x):\n",
    "    return x**2 if x%2 == 0 else x\n"
   ]
  },
  {
   "cell_type": "code",
   "execution_count": 41,
   "id": "752ede1b-90fe-48ec-9ea2-8a384d479cfb",
   "metadata": {},
   "outputs": [
    {
     "name": "stdout",
     "output_type": "stream",
     "text": [
      "The truth value of an array with more than one element is ambiguous. Use a.any() or a.all()\n"
     ]
    }
   ],
   "source": [
    "try:\n",
    "    print(square_if_even(arr))\n",
    "except Exception as e:\n",
    "    print(e)"
   ]
  },
  {
   "cell_type": "code",
   "execution_count": 42,
   "id": "b1add3c5-72b9-4e24-bc41-f5af71b2d470",
   "metadata": {},
   "outputs": [
    {
     "data": {
      "text/plain": [
       "array([[ 1,  4,  3],\n",
       "       [16,  5, 36]])"
      ]
     },
     "execution_count": 42,
     "metadata": {},
     "output_type": "execute_result"
    }
   ],
   "source": [
    "# for using this function on array you have to vactorize this function\n",
    "# It Returns an object that acts like pyfunc\n",
    "vec_func = np.vectorize(square_if_even)\n",
    "vec_func(arr)"
   ]
  },
  {
   "cell_type": "code",
   "execution_count": null,
   "id": "936c8180-ad89-4208-92b6-f6fb748ea67f",
   "metadata": {},
   "outputs": [],
   "source": []
  },
  {
   "cell_type": "code",
   "execution_count": null,
   "id": "d33ab095-e8d0-4997-9437-8bf344467cd3",
   "metadata": {},
   "outputs": [],
   "source": []
  }
 ],
 "metadata": {
  "kernelspec": {
   "display_name": "Python 3 (ipykernel)",
   "language": "python",
   "name": "python3"
  },
  "language_info": {
   "codemirror_mode": {
    "name": "ipython",
    "version": 3
   },
   "file_extension": ".py",
   "mimetype": "text/x-python",
   "name": "python",
   "nbconvert_exporter": "python",
   "pygments_lexer": "ipython3",
   "version": "3.13.4"
  }
 },
 "nbformat": 4,
 "nbformat_minor": 5
}
