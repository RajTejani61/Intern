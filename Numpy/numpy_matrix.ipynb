{
 "cells": [
  {
   "cell_type": "code",
   "execution_count": 2,
   "id": "9000c616-4cbd-4625-9099-60b612f4b1c8",
   "metadata": {},
   "outputs": [],
   "source": [
    "import numpy as np"
   ]
  },
  {
   "cell_type": "code",
   "execution_count": 18,
   "id": "00ea0609-ff0d-4daa-a666-65ca61998f5a",
   "metadata": {},
   "outputs": [
    {
     "data": {
      "text/plain": [
       "array([[            0, 3174112931456],\n",
       "       [3174112933616, 3174112930976]])"
      ]
     },
     "execution_count": 18,
     "metadata": {},
     "output_type": "execute_result"
    }
   ],
   "source": [
    "# empty\n",
    "np.empty((2,2), dtype='int', device='cpu') # uninitialized device = API, cpu, divice on which an array is created"
   ]
  },
  {
   "cell_type": "code",
   "execution_count": 22,
   "id": "3f6f8268-682d-4fc6-8403-82437400f556",
   "metadata": {},
   "outputs": [
    {
     "data": {
      "text/plain": [
       "array([[4.9e-324, 9.9e-324, 1.5e-323],\n",
       "       [2.0e-323, 2.5e-323, 3.0e-323],\n",
       "       [3.5e-323, 4.0e-323, 4.4e-323]])"
      ]
     },
     "execution_count": 22,
     "metadata": {},
     "output_type": "execute_result"
    }
   ],
   "source": [
    "# empty like\n",
    "a = np.array([[1,2,3], [4,5,6], [7,8,9]])\n",
    "np.empty_like(a, dtype='float')"
   ]
  },
  {
   "cell_type": "code",
   "execution_count": 27,
   "id": "64b56c66-de0e-441a-bfe7-00d7ec35e39f",
   "metadata": {},
   "outputs": [
    {
     "data": {
      "text/plain": [
       "array([[1., 0., 0., 0.],\n",
       "       [0., 1., 0., 0.],\n",
       "       [0., 0., 1., 0.],\n",
       "       [0., 0., 0., 1.]])"
      ]
     },
     "execution_count": 27,
     "metadata": {},
     "output_type": "execute_result"
    }
   ],
   "source": [
    "# eye\n",
    "a = np.array([[1,0,0,],\n",
    "              [0,1,0],\n",
    "              [0,0,1]])\n",
    "np.eye(N=4, M=4, dtype='float')"
   ]
  },
  {
   "cell_type": "code",
   "execution_count": 37,
   "id": "93eed4eb-f3ea-4dd0-bf83-a4f91e39c28c",
   "metadata": {},
   "outputs": [
    {
     "data": {
      "text/plain": [
       "array([[0, 1, 0, 0],\n",
       "       [0, 0, 1, 0],\n",
       "       [0, 0, 0, 1],\n",
       "       [0, 0, 0, 0]])"
      ]
     },
     "execution_count": 37,
     "metadata": {},
     "output_type": "execute_result"
    }
   ],
   "source": [
    "np.eye(N=4, k=1, dtype='int')"
   ]
  },
  {
   "cell_type": "code",
   "execution_count": 34,
   "id": "91a6eb5f-4acb-4c36-8341-87ccfeccf659",
   "metadata": {},
   "outputs": [
    {
     "data": {
      "text/plain": [
       "array([[1, 0, 0],\n",
       "       [0, 1, 0],\n",
       "       [0, 0, 1]])"
      ]
     },
     "execution_count": 34,
     "metadata": {},
     "output_type": "execute_result"
    }
   ],
   "source": [
    "# identity\n",
    "np.identity(3, dtype='int')  # N*N array with only 1 in diagonal place"
   ]
  },
  {
   "cell_type": "code",
   "execution_count": null,
   "id": "8e055b20-345e-48c2-ab44-56fa0d3f4112",
   "metadata": {},
   "outputs": [],
   "source": []
  },
  {
   "cell_type": "code",
   "execution_count": 4,
   "id": "b0845bb4-af71-49d9-9131-1ec3b687f7cc",
   "metadata": {},
   "outputs": [
    {
     "data": {
      "text/plain": [
       "array([0., 0., 0., 0., 0.])"
      ]
     },
     "execution_count": 4,
     "metadata": {},
     "output_type": "execute_result"
    }
   ],
   "source": [
    "np.zeros(5)"
   ]
  },
  {
   "cell_type": "code",
   "execution_count": 10,
   "id": "84b63b2f-ee5e-4308-a1ac-a95a7f849672",
   "metadata": {},
   "outputs": [
    {
     "data": {
      "text/plain": [
       "array([[0, 0, 0],\n",
       "       [0, 0, 0],\n",
       "       [0, 0, 0]])"
      ]
     },
     "execution_count": 10,
     "metadata": {},
     "output_type": "execute_result"
    }
   ],
   "source": [
    "np.zeros((3,3), dtype='int')"
   ]
  },
  {
   "cell_type": "code",
   "execution_count": 45,
   "id": "c53d27d3-6f4a-496e-bd59-7e2f8c907297",
   "metadata": {},
   "outputs": [
    {
     "data": {
      "text/plain": [
       "array([[0, 0, 0, 0],\n",
       "       [0, 0, 0, 0]])"
      ]
     },
     "execution_count": 45,
     "metadata": {},
     "output_type": "execute_result"
    }
   ],
   "source": [
    "# Zero Like\n",
    "a = ([[1,2,3,4], [4,5,6,7]])\n",
    "np.zeros_like(a, order='F')"
   ]
  },
  {
   "cell_type": "code",
   "execution_count": 11,
   "id": "51f33bfd-748f-4c66-99bc-4432b89d4123",
   "metadata": {},
   "outputs": [
    {
     "data": {
      "text/plain": [
       "array([1., 1., 1., 1., 1., 1., 1., 1.])"
      ]
     },
     "execution_count": 11,
     "metadata": {},
     "output_type": "execute_result"
    }
   ],
   "source": [
    "np.ones(8)"
   ]
  },
  {
   "cell_type": "code",
   "execution_count": 13,
   "id": "d1265a45-1029-4541-a3d3-d7fe21c226b9",
   "metadata": {},
   "outputs": [
    {
     "data": {
      "text/plain": [
       "array([['1', '1', '1', '1', '1'],\n",
       "       ['1', '1', '1', '1', '1'],\n",
       "       ['1', '1', '1', '1', '1'],\n",
       "       ['1', '1', '1', '1', '1'],\n",
       "       ['1', '1', '1', '1', '1']], dtype='<U1')"
      ]
     },
     "execution_count": 13,
     "metadata": {},
     "output_type": "execute_result"
    }
   ],
   "source": [
    "np.ones((5,5), dtype='str')"
   ]
  },
  {
   "cell_type": "code",
   "execution_count": 46,
   "id": "977dc980-2090-453a-ac65-30620ad289b9",
   "metadata": {},
   "outputs": [
    {
     "data": {
      "text/plain": [
       "array([[1, 1],\n",
       "       [1, 1],\n",
       "       [1, 1]])"
      ]
     },
     "execution_count": 46,
     "metadata": {},
     "output_type": "execute_result"
    }
   ],
   "source": [
    "# one like\n",
    "a = ([[1,2], [3,4], [5,6]])\n",
    "np.ones_like(a, order='K') #order = C : Row major, F : column major, F : as close as provided layout"
   ]
  },
  {
   "cell_type": "code",
   "execution_count": 15,
   "id": "496fc311-361b-46de-913b-e894ba8b2db3",
   "metadata": {},
   "outputs": [
    {
     "data": {
      "text/plain": [
       "array(['Hello', 'Hello', 'Hello', 'Hello', 'Hello'], dtype='<U5')"
      ]
     },
     "execution_count": 15,
     "metadata": {},
     "output_type": "execute_result"
    }
   ],
   "source": [
    "np.full(5, 'Hello')"
   ]
  },
  {
   "cell_type": "code",
   "execution_count": 42,
   "id": "e8b3a70e-ff60-4194-894d-d0fb493bb5e0",
   "metadata": {},
   "outputs": [
    {
     "data": {
      "text/plain": [
       "array([[1, 1, 1],\n",
       "       [1, 1, 1]])"
      ]
     },
     "execution_count": 42,
     "metadata": {},
     "output_type": "execute_result"
    }
   ],
   "source": [
    "a = ([[1, 2, 3], [4,5,6]])\n",
    "np.full_like(a, fill_value=1)"
   ]
  },
  {
   "cell_type": "markdown",
   "id": "a1650a2d-e2bb-49af-b8e6-1e21a2b9add9",
   "metadata": {},
   "source": [
    "    "
   ]
  },
  {
   "cell_type": "code",
   "execution_count": 62,
   "id": "e4f40e5b-c35f-4133-9c5c-4d31161611b4",
   "metadata": {},
   "outputs": [
    {
     "name": "stdout",
     "output_type": "stream",
     "text": [
      "[1 2]\n"
     ]
    },
    {
     "data": {
      "text/plain": [
       "True"
      ]
     },
     "execution_count": 62,
     "metadata": {},
     "output_type": "execute_result"
    }
   ],
   "source": [
    "# asarray\n",
    "\n",
    "a = np.array([1,2])\n",
    "\n",
    "b = np.asarray(a)\n",
    "print(b)\n",
    "b is a"
   ]
  },
  {
   "cell_type": "code",
   "execution_count": 63,
   "id": "90d63750-2983-447e-90bf-54e3456454ad",
   "metadata": {},
   "outputs": [
    {
     "data": {
      "text/plain": [
       "True"
      ]
     },
     "execution_count": 63,
     "metadata": {},
     "output_type": "execute_result"
    }
   ],
   "source": [
    "np.shares_memory(a, b)"
   ]
  },
  {
   "cell_type": "code",
   "execution_count": 64,
   "id": "188d0223-8a1d-45f1-a34d-1ce9aefd334e",
   "metadata": {},
   "outputs": [
    {
     "name": "stdout",
     "output_type": "stream",
     "text": [
      "[1 2]\n"
     ]
    },
    {
     "data": {
      "text/plain": [
       "False"
      ]
     },
     "execution_count": 64,
     "metadata": {},
     "output_type": "execute_result"
    }
   ],
   "source": [
    "c = np.asarray(a, copy=True)\n",
    "print(c)\n",
    "c is a"
   ]
  },
  {
   "cell_type": "code",
   "execution_count": 65,
   "id": "84ba67dd-31fd-45e3-8cea-19c9515ec517",
   "metadata": {},
   "outputs": [
    {
     "data": {
      "text/plain": [
       "False"
      ]
     },
     "execution_count": 65,
     "metadata": {},
     "output_type": "execute_result"
    }
   ],
   "source": [
    "np.shares_memory(a, c)"
   ]
  },
  {
   "cell_type": "code",
   "execution_count": 70,
   "id": "4a12a04f-d2b4-4365-b83f-8f7f3804381b",
   "metadata": {},
   "outputs": [
    {
     "data": {
      "text/plain": [
       "array([1, 2])"
      ]
     },
     "execution_count": 70,
     "metadata": {},
     "output_type": "execute_result"
    }
   ],
   "source": [
    "# as any array\n",
    "\n",
    "a = [1,2]\n",
    "\n",
    "b = np.asanyarray(a)\n",
    "b "
   ]
  },
  {
   "cell_type": "code",
   "execution_count": 73,
   "id": "4356d9cc-7bd2-4dd8-a9a6-995c2dee1d29",
   "metadata": {},
   "outputs": [
    {
     "data": {
      "text/plain": [
       "matrix([[1, 2, 3],\n",
       "        [4, 5, 6]])"
      ]
     },
     "execution_count": 73,
     "metadata": {},
     "output_type": "execute_result"
    }
   ],
   "source": [
    "# matrix\n",
    "a = [[1,2,3], [4,5,6]]\n",
    "\n",
    "np.matrix(a) "
   ]
  },
  {
   "cell_type": "code",
   "execution_count": 75,
   "id": "29f45cc3-2fa8-49bd-979d-6d9ff67d1bbd",
   "metadata": {},
   "outputs": [
    {
     "data": {
      "text/plain": [
       "matrix([[1., 2., 3.],\n",
       "        [4., 5., 6.]])"
      ]
     },
     "execution_count": 75,
     "metadata": {},
     "output_type": "execute_result"
    }
   ],
   "source": [
    "# as matrix\n",
    "np.asmatrix(a, dtype='float')"
   ]
  }
 ],
 "metadata": {
  "kernelspec": {
   "display_name": "Python 3 (ipykernel)",
   "language": "python",
   "name": "python3"
  },
  "language_info": {
   "codemirror_mode": {
    "name": "ipython",
    "version": 3
   },
   "file_extension": ".py",
   "mimetype": "text/x-python",
   "name": "python",
   "nbconvert_exporter": "python",
   "pygments_lexer": "ipython3",
   "version": "3.13.4"
  }
 },
 "nbformat": 4,
 "nbformat_minor": 5
}
