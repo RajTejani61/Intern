{
 "cells": [
  {
   "cell_type": "code",
   "execution_count": 2,
   "id": "516409d8-1a45-47bd-a37b-df7e09afa56d",
   "metadata": {},
   "outputs": [],
   "source": [
    "import numpy as np\n",
    "from numpy import linalg as la"
   ]
  },
  {
   "cell_type": "code",
   "execution_count": 9,
   "id": "a08b774d-413e-4f72-a545-9bdb2dd2341b",
   "metadata": {},
   "outputs": [
    {
     "name": "stdout",
     "output_type": "stream",
     "text": [
      "2\n"
     ]
    }
   ],
   "source": [
    "# rank of matrix\n",
    "#1. first conver matrix into row echolan form\n",
    "#2. count non-zero rows\n",
    "\n",
    "a = np.array([[1,2,3],\n",
    "             [4,5,6],\n",
    "             [7,8,9]])\n",
    "\n",
    "rank = np.linalg.matrix_rank(a)\n",
    "print(rank)"
   ]
  },
  {
   "cell_type": "code",
   "execution_count": 12,
   "id": "a7573d89-4675-49a8-a45e-87b80de70ee6",
   "metadata": {},
   "outputs": [
    {
     "data": {
      "text/plain": [
       "np.int64(15)"
      ]
     },
     "execution_count": 12,
     "metadata": {},
     "output_type": "execute_result"
    }
   ],
   "source": [
    "# trace of matrix\n",
    "# sum of all diagonal elements\n",
    "\n",
    "trace = np.linalg.trace(a)\n",
    "trace"
   ]
  },
  {
   "cell_type": "code",
   "execution_count": 16,
   "id": "dc63ca7d-f0d4-43dd-bfdd-197b4c34e15e",
   "metadata": {},
   "outputs": [
    {
     "name": "stdout",
     "output_type": "stream",
     "text": [
      "[[[0 1]\n",
      "  [2 3]]\n",
      "\n",
      " [[4 5]\n",
      "  [6 7]]]\n",
      "[ 3 11]\n"
     ]
    }
   ],
   "source": [
    "a = np.arange(8).reshape(2,2,2)\n",
    "print(a)\n",
    "trace = np.linalg.trace(a)\n",
    "print(trace)"
   ]
  },
  {
   "cell_type": "code",
   "execution_count": 19,
   "id": "ce35d903-df12-4f2d-85af-b27b894eddcf",
   "metadata": {},
   "outputs": [
    {
     "name": "stdout",
     "output_type": "stream",
     "text": [
      "[[0 1 2]\n",
      " [3 4 5]\n",
      " [6 7 8]]\n",
      "12\n",
      "6\n",
      "10\n",
      "2\n",
      "6\n"
     ]
    }
   ],
   "source": [
    "a = np.arange(9).reshape(3,3)\n",
    "print(a)\n",
    "\n",
    "#  offset = 0 : excet diagonal element\n",
    "# offset > 0 : off diagonal above main diagonal\n",
    "#  offset < 0 : off diagonal below main diagonal\n",
    "print(np.linalg.trace(a, offset=0)) \n",
    "print(np.linalg.trace(a, offset=1)) \n",
    "print(np.linalg.trace(a, offset=-1))\n",
    "\n",
    "print(np.linalg.trace(a, offset=2))\n",
    "print(np.linalg.trace(a, offset=-2))"
   ]
  },
  {
   "cell_type": "code",
   "execution_count": 26,
   "id": "81cf8845-94f5-41d7-a9fe-e84828cc366b",
   "metadata": {},
   "outputs": [
    {
     "name": "stdout",
     "output_type": "stream",
     "text": [
      "[[1 2 3]\n",
      " [4 5 6]\n",
      " [7 8 9]]\n",
      "0.0\n"
     ]
    }
   ],
   "source": [
    "# determinant\n",
    "a = np.arange(1,10, dtype=int).reshape(3,3)\n",
    "print(a)\n",
    "\n",
    "print(np.linalg.det(a))"
   ]
  },
  {
   "cell_type": "code",
   "execution_count": 31,
   "id": "26ce6a49-9441-411a-8dde-39eeed2be4cc",
   "metadata": {},
   "outputs": [
    {
     "name": "stdout",
     "output_type": "stream",
     "text": [
      "[[ 0.17647059 -0.00326797 -0.02287582]\n",
      " [ 0.05882353 -0.13071895  0.08496732]\n",
      " [-0.11764706  0.1503268   0.05228758]]\n"
     ]
    }
   ],
   "source": [
    "# Inverse of matrix\n",
    "a = np.array([[6, 1, 1],\n",
    "              [4, -2, 5],\n",
    "              [2, 8, 7]])\n",
    "\n",
    "print(np.linalg.inv(a))\n",
    "# inverse = 1/det(a) * adj(a)"
   ]
  },
  {
   "cell_type": "code",
   "execution_count": 33,
   "id": "c7641f23-3e03-4f9b-a585-21ddbe305a03",
   "metadata": {},
   "outputs": [
    {
     "name": "stdout",
     "output_type": "stream",
     "text": [
      "[[ 30  36  42]\n",
      " [ 66  81  96]\n",
      " [102 126 150]]\n"
     ]
    }
   ],
   "source": [
    "# matrix power n\n",
    "a = np.arange(1,10).reshape(3,3)\n",
    "\n",
    "print(np.linalg.matrix_power(a, 2)) \n",
    "# [ [1,2,3]     [[1,2,3]\n",
    "#   [4,5,6]  *   [4,5,6]\n",
    "#   [7,8,9]]     [7,8,9]]"
   ]
  },
  {
   "cell_type": "code",
   "execution_count": 36,
   "id": "a525a3d7-7a02-4410-a15f-3a641b2cf9d6",
   "metadata": {},
   "outputs": [
    {
     "data": {
      "text/plain": [
       "EigResult(eigenvalues=array([-2.,  3.,  6.]), eigenvectors=matrix([[ 7.07106781e-01, -5.77350269e-01, -4.08248290e-01],\n",
       "        [-3.49081930e-17,  5.77350269e-01, -8.16496581e-01],\n",
       "        [-7.07106781e-01, -5.77350269e-01, -4.08248290e-01]]))"
      ]
     },
     "execution_count": 36,
     "metadata": {},
     "output_type": "execute_result"
    }
   ],
   "source": [
    "# eigen value\n",
    "a = np.matrix([[1,1,3],\n",
    "               [1,5,1],\n",
    "               [3,1,1]])\n",
    "np.linalg.eig(a)"
   ]
  },
  {
   "cell_type": "code",
   "execution_count": 39,
   "id": "8cebc2d4-db98-48a8-9c06-24ebbae2f034",
   "metadata": {},
   "outputs": [
    {
     "name": "stdout",
     "output_type": "stream",
     "text": [
      "[[[0 1]\n",
      "  [2 3]]\n",
      "\n",
      " [[4 5]\n",
      "  [6 7]]]\n"
     ]
    },
    {
     "data": {
      "text/plain": [
       "array([6, 8])"
      ]
     },
     "execution_count": 39,
     "metadata": {},
     "output_type": "execute_result"
    }
   ],
   "source": [
    "a = np.arange(8).reshape((2,2,2))\n",
    "print(a)\n",
    "np.trace(a)"
   ]
  }
 ],
 "metadata": {
  "kernelspec": {
   "display_name": "Python 3 (ipykernel)",
   "language": "python",
   "name": "python3"
  },
  "language_info": {
   "codemirror_mode": {
    "name": "ipython",
    "version": 3
   },
   "file_extension": ".py",
   "mimetype": "text/x-python",
   "name": "python",
   "nbconvert_exporter": "python",
   "pygments_lexer": "ipython3",
   "version": "3.13.4"
  }
 },
 "nbformat": 4,
 "nbformat_minor": 5
}
