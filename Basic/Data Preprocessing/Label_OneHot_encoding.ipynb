{
 "cells": [
  {
   "cell_type": "code",
   "execution_count": 1,
   "id": "162b0a3d-6725-4023-8ad5-915ee23d7b0b",
   "metadata": {},
   "outputs": [],
   "source": [
    "import numpy as np\n",
    "import pandas as pd\n",
    "from sklearn.preprocessing import LabelEncoder\n",
    "from sklearn.preprocessing import OneHotEncoder"
   ]
  },
  {
   "cell_type": "code",
   "execution_count": 2,
   "id": "dfbce703-bb70-4126-9fd5-6359cc02f4de",
   "metadata": {},
   "outputs": [
    {
     "name": "stdout",
     "output_type": "stream",
     "text": [
      "   Bachelors  High School  Masters  PhD\n",
      "0          0            1        0    0\n",
      "1          1            0        0    0\n",
      "2          0            0        1    0\n",
      "3          0            0        0    1\n"
     ]
    }
   ],
   "source": [
    "# get dummies \n",
    "df = pd.DataFrame({'education': ['High School', 'Bachelors', 'Masters', 'PhD']})\n",
    "dummies = pd.get_dummies(df['education'], dtype=int)\n",
    "print(dummies)"
   ]
  },
  {
   "cell_type": "code",
   "execution_count": 3,
   "id": "c96448c0-52f4-4a27-813e-adf4be63464f",
   "metadata": {},
   "outputs": [
    {
     "name": "stdout",
     "output_type": "stream",
     "text": [
      "     education  new_col\n",
      "0  High School        1\n",
      "1    Bachelors        2\n",
      "2      Masters        3\n",
      "3          PhD        4\n"
     ]
    }
   ],
   "source": [
    "# custom mapping\n",
    "df = pd.DataFrame({'education': ['High School', 'Bachelors', 'Masters', 'PhD']})\n",
    "mapping = {'High School': 1, 'Bachelors': 2, 'Masters': 3, 'PhD': 4}\n",
    "df['new_col'] = df['education'].map(mapping)\n",
    "print(df)"
   ]
  },
  {
   "cell_type": "code",
   "execution_count": 4,
   "id": "e38b0dac-1db1-408e-8e4a-4001912ede6c",
   "metadata": {
    "scrolled": true
   },
   "outputs": [
    {
     "data": {
      "text/html": [
       "<div>\n",
       "<style scoped>\n",
       "    .dataframe tbody tr th:only-of-type {\n",
       "        vertical-align: middle;\n",
       "    }\n",
       "\n",
       "    .dataframe tbody tr th {\n",
       "        vertical-align: top;\n",
       "    }\n",
       "\n",
       "    .dataframe thead th {\n",
       "        text-align: right;\n",
       "    }\n",
       "</style>\n",
       "<table border=\"1\" class=\"dataframe\">\n",
       "  <thead>\n",
       "    <tr style=\"text-align: right;\">\n",
       "      <th></th>\n",
       "      <th>Height</th>\n",
       "    </tr>\n",
       "  </thead>\n",
       "  <tbody>\n",
       "    <tr>\n",
       "      <th>0</th>\n",
       "      <td>long</td>\n",
       "    </tr>\n",
       "    <tr>\n",
       "      <th>1</th>\n",
       "      <td>mediam</td>\n",
       "    </tr>\n",
       "    <tr>\n",
       "      <th>2</th>\n",
       "      <td>short</td>\n",
       "    </tr>\n",
       "    <tr>\n",
       "      <th>3</th>\n",
       "      <td>long</td>\n",
       "    </tr>\n",
       "    <tr>\n",
       "      <th>4</th>\n",
       "      <td>long</td>\n",
       "    </tr>\n",
       "    <tr>\n",
       "      <th>5</th>\n",
       "      <td>short</td>\n",
       "    </tr>\n",
       "    <tr>\n",
       "      <th>6</th>\n",
       "      <td>short</td>\n",
       "    </tr>\n",
       "    <tr>\n",
       "      <th>7</th>\n",
       "      <td>short</td>\n",
       "    </tr>\n",
       "  </tbody>\n",
       "</table>\n",
       "</div>"
      ],
      "text/plain": [
       "   Height\n",
       "0    long\n",
       "1  mediam\n",
       "2   short\n",
       "3    long\n",
       "4    long\n",
       "5   short\n",
       "6   short\n",
       "7   short"
      ]
     },
     "execution_count": 4,
     "metadata": {},
     "output_type": "execute_result"
    }
   ],
   "source": [
    "# label encoder\n",
    "\n",
    "data = {'Height' : ['long', 'mediam', 'short', 'long', 'long', 'short', 'short', 'short']}\n",
    "\n",
    "df = pd.DataFrame(data)\n",
    "df"
   ]
  },
  {
   "cell_type": "code",
   "execution_count": 5,
   "id": "e740c7e0-b635-47a7-9de7-8475c71418f4",
   "metadata": {},
   "outputs": [],
   "source": [
    "label_encoder = LabelEncoder()"
   ]
  },
  {
   "cell_type": "code",
   "execution_count": 6,
   "id": "6859b854-0c38-43fe-96c2-92b50e32ed37",
   "metadata": {},
   "outputs": [
    {
     "name": "stdout",
     "output_type": "stream",
     "text": [
      "['long' 'mediam' 'short']\n"
     ]
    }
   ],
   "source": [
    "df['new_height'] = label_encoder.fit_transform(df['Height'])\n",
    "print(label_encoder.classes_)"
   ]
  },
  {
   "cell_type": "code",
   "execution_count": 7,
   "id": "804c73af-43c8-48ca-bacb-0f65e2d2090e",
   "metadata": {},
   "outputs": [
    {
     "data": {
      "text/html": [
       "<div>\n",
       "<style scoped>\n",
       "    .dataframe tbody tr th:only-of-type {\n",
       "        vertical-align: middle;\n",
       "    }\n",
       "\n",
       "    .dataframe tbody tr th {\n",
       "        vertical-align: top;\n",
       "    }\n",
       "\n",
       "    .dataframe thead th {\n",
       "        text-align: right;\n",
       "    }\n",
       "</style>\n",
       "<table border=\"1\" class=\"dataframe\">\n",
       "  <thead>\n",
       "    <tr style=\"text-align: right;\">\n",
       "      <th></th>\n",
       "      <th>Height</th>\n",
       "      <th>new_height</th>\n",
       "    </tr>\n",
       "  </thead>\n",
       "  <tbody>\n",
       "    <tr>\n",
       "      <th>0</th>\n",
       "      <td>long</td>\n",
       "      <td>0</td>\n",
       "    </tr>\n",
       "    <tr>\n",
       "      <th>1</th>\n",
       "      <td>mediam</td>\n",
       "      <td>1</td>\n",
       "    </tr>\n",
       "    <tr>\n",
       "      <th>2</th>\n",
       "      <td>short</td>\n",
       "      <td>2</td>\n",
       "    </tr>\n",
       "    <tr>\n",
       "      <th>3</th>\n",
       "      <td>long</td>\n",
       "      <td>0</td>\n",
       "    </tr>\n",
       "    <tr>\n",
       "      <th>4</th>\n",
       "      <td>long</td>\n",
       "      <td>0</td>\n",
       "    </tr>\n",
       "    <tr>\n",
       "      <th>5</th>\n",
       "      <td>short</td>\n",
       "      <td>2</td>\n",
       "    </tr>\n",
       "    <tr>\n",
       "      <th>6</th>\n",
       "      <td>short</td>\n",
       "      <td>2</td>\n",
       "    </tr>\n",
       "    <tr>\n",
       "      <th>7</th>\n",
       "      <td>short</td>\n",
       "      <td>2</td>\n",
       "    </tr>\n",
       "  </tbody>\n",
       "</table>\n",
       "</div>"
      ],
      "text/plain": [
       "   Height  new_height\n",
       "0    long           0\n",
       "1  mediam           1\n",
       "2   short           2\n",
       "3    long           0\n",
       "4    long           0\n",
       "5   short           2\n",
       "6   short           2\n",
       "7   short           2"
      ]
     },
     "execution_count": 7,
     "metadata": {},
     "output_type": "execute_result"
    }
   ],
   "source": [
    "df # 0 : Long, 1 : mediam, 2 : short"
   ]
  },
  {
   "cell_type": "code",
   "execution_count": 8,
   "id": "ad8332b1-a20f-4c0c-bb3c-8459f098c521",
   "metadata": {},
   "outputs": [
    {
     "data": {
      "text/html": [
       "<div>\n",
       "<style scoped>\n",
       "    .dataframe tbody tr th:only-of-type {\n",
       "        vertical-align: middle;\n",
       "    }\n",
       "\n",
       "    .dataframe tbody tr th {\n",
       "        vertical-align: top;\n",
       "    }\n",
       "\n",
       "    .dataframe thead th {\n",
       "        text-align: right;\n",
       "    }\n",
       "</style>\n",
       "<table border=\"1\" class=\"dataframe\">\n",
       "  <thead>\n",
       "    <tr style=\"text-align: right;\">\n",
       "      <th></th>\n",
       "      <th>Fruits</th>\n",
       "    </tr>\n",
       "  </thead>\n",
       "  <tbody>\n",
       "    <tr>\n",
       "      <th>0</th>\n",
       "      <td>apple</td>\n",
       "    </tr>\n",
       "    <tr>\n",
       "      <th>1</th>\n",
       "      <td>mango</td>\n",
       "    </tr>\n",
       "    <tr>\n",
       "      <th>2</th>\n",
       "      <td>apple</td>\n",
       "    </tr>\n",
       "    <tr>\n",
       "      <th>3</th>\n",
       "      <td>orange</td>\n",
       "    </tr>\n",
       "    <tr>\n",
       "      <th>4</th>\n",
       "      <td>apple</td>\n",
       "    </tr>\n",
       "    <tr>\n",
       "      <th>5</th>\n",
       "      <td>mango</td>\n",
       "    </tr>\n",
       "  </tbody>\n",
       "</table>\n",
       "</div>"
      ],
      "text/plain": [
       "   Fruits\n",
       "0   apple\n",
       "1   mango\n",
       "2   apple\n",
       "3  orange\n",
       "4   apple\n",
       "5   mango"
      ]
     },
     "execution_count": 8,
     "metadata": {},
     "output_type": "execute_result"
    }
   ],
   "source": [
    "# one hot encoding\n",
    "df = pd.DataFrame({'Fruits' : ['apple', 'mango', 'apple', 'orange', 'apple', 'mango']})\n",
    "df"
   ]
  },
  {
   "cell_type": "code",
   "execution_count": 9,
   "id": "2fa486e5-aa5c-46ef-adad-4174a8e62bee",
   "metadata": {
    "scrolled": true
   },
   "outputs": [
    {
     "name": "stdout",
     "output_type": "stream",
     "text": [
      "[[1. 0. 0.]\n",
      " [0. 1. 0.]\n",
      " [1. 0. 0.]\n",
      " [0. 0. 1.]\n",
      " [1. 0. 0.]\n",
      " [0. 1. 0.]]\n"
     ]
    }
   ],
   "source": [
    "encoder = OneHotEncoder(sparse_output=False)\n",
    "one_hot_encoded = encoder.fit_transform(df[['Fruits']])\n",
    "print(one_hot_encoded)"
   ]
  },
  {
   "cell_type": "code",
   "execution_count": 10,
   "id": "5c63ad84-a4d6-478d-85c1-e4001d9838ad",
   "metadata": {},
   "outputs": [
    {
     "name": "stdout",
     "output_type": "stream",
     "text": [
      "[array(['apple', 'mango', 'orange'], dtype=object)]\n",
      "   Fruits_apple  Fruits_mango  Fruits_orange\n",
      "0           1.0           0.0            0.0\n",
      "1           0.0           1.0            0.0\n",
      "2           1.0           0.0            0.0\n",
      "3           0.0           0.0            1.0\n",
      "4           1.0           0.0            0.0\n",
      "5           0.0           1.0            0.0\n"
     ]
    }
   ],
   "source": [
    "df = pd.DataFrame(one_hot_encoded, columns=encoder.get_feature_names_out(['Fruits']))\n",
    "print(encoder.categories_)\n",
    "print(df)"
   ]
  },
  {
   "cell_type": "code",
   "execution_count": 11,
   "id": "49c1b667-c5e9-4009-915d-acb844914232",
   "metadata": {},
   "outputs": [
    {
     "name": "stdout",
     "output_type": "stream",
     "text": [
      "[[0. 0.]]\n"
     ]
    }
   ],
   "source": [
    "encoder = OneHotEncoder(handle_unknown='ignore', sparse_output=False)\n",
    "encoder.fit([['red'], ['blue']])\n",
    "print(encoder.transform([['green']]))  #'green' wasn't seen in fit()"
   ]
  },
  {
   "cell_type": "code",
   "execution_count": 12,
   "id": "5ccbc319-7da6-4b2a-af40-6c400b3d1cf9",
   "metadata": {},
   "outputs": [
    {
     "name": "stdout",
     "output_type": "stream",
     "text": [
      "{'Delhi': 3, 'Mumbai': 3, 'Chennai': 1}\n"
     ]
    }
   ],
   "source": [
    "# frequency encoding\n",
    "\n",
    "df = pd.DataFrame({'city': ['Delhi', 'Mumbai', 'Delhi', 'Chennai', 'Mumbai', 'Delhi', 'Mumbai']})\n",
    "freq_map = df['city'].value_counts().to_dict()\n",
    "print(freq_map)"
   ]
  },
  {
   "cell_type": "code",
   "execution_count": 13,
   "id": "91136089-b41c-400a-ab67-79a0ce2e65eb",
   "metadata": {},
   "outputs": [
    {
     "name": "stdout",
     "output_type": "stream",
     "text": [
      "      city  Encoded_city\n",
      "0    Delhi             3\n",
      "1   Mumbai             3\n",
      "2    Delhi             3\n",
      "3  Chennai             1\n",
      "4   Mumbai             3\n",
      "5    Delhi             3\n",
      "6   Mumbai             3\n"
     ]
    }
   ],
   "source": [
    "df['Encoded_city'] = df['city'].map(freq_map) # it only give one column, unlike one hot encoding \n",
    "print(df)"
   ]
  },
  {
   "cell_type": "code",
   "execution_count": 14,
   "id": "8d173124-7362-4998-9638-6d625b413f7e",
   "metadata": {},
   "outputs": [],
   "source": [
    "import category_encoders as ce"
   ]
  },
  {
   "cell_type": "code",
   "execution_count": 15,
   "id": "36322f3f-383d-469a-a34e-34d1323523f7",
   "metadata": {},
   "outputs": [],
   "source": [
    "df = pd.DataFrame({'city': ['Delhi', 'Mumbai', 'Delhi', 'Chennai', 'Bangalore']})"
   ]
  },
  {
   "cell_type": "code",
   "execution_count": 16,
   "id": "a748ed7f-a0b4-407b-9ecf-234dafa409e8",
   "metadata": {},
   "outputs": [],
   "source": [
    "encoder = ce.HashingEncoder(cols=['city'], n_components=4)"
   ]
  },
  {
   "cell_type": "code",
   "execution_count": 17,
   "id": "c2c2bc9c-a313-47c3-a528-e23f1a66780b",
   "metadata": {},
   "outputs": [
    {
     "name": "stdout",
     "output_type": "stream",
     "text": [
      "   col_0  col_1  col_2  col_3\n",
      "0      0      0      1      0\n",
      "1      0      1      0      0\n",
      "2      0      0      1      0\n",
      "3      0      0      1      0\n",
      "4      1      0      0      0\n"
     ]
    }
   ],
   "source": [
    "df_encoded = encoder.fit_transform(df)\n",
    "print(df_encoded)"
   ]
  },
  {
   "cell_type": "code",
   "execution_count": 18,
   "id": "2c68b922-1354-40ce-a754-3c1500c22a58",
   "metadata": {},
   "outputs": [
    {
     "name": "stdout",
     "output_type": "stream",
     "text": [
      "   col_0  col_1  col_2  col_3\n",
      "0      1      0      0      0\n",
      "1      0      1      0      0\n"
     ]
    }
   ],
   "source": [
    "encoder = ce.HashingEncoder(n_components=4)\n",
    "encoder.fit([['red'], ['blue']])\n",
    "print(encoder.transform([['green'], ['black']]))"
   ]
  },
  {
   "cell_type": "code",
   "execution_count": null,
   "id": "1c7b045e-216e-42da-8e76-c36aa5cebb40",
   "metadata": {},
   "outputs": [],
   "source": []
  }
 ],
 "metadata": {
  "kernelspec": {
   "display_name": "Python 3 (ipykernel)",
   "language": "python",
   "name": "python3"
  },
  "language_info": {
   "codemirror_mode": {
    "name": "ipython",
    "version": 3
   },
   "file_extension": ".py",
   "mimetype": "text/x-python",
   "name": "python",
   "nbconvert_exporter": "python",
   "pygments_lexer": "ipython3",
   "version": "3.13.4"
  }
 },
 "nbformat": 4,
 "nbformat_minor": 5
}
