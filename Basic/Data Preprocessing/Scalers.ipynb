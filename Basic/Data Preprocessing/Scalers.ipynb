{
 "cells": [
  {
   "cell_type": "code",
   "execution_count": 1,
   "id": "aff4f5b6-877a-48ff-a755-ee2eda131ce1",
   "metadata": {},
   "outputs": [],
   "source": [
    "import pandas as pd\n",
    "from sklearn.preprocessing import StandardScaler\n",
    "from sklearn.preprocessing import MinMaxScaler"
   ]
  },
  {
   "cell_type": "code",
   "execution_count": 2,
   "id": "ffa39b87-2372-45ea-8ce8-f2fae1d3e261",
   "metadata": {},
   "outputs": [
    {
     "data": {
      "text/html": [
       "<div>\n",
       "<style scoped>\n",
       "    .dataframe tbody tr th:only-of-type {\n",
       "        vertical-align: middle;\n",
       "    }\n",
       "\n",
       "    .dataframe tbody tr th {\n",
       "        vertical-align: top;\n",
       "    }\n",
       "\n",
       "    .dataframe thead th {\n",
       "        text-align: right;\n",
       "    }\n",
       "</style>\n",
       "<table border=\"1\" class=\"dataframe\">\n",
       "  <thead>\n",
       "    <tr style=\"text-align: right;\">\n",
       "      <th></th>\n",
       "      <th>age</th>\n",
       "      <th>salary</th>\n",
       "    </tr>\n",
       "  </thead>\n",
       "  <tbody>\n",
       "    <tr>\n",
       "      <th>0</th>\n",
       "      <td>25</td>\n",
       "      <td>50000</td>\n",
       "    </tr>\n",
       "    <tr>\n",
       "      <th>1</th>\n",
       "      <td>32</td>\n",
       "      <td>60000</td>\n",
       "    </tr>\n",
       "    <tr>\n",
       "      <th>2</th>\n",
       "      <td>47</td>\n",
       "      <td>80000</td>\n",
       "    </tr>\n",
       "    <tr>\n",
       "      <th>3</th>\n",
       "      <td>51</td>\n",
       "      <td>120000</td>\n",
       "    </tr>\n",
       "    <tr>\n",
       "      <th>4</th>\n",
       "      <td>62</td>\n",
       "      <td>150000</td>\n",
       "    </tr>\n",
       "  </tbody>\n",
       "</table>\n",
       "</div>"
      ],
      "text/plain": [
       "   age  salary\n",
       "0   25   50000\n",
       "1   32   60000\n",
       "2   47   80000\n",
       "3   51  120000\n",
       "4   62  150000"
      ]
     },
     "execution_count": 2,
     "metadata": {},
     "output_type": "execute_result"
    }
   ],
   "source": [
    "df = pd.DataFrame({\n",
    "    'age': [25, 32, 47, 51, 62],\n",
    "    'salary': [50000, 60000, 80000, 120000, 150000]\n",
    "})\n",
    "df"
   ]
  },
  {
   "cell_type": "code",
   "execution_count": 3,
   "id": "b096f47c-5445-45f7-a86b-f35970e16672",
   "metadata": {},
   "outputs": [],
   "source": [
    "scaler = StandardScaler()"
   ]
  },
  {
   "cell_type": "code",
   "execution_count": 4,
   "id": "28bed9a3-257a-4cca-8a70-952de69fcbf3",
   "metadata": {},
   "outputs": [
    {
     "data": {
      "text/plain": [
       "array([[-1.38287244, -1.11613741],\n",
       "       [-0.85677967, -0.85039041],\n",
       "       [ 0.270562  , -0.3188964 ],\n",
       "       [ 0.57118644,  0.7440916 ],\n",
       "       [ 1.39790367,  1.54133261]])"
      ]
     },
     "execution_count": 4,
     "metadata": {},
     "output_type": "execute_result"
    }
   ],
   "source": [
    "scaled_data = scaler.fit_transform(df)\n",
    "scaled_data"
   ]
  },
  {
   "cell_type": "code",
   "execution_count": 5,
   "id": "f8d57f17-0a09-4065-9a24-b722f848609d",
   "metadata": {},
   "outputs": [],
   "source": [
    "df['age_scaled'] = scaled_data[:,0]\n",
    "df['salary_scaled'] = scaled_data[:,1]"
   ]
  },
  {
   "cell_type": "code",
   "execution_count": 6,
   "id": "7eb2a3ea-fe15-4f7e-bdd9-8902353513d6",
   "metadata": {},
   "outputs": [
    {
     "name": "stdout",
     "output_type": "stream",
     "text": [
      "   age  salary  age_scaled  salary_scaled\n",
      "0   25   50000   -1.382872      -1.116137\n",
      "1   32   60000   -0.856780      -0.850390\n",
      "2   47   80000    0.270562      -0.318896\n",
      "3   51  120000    0.571186       0.744092\n",
      "4   62  150000    1.397904       1.541333\n",
      "[4.34e+01 9.20e+04]\n",
      "[1.33056379e+01 3.76297754e+04]\n"
     ]
    }
   ],
   "source": [
    "print(df)\n",
    "print(scaler.mean_)\n",
    "print(scaler.scale_)"
   ]
  },
  {
   "cell_type": "code",
   "execution_count": 7,
   "id": "c132baef-37f6-49cf-8fb9-2277000618a0",
   "metadata": {},
   "outputs": [
    {
     "data": {
      "text/html": [
       "<div>\n",
       "<style scoped>\n",
       "    .dataframe tbody tr th:only-of-type {\n",
       "        vertical-align: middle;\n",
       "    }\n",
       "\n",
       "    .dataframe tbody tr th {\n",
       "        vertical-align: top;\n",
       "    }\n",
       "\n",
       "    .dataframe thead th {\n",
       "        text-align: right;\n",
       "    }\n",
       "</style>\n",
       "<table border=\"1\" class=\"dataframe\">\n",
       "  <thead>\n",
       "    <tr style=\"text-align: right;\">\n",
       "      <th></th>\n",
       "      <th>age</th>\n",
       "      <th>salary</th>\n",
       "    </tr>\n",
       "  </thead>\n",
       "  <tbody>\n",
       "    <tr>\n",
       "      <th>0</th>\n",
       "      <td>18</td>\n",
       "      <td>20000</td>\n",
       "    </tr>\n",
       "    <tr>\n",
       "      <th>1</th>\n",
       "      <td>25</td>\n",
       "      <td>35000</td>\n",
       "    </tr>\n",
       "    <tr>\n",
       "      <th>2</th>\n",
       "      <td>40</td>\n",
       "      <td>50000</td>\n",
       "    </tr>\n",
       "    <tr>\n",
       "      <th>3</th>\n",
       "      <td>60</td>\n",
       "      <td>80000</td>\n",
       "    </tr>\n",
       "    <tr>\n",
       "      <th>4</th>\n",
       "      <td>80</td>\n",
       "      <td>100000</td>\n",
       "    </tr>\n",
       "  </tbody>\n",
       "</table>\n",
       "</div>"
      ],
      "text/plain": [
       "   age  salary\n",
       "0   18   20000\n",
       "1   25   35000\n",
       "2   40   50000\n",
       "3   60   80000\n",
       "4   80  100000"
      ]
     },
     "execution_count": 7,
     "metadata": {},
     "output_type": "execute_result"
    }
   ],
   "source": [
    "# minmax scaler\n",
    "df = pd.DataFrame({\n",
    "    'age': [18, 25, 40, 60, 80],\n",
    "    'salary': [20000, 35000, 50000, 80000, 100000]\n",
    "})\n",
    "df"
   ]
  },
  {
   "cell_type": "code",
   "execution_count": 8,
   "id": "4e71b748-1fb7-43cc-8763-93373fe1fc3c",
   "metadata": {},
   "outputs": [
    {
     "data": {
      "text/plain": [
       "array([[0.        , 0.        ],\n",
       "       [0.11290323, 0.1875    ],\n",
       "       [0.35483871, 0.375     ],\n",
       "       [0.67741935, 0.75      ],\n",
       "       [1.        , 1.        ]])"
      ]
     },
     "execution_count": 8,
     "metadata": {},
     "output_type": "execute_result"
    }
   ],
   "source": [
    "scaler = MinMaxScaler()\n",
    "scaled = scaler.fit_transform(df)\n",
    "scaled"
   ]
  },
  {
   "cell_type": "code",
   "execution_count": 9,
   "id": "e53eeb1b-5294-424e-be8d-fbfc0983732c",
   "metadata": {},
   "outputs": [],
   "source": [
    "df['age_scaled'] = scaled[:,0]\n",
    "df['salary_scaled'] = scaled[:,1]"
   ]
  },
  {
   "cell_type": "code",
   "execution_count": 10,
   "id": "1103bef7-9350-467f-b3b6-202c5be70b95",
   "metadata": {},
   "outputs": [
    {
     "name": "stdout",
     "output_type": "stream",
     "text": [
      "   age  salary  age_scaled  salary_scaled\n",
      "0   18   20000    0.000000         0.0000\n",
      "1   25   35000    0.112903         0.1875\n",
      "2   40   50000    0.354839         0.3750\n",
      "3   60   80000    0.677419         0.7500\n",
      "4   80  100000    1.000000         1.0000\n",
      "[1.8e+01 2.0e+04]\n",
      "[8.e+01 1.e+05]\n",
      "[6.2e+01 8.0e+04]\n"
     ]
    }
   ],
   "source": [
    "print(df)\n",
    "print(scaler.data_min_)\n",
    "print(scaler.data_max_)\n",
    "print(scaler.data_range_)"
   ]
  },
  {
   "cell_type": "code",
   "execution_count": null,
   "id": "a7dbf18f-08ea-4692-89c4-1f1115344fe1",
   "metadata": {},
   "outputs": [],
   "source": []
  },
  {
   "cell_type": "code",
   "execution_count": null,
   "id": "05d83ecf-c252-46b9-b9d0-981a4190a8d4",
   "metadata": {},
   "outputs": [],
   "source": []
  }
 ],
 "metadata": {
  "kernelspec": {
   "display_name": "Python 3 (ipykernel)",
   "language": "python",
   "name": "python3"
  },
  "language_info": {
   "codemirror_mode": {
    "name": "ipython",
    "version": 3
   },
   "file_extension": ".py",
   "mimetype": "text/x-python",
   "name": "python",
   "nbconvert_exporter": "python",
   "pygments_lexer": "ipython3",
   "version": "3.13.4"
  }
 },
 "nbformat": 4,
 "nbformat_minor": 5
}
