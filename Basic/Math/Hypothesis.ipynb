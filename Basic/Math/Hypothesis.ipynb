{
 "cells": [
  {
   "cell_type": "code",
   "execution_count": 1,
   "id": "1a7cbdac-dca9-4407-9a41-fac90044834a",
   "metadata": {},
   "outputs": [],
   "source": [
    "import numpy as np\n",
    "import pandas as pd\n",
    "from statsmodels.stats.weightstats import ztest"
   ]
  },
  {
   "cell_type": "markdown",
   "id": "e9f4684f-5b20-43f0-9b4c-457db706e45e",
   "metadata": {},
   "source": [
    "Z test"
   ]
  },
  {
   "cell_type": "code",
   "execution_count": 3,
   "id": "a2beff68-8ffb-467c-ad9b-d4e0fa7c9ea1",
   "metadata": {},
   "outputs": [],
   "source": [
    "data = [12, 15, 14, 10, 13, 15, 14, 16, 12, 11]"
   ]
  },
  {
   "cell_type": "code",
   "execution_count": 4,
   "id": "fa89e8e3-3715-426c-84e0-6712b9abd50e",
   "metadata": {},
   "outputs": [
    {
     "data": {
      "text/plain": [
       "np.float64(13.2)"
      ]
     },
     "execution_count": 4,
     "metadata": {},
     "output_type": "execute_result"
    }
   ],
   "source": [
    "mean = np.mean(data)\n",
    "mean"
   ]
  },
  {
   "cell_type": "code",
   "execution_count": 9,
   "id": "5cb72c35-26b6-49d4-b392-96607a74e785",
   "metadata": {},
   "outputs": [
    {
     "name": "stdout",
     "output_type": "stream",
     "text": [
      "Z-statistic: 0.32732683535398743, P-value: 0.7434206976952533\n"
     ]
    }
   ],
   "source": [
    "z_stat, p_value = ztest(data, value=13) # test if mean is 13\n",
    "print(f\"Z-statistic: {z_stat}, P-value: {p_value}\")"
   ]
  },
  {
   "cell_type": "code",
   "execution_count": 10,
   "id": "a59828fe-2e61-4bae-9669-0165cba43e30",
   "metadata": {},
   "outputs": [
    {
     "name": "stdout",
     "output_type": "stream",
     "text": [
      "Ho is Accept\n"
     ]
    }
   ],
   "source": [
    "level_of_sign = 0.05\n",
    "if p_value < level_of_sign:\n",
    "    print(\"Ho is rejected\")\n",
    "else:\n",
    "    print(\"H0 is accepted\")"
   ]
  },
  {
   "cell_type": "code",
   "execution_count": 11,
   "id": "40b4bc2b-b480-4cb1-90af-72073f4db189",
   "metadata": {},
   "outputs": [],
   "source": [
    "# two sample test\n",
    "#enter IQ levels for 20 individuals from each city\n",
    "cityA = [82, 84, 85, 89, 91, 91, 92, 94, 99, 99,\n",
    "         105, 109, 109, 109, 110, 112, 112, 113, 114, 114]\n",
    "\n",
    "cityB = [90, 91, 91, 91, 95, 95, 99, 99, 108, 109,\n",
    "         109, 114, 115, 116, 117, 117, 128, 129, 130, 133]"
   ]
  },
  {
   "cell_type": "code",
   "execution_count": 12,
   "id": "6655c461-fedf-4b8c-a1e9-2747e45d2d31",
   "metadata": {},
   "outputs": [
    {
     "name": "stdout",
     "output_type": "stream",
     "text": [
      "Z-statistic :-1.9953236073282115, p-value : 0.046007596761332065\n"
     ]
    }
   ],
   "source": [
    "z_stat, p_value = ztest(cityA, cityB)\n",
    "print(f\"Z-statistic :{z_stat}, p-value : {p_value}\")"
   ]
  },
  {
   "cell_type": "code",
   "execution_count": 19,
   "id": "82c81719-5316-470a-b220-9d4a364e41ae",
   "metadata": {},
   "outputs": [
    {
     "name": "stdout",
     "output_type": "stream",
     "text": [
      "Accept null hypothesis\n"
     ]
    }
   ],
   "source": [
    "level_of_sign = 0.05\n",
    "if p_value < level_of_sign:\n",
    "    print(\"Reject null hypothesis\")\n",
    "else:\n",
    "    print(\"Accept null hypothesis\")"
   ]
  },
  {
   "cell_type": "markdown",
   "id": "ffb966f6-32bb-41d7-8e13-c363054d6a51",
   "metadata": {},
   "source": [
    "T test"
   ]
  },
  {
   "cell_type": "code",
   "execution_count": 16,
   "id": "dba0ce03-1aa2-4b62-8f50-117daee31df5",
   "metadata": {},
   "outputs": [],
   "source": [
    "from scipy.stats import ttest_1samp"
   ]
  },
  {
   "cell_type": "code",
   "execution_count": 17,
   "id": "e1e34f3d-09bd-4c10-aa8e-7b2ab8bdeb7e",
   "metadata": {},
   "outputs": [],
   "source": [
    "data = [10, 12, 14, 16, 18]\n",
    "population_mean = 15"
   ]
  },
  {
   "cell_type": "code",
   "execution_count": 18,
   "id": "ec6b8296-d3d2-4318-b853-d164238c8ad6",
   "metadata": {},
   "outputs": [
    {
     "name": "stdout",
     "output_type": "stream",
     "text": [
      "T-stat : -0.7071067811865475, p-value : 0.5185185185185183\n"
     ]
    }
   ],
   "source": [
    "t_ststs, p_value = ttest_1samp(data, popmean=population_mean)\n",
    "print(f\"T-stat : {t_ststs}, p-value : {p_value}\")"
   ]
  },
  {
   "cell_type": "code",
   "execution_count": 22,
   "id": "313b7a32-f5f8-42ca-ac6c-ef38e313da4e",
   "metadata": {},
   "outputs": [
    {
     "name": "stdout",
     "output_type": "stream",
     "text": [
      "The sample mean is not significantly different from the population mean.\n"
     ]
    }
   ],
   "source": [
    "level_of_sign = 0.05\n",
    "if p_value < 0.05:\n",
    "    print(\"The sample mean is significantly different from the population mean.\")\n",
    "else:\n",
    "    print(\"The sample mean is not significantly different from the population mean.\")"
   ]
  },
  {
   "cell_type": "code",
   "execution_count": 29,
   "id": "8a7d0931-3194-49a9-a2e6-0d82a90c462d",
   "metadata": {},
   "outputs": [],
   "source": [
    "# t test manual\n",
    "\n",
    "n = 30\n",
    "population_mean = 100\n",
    "sample_mean = 140\n",
    "sample_std = 20\n",
    "level_of_sign = 0.05\n",
    "deg_of_freedom = n-1"
   ]
  },
  {
   "cell_type": "code",
   "execution_count": 30,
   "id": "e22599fc-c5c2-4f1e-91d2-09680117f1e5",
   "metadata": {},
   "outputs": [
    {
     "name": "stdout",
     "output_type": "stream",
     "text": [
      "10.954451150103322\n"
     ]
    }
   ],
   "source": [
    "t_stat = (sample_mean - population_mean) / (sample_std / (np.sqrt(n)))\n",
    "print(t_stat)"
   ]
  },
  {
   "cell_type": "code",
   "execution_count": 31,
   "id": "67c2699a-e7ee-4588-9dc7-4e1ceebf5685",
   "metadata": {},
   "outputs": [
    {
     "name": "stdout",
     "output_type": "stream",
     "text": [
      "H0 rejected successfully and Mue != 100\n"
     ]
    }
   ],
   "source": [
    "# find in T-Table with 29 deg_of_freedom and level of sig = 0.05 : 2.045\n",
    "\n",
    "if t_stat < t_stat:\n",
    "    print(\"H0 is accepted and Mue = 100\")\n",
    "else:\n",
    "    print(\"H0 rejected successfully and Mue != 100\")"
   ]
  },
  {
   "cell_type": "code",
   "execution_count": null,
   "id": "65df5bfc-24d4-485a-a7a0-a4786431c824",
   "metadata": {},
   "outputs": [],
   "source": []
  },
  {
   "cell_type": "code",
   "execution_count": 23,
   "id": "694f24e8-4b1b-4272-9f8e-7fd8015eefa0",
   "metadata": {},
   "outputs": [],
   "source": [
    "# two sample test\n",
    "from scipy.stats import ttest_ind"
   ]
  },
  {
   "cell_type": "code",
   "execution_count": 24,
   "id": "03951938-9b97-460e-9c47-f24aff550adf",
   "metadata": {},
   "outputs": [],
   "source": [
    "group1 = [12, 14, 15, 16, 18, 19, 20]\n",
    "group2 = [22, 24, 25, 26, 28, 29, 30]"
   ]
  },
  {
   "cell_type": "code",
   "execution_count": 25,
   "id": "449c3fbd-9c27-4d2a-b1e4-de45ad4ce0d6",
   "metadata": {},
   "outputs": [
    {
     "name": "stdout",
     "output_type": "stream",
     "text": [
      "T-stat : -0.7071067811865475, p-value : 2.8596942118843366e-05\n"
     ]
    }
   ],
   "source": [
    "t_stat, p_value = ttest_ind(group1, group2)\n",
    "print(f\"T-stat : {t_ststs}, p-value : {p_value}\")"
   ]
  },
  {
   "cell_type": "code",
   "execution_count": 26,
   "id": "835bab64-763b-49af-b00e-e24700f90fc0",
   "metadata": {},
   "outputs": [
    {
     "name": "stdout",
     "output_type": "stream",
     "text": [
      "The difference between the groups is statistically significant.\n"
     ]
    }
   ],
   "source": [
    "if p_value < 0.05:\n",
    "    print(\"The difference between the groups is statistically significant.\")\n",
    "else:\n",
    "    print(\"The difference between the groups is not statistically significant.\")"
   ]
  }
 ],
 "metadata": {
  "kernelspec": {
   "display_name": "Python 3 (ipykernel)",
   "language": "python",
   "name": "python3"
  },
  "language_info": {
   "codemirror_mode": {
    "name": "ipython",
    "version": 3
   },
   "file_extension": ".py",
   "mimetype": "text/x-python",
   "name": "python",
   "nbconvert_exporter": "python",
   "pygments_lexer": "ipython3",
   "version": "3.13.4"
  }
 },
 "nbformat": 4,
 "nbformat_minor": 5
}
