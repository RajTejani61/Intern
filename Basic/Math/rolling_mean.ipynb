{
 "cells": [
  {
   "cell_type": "code",
   "execution_count": 2,
   "id": "ca222681-4d9a-438f-8f1c-286d3c3a9dcf",
   "metadata": {},
   "outputs": [],
   "source": [
    "import pandas as pd\n",
    "import numpy as np\n",
    "import matplotlib.pyplot as plt\n",
    "\n",
    "# Example dataset: Stock prices over several days\n",
    "data = {'Date': pd.date_range(start='2024-01-01', periods=15, freq='D'),\n",
    "        'Stock Price': [100, 102, 101, 105, 107, 110, 108, 112, 114, 116, 115, 117, 120, 123, 125]}\n",
    "\n",
    "df = pd.DataFrame(data)\n",
    "\n",
    "\n",
    "# Calculate Moving Averages\n",
    "df['SMA'] = df['Stock Price'].rolling(window=5).mean()  # 5-day Simple Moving Average\n",
    "df['EMA'] = df['Stock Price'].ewm(span=5).mean()        # Exponential Moving Average with span=5\n",
    "df['CMA'] = df['Stock Price'].expanding().mean()        # Cumulative Moving Average"
   ]
  },
  {
   "cell_type": "code",
   "execution_count": 3,
   "id": "319be78b-e47d-4bf7-92e3-54c4cad133e0",
   "metadata": {},
   "outputs": [
    {
     "name": "stdout",
     "output_type": "stream",
     "text": [
      "         Date  Stock Price    SMA         EMA         CMA\n",
      "0  2024-01-01          100    NaN  100.000000  100.000000\n",
      "1  2024-01-02          102    NaN  101.200000  101.000000\n",
      "2  2024-01-03          101    NaN  101.105263  101.000000\n",
      "3  2024-01-04          105    NaN  102.723077  102.000000\n",
      "4  2024-01-05          107  103.0  104.364929  103.000000\n",
      "5  2024-01-06          110  105.0  106.424060  104.166667\n",
      "6  2024-01-07          108  106.2  106.982030  104.714286\n",
      "7  2024-01-08          112  108.4  108.722601  105.625000\n",
      "8  2024-01-09          114  110.2  110.528715  106.555556\n",
      "9  2024-01-10          116  112.0  112.384662  107.500000\n",
      "10 2024-01-11          115  113.0  113.266638  108.181818\n",
      "11 2024-01-12          117  114.8  114.520758  108.916667\n",
      "12 2024-01-13          120  116.4  116.356605  109.769231\n",
      "13 2024-01-14          123  118.2  118.578682  110.714286\n",
      "14 2024-01-15          125  120.0  120.724020  111.666667\n"
     ]
    }
   ],
   "source": [
    "print(df)"
   ]
  },
  {
   "cell_type": "code",
   "execution_count": null,
   "id": "2d1390d2-f31b-4969-bf22-bb2f4b0aa126",
   "metadata": {},
   "outputs": [],
   "source": []
  }
 ],
 "metadata": {
  "kernelspec": {
   "display_name": "Python 3 (ipykernel)",
   "language": "python",
   "name": "python3"
  },
  "language_info": {
   "codemirror_mode": {
    "name": "ipython",
    "version": 3
   },
   "file_extension": ".py",
   "mimetype": "text/x-python",
   "name": "python",
   "nbconvert_exporter": "python",
   "pygments_lexer": "ipython3",
   "version": "3.13.4"
  }
 },
 "nbformat": 4,
 "nbformat_minor": 5
}
