{
 "cells": [
  {
   "cell_type": "markdown",
   "id": "9bd9bbd3-6fba-4d7f-a552-7c33da6f134f",
   "metadata": {},
   "source": [
    "Universal functions"
   ]
  },
  {
   "cell_type": "markdown",
   "id": "c3af718a-2469-4876-9d2f-023e65bd8e57",
   "metadata": {},
   "source": [
    "10/6/25"
   ]
  },
  {
   "cell_type": "code",
   "execution_count": 1,
   "id": "bd7b0572-9d64-415e-a19c-8375a1b807f1",
   "metadata": {},
   "outputs": [],
   "source": [
    "import numpy as np"
   ]
  },
  {
   "cell_type": "code",
   "execution_count": 2,
   "id": "f0631a56-c4a7-48f0-85eb-178994023480",
   "metadata": {},
   "outputs": [
    {
     "name": "stdout",
     "output_type": "stream",
     "text": [
      "<class 'numpy._ArrayFunctionDispatcher'>\n",
      "<class 'numpy.ufunc'>\n",
      "<class 'numpy._ArrayFunctionDispatcher'>\n"
     ]
    }
   ],
   "source": [
    "print(type(np.concatenate))\n",
    "print(type(np.add))\n",
    "print(type(np.sum))"
   ]
  },
  {
   "cell_type": "code",
   "execution_count": 3,
   "id": "d540f4e9-ab99-4a70-854d-70a9140f2186",
   "metadata": {},
   "outputs": [
    {
     "name": "stdout",
     "output_type": "stream",
     "text": [
      "1 6\n",
      "2 7\n",
      "3 8\n",
      "4 9\n",
      "5 10\n",
      "[7, 9, 11, 13, 15]\n",
      "[ 7  9 11 13 15]\n"
     ]
    }
   ],
   "source": [
    "# zip() ufunction\n",
    "list1 = [1,2,3,4,5]\n",
    "list2 = [6,7,8,9,10]\n",
    "list3 = []\n",
    "\n",
    "for i,j in zip(list1, list2):\n",
    "    print(i,j)\n",
    "    list3.append(i+j)\n",
    "print(list3)\n",
    "\n",
    "list4 = np.add(list1 , list2)\n",
    "print(list4)"
   ]
  },
  {
   "cell_type": "code",
   "execution_count": 4,
   "id": "ac961328-d615-42f2-9096-4130b2b46ceb",
   "metadata": {},
   "outputs": [
    {
     "name": "stdout",
     "output_type": "stream",
     "text": [
      "[6 8 10 12]\n",
      "[30 96 210 384]\n"
     ]
    }
   ],
   "source": [
    "def myfunc(x, y):\n",
    "    return x+y\n",
    "    \n",
    "myfunc = np.frompyfunc(myfunc, 2, 1)\n",
    "\n",
    "list1 = [1,2,3,4]\n",
    "list2 = [5,6,7,8]\n",
    "list3 = myfunc(list1, list2)\n",
    "print(list3)\n",
    "\n",
    "def multiply(x, y, z):\n",
    "    return x*y*z\n",
    "    \n",
    "multiply = np.frompyfunc(multiply, 3, 1)\n",
    "print(multiply(list1, list2, list3))"
   ]
  },
  {
   "cell_type": "code",
   "execution_count": 5,
   "id": "3f3e1726-9bf4-45d8-8207-f70871e816a4",
   "metadata": {},
   "outputs": [
    {
     "name": "stdout",
     "output_type": "stream",
     "text": [
      "[ 7  9 11 13 15]\n",
      "[5 5 5 5 5]\n",
      "[ 6 14 24 36 50]\n",
      "[6.         3.5        2.66666667 2.25       2.        ]\n",
      "[     6     49    512   6561 100000]\n",
      "[0 1 2 1 0]\n",
      "[0 1 2 1 0]\n",
      "(array([6, 3, 2, 2, 2]), array([0, 1, 2, 1, 0]))\n",
      "[1 2 3 4 5]\n"
     ]
    }
   ],
   "source": [
    "# arithmetic functions\n",
    "\n",
    "list1 = [1,2,3,4,5]\n",
    "list2 = [6,7,8,9,10]\n",
    "\n",
    "print(np.add(list1, list2))\n",
    "print(np.subtract(list2, list1))\n",
    "print(np.multiply(list1, list2))\n",
    "print(np.divide(list2, list1))\n",
    "print(np.pow(list2, list1))\n",
    "print(np.mod(list2, list1))\n",
    "print(np.remainder(list2, list1))\n",
    "print(np.divmod(list2, list1)) # 1:quotient 2:remainder\n",
    "print(np.abs([-1,2,-3,-4,-5]))\n"
   ]
  },
  {
   "cell_type": "code",
   "execution_count": 6,
   "id": "5e6e7723-3900-48c0-969a-75a67793b5b8",
   "metadata": {},
   "outputs": [
    {
     "name": "stdout",
     "output_type": "stream",
     "text": [
      "[-5. -3.  2.  3.  6.  7.]\n",
      "[-5. -3.  2.  3.  6.  7.]\n",
      "\n",
      "[-5. -4.  3.  3.  7.  8.]\n",
      "[-6. -4.  2.  3.  6.  7.]\n",
      "[-5. -3.  3.  4.  7.  8.]\n"
     ]
    }
   ],
   "source": [
    "# rounding decimals\n",
    "\n",
    "list = np.array([-5.166, -3.678, 2.666, 3.133, 6.999, 7.515])\n",
    "\n",
    "print(np.trunc(list))\n",
    "print(np.fix(list))\n",
    "print()\n",
    "print(np.around(list))\n",
    "print(np.floor(list))\n",
    "print(np.ceil(list))"
   ]
  },
  {
   "cell_type": "code",
   "execution_count": 7,
   "id": "194d02e1-448c-4fc4-88b3-c5a1a76ba0bf",
   "metadata": {},
   "outputs": [
    {
     "name": "stdout",
     "output_type": "stream",
     "text": [
      "Base 2\n",
      "[0.         1.         1.5849625  2.         2.32192809 2.5849625\n",
      " 2.80735492 3.         3.169925   3.32192809]\n",
      "\n",
      "Base 10\n",
      "[0.         0.30103    0.47712125 0.60205999 0.69897    0.77815125\n",
      " 0.84509804 0.90308999 0.95424251 1.        ]\n",
      "\n",
      "Base e or no Base\n",
      "[0.         0.69314718 1.09861229 1.38629436 1.60943791 1.79175947\n",
      " 1.94591015 2.07944154 2.19722458 2.30258509]\n",
      "\n",
      "6.643856189774725\n"
     ]
    }
   ],
   "source": [
    "# log \n",
    "arr = np.arange(1,11)\n",
    "\n",
    "print(\"Base 2\")\n",
    "print(np.log2(arr), end=\"\\n\\n\")\n",
    "print(\"Base 10\")\n",
    "print(np.log10(arr), end='\\n\\n')\n",
    "print(\"Base e or no Base\")\n",
    "print(np.log(arr), end='\\n\\n')\n",
    "\n",
    "from math import log\n",
    "logfunc = np.frompyfunc(log, 2, 1)\n",
    "print(logfunc(100, 2))"
   ]
  },
  {
   "cell_type": "markdown",
   "id": "49909757-2769-40aa-9411-a2631b6d6620",
   "metadata": {},
   "source": []
  },
  {
   "cell_type": "markdown",
   "id": "85f0c88b-28a5-462c-845c-f029f5997c8b",
   "metadata": {},
   "source": [
    "11/6/25"
   ]
  },
  {
   "cell_type": "code",
   "execution_count": 8,
   "id": "98d6d986-64f8-4a9a-a6e7-5e0546d70ac2",
   "metadata": {},
   "outputs": [
    {
     "name": "stdout",
     "output_type": "stream",
     "text": [
      "[2 4 6]\n",
      "12\n",
      "[2 4 6]\n",
      "[6 6]\n",
      "[1 3 6]\n"
     ]
    }
   ],
   "source": [
    "# difference add & sum\n",
    "list1 = [1,2,3]\n",
    "list2 = [1,2,3]\n",
    "print(np.add(list1, list2)) # only 2 array\n",
    "print(np.sum([list1, list2])) # multiple array\n",
    "print(np.sum([list1, list2], axis=0))\n",
    "print(np.sum([list1, list2], axis=1))\n",
    "\n",
    "print(np.cumsum(list1))"
   ]
  },
  {
   "cell_type": "code",
   "execution_count": 9,
   "id": "83a23dd2-6312-4ec9-8d2b-ea484b7eaca5",
   "metadata": {},
   "outputs": [
    {
     "name": "stdout",
     "output_type": "stream",
     "text": [
      "6\n",
      "720\n",
      "[  6 120]\n",
      "[1 2 6]\n",
      "[  1   2   6  24 120 720]\n"
     ]
    }
   ],
   "source": [
    "# product, cumulative product\n",
    "\n",
    "list1 = [1,2,3]\n",
    "list2 = [4,5,6]\n",
    "\n",
    "print(np.prod(list1))\n",
    "print(np.prod([list1, list2]))\n",
    "print(np.prod([list1, list2], axis=1))\n",
    "print(np.cumprod(list1))\n",
    "print(np.cumprod([list1, list2]))"
   ]
  },
  {
   "cell_type": "code",
   "execution_count": 10,
   "id": "4bbfc1b9-e691-4bfc-902f-e5fa8c6cca97",
   "metadata": {},
   "outputs": [
    {
     "name": "stdout",
     "output_type": "stream",
     "text": [
      "[  5  15 -20]\n",
      "[ 10 -35]\n"
     ]
    }
   ],
   "source": [
    "# difference\n",
    "list1 = [5, 10, 25, 5]\n",
    "\n",
    "print(np.diff(list1)) # [10-5, 25-10, 5-25]\n",
    "print(np.diff(list1, n=2)) # [10-5, 25-10, 5-25] = [5, 15, -20] = [15-5, -20-15] = [10, -35] (n=2)"
   ]
  },
  {
   "cell_type": "code",
   "execution_count": 11,
   "id": "9188ea43-7c65-4e5a-8ddb-c2aa5bfe860a",
   "metadata": {},
   "outputs": [
    {
     "name": "stdout",
     "output_type": "stream",
     "text": [
      "12\n",
      "60\n",
      "3\n",
      "4\n"
     ]
    }
   ],
   "source": [
    "# LCM Lowest common multiplier\n",
    "\n",
    "num1 = 4\n",
    "num2 = 6\n",
    "\n",
    "print(np.lcm(num1, num2)) # 4*3=12, 6*2=12\n",
    "print(np.lcm.reduce([1,2,3,4,5])) # for multiple values reduce()\n",
    "\n",
    "# GCD Greatest common divisor\n",
    "\n",
    "num1 = 6\n",
    "num2 = 9\n",
    "\n",
    "print(np.gcd(num1, num2))\n",
    "print(np.gcd.reduce([4, 12, 20, 32, 36]))"
   ]
  },
  {
   "cell_type": "code",
   "execution_count": 12,
   "id": "97a4b6fc-7b1e-48c2-9ee9-ea37c5cf3780",
   "metadata": {},
   "outputs": [
    {
     "name": "stdout",
     "output_type": "stream",
     "text": [
      "1.0\n",
      "Sin\n",
      "[1.22464680e-16 1.00000000e+00 8.66025404e-01 7.07106781e-01]\n",
      "Cos\n",
      "[-1.00000000e+00  6.12323400e-17  5.00000000e-01  7.07106781e-01]\n",
      "Tan\n",
      "[-1.22464680e-16  1.63312394e+16  1.73205081e+00  1.00000000e+00]\n",
      "sinh\n",
      "[11.54873936  2.3012989   1.24936705  0.86867096]\n",
      "cosh\n",
      "[11.59195328  2.50917848  1.60028686  1.32460909]\n",
      "tanh\n",
      "[0.99627208 0.91715234 0.78071444 0.6557942 ]\n"
     ]
    }
   ],
   "source": [
    "# trigonometric function\n",
    "# sin, cos, tan\n",
    "arr = np.array([np.pi/1, np.pi/2, np.pi/3, np.pi/4])\n",
    "print(np.sin(np.pi/2))\n",
    "print(\"Sin\")\n",
    "print(np.sin(arr))\n",
    "print(\"Cos\")\n",
    "print(np.cos(arr))\n",
    "print(\"Tan\")\n",
    "print(np.tan(arr))\n",
    "\n",
    "print(\"sinh\")\n",
    "print(np.sinh(arr))\n",
    "print(\"cosh\")\n",
    "print(np.cosh(arr))\n",
    "print(\"tanh\")\n",
    "print(np.tanh(arr))"
   ]
  },
  {
   "cell_type": "code",
   "execution_count": 13,
   "id": "8a5268c8-56b1-43f1-b82a-d4b13a108026",
   "metadata": {},
   "outputs": [
    {
     "name": "stdout",
     "output_type": "stream",
     "text": [
      "Degree to radian\n",
      "[0.78539816 1.57079633 3.14159265 4.71238898 6.28318531]\n",
      "Radian to degree\n",
      "[ 90. 180. 270. 360.]\n",
      "\n",
      "sin\n",
      "[-1.57079633  0.10016742  1.57079633]\n",
      "cos\n",
      "[3.14159265 1.47062891 0.        ]\n",
      "tan\n",
      "[-0.78539816  0.09966865  0.78539816]\n",
      "sinh\n",
      "[0.09983408 0.19869011 0.48121183]\n",
      "cosh\n",
      "0.0\n",
      "tanh\n",
      "[0.10033535 0.20273255 0.54930614]\n",
      "5.0\n"
     ]
    }
   ],
   "source": [
    "# degree, radian\n",
    "\n",
    "arr = np.array([45, 90, 180, 270, 360])\n",
    "print(\"Degree to radian\")\n",
    "print(np.deg2rad(arr))\n",
    "\n",
    "arr = np.array([np.pi/2, np.pi, 1.5*np.pi, 2*np.pi])\n",
    "print(\"Radian to degree\")\n",
    "print(np.rad2deg(arr))\n",
    "print()\n",
    "\n",
    "# finding angles\n",
    "arr = np.array([-1, 0.1, 1.0])\n",
    "print(\"sin\")\n",
    "print(np.arcsin(arr))\n",
    "print(\"cos\")\n",
    "print(np.arccos(arr))\n",
    "print(\"tan\")\n",
    "print(np.arctan(arr))\n",
    "\n",
    "arr = np.array([0.1, 0.2, 0.5])\n",
    "print(\"sinh\")\n",
    "print(np.arcsinh(arr))\n",
    "print(\"cosh\")\n",
    "print(np.arccosh(1.0))\n",
    "print(\"tanh\")\n",
    "print(np.arctanh(arr))\n",
    "\n",
    "#hypotenues\n",
    "base = 3\n",
    "prep = 4\n",
    "print(np.hypot(base, prep))\n"
   ]
  },
  {
   "cell_type": "code",
   "execution_count": 15,
   "id": "fc34d644-0555-464d-9e85-748808891c91",
   "metadata": {},
   "outputs": [
    {
     "name": "stdout",
     "output_type": "stream",
     "text": [
      "unique\n",
      "[1 2 3 4 5 6]\n",
      "union\n",
      "[1 2 3 4 5 6 7 8]\n",
      "intersection\n",
      "[3 4 5 6]\n",
      "[3 3 4 5 6]\n",
      "differenbce\n",
      "[1 2]\n",
      "[1 1 2]\n",
      "symmetric diff\n",
      "[1 2 5 6]\n",
      "[2 5 6]\n"
     ]
    }
   ],
   "source": [
    "# sets\n",
    "\n",
    "#unique\n",
    "print(\"unique\")\n",
    "arr = np.array([1,1,1,2,3,4,5,5,5,6])\n",
    "print(np.unique(arr))\n",
    "\n",
    "#union\n",
    "print(\"union\")\n",
    "arr1 = np.array([1,2,3,3,4,5,6])\n",
    "arr2 = np.array([3,4,5,6,7,8])\n",
    "print(np.union1d(arr1, arr2)) #union1d\n",
    "\n",
    "#intersection\n",
    "print(\"intersection\")\n",
    "print(np.intersect1d(arr1, arr2)) #intersect1d\n",
    "print(np.intersect1d(arr1, arr2, assume_unique=True))\n",
    "\n",
    "#difference\n",
    "arr1 = np.array([1,1,2,3,4])\n",
    "arr2 = np.array([3,4,5,6])\n",
    "print(\"differenbce\")\n",
    "print(np.setdiff1d(arr1, arr2))\n",
    "print(np.setdiff1d(arr1, arr2, assume_unique=True))\n",
    "\n",
    "# symmetric difference \n",
    "# xor :  values that are NOT present in BOTH sets \n",
    "# same value = false, diff value = true\n",
    "arr1 = np.array([1,1,2,3,4])\n",
    "arr2 = np.array([3,4,5,6])\n",
    "print(\"symmetric diff\")\n",
    "print(np.setxor1d(arr1, arr2))\n",
    "print(np.setxor1d(arr1, arr2, assume_unique=True))"
   ]
  },
  {
   "cell_type": "code",
   "execution_count": null,
   "id": "ceffd792-4af4-4960-9cb0-26dc1577521d",
   "metadata": {},
   "outputs": [],
   "source": []
  }
 ],
 "metadata": {
  "kernelspec": {
   "display_name": "Python 3 (ipykernel)",
   "language": "python",
   "name": "python3"
  },
  "language_info": {
   "codemirror_mode": {
    "name": "ipython",
    "version": 3
   },
   "file_extension": ".py",
   "mimetype": "text/x-python",
   "name": "python",
   "nbconvert_exporter": "python",
   "pygments_lexer": "ipython3",
   "version": "3.13.4"
  }
 },
 "nbformat": 4,
 "nbformat_minor": 5
}
