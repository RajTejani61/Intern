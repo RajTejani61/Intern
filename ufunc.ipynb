{
 "cells": [
  {
   "cell_type": "markdown",
   "id": "9bd9bbd3-6fba-4d7f-a552-7c33da6f134f",
   "metadata": {},
   "source": [
    "Universal functions"
   ]
  },
  {
   "cell_type": "code",
   "execution_count": 1,
   "id": "bd7b0572-9d64-415e-a19c-8375a1b807f1",
   "metadata": {},
   "outputs": [],
   "source": [
    "import numpy as np"
   ]
  },
  {
   "cell_type": "code",
   "execution_count": 2,
   "id": "f0631a56-c4a7-48f0-85eb-178994023480",
   "metadata": {},
   "outputs": [
    {
     "name": "stdout",
     "output_type": "stream",
     "text": [
      "<class 'numpy._ArrayFunctionDispatcher'>\n",
      "<class 'numpy.ufunc'>\n",
      "<class 'numpy._ArrayFunctionDispatcher'>\n"
     ]
    }
   ],
   "source": [
    "print(type(np.concatenate))\n",
    "print(type(np.add))\n",
    "print(type(np.sum))"
   ]
  },
  {
   "cell_type": "code",
   "execution_count": 3,
   "id": "d540f4e9-ab99-4a70-854d-70a9140f2186",
   "metadata": {},
   "outputs": [
    {
     "name": "stdout",
     "output_type": "stream",
     "text": [
      "1 6\n",
      "2 7\n",
      "3 8\n",
      "4 9\n",
      "5 10\n",
      "[7, 9, 11, 13, 15]\n",
      "[ 7  9 11 13 15]\n"
     ]
    }
   ],
   "source": [
    "# zip() ufunction\n",
    "list1 = [1,2,3,4,5]\n",
    "list2 = [6,7,8,9,10]\n",
    "list3 = []\n",
    "\n",
    "for i,j in zip(list1, list2):\n",
    "    print(i,j)\n",
    "    list3.append(i+j)\n",
    "print(list3)\n",
    "\n",
    "list4 = np.add(list1 , list2)\n",
    "print(list4)"
   ]
  },
  {
   "cell_type": "code",
   "execution_count": 4,
   "id": "ac961328-d615-42f2-9096-4130b2b46ceb",
   "metadata": {},
   "outputs": [
    {
     "name": "stdout",
     "output_type": "stream",
     "text": [
      "[6 8 10 12]\n",
      "[30 96 210 384]\n"
     ]
    }
   ],
   "source": [
    "def myfunc(x, y):\n",
    "    return x+y\n",
    "    \n",
    "myfunc = np.frompyfunc(myfunc, 2, 1)\n",
    "\n",
    "list1 = [1,2,3,4]\n",
    "list2 = [5,6,7,8]\n",
    "list3 = myfunc(list1, list2)\n",
    "print(list3)\n",
    "\n",
    "def multiply(x, y, z):\n",
    "    return x*y*z\n",
    "    \n",
    "multiply = np.frompyfunc(multiply, 3, 1)\n",
    "print(multiply(list1, list2, list3))"
   ]
  },
  {
   "cell_type": "code",
   "execution_count": 5,
   "id": "3f3e1726-9bf4-45d8-8207-f70871e816a4",
   "metadata": {},
   "outputs": [
    {
     "name": "stdout",
     "output_type": "stream",
     "text": [
      "[ 7  9 11 13 15]\n",
      "[5 5 5 5 5]\n",
      "[ 6 14 24 36 50]\n",
      "[6.         3.5        2.66666667 2.25       2.        ]\n",
      "[     6     49    512   6561 100000]\n",
      "[0 1 2 1 0]\n",
      "[0 1 2 1 0]\n",
      "(array([6, 3, 2, 2, 2]), array([0, 1, 2, 1, 0]))\n",
      "[1 2 3 4 5]\n"
     ]
    }
   ],
   "source": [
    "# arithmetic functions\n",
    "\n",
    "list1 = [1,2,3,4,5]\n",
    "list2 = [6,7,8,9,10]\n",
    "\n",
    "print(np.add(list1, list2))\n",
    "print(np.subtract(list2, list1))\n",
    "print(np.multiply(list1, list2))\n",
    "print(np.divide(list2, list1))\n",
    "print(np.pow(list2, list1))\n",
    "print(np.mod(list2, list1))\n",
    "print(np.remainder(list2, list1))\n",
    "print(np.divmod(list2, list1)) # 1:quotient 2:remainder\n",
    "print(np.abs([-1,2,-3,-4,-5]))\n"
   ]
  },
  {
   "cell_type": "code",
   "execution_count": 6,
   "id": "5e6e7723-3900-48c0-969a-75a67793b5b8",
   "metadata": {},
   "outputs": [
    {
     "name": "stdout",
     "output_type": "stream",
     "text": [
      "[-5. -3.  2.  3.  6.  7.]\n",
      "[-5. -3.  2.  3.  6.  7.]\n",
      "\n",
      "[-5. -4.  3.  3.  7.  8.]\n",
      "[-6. -4.  2.  3.  6.  7.]\n",
      "[-5. -3.  3.  4.  7.  8.]\n"
     ]
    }
   ],
   "source": [
    "# rounding decimals\n",
    "\n",
    "list = np.array([-5.166, -3.678, 2.666, 3.133, 6.999, 7.515])\n",
    "\n",
    "print(np.trunc(list))\n",
    "print(np.fix(list))\n",
    "print()\n",
    "print(np.around(list))\n",
    "print(np.floor(list))\n",
    "print(np.ceil(list))"
   ]
  },
  {
   "cell_type": "code",
   "execution_count": 7,
   "id": "194d02e1-448c-4fc4-88b3-c5a1a76ba0bf",
   "metadata": {},
   "outputs": [
    {
     "name": "stdout",
     "output_type": "stream",
     "text": [
      "Base 2\n",
      "[0.         1.         1.5849625  2.         2.32192809 2.5849625\n",
      " 2.80735492 3.         3.169925   3.32192809]\n",
      "\n",
      "Base 10\n",
      "[0.         0.30103    0.47712125 0.60205999 0.69897    0.77815125\n",
      " 0.84509804 0.90308999 0.95424251 1.        ]\n",
      "\n",
      "Base e or no Base\n",
      "[0.         0.69314718 1.09861229 1.38629436 1.60943791 1.79175947\n",
      " 1.94591015 2.07944154 2.19722458 2.30258509]\n",
      "\n",
      "6.643856189774725\n"
     ]
    }
   ],
   "source": [
    "# log \n",
    "arr = np.arange(1,11)\n",
    "\n",
    "print(\"Base 2\")\n",
    "print(np.log2(arr), end=\"\\n\\n\")\n",
    "print(\"Base 10\")\n",
    "print(np.log10(arr), end='\\n\\n')\n",
    "print(\"Base e or no Base\")\n",
    "print(np.log(arr), end='\\n\\n')\n",
    "\n",
    "from math import log\n",
    "logfunc = np.frompyfunc(log, 2, 1)\n",
    "print(logfunc(100, 2))"
   ]
  },
  {
   "cell_type": "code",
   "execution_count": null,
   "id": "98d6d986-64f8-4a9a-a6e7-5e0546d70ac2",
   "metadata": {},
   "outputs": [],
   "source": []
  }
 ],
 "metadata": {
  "kernelspec": {
   "display_name": "Python 3 (ipykernel)",
   "language": "python",
   "name": "python3"
  },
  "language_info": {
   "codemirror_mode": {
    "name": "ipython",
    "version": 3
   },
   "file_extension": ".py",
   "mimetype": "text/x-python",
   "name": "python",
   "nbconvert_exporter": "python",
   "pygments_lexer": "ipython3",
   "version": "3.13.4"
  }
 },
 "nbformat": 4,
 "nbformat_minor": 5
}
