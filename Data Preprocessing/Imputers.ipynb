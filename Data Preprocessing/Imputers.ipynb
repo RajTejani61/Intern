{
 "cells": [
  {
   "cell_type": "code",
   "execution_count": 1,
   "id": "23e5690a-13fe-4f44-a8b5-40eae348a638",
   "metadata": {},
   "outputs": [],
   "source": [
    "from sklearn.impute import SimpleImputer\n",
    "import pandas as pd\n",
    "import numpy as np"
   ]
  },
  {
   "cell_type": "code",
   "execution_count": 3,
   "id": "7ece98c5-3b13-42d4-8c6d-93f52ab035f1",
   "metadata": {},
   "outputs": [],
   "source": [
    "data =  {\n",
    "    'Age': [25, np.nan, 30, 35, np.nan],\n",
    "    'Salary': [50000, 60000, np.nan, 80000, 90000],\n",
    "    'City': ['Mumbai', 'Delhi', np.nan, 'Delhi', 'Mumbai']\n",
    "}\n",
    "df = pd.DataFrame(data)"
   ]
  },
  {
   "cell_type": "code",
   "execution_count": 10,
   "id": "2480c44b-89d5-4c54-ab43-c92f6c6d7396",
   "metadata": {},
   "outputs": [
    {
     "data": {
      "text/html": [
       "<div>\n",
       "<style scoped>\n",
       "    .dataframe tbody tr th:only-of-type {\n",
       "        vertical-align: middle;\n",
       "    }\n",
       "\n",
       "    .dataframe tbody tr th {\n",
       "        vertical-align: top;\n",
       "    }\n",
       "\n",
       "    .dataframe thead th {\n",
       "        text-align: right;\n",
       "    }\n",
       "</style>\n",
       "<table border=\"1\" class=\"dataframe\">\n",
       "  <thead>\n",
       "    <tr style=\"text-align: right;\">\n",
       "      <th></th>\n",
       "      <th>Age</th>\n",
       "      <th>Salary</th>\n",
       "      <th>City</th>\n",
       "    </tr>\n",
       "  </thead>\n",
       "  <tbody>\n",
       "    <tr>\n",
       "      <th>0</th>\n",
       "      <td>25.0</td>\n",
       "      <td>50000.0</td>\n",
       "      <td>Mumbai</td>\n",
       "    </tr>\n",
       "    <tr>\n",
       "      <th>1</th>\n",
       "      <td>30.0</td>\n",
       "      <td>60000.0</td>\n",
       "      <td>Delhi</td>\n",
       "    </tr>\n",
       "    <tr>\n",
       "      <th>2</th>\n",
       "      <td>30.0</td>\n",
       "      <td>70000.0</td>\n",
       "      <td>NaN</td>\n",
       "    </tr>\n",
       "    <tr>\n",
       "      <th>3</th>\n",
       "      <td>35.0</td>\n",
       "      <td>80000.0</td>\n",
       "      <td>Delhi</td>\n",
       "    </tr>\n",
       "    <tr>\n",
       "      <th>4</th>\n",
       "      <td>30.0</td>\n",
       "      <td>90000.0</td>\n",
       "      <td>Mumbai</td>\n",
       "    </tr>\n",
       "  </tbody>\n",
       "</table>\n",
       "</div>"
      ],
      "text/plain": [
       "    Age   Salary    City\n",
       "0  25.0  50000.0  Mumbai\n",
       "1  30.0  60000.0   Delhi\n",
       "2  30.0  70000.0     NaN\n",
       "3  35.0  80000.0   Delhi\n",
       "4  30.0  90000.0  Mumbai"
      ]
     },
     "execution_count": 10,
     "metadata": {},
     "output_type": "execute_result"
    }
   ],
   "source": [
    "num_imputer = SimpleImputer(strategy='mean')\n",
    "num_imputer.fit(df[['Age', 'Salary']])\n",
    "df[['Age', 'Salary']] = num_imputer.transform(df[['Age', 'Salary']])\n",
    "df"
   ]
  },
  {
   "cell_type": "code",
   "execution_count": 13,
   "id": "9795b8e3-d948-485a-ab6b-4a88f0a2f9f3",
   "metadata": {},
   "outputs": [
    {
     "name": "stdout",
     "output_type": "stream",
     "text": [
      "    Age   Salary    City\n",
      "0  25.0  50000.0  Mumbai\n",
      "1  30.0  60000.0   Delhi\n",
      "2  30.0  70000.0   Delhi\n",
      "3  35.0  80000.0   Delhi\n",
      "4  30.0  90000.0  Mumbai\n"
     ]
    }
   ],
   "source": [
    "cat_imputer = SimpleImputer(strategy='most_frequent')\n",
    "df[['City']] = cat_imputer.fit_transform(df[['City']])\n",
    "print(df)"
   ]
  },
  {
   "cell_type": "code",
   "execution_count": null,
   "id": "46951b95-b9fe-48f4-8ea8-9a3240800375",
   "metadata": {},
   "outputs": [],
   "source": []
  }
 ],
 "metadata": {
  "kernelspec": {
   "display_name": "Python 3 (ipykernel)",
   "language": "python",
   "name": "python3"
  },
  "language_info": {
   "codemirror_mode": {
    "name": "ipython",
    "version": 3
   },
   "file_extension": ".py",
   "mimetype": "text/x-python",
   "name": "python",
   "nbconvert_exporter": "python",
   "pygments_lexer": "ipython3",
   "version": "3.13.4"
  }
 },
 "nbformat": 4,
 "nbformat_minor": 5
}
