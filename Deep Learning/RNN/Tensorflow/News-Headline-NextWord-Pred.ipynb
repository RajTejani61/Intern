{
 "cells": [
  {
   "cell_type": "code",
   "execution_count": 1,
   "id": "a4574f6e",
   "metadata": {},
   "outputs": [],
   "source": [
    "import tensorflow as tf\n",
    "from tensorflow.keras import models, layers\n",
    "from tensorflow.keras.preprocessing import text, sequence\n",
    "import json\n",
    "import pandas as pd\n",
    "import nltk\n",
    "import numpy as np"
   ]
  },
  {
   "cell_type": "code",
   "execution_count": null,
   "id": "517cdb4e",
   "metadata": {},
   "outputs": [],
   "source": [
    "df = pd.read_json(\"D:/Intern/DataSets/News_Category_Dataset_v3.json\", lines=True)"
   ]
  },
  {
   "cell_type": "code",
   "execution_count": 3,
   "id": "a14a0341",
   "metadata": {},
   "outputs": [
    {
     "data": {
      "text/html": [
       "<div>\n",
       "<style scoped>\n",
       "    .dataframe tbody tr th:only-of-type {\n",
       "        vertical-align: middle;\n",
       "    }\n",
       "\n",
       "    .dataframe tbody tr th {\n",
       "        vertical-align: top;\n",
       "    }\n",
       "\n",
       "    .dataframe thead th {\n",
       "        text-align: right;\n",
       "    }\n",
       "</style>\n",
       "<table border=\"1\" class=\"dataframe\">\n",
       "  <thead>\n",
       "    <tr style=\"text-align: right;\">\n",
       "      <th></th>\n",
       "      <th>link</th>\n",
       "      <th>headline</th>\n",
       "      <th>category</th>\n",
       "      <th>short_description</th>\n",
       "      <th>authors</th>\n",
       "      <th>date</th>\n",
       "    </tr>\n",
       "  </thead>\n",
       "  <tbody>\n",
       "    <tr>\n",
       "      <th>0</th>\n",
       "      <td>https://www.huffpost.com/entry/covid-boosters-...</td>\n",
       "      <td>Over 4 Million Americans Roll Up Sleeves For O...</td>\n",
       "      <td>U.S. NEWS</td>\n",
       "      <td>Health experts said it is too early to predict...</td>\n",
       "      <td>Carla K. Johnson, AP</td>\n",
       "      <td>2022-09-23</td>\n",
       "    </tr>\n",
       "    <tr>\n",
       "      <th>1</th>\n",
       "      <td>https://www.huffpost.com/entry/american-airlin...</td>\n",
       "      <td>American Airlines Flyer Charged, Banned For Li...</td>\n",
       "      <td>U.S. NEWS</td>\n",
       "      <td>He was subdued by passengers and crew when he ...</td>\n",
       "      <td>Mary Papenfuss</td>\n",
       "      <td>2022-09-23</td>\n",
       "    </tr>\n",
       "    <tr>\n",
       "      <th>2</th>\n",
       "      <td>https://www.huffpost.com/entry/funniest-tweets...</td>\n",
       "      <td>23 Of The Funniest Tweets About Cats And Dogs ...</td>\n",
       "      <td>COMEDY</td>\n",
       "      <td>\"Until you have a dog you don't understand wha...</td>\n",
       "      <td>Elyse Wanshel</td>\n",
       "      <td>2022-09-23</td>\n",
       "    </tr>\n",
       "    <tr>\n",
       "      <th>3</th>\n",
       "      <td>https://www.huffpost.com/entry/funniest-parent...</td>\n",
       "      <td>The Funniest Tweets From Parents This Week (Se...</td>\n",
       "      <td>PARENTING</td>\n",
       "      <td>\"Accidentally put grown-up toothpaste on my to...</td>\n",
       "      <td>Caroline Bologna</td>\n",
       "      <td>2022-09-23</td>\n",
       "    </tr>\n",
       "    <tr>\n",
       "      <th>4</th>\n",
       "      <td>https://www.huffpost.com/entry/amy-cooper-lose...</td>\n",
       "      <td>Woman Who Called Cops On Black Bird-Watcher Lo...</td>\n",
       "      <td>U.S. NEWS</td>\n",
       "      <td>Amy Cooper accused investment firm Franklin Te...</td>\n",
       "      <td>Nina Golgowski</td>\n",
       "      <td>2022-09-22</td>\n",
       "    </tr>\n",
       "  </tbody>\n",
       "</table>\n",
       "</div>"
      ],
      "text/plain": [
       "                                                link  \\\n",
       "0  https://www.huffpost.com/entry/covid-boosters-...   \n",
       "1  https://www.huffpost.com/entry/american-airlin...   \n",
       "2  https://www.huffpost.com/entry/funniest-tweets...   \n",
       "3  https://www.huffpost.com/entry/funniest-parent...   \n",
       "4  https://www.huffpost.com/entry/amy-cooper-lose...   \n",
       "\n",
       "                                            headline   category  \\\n",
       "0  Over 4 Million Americans Roll Up Sleeves For O...  U.S. NEWS   \n",
       "1  American Airlines Flyer Charged, Banned For Li...  U.S. NEWS   \n",
       "2  23 Of The Funniest Tweets About Cats And Dogs ...     COMEDY   \n",
       "3  The Funniest Tweets From Parents This Week (Se...  PARENTING   \n",
       "4  Woman Who Called Cops On Black Bird-Watcher Lo...  U.S. NEWS   \n",
       "\n",
       "                                   short_description               authors  \\\n",
       "0  Health experts said it is too early to predict...  Carla K. Johnson, AP   \n",
       "1  He was subdued by passengers and crew when he ...        Mary Papenfuss   \n",
       "2  \"Until you have a dog you don't understand wha...         Elyse Wanshel   \n",
       "3  \"Accidentally put grown-up toothpaste on my to...      Caroline Bologna   \n",
       "4  Amy Cooper accused investment firm Franklin Te...        Nina Golgowski   \n",
       "\n",
       "        date  \n",
       "0 2022-09-23  \n",
       "1 2022-09-23  \n",
       "2 2022-09-23  \n",
       "3 2022-09-23  \n",
       "4 2022-09-22  "
      ]
     },
     "execution_count": 3,
     "metadata": {},
     "output_type": "execute_result"
    }
   ],
   "source": [
    "df.head()"
   ]
  },
  {
   "cell_type": "code",
   "execution_count": 4,
   "id": "6daed69a",
   "metadata": {},
   "outputs": [
    {
     "data": {
      "text/plain": [
       "(209527, 6)"
      ]
     },
     "execution_count": 4,
     "metadata": {},
     "output_type": "execute_result"
    }
   ],
   "source": [
    "df.shape"
   ]
  },
  {
   "cell_type": "code",
   "execution_count": 5,
   "id": "184916d9",
   "metadata": {},
   "outputs": [],
   "source": [
    "data = list(df['headline'].values)"
   ]
  },
  {
   "cell_type": "code",
   "execution_count": 6,
   "id": "1ee91fe6",
   "metadata": {},
   "outputs": [
    {
     "data": {
      "text/plain": [
       "209527"
      ]
     },
     "execution_count": 6,
     "metadata": {},
     "output_type": "execute_result"
    }
   ],
   "source": [
    "len(data)"
   ]
  },
  {
   "cell_type": "code",
   "execution_count": 7,
   "id": "52dddbb6",
   "metadata": {},
   "outputs": [],
   "source": [
    "sample_data = data[:1000]"
   ]
  },
  {
   "cell_type": "code",
   "execution_count": 8,
   "id": "e88e512c",
   "metadata": {},
   "outputs": [],
   "source": [
    "import re\n",
    "from nltk.corpus import stopwords\n",
    "lemmatizer = nltk.stem.WordNetLemmatizer()\n",
    "corpus = []\n",
    "\n",
    "for i in range(len(sample_data)):\n",
    "    review = re.sub('[^a-zA-Z]', ' ', data[i])\n",
    "    review = review.lower()\n",
    "    review = review.split()\n",
    "    review = [lemmatizer.lemmatize(word) for word in review if word not in set(stopwords.words('english'))]\n",
    "    review = ' '.join(review)\n",
    "    corpus.append(review)    "
   ]
  },
  {
   "cell_type": "code",
   "execution_count": 9,
   "id": "4e5dd55d",
   "metadata": {},
   "outputs": [
    {
     "name": "stdout",
     "output_type": "stream",
     "text": [
      "voacb size 4469\n",
      "word index {'to': 1, 'in': 2, 'the': 3, 'of': 4, 'for': 5, 'on': 6, 'at': 7, 'a': 8, 'after': 9, 'and': 10, 'with': 11, 'says': 12, 'is': 13, 'trump': 14, 'from': 15, 'as': 16, 'new': 17, 'this': 18, 'ukraine': 19, 'by': 20, 'biden': 21, 'russian': 22, 'over': 23, 'about': 24, '6': 25, 'u': 26, 's': 27, 'abortion': 28, 'how': 29, 'out': 30, 'court': 31, 'it': 32, 'ex': 33, 'was': 34, 'he': 35, 'his': 36, 'up': 37, 'shooting': 38, 'will': 39, 'covid': 40, 'her': 41, 'man': 42, 'jan': 43, 'be': 44, '4': 45, 'who': 46, 'police': 47, 'week': 48, 'house': 49, 'school': 50, 'gop': 51, 'has': 52, 'that': 53, 'twitter': 54, 'tweets': 55, 'supreme': 56, 'funniest': 57, '3': 58, 'are': 59, '1': 60, 'rep': 61, 'dead': 62, 'into': 63, 'time': 64, 'against': 65, 'report': 66, 'an': 67, 'fire': 68, 'russia': 69, 'if': 70, 'first': 71, 'more': 72, 'white': 73, 'have': 74, \"'\": 75, 'killed': 76, 'star': 77, 'parents': 78, 'day': 79, 'still': 80, 'rights': 81, 'georgia': 82, 'no': 83, 'amid': 84, 'million': 85, 'war': 86, 'officials': 87, \"'the\": 88, 'gun': 89, 'say': 90, 'state': 91, 'your': 92, 'trial': 93, 'most': 94, 'taylor': 95, 'people': 96, 'election': 97, 'women': 98, 'texas': 99, 'mariupol': 100, 'woman': 101, 'gets': 102, '000': 103, 'record': 104, 'dies': 105, 'not': 106, 'ukrainian': 107, 'senate': 108, 'could': 109, 'its': 110, '9': 111, 'wins': 112, 'probe': 113, 'now': 114, '2': 115, 'uvalde': 116, 'what': 117, \"trump's\": 118, 'right': 119, 'judge': 120, 'florida': 121, 'just': 122, 'may': 123, 'roe': 124, 'before': 125, 'found': 126, 'being': 127, 'year': 128, 'down': 129, 'joe': 130, 'make': 131, 'crash': 132, 'primary': 133, 'former': 134, 'putin': 135, 'you': 136, 'calls': 137, 'see': 138, 'york': 139, 'reveals': 140, 'she': 141, 'oscars': 142, 'video': 143, 'race': 144, 'death': 145, 'attack': 146, 'california': 147, 'workers': 148, 'should': 149, 'home': 150, 'why': 151, 'do': 152, 'makes': 153, '2022': 154, 'all': 155, 'him': 156, 'gov': 157, 'case': 158, 'shows': 159, 'media': 160, 'john': 161, 'smith': 162, 'years': 163, 'june': 164, 'fox': 165, 'american': 166, 'charged': 167, 'while': 168, 'water': 169, 'off': 170, 'one': 171, 'finds': 172, 'during': 173, 'awards': 174, 'way': 175, '11': 176, 'mar': 177, 'lago': 178, 'opens': 179, 'south': 180, 'near': 181, 'when': 182, 'made': 183, 'accused': 184, 'own': 185, '—': 186, 'rock': 187, 'law': 188, 'prince': 189, '20': 190, 'nfl': 191, '19': 192, 'marjorie': 193, 'greene': 194, '10': 195, 'can': 196, 'zelenskyy': 197, 'days': 198, 'child': 199, 'look': 200, 'family': 201, 'held': 202, 'next': 203, 'baby': 204, 'paul': 205, 'sen': 206, 'so': 207, 'attacks': 208, 'back': 209, 'tribute': 210, 'despite': 211, 'jackson': 212, 'mass': 213, 'candidate': 214, 'tells': 215, 'take': 216, 'again': 217, 'republicans': 218, 'host': 219, 'social': 220, 'official': 221, 'far': 222, 'fbi': 223, 'major': 224, 'democratic': 225, 'set': 226, 'gives': 227, 'arrested': 228, 'their': 229, 'fans': 230, 'steve': 231, '5': 232, 'kids': 233, 'climate': 234, 'musk': 235, 'ohio': 236, 'ted': 237, 'cruz': 238, 'best': 239, 'slap': 240, 'americans': 241, 'life': 242, 'cops': 243, 'black': 244, 'loses': 245, 'lawsuit': 246, 'un': 247, 'call': 248, 'panel': 249, 'china': 250, 'plane': 251, 'release': 252, 'some': 253, 'faces': 254, 'alex': 255, 'kim': 256, 'inflation': 257, '2nd': 258, 'fight': 259, 'top': 260, 'but': 261, 'last': 262, 'nuclear': 263, 'plant': 264, \"it's\": 265, 'chief': 266, 'i': 267, 'dad': 268, 'testify': 269, 'missing': 270, 'night': 271, 'trailer': 272, 'warns': 273, 'donald': 274, 'reportedly': 275, 'guilty': 276, 'since': 277, 'energy': 278, 'monkeypox': 279, 'lawyer': 280, 'car': 281, 'even': 282, 'viral': 283, 'than': 284, 'chris': 285, 'city': 286, 'control': 287, 'alleged': 288, 'congress': 289, 'news': 290, 'elon': 291, 'or': 292, 'assault': 293, 'latest': 294, 'v': 295, 'wade': 296, 'they': 297, 'kardashian': 298, 'brown': 299, 'jimmy': 300, '23': 301, 'dogs': 302, '17': 303, 'reporter': 304, 'tv': 305, 'world': 306, 'storm': 307, 'forces': 308, 'vegas': 309, 'win': 310, 'get': 311, 'global': 312, 'giant': 313, 'bill': 314, 'mark': 315, 'tiktok': 316, 'search': 317, 'french': 318, 'national': 319, 'threat': 320, 'watch': 321, 'murder': 322, \"'i\": 323, 'going': 324, 'kills': 325, 'survivors': 326, 'wounded': 327, 'gubernatorial': 328, 'children': 329, 'emergency': 330, 'hits': 331, 'love': 332, 'shot': 333, 'border': 334, 'jury': 335, 'plans': 336, 'aide': 337, 'vmas': 338, 'depp': 339, 'red': 340, 'looks': 341, 'because': 342, \"he's\": 343, 'sexual': 344, 'game': 345, 'vote': 346, 'ever': 347, 'without': 348, 'go': 349, 'troops': 350, 'ban': 351, 'food': 352, 'rules': 353, 'fall': 354, 'photos': 355, '50': 356, 'golf': 357, 'park': 358, 'prison': 359, \"don't\": 360, 'tax': 361, 'stop': 362, 'rise': 363, 'photo': 364, 'know': 365, 'legend': 366, \"'snl'\": 367, 'sentenced': 368, 'bannon': 369, 'herschel': 370, 'walker': 371, 'michael': 372, 'marriage': 373, 'netflix': 374, 'co': 375, 'anti': 376, 'big': 377, 'son': 378, 'buffalo': 379, 'kimmel': 380, 'ketanji': 381, 'roll': 382, 'cats': 383, 'body': 384, 'surprise': 385, 'hurricane': 386, 'fiona': 387, 'space': 388, 'too': 389, 'inside': 390, 'takes': 391, 'las': 392, 'title': 393, 'chelsea': 394, 'leaders': 395, 'pay': 396, 'elizabeth': 397, 'james': 398, 'public': 399, 'flooding': 400, 'flood': 401, 'hit': 402, 'crisis': 403, 'find': 404, 'series': 405, 'help': 406, 'justice': 407, 'heart': 408, '100': 409, 'possible': 410, 'strike': 411, 'democrats': 412, 'key': 413, 'gas': 414, 'ballot': 415, \"ukraine's\": 416, 'us': 417, 'breaks': 418, 'testifies': 419, 'historic': 420, 'work': 421, 'austin': 422, 'goes': 423, 'company': 424, 'north': 425, 'drops': 426, 'teacher': 427, 'wisconsin': 428, 'arrest': 429, 'return': 430, 'moon': 431, 'store': 432, 'months': 433, 'west': 434, 'fish': 435, 'classified': 436, 'documents': 437, 'secret': 438, 'service': 439, 'tony': 440, 'part': 441, 'brings': 442, 'johnny': 443, 'mtv': 444, 'carpet': 445, 'nebraska': 446, 'affidavit': 447, 'college': 448, 'mexico': 449, 'there': 450, 'money': 451, 'republican': 452, 'student': 453, 'king': 454, 'sweet': 455, 'end': 456, 'office': 457, \"can't\": 458, 'mike': 459, 'access': 460, 'health': 461, 'general': 462, 'denies': 463, 'number': 464, 'injured': 465, 'gunman': 466, 'church': 467, '21': 468, 'suspect': 469, 'remains': 470, 'poland': 471, 'little': 472, 'girl': 473, 'claims': 474, '2024': 475, 'second': 476, 'according': 477, 'enough': 478, '30': 479, 'oil': 480, 'eastern': 481, 'support': 482, 'song': 483, 'sandy': 484, 'hook': 485, 'break': 486, '28': 487, 'got': 488, 'super': 489, 'season': 490, 'bad': 491, 'shares': 492, 'george': 493, 'birth': 494, 'actor': 495, 'political': 496, 'greg': 497, 'abbott': 498, 'july': 499, 'minister': 500, 'fda': 501, 'sex': 502, 'ruling': 503, 'allegedly': 504, \"you're\": 505, 'text': 506, 'dave': 507, 'hearing': 508, \"'you\": 509, 'shots': 510, 'oz': 511, 'peter': 512, 'accuses': 513, 'boy': 514, 'committee': 515, 'president': 516, 'd': 517, 'c': 518, 'experts': 519, 'stage': 520, 'tucker': 521, 'carlson': 522, 'decision': 523, 'pete': 524, 'vaccine': 525, 'teen': 526, 'k': 527, 'change': 528, 'hails': 529, '7': 530, 'jennifer': 531, 'lopez': 532, 'group': 533, 'culture': 534, 'under': 535, 'moment': 536, 'giving': 537, 'leave': 538, 'kevin': 539, 'starbucks': 540, 'mandate': 541, 'kyiv': 542, 'formula': 543, 'seized': 544, 'head': 545, '13': 546, 'talk': 547, 'mask': 548, 'draft': 549, 'surrender': 550, 'hall': 551, 'fame': 552, 'invasion': 553, 'volodymyr': 554, 'joke': 555, 'targeted': 556, 'boyfriend': 557, 'puerto': 558, 'immigrants': 559, 'want': 560, 'sets': 561, 'protest': 562, 'virginia': 563, 'thomas': 564, 'air': 565, 'would': 566, 'same': 567, 'festival': 568, 'taliban': 569, 'queen': 570, 'cameron': 571, \"man'\": 572, 'celebrates': 573, 'massive': 574, 'left': 575, \"'giant\": 576, 'watchdog': 577, 'didn’t': 578, 'launches': 579, 'alaska': 580, 'pakistan': 581, 'alabama': 582, 'survivor': 583, 'seen': 584, 'mississippi': 585, 'subpoena': 586, 'meet': 587, 'offer': 588, 'old': 589, 'visits': 590, 'brittney': 591, 'remain': 592, 'continues': 593, 'seth': 594, 'thousands': 595, 'urges': 596, 'anthony': 597, 'turned': 598, 'cop': 599, 'ceremony': 600, 'science': 601, 'open': 602, '1st': 603, 'marks': 604, 'anniversary': 605, 'names': 606, 'harry': 607, 'r': 608, 'kelly': 609, 'abuse': 610, 'lgbtq': 611, 'asks': 612, 'residents': 613, 'least': 614, 'players': 615, 'union': 616, 'show': 617, 'power': 618, 'airport': 619, 'traffic': 620, 'fast': 621, 'strikes': 622, 'governor': 623, 'parent': 624, 'instagram': 625, 'buy': 626, 'feels': 627, 'like': 628, \"'no\": 629, 'idea': 630, 'secretary': 631, 'midterms': 632, 'site': 633, 'director': 634, 'tell': 635, 'leak': 636, 'rocket': 637, 'owner': 638, 'land': 639, 'nasa': 640, 'jobs': 641, 'another': 642, 'questions': 643, 'chicago': 644, 'truth': 645, 'retires': 646, 'breastfeeding': 647, 'feel': 648, 'mom': 649, 'word': 650, 'lindsey': 651, 'graham': 652, 'appearance': 653, 'need': 654, 'had': 655, 'blasts': 656, 'chrissy': 657, 'teigen': 658, 'club': 659, 'fighting': 660, 'pulls': 661, 'blocks': 662, 'labor': 663, 'brian': 664, 'resign': 665, 'families': 666, 'plan': 667, 'billion': 668, 'dollar': 669, 'declares': 670, 'victory': 671, 'desantis': 672, 'safety': 673, 'threats': 674, 'linked': 675, 'debt': 676, 'pleads': 677, 'rips': 678, 'strong': 679, 'cause': 680, 'increase': 681, 'terrorism': 682, 'charges': 683, '1m': 684, 'defense': 685, \"won't\": 686, 'pence': 687, 'dozens': 688, 'alligator': 689, 'bryant': 690, 'pride': 691, 'watson': 692, 'cdc': 693, 'mind': 694, 'recalls': 695, 'seat': 696, 'journalist': 697, 'games': 698, 'dog': 699, 'human': 700, 'owned': 701, 'great': 702, 'rushdie': 703, 'appeal': 704, 'federal': 705, 'begin': 706, '8': 707, 'recovery': 708, 'die': 709, 'bridges': 710, 'ease': 711, 'sharing': 712, 'la': 713, 'department': 714, \"'american\": 715, 'backed': 716, 'tour': 717, 'veterans': 718, 'military': 719, 'albuquerque': 720, 'muslim': 721, 'men': 722, '’': 723, 'movie': 724, 'kentucky': 725, 'turns': 726, 'been': 727, 'refuse': 728, 'trevor': 729, 'noah': 730, \"here's\": 731, 'here’s': 732, 'we': 733, 'age': 734, 'interest': 735, 'talking': 736, 'campaign': 737, 'league': 738, 'arizona': 739, 'course': 740, 'very': 741, \"didn't\": 742, 'trust': 743, 'fails': 744, 'texts': 745, 'defamation': 746, 'ending': 747, 'action': 748, \"'stranger\": 749, \"things'\": 750, 'reelection': 751, '14': 752, 'sorvino': 753, 'offers': 754, 'doctor': 755, 'hell': 756, 'running': 757, 'johnson': 758, 'prime': 759, 'reason': 760, 'behind': 761, 'exit': 762, 'wants': 763, 'making': 764, 'writer': 765, 'gay': 766, 'dr': 767, 'sues': 768, 'abortions': 769, 'tried': 770, 'powerful': 771, 'finally': 772, 'movies': 773, 'field': 774, 'violence': 775, 'summer': 776, 'skin': 777, 'lauren': 778, 'pope': 779, 'following': 780, 'postpone': 781, 'building': 782, 'pro': 783, '25': 784, 'policy': 785, 'meghan': 786, 'facebook': 787, 'bet': 788, 'closes': 789, \"women's\": 790, 'biggest': 791, 'carolina': 792, 'rally': 793, \"'jeopardy\": 794, 'seeks': 795, 'event': 796, 'riot': 797, 'blac': 798, 'chyna': 799, 'chappelle': 800, 'thinking': 801, 'nato': 802, 'eric': 803, 'users': 804, 'tom': 805, 'form': 806, 'staffers': 807, 'presidential': 808, \"dog'\": 809, 'mccarthy': 810, 'girlfriend': 811, 'racist': 812, 'phone': 813, 'he’s': 814, 'jane': 815, 'path': 816, 'through': 817, 'lives': 818, 'something': 819, 'shortage': 820, 'cases': 821, 'leaked': 822, 'hears': 823, \"show'\": 824, 'madison': 825, 'cawthorn': 826, 'brutal': 827, 'groping': 828, 'announces': 829, 'homes': 830, 'jones': 831, 'steel': 832, 'visit': 833, 'dolly': 834, 'film': 835, 'southwest': 836, \"'saturday\": 837, 'amy': 838, 'sees': 839, 'airlines': 840, 'flight': 841, 'sept': 842, 'called': 843, 'bird': 844, 'bathroom': 845, 'adorable': 846, 'live': 847, 'documentary': 848, 'captures': 849, 'cup': 850, 'himself': 851, 'funeral': 852, 'abe': 853, 'become': 854, 'category': 855, 'headed': 856, 'bans': 857, 'clever': 858, 'stealing': 859, 'dodgers': 860, 'votes': 861, 'join': 862, 'returning': 863, 'rico': 864, 'deeper': 865, 'afghanistan': 866, 'freed': 867, 'wnba': 868, 'gray': 869, 'mvp': 870, 'ii': 871, 'studio': 872, 'birthday': 873, 'climb': 874, \"queen's\": 875, '2020': 876, 'data': 877, 'fired': 878, 'prepares': 879, 'braces': 880, 'severe': 881, 'tropical': 882, 'customs': 883, 'amazon': 884, 'scott': 885, 'long': 886, 'close': 887, 'meadows': 888, 'dept': 889, 'feared': 890, \"king'\": 891, 'training': 892, 'reward': 893, 'information': 894, 'killers': 895, 'griner': 896, 'jailed': 897, 'emmy': 898, 'low': 899, 'audience': 900, 'drop': 901, 'nationwide': 902, 'already': 903, 'rhode': 904, 'island': 905, 'straight': 906, 'month': 907, 'costs': 908, 'filmmaker': 909, 'launch': 910, 'unity': 911, 'speech': 912, 'electability': 913, 'candidates': 914, 'cancer': 915, 'comfortable': 916, 'icon': 917, 'carlos': 918, 'victims': 919, 'vows': 920, 'payment': 921, 'sales': 922, 'stores': 923, 'team': 924, 'kharkiv': 925, 'region': 926, 'winds': 927, 'batter': 928, 'heat': 929, 'styles': 930, 'nyc': 931, 'employee': 932, 'doubts': 933, 'front': 934, 'receive': 935, \"'massive'\": 936, 'obama': 937, 'thought': 938, \"die'\": 939, 'michigan': 940, 'revives': 941, 'sue': 942, 'baseball': 943, 'solidarity': 944, 'other': 945, 'unemployment': 946, 'risks': 947, 'cyberattack': 948, 'los': 949, 'angeles': 950, 'district': 951, 'shut': 952, 'kody': 953, 'clemens': 954, 'roger': 955, 'irish': 956, 'acting': 957, 'danger': 958, 'hate': 959, 'bear': 960, 'pool': 961, 'fourth': 962, 'voters': 963, \"pakistan's\": 964, 'largest': 965, 'lake': 966, 'rising': 967, 'dangerous': 968, 'levels': 969, 'grapple': 970, 'trauma': 971, 'revival': 972, 'fuel': 973, 'reports': 974, 'snub': 975, \"gorbachev's\": 976, 'aims': 977, 'saturday': 978, 'pregnant': 979, 'receives': 980, 'raid': 981, 'center': 982, 'causes': 983, 'lisa': 984, \"'90s\": 985, 'rare': 986, 'jim': 987, 'account': 988, 'docs': 989, 'pizza': 990, 'ad': 991, 'delay': 992, 'signs': 993, 'always': 994, 'condition': 995, 'letter': 996, 'members': 997, 'keep': 998, 'gone': 999, 'amber': 1000, \"heard's\": 1001, 'sister': 1002, 'reacts': 1003, 'cameo': 1004, 'guest': 1005, 'swift': 1006, 'deaths': 1007, 'pass': 1008, 'wildest': 1009, 'shooter': 1010, 'probing': 1011, 'singer': 1012, 'misconduct': 1013, 'several': 1014, 'don': 1015, 'posts': 1016, 'file': 1017, 'students': 1018, 'were': 1019, 'warehouse': 1020, 'army': 1021, 'caught': 1022, 'jared': 1023, 'kushner': 1024, 'ivanka': 1025, \"'kimmel'\": 1026, 'wild': 1027, 'rei': 1028, 'unionize': 1029, 'kemp': 1030, 'fights': 1031, 'ron': 1032, 'irs': 1033, 'review': 1034, 'conspiracy': 1035, 'loan': 1036, 'hbo': 1037, 'louisville': 1038, 'breonna': 1039, 'jerry': 1040, '82': 1041, 'andrew': 1042, 'rusty': 1043, 'bowers': 1044, \"democrats'\": 1045, 'uk': 1046, 'musical': 1047, 'prices': 1048, 'events': 1049, 'contract': 1050, 'language': 1051, 'seeking': 1052, 'sacred': 1053, 'mountain': 1054, 'ring': 1055, 'lost': 1056, 'stanley': 1057, 'box': 1058, 'block': 1059, 'trans': 1060, 'movement': 1061, 'sick': 1062, 'e': 1063, 'shocking': 1064, 'drone': 1065, 'problem': 1066, 'winning': 1067, 'kobe': 1068, 'horror': 1069, 'sentence': 1070, 'saudi': 1071, 'use': 1072, 'plead': 1073, 'deshaun': 1074, 'overhaul': 1075, 'planned': 1076, 'congressman': 1077, 'fraud': 1078, 'turnout': 1079, 'suspected': 1080, 'teams': 1081, 'free': 1082, 'takeover': 1083, \"'another\": 1084, \"world'\": 1085, 'america': 1086, 'salman': 1087, 'selection': 1088, 'palestinian': 1089, 'wounds': 1090, 'late': 1091, 'jerusalem': 1092, '‘bullet': 1093, 'train’': 1094, 'repeats': 1095, '‘top': 1096, 'gun’': 1097, 'loud': 1098, \"'on\": 1099, 'agent': 1100, 'research': 1101, 'attempting': 1102, 'lockdown': 1103, 'wall': 1104, 'street': 1105, 'killing': 1106, 'player': 1107, 'stabbing': 1108, 'roads': 1109, 'polio': 1110, 'virus': 1111, 'reduction': 1112, 'act': 1113, 'expected': 1114, 'murders': 1115, 'final': 1116, 'level': 1117, 'mount': 1118, 'dems': 1119, 'violent': 1120, 'staffer': 1121, 'private': 1122, 'euthanized': 1123, 'place': 1124, 'train': 1125, 'rudy': 1126, 'idris': 1127, 'elba': 1128, 'album': 1129, 'compete': 1130, '65': 1131, 'meeting': 1132, 'said': 1133, \"good'\": 1134, 'book': 1135, 'share': 1136, 'makeup': 1137, 'equity': 1138, 'brad': 1139, 'station': 1140, 'ezra': 1141, 'community': 1142, 'among': 1143, 'facility': 1144, 'storms': 1145, 'canadian': 1146, 'uses': 1147, 'foot': 1148, 'keeping': 1149, 'rule': 1150, 'supporting': 1151, 'indicted': 1152, 'cpac': 1153, 'fiery': 1154, 'runs': 1155, 'light': 1156, 'doing': 1157, 'trolls': 1158, 'actually': 1159, 'arrests': 1160, 'investigation': 1161, 'lot': 1162, 'ruined': 1163, 'appears': 1164, 'selena': 1165, 'classic': 1166, 'erupts': 1167, 'pelosi': 1168, 'pitt': 1169, 'defends': 1170, 'backlash': 1171, 'university': 1172, \"world's\": 1173, \"arizona's\": 1174, 'returns': 1175, 'challenger': 1176, 'poll': 1177, 'real': 1178, 'anxiety': 1179, 'toll': 1180, 'earth': 1181, 'bomb': 1182, 'rain': 1183, 'dhs': 1184, \"'went\": 1185, 'told': 1186, 'execution': 1187, 'where': 1188, 'happened': 1189, \"jones'\": 1190, 'never': 1191, 'deputy': 1192, 'protecting': 1193, 'my': 1194, 'cat': 1195, 'detained': 1196, 'walk': 1197, 'robinson': 1198, 'asking': 1199, \"he'll\": 1200, 'allow': 1201, 'miss': 1202, 'sells': 1203, 'josh': 1204, 'iowa': 1205, 'face': 1206, 'post': 1207, 'away': 1208, 'bashing': 1209, 'handler': 1210, 'voted': 1211, 'protections': 1212, 'boris': 1213, 'these': 1214, 'kate': 1215, 'appeals': 1216, 'agenda': 1217, 'lady': 1218, 'baltimore': 1219, 'added': 1220, 'list': 1221, 'adviser': 1222, 'indiana': 1223, 'mall': 1224, \"idol'\": 1225, 'lily': 1226, \"story'\": 1227, 'aid': 1228, 'trafficking': 1229, 'probably': 1230, 'stand': 1231, 'comedian': 1232, \"'big\": 1233, 'board': 1234, 'member': 1235, 'milestone': 1236, 'epic': 1237, 'attempt': 1238, 'steal': 1239, 'charles': 1240, 'messages': 1241, 'cares': 1242, 'having': 1243, 'fetterman': 1244, 'administration': 1245, 'words': 1246, 'cannot': 1247, 'officer': 1248, 'oath': 1249, 'shirt': 1250, 'navarro': 1251, 'treason': 1252, 'tourist': 1253, 'survives': 1254, 'webb': 1255, 'releases': 1256, 'mehmet': 1257, 'mocked': 1258, 'popular': 1259, 'besides': 1260, 'wimbledon': 1261, 'debut': 1262, '‘stranger': 1263, 'things’': 1264, 'core': 1265, 'africa': 1266, 'civil': 1267, 'won': 1268, 'boxes': 1269, 'doja': 1270, 'unofficial': 1271, 'tornado': 1272, 'hundreds': 1273, 'leaves': 1274, 'friends': 1275, 'mostly': 1276, 'gored': 1277, 'points': 1278, 'nightmare': 1279, 'turning': 1280, 'beach': 1281, 'britney': 1282, 'spears': 1283, 'honeymoon': 1284, 'care': 1285, 'stops': 1286, 'terrible': 1287, 'francis': 1288, 'them': 1289, 'clinic': 1290, 'threatened': 1291, 'charge': 1292, 'forced': 1293, 'travel': 1294, 'resigns': 1295, 'council': 1296, 'yellowstone': 1297, 'sparks': 1298, 'here': 1299, 'maga': 1300, \"'remain\": 1301, \"mexico'\": 1302, 'melania': 1303, 'markle': 1304, 'weighs': 1305, 'pulled': 1306, 'forever': 1307, 'rachel': 1308, 'guard': 1309, '101': 1310, 'aiding': 1311, \"'f\": 1312, 'facing': 1313, 'pond': 1314, 'canada': 1315, 'cross': 1316, 'looking': 1317, 'hot': 1318, 'duet': 1319, 'states': 1320, 'restrict': 1321, 'equality': 1322, 'error': 1323, 'pounce': 1324, 'murdoch': 1325, 'saying': 1326, 'rescued': 1327, 'suit': 1328, 'introduces': 1329, 'lies': 1330, 'rob': 1331, 'rejects': 1332, 'high': 1333, 'name': 1334, 'controversy': 1335, 'voting': 1336, 'coffee': 1337, 'prosecutor': 1338, 'williams': 1339, 'door': 1340, 'christian': 1341, 'absent': 1342, 'idaho': 1343, 'foods': 1344, 'grill': 1345, 'treat': 1346, 'meyers': 1347, 'ryan': 1348, 'ken': 1349, 'gosling': 1350, 'defying': 1351, 'lizzo': 1352, \"smith's\": 1353, 'pennsylvania': 1354, 'races': 1355, 'nearly': 1356, 'jonathan': 1357, 'lead': 1358, \"jackson's\": 1359, 'ways': 1360, 'save': 1361, 'weapons': 1362, 'seal': 1363, '4th': 1364, 'trapped': 1365, 'slams': 1366, 'miller': 1367, 'test': 1368, \"aren't\": 1369, 'party': 1370, 'criminal': 1371, 'london': 1372, 'raise': 1373, 'went': 1374, 'butt': 1375, \"wasn't\": 1376, 'eat': 1377, 'hungry': 1378, 'louis': 1379, 'solution': 1380, 'shootings': 1381, 'plot': 1382, 'palin': 1383, 'jada': 1384, 'pinkett': 1385, 'poised': 1386, 'stunned': 1387, 'flag': 1388, 'hard': 1389, 'miami': 1390, 'issues': 1391, 'stolen': 1392, 'nationalism': 1393, 'ceo': 1394, 'backs': 1395, 'plea': 1396, 'died': 1397, 'response': 1398, '27': 1399, 'wrenching': 1400, 'perfect': 1401, 'burger': 1402, 'recipe': 1403, \"doesn't\": 1404, 'brady': 1405, 'pushed': 1406, 'trump’s': 1407, \"state's\": 1408, \"netflix's\": 1409, 'conway': 1410, \"gay'\": 1411, 'crimes': 1412, 'leaving': 1413, 'market': 1414, '130': 1415, 'atop': 1416, 'pounds': 1417, 'infant': 1418, 'arrives': 1419, 'dallas': 1420, 'hotel': 1421, 'nude': 1422, 'conservative': 1423, \"'taking\": 1424, \"'for\": 1425, \"girls'\": 1426, 'samantha': 1427, 'bee': 1428, 'torches': 1429, \"'replacement'\": 1430, 'worry': 1431, 'kind': 1432, 'lift': 1433, 'cancels': 1434, 'shaping': 1435, 'whole': 1436, 'coming': 1437, 'porn': 1438, 'me': 1439, 'pop': 1440, 'praises': 1441, 'pregnancy': 1442, 'beef': 1443, 'security': 1444, 'allowing': 1445, 'spot': 1446, 'reminder': 1447, 'platform': 1448, 'slain': 1449, 'al': 1450, 'coverage': 1451, 'resolve': 1452, 'jersey': 1453, 'question': 1454, 'lawmakers': 1455, \"'zero\": 1456, \"covid'\": 1457, 'strategy': 1458, \"dictator's\": 1459, 'philippine': 1460, 'count': 1461, 'network': 1462, 'tests': 1463, 'positive': 1464, 'poor': 1465, 'ahead': 1466, 'activist': 1467, 'beijing': 1468, 'leader': 1469, 'complete': 1470, 'oligarch': 1471, 'wildfires': 1472, 'defenders': 1473, 'refugees': 1474, 'battle': 1475, 'almost': 1476, 'parton': 1477, 'overturned': 1478, 'much': 1479, 'protests': 1480, 'outside': 1481, 'tries': 1482, 'put': 1483, 'meets': 1484, 'flee': 1485, 'manchin': 1486, 'remaining': 1487, 'happy': 1488, 'spots': 1489, 'indicates': 1490, 'ingraham': 1491, 'congressional': 1492, 'beauty': 1493, 'check': 1494, 'arguments': 1495, 'asylum': 1496, 'spring': 1497, 'thee': 1498, 'stallion': 1499, 'tory': 1500, 'lanez': 1501, 'japan': 1502, 'beginning': 1503, 'underground': 1504, 'opioid': 1505, 'easter': 1506, 'demand': 1507, \"live'\": 1508, 'israeli': 1509, 'palestinians': 1510, 'missile': 1511, 'range': 1512, 'between': 1513, 'continue': 1514, 'stephen': 1515, 'authorizes': 1516, 'capitol': 1517, 'schumer': 1518, 'details': 1519, 'ride': 1520, 'surreal': 1521, \"'weekend\": 1522, \"update'\": 1523, 'mocks': 1524, 'upcoming': 1525, 'x': 1526, 'rated': 1527, 'sean': 1528, 'orders': 1529, 'grammys': 1530, \"trump'\": 1531, \"putin's\": 1532, 'skipping': 1533, \"news'\": 1534, 'kirsten': 1535, 'dunst': 1536, 'oscar': 1537, 'filler': 1538, \"'daily\": 1539, 'sleeves': 1540, 'omicron': 1541, 'boosters': 1542, 'flyer': 1543, 'banned': 1544, 'punching': 1545, 'attendant': 1546, 'watcher': 1547, 'employer': 1548, 'cleaner': 1549, 'belk': 1550, 'ricans': 1551, 'desperate': 1552, 'fiona’s': 1553, 'rampage': 1554, 'complexity': 1555, 'affront': 1556, \"body's\": 1557, 'charter': 1558, 'captains': 1559, 'wear': 1560, 'rainbow': 1561, 'armbands': 1562, 'qatar': 1563, 'apparent': 1564, \"japan's\": 1565, 'threatens': 1566, 'bermuda': 1567, 'twitch': 1568, 'gambling': 1569, 'sites': 1570, 'streamer': 1571, 'scams': 1572, 'folks': 1573, '200': 1574, 'agrees': 1575, 'interview': 1576, 'cosmonaut': 1577, 'valery': 1578, 'polyakov': 1579, 'broke': 1580, '437': 1581, 'stay': 1582, '80': 1583, \"'reboot'\": 1584, 'navel': 1585, 'gazey': 1586, 'reboots': 1587, 'maury': 1588, 'wills': 1589, 'base': 1590, 'shortstop': 1591, '89': 1592, 'controlled': 1593, 'regions': 1594, 'schedule': 1595, 'barrels': 1596, 'toward': 1597, 'turks': 1598, 'caicos': 1599, 'islands': 1600, 'golden': 1601, 'globes': 1602, 'nbc': 1603, 'january': 1604, 'defend': 1605, 'taiwan': 1606, 'invaded': 1607, 'bears': 1608, 'dominican': 1609, 'republic': 1610, 'pounding': 1611, 'crashes': 1612, 'reno': 1613, '‘beautiful': 1614, 'sad': 1615, 'time’': 1616, 'cultural': 1617, 'meaning': 1618, 'prisoner': 1619, 'swap': 1620, 'aces': 1621, 'named': 1622, 'respects': 1623, \"'clashed'\": 1624, \"'avatar'\": 1625, \"'french\": 1626, 'spider': 1627, '60th': 1628, 'skyscraper': 1629, \"hole'\": 1630, 'royal': 1631, 'census': 1632, 'takers': 1633, 'fudged': 1634, 'database': 1635, 'fossil': 1636, 'fuels': 1637, 'exposing': 1638, 'mourners': 1639, 'waiting': 1640, 'view': 1641, \"'historic\": 1642, \"level'\": 1643, 'barreling': 1644, 'towards': 1645, 'coast': 1646, 'landslides': 1647, 'approaches': 1648, 'raises': 1649, 'alarm': 1650, 'disease': 1651, 'areas': 1652, 'privatization': 1653, 'isn’t': 1654, 'answer': 1655, 'jackson’s': 1656, 'german': 1657, 'follow': 1658, 'trail': 1659, 'slime': 1660, 'bags': 1661, 'snails': 1662, 'greenlights': 1663, \"'blade\": 1664, 'runner': 1665, \"2099'\": 1666, 'limited': 1667, 'produced': 1668, 'ridley': 1669, 'afghans': 1670, 'escaped': 1671, 'odds': 1672, 'sidesteps': 1673, 'compensation': 1674, \"'63\": 1675, 'kkk': 1676, 'blast': 1677, 'racism': 1678, 'root': 1679, 'capital': 1680, 'phantom': 1681, \"opera'\": 1682, 'broadway': 1683, 'complies': 1684, 'aster': 1685, 'tiktoker': 1686, 'changing': 1687, 'publishing': 1688, 'industry': 1689, 'better': 1690, 'chick': 1691, 'fil': 1692, 'worker': 1693, 'saves': 1694, 'carjacked': 1695, 'viola': 1696, 'davis': 1697, \"kardashian's\": 1698, 'biochemist': 1699, 'podcasters': 1700, '100k': 1701, '2pac’s': 1702, 'cardi': 1703, 'b': 1704, 'donates': 1705, 'middle': 1706, 'bronx': 1707, 'richardson': 1708, 'moscow': 1709, 'whelan': 1710, 'viewership': 1711, 'dips': 1712, 'rail': 1713, 'impacting': 1714, 'travelers': 1715, 'businesses': 1716, 'nominate': 1717, 'magaziner': 1718, 'results': 1719, 'riddled': 1720, 'misinformation': 1721, 'falls': 1722, 'lower': 1723, 'jean': 1724, 'luc': 1725, 'godard': 1726, 'pioneering': 1727, 'minnesota': 1728, 'nurses': 1729, 'renewed': 1730, '‘cancer': 1731, 'moonshot’': 1732, 'tim': 1733, 'downplays': 1734, 'concerns': 1735, 'struggling': 1736, 'boston': 1737, 'marathon': 1738, 'inclusive': 1739, 'nonbinary': 1740, 'runners': 1741, 'varvaro': 1742, 'mlb': 1743, 'pitcher': 1744, 'transit': 1745, 'nod': 1746, 'jfk': 1747, 'pushing': 1748, \"'moonshot'\": 1749, 'ani': 1750, 'liu': 1751, 'brilliantly': 1752, 'disguising': 1753, 'art': 1754, \"'sidney'\": 1755, 'tackles': 1756, 'conversations': 1757, 'cinema': 1758, 'alcaraz': 1759, 'slam': 1760, 'ranking': 1761, 'weather': 1762, 'helping': 1763, 'western': 1764, 'fires': 1765, 'persists': 1766, 'honors': 1767, 'commitment': 1768, 'thwart': 1769, 'terror': 1770, 'reverberate': 1771, '21st': 1772, 'reactor': 1773, 'zaporizhzhia': 1774, 'stopped': 1775, 'processor': 1776, 'visa': 1777, 'start': 1778, 'categorizing': 1779, 'propose': 1780, 'arbiter': 1781, 'presents': 1782, 'scenes': 1783, \"'avatar\": 1784, \"water'\": 1785, 'd23': 1786, 'expo': 1787, 'pulling': 1788, 'southern': 1789, 'wave': 1790, 'claws': 1791, 'territory': 1792, 'peril': 1793, 'concert': 1794, 'denials': 1795, \"'our\": 1796, 'hearts': 1797, \"broken'\": 1798, 'pages': 1799, 'jojo': 1800, 'siwa': 1801, 'prestigious': 1802, 'glsen': 1803, 'honor': 1804, 'advocacy': 1805, \"politician's\": 1806, 'dna': 1807, 'connected': 1808, 'journalist’s': 1809, 'michelle': 1810, 'celebrated': 1811, 'wearing': 1812, 'braids': 1813, 'portrait': 1814, 'unveiling': 1815, 'norman': 1816, 'reedus': 1817, \"'walking\": 1818, \"dead'\": 1819, 'injury': 1820, 'amendment': 1821, \"november's\": 1822, 'portland': 1823, 'disabilities': 1824, \"city's\": 1825, 'blocked': 1826, 'sidewalks': 1827, '32': 1828, 'karaoke': 1829, 'parlor': 1830, 'vietnam': 1831, 'joins': 1832, 'afl': 1833, 'cio': 1834, 'muslims': 1835, 'only': 1836, 'characters': 1837, 'study': 1838, 'insurance': 1839, 'system': 1840, 'ready': 1841, 'recession': 1842, 'outage': 1843, 'leads': 1844, 'delays': 1845, 'jams': 1846, 'shelling': 1847, 'prompts': 1848, 'computer': 1849, 'systems': 1850, 'moving': 1851, 'fairview': 1852, 'shohei': 1853, 'ohtani': 1854, 'trails': 1855, '671': 1856, 'ks': 1857, 'pressure': 1858, \"'solid'\": 1859, 'meta': 1860, 'fined': 1861, '400': 1862, 'regulators': 1863, 'starts': 1864, 'today': 1865, 'deadly': 1866, 'rockets': 1867, 'artillery': 1868, 'shells': 1869, 'korea': 1870, \"i'm\": 1871, \"doing'\": 1872, 'worried': 1873, '‘violence': 1874, 'disruption’': 1875, 'citing': 1876, 'imminent': 1877, 'cloudflare': 1878, 'kiwi': 1879, 'farms': 1880, 'spotted': 1881, 'chilling': 1882, 'swimming': 1883, 'graders': 1884, 'waited': 1885, 'hour': 1886, 'endorsed': 1887, 'pitchforks': 1888, 'memphis': 1889, \"jogger's\": 1890, 'disappearance': 1891, 'fema': 1892, '‘too': 1893, 'early’': 1894, 'clean': 1895, 'natural': 1896, 'due': 1897, 'monsoon': 1898, 'massacre': 1899, 'declared': 1900, 'flash': 1901, 'northwest': 1902, \"osbournes'\": 1903, 'british': 1904, 'bbc': 1905, \"'same\": 1906, 'laughter': 1907, \"tears'\": 1908, 'circled': 1909, 'threatening': 1910, 'landed': 1911, 'ruins': 1912, \"nasa's\": 1913, 'launching': 1914, 'migrants': 1915, 'rio': 1916, 'grande': 1917, 'patrol': 1918, 'england': 1919, 'frozen': 1920, 'yogurt': 1921, 'shops': 1922, 'hiding': 1923, 'camera': 1924, 'counsel': 1925, 'pat': 1926, 'cipollone': 1927, 'grand': 1928, 'danielle': 1929, 'strengthens': 1930, 'current': 1931, 'fixing': 1932, 'leaks': 1933, 'hiring': 1934, 'slowed': 1935, 'august': 1936, 'employers': 1937, 'add': 1938, '315': 1939, 'claimed': 1940, 'unborn': 1941, 'hov': 1942, 'lane': 1943, 'passenger': 1944, 'ticket': 1945, 'freeze': 1946, 'dry': 1947, 'breast': 1948, 'milk': 1949, 'louisiana': 1950, 'nun': 1951, \"'alive\": 1952, \"safe'\": 1953, 'armed': 1954, 'ku': 1955, 'klux': 1956, 'klan': 1957, 'plaque': 1958, 'mounted': 1959, \"point's\": 1960, 'commission': 1961, 'toxic': 1962, 'algae': 1963, 'wash': 1964, 'ashore': 1965, 'loeb': 1966, 'paved': 1967, 'feat': 1968, 'independent': 1969, 'artists': 1970, \"jordan's\": 1971, 'judiciary': 1972, \"'threat'\": 1973, 'pic': 1974, 'mikhail': 1975, '1998': 1976, 'hut': 1977, 'resurfaces': 1978, 'ignore': 1979, 'hoarding': 1980, '‘fox': 1981, 'friends’': 1982, 'kept': 1983, 'accusers': 1984, 'stocks': 1985, 'dive': 1986, 'spac': 1987, 'merger': 1988, 'you’re': 1989, 'grinding': 1990, 'teeth': 1991, \"'safety\": 1992, \"first'\": 1993, 'reschedules': 1994, 'artemis': 1995, 'mission': 1996, 'ornato': 1997, 'vow': 1998, \"two'\": 1999, 'dives': 2000, 'downfall': 2001, 'twisted': 2002, 'nxivm': 2003, 'cult': 2004, 'moms': 2005, 'dread': 2006, 'disgust': 2007, 'despair': 2008, 'yung': 2009, 'gravy': 2010, 'addison': 2011, 'rae’s': 2012, 'date': 2013, 'certain': 2014, 'using': 2015, 'controversial': 2016, 'tool': 2017, 'campaigning': 2018, \"'riots\": 2019, \"streets'\": 2020, \"'disgusting'\": 2021, 'person': 2022, 'award': 2023, 'enthusiastic': 2024, \"'climate\": 2025, \"catastrophe'\": 2026, 'conducted': 2027, 'active': 2028, 'drill': 2029, 'employees': 2030, 'kash': 2031, 'patel': 2032, \"life's\": 2033, 'speaking': 2034, 'fake': 2035, 'heiress': 2036, 'infiltrated': 2037, 'arcade': 2038, 'butler': 2039, 'jr': 2040, \"'dick\": 2041, \"pic'\": 2042, \"'redact\": 2043, 'attorneys': 2044, 'motion': 2045, 'regarding': 2046, 'fisherman': 2047, 'snagged': 2048, 'prehistoric': 2049, 'treasure': 2050, 'instead': 2051, \"'nasty\": 2052, \"troll'\": 2053, 'nikki': 2054, 'glaser': 2055, 'absolutely': 2056, 'scorching': 2057, 'nsfw': 2058, 'monologue': 2059, 'insecurely': 2060, 'storing': 2061, 'sensitive': 2062, 'intel': 2063, 'trademark': 2064, 'woes': 2065, 'finish': 2066, 'kangaroo': 2067, 'move': 2068, 'goods': 2069, 'flowing': 2070, 'temporarily': 2071, 'dakota': 2072, 'trigger': 2073, 'banning': 2074, 'berkeley': 2075, 'japan’s': 2076, 'shinzo': 2077, 'assassination': 2078, \"victims'\": 2079, 'multi': 2080, 'dan': 2081, 'goldman': 2082, 'narrowly': 2083, 'leading': 2084, 'markwayne': 2085, 'mullin': 2086, 'oklahoma': 2087, 'succeed': 2088, 'inhofe': 2089, 'charlie': 2090, 'crist': 2091, 'chance': 2092, '132': 2093, 'theories': 2094, 'borrowers': 2095, 'await': 2096, 'forgiveness': 2097, \"'house\": 2098, \"dragon'\": 2099, 'ratings': 2100, 'watched': 2101, 'premiere': 2102, 'allison': 2103, 'buddy': 2104, \"holly's\": 2105, 'drummer': 2106, 'garfield': 2107, 'confirms': 2108, 'method': 2109, \"'being\": 2110, \"asshole'\": 2111, \"'fascism'\": 2112, 'arm': 2113, 'tactics': 2114, 'trash': 2115, 'readies': 2116, 'pause': 2117, 'bittersweet': 2118, 'legislative': 2119, 'broadcaster': 2120, 'satirical': 2121, 'teachers': 2122, \"ohio's\": 2123, 'began': 2124, 'falling': 2125, 'premier': 2126, 'imran': 2127, 'khan': 2128, 'minneapolis': 2129, 'ignites': 2130, 'firestorm': 2131, 'hawaii': 2132, 'conflict': 2133, 'astronomy': 2134, 'metal': 2135, 'detecting': 2136, 'stranger': 2137, 'retrieves': 2138, 'woman’s': 2139, 'sea': 2140, 'leon': 2141, 'vitali': 2142, 'kubrick’s': 2143, 'hand': 2144, '74': 2145, '‘dragon': 2146, 'ball': 2147, 'super’': 2148, 'bests': 2149, '‘beast’': 2150, 'parkland': 2151, 'shooter’s': 2152, 'present': 2153, 'bringing': 2154, 'line': 2155, 'considered': 2156, 'tokyo': 2157, 'dorli': 2158, 'rainey': 2159, 'symbol': 2160, 'occupy': 2161, '95': 2162, 'did': 2163, \"wendy's\": 2164, 'lettuce': 2165, 'sandwiches': 2166, 'coli': 2167, 'attacking': 2168, 'chest': 2169, 'pain': 2170, 'mitch': 2171, 'mcconnell': 2172, 'downbeat': 2173, 'forecast': 2174, 'vanessa': 2175, 'grief': 2176, 'rapper': 2177, 'young': 2178, 'thug': 2179, 'denied': 2180, 'bond': 2181, 'racketeering': 2182, 'gang': 2183, 'ask': 2184, 'warrant': 2185, \"'studying'\": 2186, '34': 2187, 'priority': 2188, 'vaccines': 2189, 'org': 2190, 'cfo': 2191, 'settles': 2192, 'suspension': 2193, \"'mike'\": 2194, 'flawed': 2195, 'allure': 2196, 'authorized': 2197, 'biopics': 2198, 'talks': 2199, 'settlement': 2200, 'progress': 2201, 'agency': 2202, 'shortcomings': 2203, 'motors': 2204, '484': 2205, 'vehicles': 2206, \"'improperly'\": 2207, 'formed': 2208, 'belts': 2209, 'parenthood': 2210, 'spend': 2211, \"'multiple\": 2212, 'schemes': 2213, 'feds': 2214, 'syria': 2215, 'holding': 2216, 'tice': 2217, 'nba': 2218, 'effort': 2219, 'voter': 2220, 'catches': 2221, 'france': 2222, 'pet': 2223, 'transmission': 2224, 'denver': 2225, 'broncos’': 2226, 'purchase': 2227, 'minority': 2228, 'period': 2229, 'products': 2230, 'scotland': 2231, 'tiger': 2232, 'liv': 2233, 'must': 2234, 'soap': 2235, 'robyn': 2236, 'griggs': 2237, '49': 2238, 'six': 2239, 'flags': 2240, 'iran': 2241, 'involvement': 2242, 'justifies': 2243, 'lawyers': 2244, \"griner's\": 2245, 'flies': 2246, 'ranks': 2247, 'coptic': 2248, 'cairo': 2249, '41': 2250, 'meteor': 2251, \"'boom'\": 2252, 'sound': 2253, 'utah': 2254, 'road': 2255, \"'catastrophic\": 2256, \"failure'\": 2257, 'grab': 2258, 'sinema': 2259, 'took': 2260, 'investors': 2261, 'hopping': 2262, 'stands': 2263, 'author': 2264, 'hospitalized': 2265, \"'shocking'\": 2266, 'sends': 2267, 'scrambling': 2268, 'determine': 2269, 'source': 2270, 'cleveland': 2271, 'browns': 2272, 'qb': 2273, 'apologizes': 2274, '‘to': 2275, 'impacted’': 2276, 'announced': 2277, 'bike': 2278, 'lanes': 2279, 'across': 2280, 'detected': 2281, \"nyc's\": 2282, 'sewage': 2283, 'suggesting': 2284, 'circulating': 2285, 'democrats’': 2286, 'reduce': 2287, 'quarantine': 2288, 'screening': 2289, 'recommendations': 2290, 'feathers': 2291, 'fly': 2292, 'turkey': 2293, 'dodges': 2294, 'slapstick': 2295, 'apartment': 2296, 'chase': 2297, 'martin': 2298, '‘only': 2299, 'building’': 2300, 'role': 2301, 'nh': 2302, 'shifts': 2303, 'homicide': 2304, 'highest': 2305, 'november': 2306, 'dip': 2307, 'below': 2308, \"fx's\": 2309, \"'justified'\": 2310, 'interruption': 2311, 'weeks': 2312, 'convicted': 2313, 'dissidents': 2314, 'saudis': 2315, 'stranded': 2316, 'whale': 2317, 'removal': 2318, 'river': 2319, 'sesame': 2320, 'diversity': 2321, 'heard': 2322, 'can’t': 2323, 'giuliani': 2324, 'won’t': 2325, 'tuesday': 2326, \"'hustled'\": 2327, 'onto': 2328, 'jay': 2329, \"z's\": 2330, \"gangster'\": 2331, 'joined': 2332, 'pga': 2333, 'postseason': 2334, 'broncos': 2335, 'history': 2336, 'sold': 2337, 'narcotics': 2338, 'anonymous': 2339, 'parades': 2340, \"'look\": 2341, 'scolded': 2342, 'outburst': 2343, 'maggie': 2344, 'hassan': 2345, 'eyed': 2346, 'slayings': 2347, '‘come': 2348, 'bernie': 2349, 'credit': 2350, 'hide': 2351, 'worst': 2352, 'tan': 2353, 'lines': 2354, 'pros': 2355, '57': 2356, 'diabetics': 2357, 'pitt’s': 2358, \"flash'\": 2359, \"miller's\": 2360, 'controversies': 2361, 'expresses': 2362, 'killings': 2363, 'l': 2364, 'lightning': 2365, '120': 2366, 'cuban': 2367, 'recovering': 2368, 'extreme': 2369, 'woody': 2370, 'harrelson': 2371, 'doppelgänger': 2372, 'poem': 2373, \"'vigilant'\": 2374, 'billboard': 2375, 'rid': 2376, 'leftover': 2377, 'dairy': 2378, 'product': 2379, 'fridge': 2380, 'couple': 2381, 'gator': 2382, \"'zachary'\": 2383, \"they'd\": 2384, 'underappreciated': 2385, 'prescription': 2386, 'drug': 2387, 'senators': 2388, 'special': 2389, 'exhibit': 2390, 'sobbing': 2391, 'rioter': 2392, 'jail': 2393, 'speeding': 2394, 'busts': 2395, 'tty': 2396, \"thing'\": 2397, 'screw': 2398, 'scientist': 2399, 'claiming': 2400, 'chorizo': 2401, 'slice': 2402, 'distant': 2403, 'fertility': 2404, 'treatment': 2405, 'puts': 2406, 'many': 2407, 'manage': 2408, \"'cafeteria\": 2409, \"realize'\": 2410, 'what’s': 2411, 'max': 2412, \"kanye's\": 2413, 'friendship': 2414, 'demi': 2415, 'lovato': 2416, 'wilmer': 2417, 'valderrama': 2418, 'gap': 2419, 'sinkhole': 2420, 'swallows': 2421, 'chilean': 2422, 'mining': 2423, 'gomez': 2424, 'developing': 2425, 'reboot': 2426, \"'80s\": 2427, \"'working\": 2428, \"girl'\": 2429, 'volcano': 2430, 'iceland’s': 2431, 'main': 2432, 'dui': 2433, 'ana': 2434, 'de': 2435, 'armas': 2436, 'marilyn': 2437, 'monroe': 2438, 'accent': 2439, 'hilary': 2440, \"duff's\": 2441, 'husband': 2442, 'candace': 2443, 'bure': 2444, 'ignorant': 2445, 'jones’': 2446, 'apologies': 2447, '‘are': 2448, 'worthless’': 2449, 'bandit': 2450, \"'guard\": 2451, \"cat'\": 2452, 'hailed': 2453, 'hero': 2454, 'thwarting': 2455, 'robbery': 2456, 'fold': 2457, 'blocking': 2458, 'professor': 2459, 'incoming': 2460, 'freshman': 2461, 'cooked': 2462, 'traded': 2463, 'lunches': 2464, 'comes': 2465, 'bid': 2466, 'yolanda': 2467, 'hadid': 2468, 'depression': 2469, 'lyme': 2470, 'relapse': 2471, 'suraj': 2472, 'patel’s': 2473, 'tightening': 2474, 'sources': 2475, \"'micro\": 2476, \"transitions'\": 2477, 'causing': 2478, 'infrastructure': 2479, 'damage': 2480, 'hampers': 2481, 'vulnerable': 2482, 'theme': 2483, \"charles'\": 2484, 'charity': 2485, 'donation': 2486, 'bin': 2487, 'ladens': 2488, '‘dc': 2489, 'pets’': 2490, 'chinese': 2491, 'debris': 2492, 'cascades': 2493, 'casino': 2494, 'ceilings': 2495, 'thunderstorms': 2496, 'desert': 2497, 'reveal': 2498, 'ivana': 2499, 'resting': 2500, 'bedminster': 2501, 'suggests': 2502, \"public'\": 2503, 'inspector': 2504, 'notify': 2505, \"'covington\": 2506, \"kid'\": 2507, 'nicholas': 2508, 'sandmann': 2509, 'suits': 2510, 'outlets': 2511, 'skirt': 2512, 'short': 2513, 'witness': 2514, 'kenan': 2515, 'thompson': 2516, '50th': 2517, \"'might\": 2518, \"idea'\": 2519, 'principal': 2520, 'reinstated': 2521, 'infowars': 2522, 'sidekick': 2523, 'owen': 2524, 'shroyer': 2525, 'beyoncé': 2526, 'glimpse': 2527, 'reconciliation': 2528, 'package': 2529, \"'biggest\": 2530, \"history'\": 2531, 'unarmed': 2532, 'shoplifting': 2533, 'houston': 2534, 'cuomo': 2535, 'cable': 2536, 'cnn': 2537, 'ouster': 2538, 'violating': 2539, \"floyd's\": 2540, 'joni': 2541, 'ernst': 2542, 'joseph': 2543, 'quinn': 2544, 'demanding': 2545, 'medical': 2546, 'keynote': 2547, 'speaker': 2548, 'opposes': 2549, 'eligible': 2550, 'run': 2551, 'jackie': 2552, 'museum': 2553, 'planning': 2554, \"'4\": 2555, 'shock': 2556, \"troops'\": 2557, \"'deconstruct'\": 2558, 'government': 2559, \"'brick\": 2560, \"brick'\": 2561, '‘goodfellas’': 2562, '‘law': 2563, 'order’': 2564, '83': 2565, 'mira': 2566, 'duncan': 2567, 'notre': 2568, 'dame': 2569, '35': 2570, 'rookie': 2571, 'metchie': 2572, 'iii': 2573, 'diagnosed': 2574, 'leukemia': 2575, \"'likely'\": 2576, 'armand': 2577, 'duplantis': 2578, 'pole': 2579, 'vault': 2580, 'reignites': 2581, 'comparison': 2582, 'timothee': 2583, 'chalamet': 2584, 'muhammad': 2585, \"ali's\": 2586, \"'rumble\": 2587, \"jungle'\": 2588, 'belt': 2589, 'improves': 2590, \"'significantly\": 2591, 'throat': 2592, 'sore': 2593, 'point': 2594, \"hawley's\": 2595, 'newspaper': 2596, 'chides': 2597, \"'laughingstock'\": 2598, 'tent': 2599, 'kid': 2600, 'cudi': 2601, 'offstage': 2602, 'rolling': 2603, 'kanye': 2604, 'spirituality': 2605, 'it’s': 2606, 'queer': 2607, 'journal': 2608, 'editorial': 2609, 'boards': 2610, 'condemn': 2611, 'kari': 2612, 'walked': 2613, 'career': 2614, 'journalism': 2615, \"she's\": 2616, 'relationship': 2617, 'jo': 2618, 'koy': 2619, 'choose': 2620, \"myself'\": 2621, '16': 2622, '22': 2623, '195': 2624, 'smiles': 2625, 'sand': 2626, '9th': 2627, 'replace': 2628, 'messy': 2629, 'toss': 2630, 'mckinnon': 2631, 'silence': 2632, \"'my\": 2633, \"tired'\": 2634, 'allows': 2635, 'effect': 2636, 'modest': 2637, 'executive': 2638, 'stalls': 2639, 'chronic': 2640, 'starvation': 2641, 'manatees': 2642, \"'committed\": 2643, \"enemy'\": 2644, 'october': 2645, '5k': 2646, 'gaga’s': 2647, \"'really\": 2648, 'celebrating': 2649, 'sober': 2650, 'recover': 2651, 'archives': 2652, \"'90\": 2653, \"fiancé'\": 2654, 'wanted': 2655, 'begins': 2656, 'stars': 2657, 'rose': 2658, \"'sleaziest\": 2659, 'weeknd': 2660, 'sour': 2661, 'false': 2662, 'allegations': 2663, 'commissioner': 2664, '‘failed': 2665, 'contain’': 2666, \"girl's\": 2667, 'once': 2668, 'vicious': 2669, 'kidnapping': 2670, 'accusations': 2671, 'senator': 2672, 'wrong': 2673, 'jak': 2674, 'knight': 2675, \"mouth'\": 2676, 'comedy': 2677, 'moments': 2678, 'craig': 2679, \"principal's\": 2680, 'activism': 2681, \"'got\": 2682, \"fired'\": 2683, 'highway': 2684, 'trooper': 2685, 'county': 2686, 'celebrate': 2687, 'barbra': 2688, \"streisand's\": 2689, 'posed': 2690, 'nurse': 2691, 'newborn': 2692, 'barkley': 2693, \"'if\": 2694, 'transgender': 2695, 'deleted': 2696, \"'oh\": 2697, \"no'\": 2698, 'coulier': 2699, 'alanis': 2700, \"morissette's\": 2701, 'oughta': 2702, \"know'\": 2703, 'longer': 2704, 'deficit': 2705, 'means': 2706, 'babies': 2707, 'recruits': 2708, 'snooki': 2709, \"'jersey\": 2710, \"shore'\": 2711, 'alexandria': 2712, 'ocasio': 2713, 'cortez': 2714, 'thank': 2715, 'harasser': 2716, 'deny': 2717, 'saving': 2718, 'anderson': 2719, 'favorite': 2720, 'uber': 2721, 'sued': 2722, 'alleging': 2723, 'drivers': 2724, 'admin': 2725, 'pharmacists': 2726, 'prescriptions': 2727, 'similar': 2728, 'medication': 2729, 'ancient': 2730, 'tomb': 2731, 'arthur': 2732, 'excavated': 2733, 'selling': 2734, 'ghost': 2735, 'drugs': 2736, 'punk': 2737, 'band': 2738, 'responds': 2739, 'keeper': 2740, 'wears': 2741, 'bonkers': 2742, 'rant': 2743, 'miraculously': 2744, 'vesuvius': 2745, '‘galaxy': 2746, 'gazing': 2747, 'stargazing’': 2748, 'cosmologists': 2749, 'awed': 2750, 'image': 2751, 'images': 2752, 'telescope': 2753, 'snubs': 2754, 'surprises': 2755, 'nominations': 2756, 'foe': 2757, 'sassy': 2758, 'banner': 2759, 'eddie': 2760, 'munson': 2761, 'ultimate': 2762, \"'girl\": 2763, \"picture'\": 2764, 'orange': 2765, 'wine': 2766, 'everything': 2767, 'wide': 2768, 'variety': 2769, 'expressions': 2770, 'surfer': 2771, 'gnarly': 2772, 'novak': 2773, 'djokovic': 2774, 'beats': 2775, 'nick': 2776, 'kyrgios': 2777, '7th': 2778, 'resurgence': 2779, 'doll': 2780, '15': 2781, 'bar': 2782, 'zoe': 2783, 'lofgren': 2784, 'sri': 2785, 'lanka': 2786, 'unrest': 2787, 'restricted': 2788, 'crowded': 2789, 'bolster': 2790, 'swarm': 2791, \"bannon's\": 2792, 'frightening': 2793, \"'swatting'\": 2794, 'normal': 2795, 'ny': 2796, 'applicants': 2797, 'soon': 2798, 'accounts': 2799, 'screened': 2800, 'schnapp': 2801, \"cat's\": 2802, 'thirsting': 2803, \"aap's\": 2804, 'guidelines': 2805, 'hungover': 2806, 'panic': 2807, 'dirty': 2808, 'shirley': 2809, 'drink': 2810, 'displaces': 2811, \"caan's\": 2812, 'inspires': 2813, 'admirers': 2814, \"godfather'\": 2815, 'caan': 2816, 'safe': 2817, 'swim': 2818, 'eating': 2819, 'good': 2820, 'pamplona': 2821, 'bulls': 2822, 'twins': 2823, 'execs': 2824, 'bradford': 2825, 'freeman': 2826, 'famed': 2827, \"'band\": 2828, \"brothers'\": 2829, 'unit': 2830, '97': 2831, 'santana': 2832, 'collapses': 2833, 'finger': 2834, 'weed': 2835, 'oliver': 2836, 'freaky': 2837, 'sun': 2838, 'soaked': 2839, 'updates': 2840, 'jello': 2841, 'trend': 2842, 'achieve': 2843, 'patrick': 2844, 'lyoya’s': 2845, 'casts': 2846, 'mishandle': 2847, \"boebert's\": 2848, 'denmark': 2849, 'slammed': 2850, \"'deadly'\": 2851, 'stupid': 2852, 'condemns': 2853, 'compares': 2854, \"'hiring\": 2855, 'staff': 2856, 'adele': 2857, 'residency': 2858, \"'brutal'\": 2859, 'stalker': 2860, \"there's\": 2861, \"'ample\": 2862, 'probable': 2863, 'insurrection': 2864, 'crosby': 2865, 'stills': 2866, \"nash's\": 2867, 'music': 2868, 'spotify': 2869, 'rogan': 2870, 'shakes': 2871, 'nation': 2872, 'arredondo': 2873, 'bison': 2874, 'pediatrician': 2875, 'axed': 2876, 'comments': 2877, 'perfectly': 2878, 'preserved': 2879, 'restaurant': 2880, 'compassion': 2881, 'fatigue': 2882, 'experiencing': 2883, \"'tiger\": 2884, 'animal': 2885, 'laundering': 2886, '‘kimmel’': 2887, 'shames': 2888, '‘biggest': 2889, 'moron': 2890, 'elected’': 2891, 'royals’': 2892, 'spending': 2893, 'palace': 2894, 'properly': 2895, 'ended': 2896, 'gabby': 2897, \"petito's\": 2898, \"laundrie's\": 2899, 'revealing': 2900, 'message': 2901, \"court's\": 2902, 'overturn': 2903, 'harassing': 2904, \"'menudo\": 2905, \"young'\": 2906, 'exploitative': 2907, 'nature': 2908, 'bands': 2909, 'msnbc': 2910, \"maddow's\": 2911, 'successor': 2912, 'wagner': 2913, 'gop’s': 2914, 'hysteria': 2915, 'spreading': 2916, 'drag': 2917, 'remove': 2918, 'offering': 2919, 'pills': 2920, 'nazi': 2921, 'germany': 2922, 'reflected': 2923, 'homophobia': 2924, 'throughout': 2925, 'decade': 2926, 'mariah': 2927, 'carey': 2928, \"latto's\": 2929, 'performance': 2930, 'diddy': 2931, 'honored': 2932, 'lifetime': 2933, 'achievement': 2934, 'studded': 2935, \"'truth\": 2936, \"hurts'\": 2937, 'ag': 2938, 'hecklers': 2939, \"'shut\": 2940, \"up'\": 2941, 'ben': 2942, \"affleck's\": 2943, 'drives': 2944, 'lamborghini': 2945, 'rental': 2946, 'parked': 2947, 'kendrick': 2948, 'lamar': 2949, 'glastonbury': 2950, 'green': 2951, 'frontman': 2952, 'renouncing': 2953, 'citizenship': 2954, \"america'\": 2955, \"'culture's\": 2956, \"night'\": 2957, 'netherlands': 2958, 'crises': 2959, 'bets': 2960, 'trudeau': 2961, 'sweltering': 2962, '18': 2963, '24': 2964, 'olivia': 2965, 'rodrigo': 2966, 'allen': 2967, \"you'\": 2968, 'aimed': 2969, 'justices': 2970, 'truck': 2971, 'driver': 2972, 'rams': 2973, 'demonstrators': 2974, 'overturns': 2975, 'landmark': 2976, 'deborah': 2977, 'birx': 2978, 'sent': 2979, \"'woke'\": 2980, 'backing': 2981, \"'army\": 2982, \"awakened'\": 2983, 'clarence': 2984, 'contraception': 2985, 'clear': 2986, \"'persuasion\": 2987, \"'virgin\": 2988, \"river'\": 2989, '‘go': 2990, 'country’': 2991, 'spelling': 2992, 'gleefully': 2993, 'empire': 2994, 'dumping': 2995, '52': 2996, 'hostage': 2997, 'thanks': 2998, 'grubhub': 2999, 'note': 3000, 'arbitration': 3001, \"flores'\": 3002, 'racial': 3003, 'discrimination': 3004, 'decided': 3005, 'introduce': 3006, 'davidson': 3007, 'takeaways': 3008, \"committee's\": 3009, 'emme': 3010, 'pronouns': 3011, 'opinions': 3012, 'beyoncé': 3013, '‘break': 3014, 'soul’': 3015, 'drake’s': 3016, 'ginni': 3017, 'spread': 3018, 'settle': 3019, \"trial's\": 3020, 'sequel': 3021, 'school’s': 3022, 'theater': 3023, 'push': 3024, 'methods': 3025, '69': 3026, 'alternatives': 3027, 'try': 3028, 'caffeine': 3029, 'jittery': 3030, 'watergate': 3031, \"'send\": 3032, \"jail'\": 3033, 'consider': 3034, \"kid's\": 3035, 'swimsuit': 3036, 'color': 3037, 'shiloh': 3038, 'jolie': 3039, 'dances': 3040, 'clip': 3041, 'haggis': 3042, 'italy': 3043, 'troop': 3044, 'morale': 3045, 'concern': 3046, '‘years’': 3047, \"'happy'\": 3048, 'pharrell': 3049, 'pays': 3050, 'naacp': 3051, 'youth': 3052, 'classroom': 3053, 'elite': 3054, 'battleground': 3055, 'america’s': 3056, 'wars': 3057, 'recommends': 3058, 'nerf': 3059, 'mascot': 3060, 'monstrous': 3061, 'heads': 3062, 'rants': 3063, \"walker's\": 3064, 'fathers': 3065, 'awkward': 3066, 'swalwell': 3067, 'give': 3068, 'equal': 3069, 'right’s': 3070, 'meticulously': 3071, 'kinds': 3072, 'behaviors': 3073, 'mock': 3074, \"navarro's\": 3075, 'desire': 3076, 'cook': 3077, 'disparaging': 3078, 'dads': 3079, 'bug': 3080, 'bites': 3081, 'dermatologists': 3082, \"giuliani's\": 3083, \"'diet\": 3084, \"pepsi'\": 3085, 'claim': 3086, 'daca’s': 3087, '10th': 3088, 'conversation': 3089, 'dreamers': 3090, 'millions': 3091, \"'move\": 3092, \"on'\": 3093, \"gosling's\": 3094, 'version': 3095, 'serious': 3096, \"'earring\": 3097, 'magic': 3098, \"ken'\": 3099, 'vibes': 3100, 'ified': 3101, 'bleach': 3102, 'blond': 3103, \"'barbie'\": 3104, 'transformation': 3105, 'rice': 3106, 'changes': 3107, 'lyric': 3108, 'criticism': 3109, 'ableist': 3110, 'slur': 3111, 'tyler': 3112, 'perry': 3113, 'misspells': 3114, 'address': 3115, 'candidacy': 3116, 'jokes': 3117, 'floods': 3118, 'wipe': 3119, 'strand': 3120, 'visitors': 3121, 'contestant': 3122, 'monumentally': 3123, 'guess': 3124, 'caine': 3125, 'shatters': 3126, 'fatal': 3127, 'overdose': 3128, 'fentanyl': 3129, 'blamed': 3130, 'rooting': 3131, 'deniers': 3132, \"'degrassi\": 3133, \"generation'\": 3134, 'moved': 3135, 'needle': 3136, 'ago': 3137, 'groff': 3138, 'lea': 3139, 'michele': 3140, \"'spring\": 3141, \"awakening'\": 3142, 'reunion': 3143, 'paris': 3144, 'mick': 3145, 'mulvaney': 3146, 'trashes': 3147, \"'garbage'\": 3148, 'easy': 3149, 'order': 3150, 'iced': 3151, 'jong': 3152, 'rallies': 3153, \"korea's\": 3154, 'buildup': 3155, 'google': 3156, 'engineer': 3157, 'ai': 3158, 'program': 3159, 'sentient': 3160, '31': 3161, 'patriot': 3162, 'extremists': 3163, 'aiming': 3164, \"'riot'\": 3165, 'misusing': 3166, 'boost': 3167, 'business': 3168, 'rolls': 3169, 'refuses': 3170, 'knew': 3171, 'lied': 3172, \"'ego'\": 3173, 'jeff': 3174, 'lessons': 3175, 'bouts': 3176, 'blames': 3177, \"'everybody\": 3178, \"country'\": 3179, 'felt': 3180, 'bowl': 3181, 'shakira': 3182, \"'worst\": 3183, 'dismissed': 3184, \"counsel's\": 3185, \"'whining'\": 3186, 'common': 3187, 'novavax': 3188, 'answered': 3189, 'dwayne': 3190, \"rock'\": 3191, 'intense': 3192, 'superhero': 3193, \"'black\": 3194, \"adam'\": 3195, 'grooming': 3196, \"'cult\": 3197, \"like'\": 3198, 'behavior': 3199, \"'fire\": 3200, \"island'\": 3201, 'bechdel': 3202, 'thoughts': 3203, 'dipping': 3204, 'sauces': 3205, 'fries': 3206, 'ketchup': 3207, 'algorithm': 3208, 'aided': 3209, 'groups': 3210, 'harvey': 3211, 'weinstein': 3212, '1996': 3213, 'snoop': 3214, 'dogg': 3215, 'full': 3216, 'blunt': 3217, 'roller': 3218, \"'their\": 3219, 'salary': 3220, 'phil': 3221, 'mickelson': 3222, 'grilled': 3223, \"'saudi\": 3224, \"stooge'\": 3225, 'trevante': 3226, 'rhodes': 3227, 'tyson': 3228, 'hulu': 3229, 'sleep': 3230, 'cole': 3231, \"sprouse's\": 3232, 'naked': 3233, 'cracked': 3234, 'goofy': 3235, 'ripped': 3236, 'complaining': 3237, 'pleasant': 3238, 'prevent': 3239, 'chafing': 3240, 'outraged': 3241, 'matthew': 3242, 'mcconaughey': 3243, 'begs': 3244, 'commonsense': 3245, 'laws': 3246, 'keanu': 3247, 'reeves': 3248, \"internet's\": 3249, 'alexandra': 3250, 'grant': 3251, 'pics': 3252, 'creators': 3253, 'admit': 3254, 'huge': 3255, 'continuity': 3256, 'emotional': 3257, \"'ride\": 3258, 'steals': 3259, 'iconic': 3260, 'antics': 3261, 'platinum': 3262, 'jubilee': 3263, 'buttigieg': 3264, \"'door'\": 3265, \"'definition\": 3266, \"insanity'\": 3267, 'african': 3268, 'pastor': 3269, 'python': 3270, \"'very\": 3271, 'fitting': 3272, \"goodbye'\": 3273, 'saw': 3274, 'norm': 3275, 'macdonald': 3276, 'murphy': 3277, \"'we're\": 3278, 'closer': 3279, \"before'\": 3280, 'bipartisan': 3281, 'legislation': 3282, \"alaska's\": 3283, 'unusual': 3284, 'draws': 3285, 'santa': 3286, '46': 3287, 'others': 3288, 'waters': 3289, 'complains': 3290, 'taste': 3291, 'negotiators': 3292, '‘some': 3293, 'space’': 3294, 'rafael': 3295, 'nadal': 3296, '14th': 3297, 'defeating': 3298, 'casper': 3299, 'ruud': 3300, 'dispatcher': 3301, 'hanging': 3302, 'vivica': 3303, 'unloads': 3304, \"accountability'\": 3305, 'robbed': 3306, 'rifle': 3307, 'gunpoint': 3308, 'bees': 3309, 'semiautomatic': 3310, 'rifles': 3311, 'wife': 3312, 'confederate': 3313, 'slavery': 3314, '‘fire': 3315, 'island’': 3316, 'remixes': 3317, 'austen': 3318, 'tale': 3319, 'blazing': 3320, 'discusses': 3321, \"davidson's\": 3322, \"'bde'\": 3323, 'avenatti': 3324, 'defrauding': 3325, 'stormy': 3326, 'daniels': 3327, 'reconcile': 3328, 'levar': 3329, 'burton': 3330, '‘wrecked’': 3331, 'unionizing': 3332, 'apple': 3333, 'plus': 3334, 'size': 3335, 'harder': 3336, \"biden's\": 3337, 'daughter': 3338, 'hunter': 3339, \"'west\": 3340, 'side': 3341, 'zegler': 3342, \"'hunger\": 3343, \"games'\": 3344, 'prequel': 3345, 'censorship': 3346, \"uvalde's\": 3347, 'steps': 3348, 'visitations': 3349, 'funerals': 3350, 'burials': 3351, \"clemens'\": 3352, 'detroit': 3353, 'tigers': 3354, 'crashing': 3355, 'teeming': 3356, 'alligators': 3357, 'sonic': 3358, 'absolute': 3359, 'lurking': 3360, 'fry': 3361, 'machine': 3362, 'bring': 3363, 'therapy': 3364, 'angel': 3365, 'statue': 3366, 'beheaded': 3367, 'relic': 3368, 'drinking': 3369, 'affects': 3370, 'differently': 3371, 'da': 3372, 'bury': 3373, 'fed': 3374, \"'grave\": 3375, \"damage'\": 3376, 'bishop': 3377, 'fumes': 3378, 'adam': 3379, 'kinzinger': 3380, 'limits': 3381, \"'a\": 3382, 'brainer': 3383, 'considers': 3384, 'weapon': 3385, 'loudly': 3386, 'booed': 3387, 'memorial': 3388, 'campaigns': 3389, 'programs': 3390, \"'not\": 3391, \"everybody'\": 3392, 'judges': 3393, 'overrule': 3394, 'voided': 3395, 'map': 3396, 'oregon': 3397, 'parts': 3398, 'guns': 3399, 'firebomb': 3400, 'hq': 3401, 'whose': 3402, 'suitcase': 3403, 'electrolyte': 3404, 'imbalance': 3405, 'brother': 3406, \"'selfish'\": 3407, 'defiant': 3408, 'challenges': 3409, 'authority': 3410, \"'slowest\": 3411, 'pitch': 3412, \"record'\": 3413, 'reverberates': 3414, 'pebbles': 3415, 'toy': 3416, 'terrier': 3417, 'fetches': 3418, \"'oldest\": 3419, 'living': 3420, 'tiny': 3421, 'canine': 3422, 'showdown': 3423, 'chihuahua': 3424, 'puppy': 3425, 'neck': 3426, 'arrow': 3427, 'fundraiser': 3428, '‘hacks’': 3429, 'cow': 3430, 'deeply': 3431, 'profound': 3432, \"pie'\": 3433, 'mclean': 3434, 'nra': 3435, 'convention': 3436, 'gig': 3437, 'rescue': 3438, 'homemade': 3439, 'require': 3440, 'batting': 3441, 'practice': 3442, 'gronk': 3443, 'shags': 3444, 'balls': 3445, 'moss': 3446, 'stairs': 3447, 'florence': 3448, 'pugh': 3449, \"'horrible'\": 3450, 'reaction': 3451, 'rumored': 3452, 'breakup': 3453, 'zach': 3454, 'braff': 3455, 'easily': 3456, 'nomination': 3457, 'revenge': 3458, 'target': 3459, 'deadliest': 3460, \"'it\": 3461, \"worse'\": 3462, 'vs': 3463, 'evans': 3464, 'expensive': 3465, 'likely': 3466, 'innocent': 3467, 'executed': 3468, 'inclusion': 3469, 'writing': 3470, 'largely': 3471, \"'performative\": 3472, 'kellyanne': 3473, 'admits': 3474, 'rocks': 3475, 'toddler': 3476, 'cheeseburger': 3477, \"'heist'\": 3478, \"hero's\": 3479, 'reception': 3480, 'shred': 3481, \"'don't\": 3482, 'graduation': 3483, 'soldier': 3484, 'shutting': 3485, 'reed': 3486, \"'absolutely\": 3487, \"everything'\": 3488, 'illegally': 3489, 'mole': 3490, 'dermatologist': 3491, 'unconstitutional': 3492, 'mayor': 3493, 'adams': 3494, '‘doctor': 3495, 'strange’': 3496, 'looms': 3497, \"'be\": 3498, 'concerned': 3499, \"about'\": 3500, '78': 3501, 'europe': 3502, 'lithium': 3503, 'kidnapped': 3504, 'basketball': 3505, 'later': 3506, 'room': 3507, \"cawthorn's\": 3508, \"'fire'\": 3509, 'boebert': 3510, 'sebastian': 3511, 'stan': 3512, 'shades': 3513, 'anymore': 3514, 'heaps': 3515, 'praise': 3516, \"hungary's\": 3517, 'viktor': 3518, 'orban': 3519, 'conference': 3520, '145': 3521, 'beagles': 3522, \"'acute\": 3523, \"distress'\": 3524, 'breeding': 3525, 'noise': 3526, '550': 3527, 'pound': 3528, \"dip'\": 3529, 'anna': 3530, \"delvey's\": 3531, \"'art\": 3532, 'nothing': 3533, 'whiteness': 3534, 'colored': 3535, 'bleeped': 3536, 'fears': 3537, 'vice': 3538, 'mend': 3539, 'rescuing': 3540, 'lion': 3541, \"'breastfeeding\": 3542, \"free'\": 3543, \"isn't\": 3544, 'style': 3545, \"mandalorian'\": 3546, \"crew's\": 3547, 'yoda': 3548, 'seems': 3549, 'ridiculous': 3550, 'miley': 3551, 'cyrus': 3552, 'brand': 3553, \"gomez's\": 3554, 'impression': 3555, 'doug': 3556, 'mastriano': 3557, 'denier': 3558, 'daily': 3559, 'macs': 3560, \"mcdonald's\": 3561, 'bbl': 3562, 'getting': 3563, 'brazilian': 3564, 'impacted': 3565, 'patients': 3566, 'skeptic': 3567, 'clapton': 3568, 'contracts': 3569, '‘anxious’': 3570, 'lawrence': 3571, 'o’donnell': 3572, 'rupert': 3573, 'supremacist': 3574, 'discuss': 3575, 'ufos': 3576, 'galaxy': 3577, \"'star\": 3578, \"wars'\": 3579, 'projects': 3580, 'protagonist': 3581, \"'pleasure'\": 3582, 'fascinating': 3583, 'contradictions': 3584, 'shaped': 3585, 'our': 3586, 'became': 3587, 'guide': 3588, \"'brave'\": 3589, 'loss': 3590, 'avert': 3591, 'eve': 3592, 'obamacare': 3593, 'premium': 3594, 'hike': 3595, 'ground': 3596, 'fat': 3597, 'ratio': 3598, \"fighting'\": 3599, 'taking': 3600, 'previously': 3601, 'embraced': 3602, 'featured': 3603, \"'rescued\": 3604, \"ruby'\": 3605, 'critically': 3606, 'vogue': 3607, \"'bias'\": 3608, 'cover': 3609, 'mug': 3610, 'though': 3611, 'ruin': 3612, 'olsen': 3613, 'she’s': 3614, '‘never': 3615, 'met’': 3616, '‘dr': 3617, 'strange': 3618, '2’': 3619, 'krasinski': 3620, \"'racially\": 3621, 'motivated': 3622, \"crime'\": 3623, 'supermarket': 3624, 'sheriff': 3625, 'elise': 3626, 'stefanik': 3627, 'mysterious': 3628, \"'pedo\": 3629, \"grifters'\": 3630, 'enablers': 3631, 'supporters': 3632, 'torched': 3633, 'spoof': 3634, 'cellphone': 3635, 'carrier': 3636, 'suck': 3637, \"people's\": 3638, 'irony': 3639, 'meters': 3640, 'exploded': 3641, 'alison': 3642, 'leiby’s': 3643, 'wasn’t': 3644, 'deal': 3645, \"'traumatized'\": 3646, 'wanda': 3647, 'sykes': 3648, 'slapped': 3649, 'tweet': 3650, 'crypto': 3651, 'trading': 3652, 'coinbase': 3653, 'slumped': 3654, 'jazeera': 3655, \"finland's\": 3656, 'favor': 3657, 'applying': 3658, 'membership': 3659, 'hosting': 3660, 'summit': 3661, 'falters': 3662, 'herbster': 3663, 'proposals': 3664, 'expand': 3665, 'cori': 3666, 'bush': 3667, \"'absolutely'\": 3668, \"'abortion'\": 3669, 'few': 3670, 'mandates': 3671, 'pops': 3672, 'engagement': 3673, 'approve': 3674, 'resolution': 3675, 'odesa': 3676, '44': 3677, 'civilian': 3678, 'bodies': 3679, 'uncovered': 3680, 'elsewhere': 3681, 'mario': 3682, 'batali': 3683, 'acquitted': 3684, 'shanghai': 3685, 'disinfects': 3686, 'subways': 3687, \"china's\": 3688, 'presidency': 3689, 'lincoln': 3690, 'battered': 3691, 'sports': 3692, 'football': 3693, 'analyst': 3694, 'scotus': 3695, 'investigated': 3696, 'arson': 3697, 'sight': 3698, 'undecided': 3699, 'interviewing': 3700, 'kathy': 3701, 'hochul': 3702, 'internet': 3703, 'providers': 3704, 'discount': 3705, 'havana': 3706, 'rises': 3707, 'brooklyn': 3708, 'subway': 3709, 'loyalist': 3710, 'lee': 3711, 'elected': 3712, 'hong': 3713, \"kong's\": 3714, 'nations': 3715, 'g7': 3716, 'pledges': 3717, 'phase': 3718, 'import': 3719, 'everybody': 3720, 'clap': 3721, 'endangered': 3722, 'species': 3723, 'comeback': 3724, 'port': 3725, 'sinn': 3726, 'fein': 3727, 'northern': 3728, 'ireland': 3729, 'cowboys': 3730, \"'home\": 3731, \"fine'\": 3732, 'reported': 3733, 'owners': 3734, 'soccer': 3735, 'sanctioned': 3736, 'unprecedented': 3737, 'gusts': 3738, 'fan': 3739, 'superyacht': 3740, 'fiji': 3741, 'belarus': 3742, 'jails': 3743, 'dissident': 3744, 'landing': 3745, '428': 3746, 'april': 3747, 'surging': 3748, 'israel': 3749, 'searches': 3750, 'attackers': 3751, 'tel': 3752, 'aviv': 3753, 'jill': 3754, 'overturning': 3755, 'step': 3756, \"backward'\": 3757, 'privacy': 3758, 'repels': 3759, 'rages': 3760, 'diego': 3761, \"maradona's\": 3762, \"'hand\": 3763, \"god'\": 3764, 'sum': 3765, 'ms': 3766, 'pac': 3767, 'clears': 3768, 'collapse': 3769, '2021': 3770, 'shontel': 3771, 'j': 3772, 'vance': 3773, 'pick': 3774, 'eminem': 3775, 'lionel': 3776, 'richie': 3777, 'reproductive': 3778, 'pushback': 3779, 'legislatures': 3780, '‘main': 3781, 'battleground’': 3782, 'ariana': 3783, 'debose': 3784, \"tuesday's\": 3785, 'primaries': 3786, 'important': 3787, 'chopping': 3788, 'jamie': 3789, 'raskin': 3790, 'annex': 3791, 'senior': 3792, \"shouldn't\": 3793, 'progressive': 3794, 'diversify': 3795, 'spyware': 3796, 'phones': 3797, 'spain': 3798, 'ed': 3799, \"'back\": 3800, \"homes'\": 3801, 'tennessee': 3802, 'pauses': 3803, 'executions': 3804, 'lethal': 3805, 'injections': 3806, \"pediatricians'\": 3807, 'moves': 3808, 'abandon': 3809, 'based': 3810, 'guidance': 3811, 'civilians': 3812, '‘bad': 3813, 'guys’': 3814, 'liam': 3815, 'neeson’s': 3816, 'misfires': 3817, 'wildfire': 3818, 'flames': 3819, 'publicly': 3820, 'operation': 3821, 'underway': 3822, 'evacuate': 3823, 'ukrainians': 3824, 'benedict': 3825, 'cumberbatch': 3826, 'fled': 3827, 'hold': 3828, 'advances': 3829, 'east': 3830, \"'completely\": 3831, 'blown': 3832, \"away'\": 3833, 'kansas': 3834, \"'vilify'\": 3835, 'pretty': 3836, \"kids'\": 3837, 'schools': 3838, 'tosses': 3839, \"'gossipy\": 3840, \"bitch'\": 3841, \"meadows'\": 3842, 'winner': 3843, 'laine': 3844, 'hardy': 3845, 'eavesdropping': 3846, 'device': 3847, 'reverses': 3848, 'ford': 3849, '250': 3850, 'suvs': 3851, 'malik': 3852, \"willis'\": 3853, \"'mom'\": 3854, 'hope': 3855, 'solo': 3856, 'rehab': 3857, '‘desperate’': 3858, 'menthol': 3859, 'cigarettes': 3860, 'flavored': 3861, 'cigars': 3862, 'spews': 3863, 'spinning': 3864, 'double': 3865, 'laura': 3866, 'fonda': 3867, 'teases': 3868, \"parton's\": 3869, \"'grace\": 3870, \"frankie'\": 3871, 'sounds': 3872, 'incredible': 3873, 'then': 3874, 'fiancée': 3875, '‘alt': 3876, 'right’': 3877, 'figure': 3878, 'disavowed': 3879, 'dings': 3880, \"twitter's\": 3881, 'cheer': 3882, 'demands': 3883, 'fauci’s': 3884, 'firing': 3885, 'squad': 3886, 'messes': 3887, 'influencers': 3888, 'sponsored': 3889, 'content': 3890, 'assistant': 3891, 'abetting': 3892, 'insists': 3893, 'olympic': 3894, 'skater': 3895, 'doping': 3896, 'scandal': 3897, '‘dishonestly’': 3898, 'boast': 3899, 'fact': 3900, 'niece': 3901, 'fallon': 3902, 'owns': 3903, 'heavens': 3904, \"town's\": 3905, \"helpless'\": 3906, 'wealthy': 3907, 'bribery': 3908, 'convictions': 3909, 'seekers': 3910, 'tested': 3911, 'climbing': 3912, 'morning': 3913, 'routines': 3914, 'lucius': 3915, 'sickening': 3916, 'pitches': 3917, \"'whipped'\": 3918, 'declaration': 3919, 'multiple': 3920, 'jon': 3921, 'stewart': 3922, 'twain': 3923, 'prize': 3924, 'humor': 3925, 'megan': 3926, 'really': 3927, \"scared'\": 3928, 'boat': 3929, 'carrying': 3930, '26': 3931, 'sinks': 3932, 'delegation': 3933, 'blinken': 3934, 'tremor': 3935, 'coal': 3936, 'mine': 3937, 'californian': 3938, 'merriam': 3939, 'webster': 3940, 'emmanuel': 3941, \"macron's\": 3942, 'marine': 3943, 'le': 3944, 'pen': 3945, 'depends': 3946, 'uncertainty': 3947, 'grave': 3948, 'ads': 3949, 'contradict': 3950, 'philadelphia': 3951, 'reinstating': 3952, 'equipment': 3953, 'lacking': 3954, 'dump': 3955, 'rival': 3956, 'koreas': 3957, 'exchange': 3958, 'letters': 3959, 'tensions': 3960, 'crews': 3961, 'brace': 3962, 'painting': 3963, 'nazis': 3964, \"'headwinds'\": 3965, 'trade': 3966, 'patent': 3967, 'waiver': 3968, 'biden’s': 3969, 'epidemic': 3970, 'naloxone': 3971, 'nassar': 3972, 'bungled': 3973, 'jordan': 3974, 'klepper': 3975, 'spotlights': 3976, \"'butthurt\": 3977, \"mentality'\": 3978, 'embarrassing': 3979, 'yet': 3980, 'failing': 3981, 'dashcam': 3982, 'surrendering': 3983, \"driver's\": 3984, 'license': 3985, \"'wholehearted\": 3986, \"apology'\": 3987, \"'partygate'\": 3988, 'jen': 3989, 'psaki': 3990, \"'disappointing'\": 3991, \"judge's\": 3992, 'transportation': 3993, 'trying': 3994, 'increases': 3995, 'curb': 3996, 'industrial': 3997, 'heartland': 3998, 'treasury': 3999, 'thinks': 4000, 'dampens': 4001, 'egg': 4002, '2019': 4003, 'defy': 4004, 'hear': 4005, 'dispute': 4006, 'offensive': 4007, 'begun': 4008, 'peace': 4009, 'cites': 4010, 'risk': 4011, 'determined': 4012, \"'bitch'\": 4013, 'wound': 4014, 'flashpoint': 4015, 'holy': 4016, 'pm': 4017, '‘still': 4018, 'fallen’': 4019, 'deadline': 4020, \"tatum's\": 4021, 'layup': 4022, 'buzzer': 4023, 'celtics': 4024, '115': 4025, '114': 4026, 'nets': 4027, 'bashes': 4028, 'devastation': 4029, \"'just\": 4030, \"inhuman'\": 4031, 'bruising': 4032, 'stuffing': 4033, 'grandmother': 4034, 'freezer': 4035, 'activists': 4036, 'tanker': 4037, 'resumes': 4038, 'outdoor': 4039, 'bossy': 4040, 'islanders': 4041, 'champion': 4042, 'resume': 4043, 'lease': 4044, 'upping': 4045, 'royalties': 4046, \"ukrainians'\": 4047, 'clashes': 4048, 'erupt': 4049, 'aqsa': 4050, 'mosque': 4051, 'strict': 4052, 'coronavirus': 4053, 'shutdowns': 4054, 'infections': 4055, 'might': 4056, 'exorbitant': 4057, 'cost': 4058, 'signals': 4059, 'stole': 4060, 'fetal': 4061, 'speaks': 4062, 'breathalyzer': 4063, 'detect': 4064, 'teens': 4065, 'athletic': 4066, \"'heartstopper'\": 4067, 'donor': 4068, 'fetish': 4069, 'story': 4070, 'pooped': 4071, 'crap': 4072, 'safely': 4073, \"harry's\": 4074, 'invictus': 4075, \"'we\": 4076, \"delighted'\": 4077, 'blame': 4078, 'marvel’s': 4079, \"'all\": 4080, \"avengers'\": 4081, 'alec': 4082, 'baldwin': 4083, 'approves': 4084, '800': 4085, 'led': 4086, 'gold': 4087, 'stash': 4088, 'queens': 4089, 'doj': 4090, 'records': 4091, 'argues': 4092, \"'one\": 4093, \"time'\": 4094, 'investor': 4095, 'delayed': 4096, 'filing': 4097, 'atf': 4098, 'nominee': 4099, 'walgreens': 4100, \"call'\": 4101, 'javelina': 4102, 'stuck': 4103, 'basking': 4104, 'adoring': 4105, 'bubble': 4106, 'appoints': 4107, 'commander': 4108, 'brutality': 4109, \"'rbg'\": 4110, 'congrats': 4111, \"'gins\": 4112, \"burn'\": 4113, 'maryland': 4114, 'override': 4115, \"governor's\": 4116, 'veto': 4117, 'expansion': 4118, 'p': 4119, 'downgrade': 4120, 'default': 4121, 'penalty': 4122, 'devastating': 4123, \"bucha's\": 4124, 'fairgrounds': 4125, 'vernon': 4126, 'apply': 4127, \"'can\": 4128, \"change'\": 4129, 'quirky': 4130, 'heartfelt': 4131, 'shatter': 4132, 'misconceptions': 4133, 'bisexual': 4134, 'books': 4135, 'casualty': 4136, 'enters': 4137, \"'snowflake'\": 4138, 'calling': 4139, 'spacey': 4140, 'ax': 4141, 'rapp’s': 4142, 'dre': 4143, 'everyone': 4144, 'dancing': 4145, \"markle's\": 4146, 'wedding': 4147, '‘damn': 4148, 'lucky’': 4149, 'losing': 4150, 'limbs': 4151, 'deemed': 4152, '‘danger': 4153, \"health'\": 4154, 'twitter’s': 4155, '‘edit’': 4156, 'bus': 4157, 'undocumented': 4158, 'rand': 4159, 'immunity': 4160, 'lovely': 4161, 'destinations': 4162, 'serena': 4163, 'writes': 4164, 'essay': 4165, 'urge': 4166, 'declare': 4167, \"'invasion'\": 4168, 'penn': 4169, 'hannity': 4170, \"ya'\": 4171, 'ensues': 4172, 'hacks': 4173, 'obtains': 4174, 'emails': 4175, 'hailey': 4176, 'bieber': 4177, 'shuts': 4178, 'rumors': 4179, \"'leave\": 4180, \"alone'\": 4181, 'paula': 4182, 'patton’s': 4183, '‘unseasoned’': 4184, 'fried': 4185, 'chicken': 4186, 'roasted': 4187, 'hawley': 4188, 'washes': 4189, 'hands': 4190, \"'pro\": 4191, \"pedophile'\": 4192, 'smears': 4193, 'ignited': 4194, 'violated': 4195, 'meg': 4196, 'fred': 4197, 'upton': 4198, 'impeach': 4199, 'retirement': 4200, 'beams': 4201, 'sickened': 4202, 'poisoned': 4203, '‘now': 4204, 'never’': 4205, 'n': 4206, 'narrow': 4207, 'averting': 4208, 'catastrophe': 4209, 'defender': 4210, \"'will\": 4211, \"smith'\": 4212, 'scared': 4213, 'witless': 4214, 'sketch': 4215, \"live's'\": 4216, \"'fox\": 4217, \"friends'\": 4218, 'skewers': 4219, 'wacky': 4220, 'coup': 4221, 'confessing': 4222, \"'donald\": 4223, '‘mothers': 4224, 'soldiers’': 4225, 'graphic': 4226, 'wtf': 4227, 'atrocities': 4228, 'retreating': 4229, 'russians': 4230, 'famously': 4231, 'canceled': 4232, 'grammy': 4233, 'looting': 4234, \"civilians'\": 4235, \"'infantile\": 4236, \"destructive'\": 4237, 'sarah': 4238, 'imagines': 4239, \"peyote'\": 4240, 'yale': 4241, 'gays': 4242, 'betty': 4243, 'reid': 4244, 'soskin': 4245, 'oldest': 4246, 'ranger': 4247, 'flights': 4248, 'pilots': 4249, 'picket': 4250, 'academy': 4251, 'extensive': 4252, 'apology': 4253, 'challenge': 4254, 'eligibility': 4255, \"woman's\": 4256, 'lingering': 4257, 'congestion': 4258, 'dc': 4259, 'fetuses': 4260, 'handy': 4261, 'fines': 4262, 'deposition': 4263, 'kareem': 4264, 'abdul': 4265, 'jabbar': 4266, \"'perpetuating\": 4267, \"stereotypes'\": 4268, 'colbert': 4269, 'description': 4270, 'um': 4271, 'cory': 4272, 'booker': 4273, 'explains': 4274, 'bat': 4275, 'deputies': 4276, 'suspicious': 4277, 'activity': 4278, 'city’s': 4279, 'overalls': 4280, 'maternity': 4281, 'slaps': 4282, 'doocy': 4283, \"silly'\": 4284, 'would’ve': 4285, 'handled': 4286, 'smith’s': 4287, '‘was': 4288, 'on’': 4289, 'booster': 4290, 'those': 4291, 'older': 4292, 'campion': 4293, 'directing': 4294, 'hillary': 4295, 'clinton': 4296, 'voice': 4297, 'arkansas': 4298, 'production': 4299, '‘into': 4300, 'woods’': 4301, 'schumer’s': 4302, 'cringe': 4303, \"'get\": 4304, 'f': 4305, 'ass': 4306, \"work'\": 4307, 'remark': 4308, \"'taken\": 4309, \"context'\": 4310, 'touts': 4311, 'journalists': 4312, \"'smallest'\": 4313, 'comedians': 4314, 'react': 4315, 'hitting': 4316, 'jessica': 4317, 'chastain': 4318, 'ambassador': 4319, '‘we': 4320, 'lying’': 4321, 'budget': 4322, 'minimum': 4323, 'households': 4324, 'worth': 4325, 'rick': 4326, \"scott's\": 4327, 'che': 4328, 'winners': 4329, 'maine': 4330, 'bail': 4331, \"god's\": 4332, 'sake': 4333, \"power'\": 4334, \"wisdom'\": 4335, '‘no': 4336, 'whatsoever’': 4337, 'come': 4338, 'leslie': 4339, \"fuss'\": 4340, 'job': 4341, \"he'd\": 4342, 'brilliant': 4343, 'indictment': 4344, 'efforts': 4345, 'hack': 4346, 'worldwide': 4347, 'sector': 4348, '60': 4349, 'miles': 4350, 'refugee': 4351, 'half': 4352, 'displaced': 4353, 'dem': 4354, 'announce': 4355, 'partnership': 4356, 'undercut': 4357, 'complex': 4358, 'ally': 4359, 'doorstep': 4360, 'removes': 4361, 'melts': 4362, \"comedian's\": 4363, 'oops': 4364, 'reporters': 4365, 'hearings': 4366, 'howard': 4367, 'stern': 4368, \"'wacko\": 4369, \"party'\": 4370, 'reality': 4371, 'let': 4372, 'unvaccinated': 4373, 'athletes': 4374, 'play': 4375, 'relief': 4376, 'convoy': 4377, 'moderna': 4378, 'dose': 4379, 'seattle': 4380, 'two': 4381, 'growing': 4382, 'hacker': 4383, 'firms': 4384, 'norway’s': 4385, 'mild': 4386, 'symptoms': 4387, 'curfew': 4388, 'pipe': 4389, 'critic': 4390, 'navalny': 4391, 'maximum': 4392, 'closing': 4393, \"'cowboys\": 4394, 'founder': 4395, 'vaccinated': 4396, \"'mean\": 4397, 'bennett': 4398, 'marries': 4399, 'jaymes': 4400, 'vaughan': 4401, 'nonpartisan': 4402, 'companies': 4403, 'prepare': 4404, 'potential': 4405, 'cyberattacks': 4406, 'goal': 4407, 'capping': 4408, 'warming': 4409, 'degrees': 4410, 'celsius': 4411, '70': 4412, 'ton': 4413, 'crane': 4414, '‘the': 4415, 'batman': 4416, 'crosses': 4417, '300': 4418, 'liz': 4419, 'cheney': 4420, 'exploring': 4421, '‘enhanced': 4422, 'penalties’': 4423, 'clash': 4424, 'blessing': 4425, 'retooling': 4426, 'gut': 4427, 'resistance': 4428, 'anthem': 4429, 'slog': 4430, '‘dreadful': 4431, 'mess’': 4432, \"anymore'\": 4433, 'cosmonauts': 4434, 'arrive': 4435, 'international': 4436, 'colors': 4437, 'lamenting': 4438, 'humanitarian': 4439, 'disaster': 4440, 'scathing': 4441, 'rewrite': 4442, 'flack': 4443, 'sergey': 4444, 'lavrov': 4445, 'hypersonic': 4446, 'likens': 4447, 'opponents': 4448, \"'gnats\": 4449, 'evoking': 4450, \"stalin's\": 4451, 'dehumanizing': 4452, 'exercise': 4453, 'peru': 4454, 'fujimori': 4455, 'involved': 4456, 'missiles': 4457, 'lviv': 4458, \"syria's\": 4459, 'assad': 4460, 'uae': 4461, 'trip': 4462, 'arab': 4463, 'country': 4464, 'earthquake': 4465, 'injures': 4466, '107': 4467, 'involving': 4468}\n"
     ]
    }
   ],
   "source": [
    "tokenizer = text.Tokenizer(num_words=10000)\n",
    "tokenizer.fit_on_texts(sample_data)\n",
    "\n",
    "total_words = len(tokenizer.word_index) + 1\n",
    "print(\"voacb size\", total_words)\n",
    "print(\"word index\", tokenizer.word_index)"
   ]
  },
  {
   "cell_type": "code",
   "execution_count": 10,
   "id": "bc4bfd5b",
   "metadata": {},
   "outputs": [],
   "source": [
    "# sequence\n",
    "input_sequence = []\n",
    "\n",
    "for line in sample_data:\n",
    "    token_list = tokenizer.texts_to_sequences([line])[0]\n",
    "    for i in range(1, len(token_list)):\n",
    "        n_gram_sequence = token_list[:i+1]\n",
    "        input_sequence.append(n_gram_sequence)"
   ]
  },
  {
   "cell_type": "code",
   "execution_count": 11,
   "id": "db95a215",
   "metadata": {},
   "outputs": [
    {
     "data": {
      "text/plain": [
       "[[23, 45],\n",
       " [23, 45, 85],\n",
       " [23, 45, 85, 241],\n",
       " [23, 45, 85, 241, 382],\n",
       " [23, 45, 85, 241, 382, 37],\n",
       " [23, 45, 85, 241, 382, 37, 1540],\n",
       " [23, 45, 85, 241, 382, 37, 1540, 5],\n",
       " [23, 45, 85, 241, 382, 37, 1540, 5, 1541],\n",
       " [23, 45, 85, 241, 382, 37, 1540, 5, 1541, 556],\n",
       " [23, 45, 85, 241, 382, 37, 1540, 5, 1541, 556, 40]]"
      ]
     },
     "execution_count": 11,
     "metadata": {},
     "output_type": "execute_result"
    }
   ],
   "source": [
    "input_sequence[:10]"
   ]
  },
  {
   "cell_type": "code",
   "execution_count": 12,
   "id": "369b3030",
   "metadata": {},
   "outputs": [
    {
     "data": {
      "text/plain": [
       "19"
      ]
     },
     "execution_count": 12,
     "metadata": {},
     "output_type": "execute_result"
    }
   ],
   "source": [
    "max_len = max([len(x) for x in input_sequence])\n",
    "max_len"
   ]
  },
  {
   "cell_type": "code",
   "execution_count": 13,
   "id": "e2d7339a",
   "metadata": {},
   "outputs": [],
   "source": [
    "# pad the sequences\n",
    "input_sequences = sequence.pad_sequences(input_sequence, maxlen=max_len, padding='pre')"
   ]
  },
  {
   "cell_type": "code",
   "execution_count": 14,
   "id": "4dc3b1ac",
   "metadata": {},
   "outputs": [],
   "source": [
    "# split into input (X) and output (y)\n",
    "X = input_sequences[:,:-1]\n",
    "y = input_sequences[:,-1]"
   ]
  },
  {
   "cell_type": "code",
   "execution_count": 15,
   "id": "61c8e2f7",
   "metadata": {},
   "outputs": [],
   "source": [
    "y = tf.keras.utils.to_categorical(y, num_classes=total_words)"
   ]
  },
  {
   "cell_type": "code",
   "execution_count": 16,
   "id": "15b9bb35",
   "metadata": {},
   "outputs": [
    {
     "name": "stdout",
     "output_type": "stream",
     "text": [
      "input shape (10241, 18)\n",
      "output shape (10241, 4469)\n"
     ]
    }
   ],
   "source": [
    "print(\"input shape\", X.shape)\n",
    "print(\"output shape\", y.shape)"
   ]
  },
  {
   "cell_type": "code",
   "execution_count": null,
   "id": "98a15ac9",
   "metadata": {},
   "outputs": [
    {
     "name": "stderr",
     "output_type": "stream",
     "text": [
      "c:\\ProgramData\\anaconda3\\envs\\tf\\lib\\site-packages\\keras\\src\\layers\\core\\embedding.py:97: UserWarning: Argument `input_length` is deprecated. Just remove it.\n",
      "  warnings.warn(\n"
     ]
    }
   ],
   "source": [
    "model = models.Sequential([\n",
    "\tlayers.Embedding(total_words, 100, input_length=max_len-1),\n",
    "\tlayers.Bidirectional(layers.SimpleRNN(150, activation='tanh')),\n",
    "\tlayers.Dense(total_words, activation='softmax')\n",
    "])\n",
    "\n",
    "model.compile(optimizer='adam', loss='categorical_crossentropy', metrics=['accuracy'])"
   ]
  },
  {
   "cell_type": "code",
   "execution_count": 25,
   "id": "ade2724b",
   "metadata": {},
   "outputs": [
    {
     "data": {
      "text/html": [
       "<pre style=\"white-space:pre;overflow-x:auto;line-height:normal;font-family:Menlo,'DejaVu Sans Mono',consolas,'Courier New',monospace\"><span style=\"font-weight: bold\">Model: \"sequential\"</span>\n",
       "</pre>\n"
      ],
      "text/plain": [
       "\u001b[1mModel: \"sequential\"\u001b[0m\n"
      ]
     },
     "metadata": {},
     "output_type": "display_data"
    },
    {
     "data": {
      "text/html": [
       "<pre style=\"white-space:pre;overflow-x:auto;line-height:normal;font-family:Menlo,'DejaVu Sans Mono',consolas,'Courier New',monospace\">┏━━━━━━━━━━━━━━━━━━━━━━━━━━━━━━━━━┳━━━━━━━━━━━━━━━━━━━━━━━━┳━━━━━━━━━━━━━━━┓\n",
       "┃<span style=\"font-weight: bold\"> Layer (type)                    </span>┃<span style=\"font-weight: bold\"> Output Shape           </span>┃<span style=\"font-weight: bold\">       Param # </span>┃\n",
       "┡━━━━━━━━━━━━━━━━━━━━━━━━━━━━━━━━━╇━━━━━━━━━━━━━━━━━━━━━━━━╇━━━━━━━━━━━━━━━┩\n",
       "│ embedding (<span style=\"color: #0087ff; text-decoration-color: #0087ff\">Embedding</span>)           │ (<span style=\"color: #00d7ff; text-decoration-color: #00d7ff\">None</span>, <span style=\"color: #00af00; text-decoration-color: #00af00\">18</span>, <span style=\"color: #00af00; text-decoration-color: #00af00\">100</span>)        │       <span style=\"color: #00af00; text-decoration-color: #00af00\">446,900</span> │\n",
       "├─────────────────────────────────┼────────────────────────┼───────────────┤\n",
       "│ simple_rnn (<span style=\"color: #0087ff; text-decoration-color: #0087ff\">SimpleRNN</span>)          │ (<span style=\"color: #00d7ff; text-decoration-color: #00d7ff\">None</span>, <span style=\"color: #00af00; text-decoration-color: #00af00\">150</span>)            │        <span style=\"color: #00af00; text-decoration-color: #00af00\">37,650</span> │\n",
       "├─────────────────────────────────┼────────────────────────┼───────────────┤\n",
       "│ dense (<span style=\"color: #0087ff; text-decoration-color: #0087ff\">Dense</span>)                   │ (<span style=\"color: #00d7ff; text-decoration-color: #00d7ff\">None</span>, <span style=\"color: #00af00; text-decoration-color: #00af00\">4469</span>)           │       <span style=\"color: #00af00; text-decoration-color: #00af00\">674,819</span> │\n",
       "└─────────────────────────────────┴────────────────────────┴───────────────┘\n",
       "</pre>\n"
      ],
      "text/plain": [
       "┏━━━━━━━━━━━━━━━━━━━━━━━━━━━━━━━━━┳━━━━━━━━━━━━━━━━━━━━━━━━┳━━━━━━━━━━━━━━━┓\n",
       "┃\u001b[1m \u001b[0m\u001b[1mLayer (type)                   \u001b[0m\u001b[1m \u001b[0m┃\u001b[1m \u001b[0m\u001b[1mOutput Shape          \u001b[0m\u001b[1m \u001b[0m┃\u001b[1m \u001b[0m\u001b[1m      Param #\u001b[0m\u001b[1m \u001b[0m┃\n",
       "┡━━━━━━━━━━━━━━━━━━━━━━━━━━━━━━━━━╇━━━━━━━━━━━━━━━━━━━━━━━━╇━━━━━━━━━━━━━━━┩\n",
       "│ embedding (\u001b[38;5;33mEmbedding\u001b[0m)           │ (\u001b[38;5;45mNone\u001b[0m, \u001b[38;5;34m18\u001b[0m, \u001b[38;5;34m100\u001b[0m)        │       \u001b[38;5;34m446,900\u001b[0m │\n",
       "├─────────────────────────────────┼────────────────────────┼───────────────┤\n",
       "│ simple_rnn (\u001b[38;5;33mSimpleRNN\u001b[0m)          │ (\u001b[38;5;45mNone\u001b[0m, \u001b[38;5;34m150\u001b[0m)            │        \u001b[38;5;34m37,650\u001b[0m │\n",
       "├─────────────────────────────────┼────────────────────────┼───────────────┤\n",
       "│ dense (\u001b[38;5;33mDense\u001b[0m)                   │ (\u001b[38;5;45mNone\u001b[0m, \u001b[38;5;34m4469\u001b[0m)           │       \u001b[38;5;34m674,819\u001b[0m │\n",
       "└─────────────────────────────────┴────────────────────────┴───────────────┘\n"
      ]
     },
     "metadata": {},
     "output_type": "display_data"
    },
    {
     "data": {
      "text/html": [
       "<pre style=\"white-space:pre;overflow-x:auto;line-height:normal;font-family:Menlo,'DejaVu Sans Mono',consolas,'Courier New',monospace\"><span style=\"font-weight: bold\"> Total params: </span><span style=\"color: #00af00; text-decoration-color: #00af00\">3,478,109</span> (13.27 MB)\n",
       "</pre>\n"
      ],
      "text/plain": [
       "\u001b[1m Total params: \u001b[0m\u001b[38;5;34m3,478,109\u001b[0m (13.27 MB)\n"
      ]
     },
     "metadata": {},
     "output_type": "display_data"
    },
    {
     "data": {
      "text/html": [
       "<pre style=\"white-space:pre;overflow-x:auto;line-height:normal;font-family:Menlo,'DejaVu Sans Mono',consolas,'Courier New',monospace\"><span style=\"font-weight: bold\"> Trainable params: </span><span style=\"color: #00af00; text-decoration-color: #00af00\">1,159,369</span> (4.42 MB)\n",
       "</pre>\n"
      ],
      "text/plain": [
       "\u001b[1m Trainable params: \u001b[0m\u001b[38;5;34m1,159,369\u001b[0m (4.42 MB)\n"
      ]
     },
     "metadata": {},
     "output_type": "display_data"
    },
    {
     "data": {
      "text/html": [
       "<pre style=\"white-space:pre;overflow-x:auto;line-height:normal;font-family:Menlo,'DejaVu Sans Mono',consolas,'Courier New',monospace\"><span style=\"font-weight: bold\"> Non-trainable params: </span><span style=\"color: #00af00; text-decoration-color: #00af00\">0</span> (0.00 B)\n",
       "</pre>\n"
      ],
      "text/plain": [
       "\u001b[1m Non-trainable params: \u001b[0m\u001b[38;5;34m0\u001b[0m (0.00 B)\n"
      ]
     },
     "metadata": {},
     "output_type": "display_data"
    },
    {
     "data": {
      "text/html": [
       "<pre style=\"white-space:pre;overflow-x:auto;line-height:normal;font-family:Menlo,'DejaVu Sans Mono',consolas,'Courier New',monospace\"><span style=\"font-weight: bold\"> Optimizer params: </span><span style=\"color: #00af00; text-decoration-color: #00af00\">2,318,740</span> (8.85 MB)\n",
       "</pre>\n"
      ],
      "text/plain": [
       "\u001b[1m Optimizer params: \u001b[0m\u001b[38;5;34m2,318,740\u001b[0m (8.85 MB)\n"
      ]
     },
     "metadata": {},
     "output_type": "display_data"
    }
   ],
   "source": [
    "model.summary()"
   ]
  },
  {
   "cell_type": "code",
   "execution_count": 19,
   "id": "d77cda74",
   "metadata": {},
   "outputs": [
    {
     "name": "stdout",
     "output_type": "stream",
     "text": [
      "Epoch 1/50\n",
      "\u001b[1m321/321\u001b[0m \u001b[32m━━━━━━━━━━━━━━━━━━━━\u001b[0m\u001b[37m\u001b[0m \u001b[1m6s\u001b[0m 12ms/step - accuracy: 0.0258 - loss: 8.0645\n",
      "Epoch 2/50\n",
      "\u001b[1m321/321\u001b[0m \u001b[32m━━━━━━━━━━━━━━━━━━━━\u001b[0m\u001b[37m\u001b[0m \u001b[1m3s\u001b[0m 10ms/step - accuracy: 0.0299 - loss: 7.4134\n",
      "Epoch 3/50\n",
      "\u001b[1m321/321\u001b[0m \u001b[32m━━━━━━━━━━━━━━━━━━━━\u001b[0m\u001b[37m\u001b[0m \u001b[1m3s\u001b[0m 9ms/step - accuracy: 0.0393 - loss: 6.8828\n",
      "Epoch 4/50\n",
      "\u001b[1m321/321\u001b[0m \u001b[32m━━━━━━━━━━━━━━━━━━━━\u001b[0m\u001b[37m\u001b[0m \u001b[1m3s\u001b[0m 8ms/step - accuracy: 0.0541 - loss: 6.2938\n",
      "Epoch 5/50\n",
      "\u001b[1m321/321\u001b[0m \u001b[32m━━━━━━━━━━━━━━━━━━━━\u001b[0m\u001b[37m\u001b[0m \u001b[1m3s\u001b[0m 9ms/step - accuracy: 0.0774 - loss: 5.6884\n",
      "Epoch 6/50\n",
      "\u001b[1m321/321\u001b[0m \u001b[32m━━━━━━━━━━━━━━━━━━━━\u001b[0m\u001b[37m\u001b[0m \u001b[1m3s\u001b[0m 8ms/step - accuracy: 0.1251 - loss: 5.0759\n",
      "Epoch 7/50\n",
      "\u001b[1m321/321\u001b[0m \u001b[32m━━━━━━━━━━━━━━━━━━━━\u001b[0m\u001b[37m\u001b[0m \u001b[1m3s\u001b[0m 9ms/step - accuracy: 0.2184 - loss: 4.4547\n",
      "Epoch 8/50\n",
      "\u001b[1m321/321\u001b[0m \u001b[32m━━━━━━━━━━━━━━━━━━━━\u001b[0m\u001b[37m\u001b[0m \u001b[1m4s\u001b[0m 13ms/step - accuracy: 0.3399 - loss: 3.8377\n",
      "Epoch 9/50\n",
      "\u001b[1m321/321\u001b[0m \u001b[32m━━━━━━━━━━━━━━━━━━━━\u001b[0m\u001b[37m\u001b[0m \u001b[1m3s\u001b[0m 11ms/step - accuracy: 0.4597 - loss: 3.2333\n",
      "Epoch 10/50\n",
      "\u001b[1m321/321\u001b[0m \u001b[32m━━━━━━━━━━━━━━━━━━━━\u001b[0m\u001b[37m\u001b[0m \u001b[1m3s\u001b[0m 10ms/step - accuracy: 0.5715 - loss: 2.6727\n",
      "Epoch 11/50\n",
      "\u001b[1m321/321\u001b[0m \u001b[32m━━━━━━━━━━━━━━━━━━━━\u001b[0m\u001b[37m\u001b[0m \u001b[1m3s\u001b[0m 10ms/step - accuracy: 0.6587 - loss: 2.1818\n",
      "Epoch 12/50\n",
      "\u001b[1m321/321\u001b[0m \u001b[32m━━━━━━━━━━━━━━━━━━━━\u001b[0m\u001b[37m\u001b[0m \u001b[1m4s\u001b[0m 11ms/step - accuracy: 0.7326 - loss: 1.7489\n",
      "Epoch 13/50\n",
      "\u001b[1m321/321\u001b[0m \u001b[32m━━━━━━━━━━━━━━━━━━━━\u001b[0m\u001b[37m\u001b[0m \u001b[1m4s\u001b[0m 13ms/step - accuracy: 0.7957 - loss: 1.3868\n",
      "Epoch 14/50\n",
      "\u001b[1m321/321\u001b[0m \u001b[32m━━━━━━━━━━━━━━━━━━━━\u001b[0m\u001b[37m\u001b[0m \u001b[1m4s\u001b[0m 13ms/step - accuracy: 0.8454 - loss: 1.1029\n",
      "Epoch 15/50\n",
      "\u001b[1m321/321\u001b[0m \u001b[32m━━━━━━━━━━━━━━━━━━━━\u001b[0m\u001b[37m\u001b[0m \u001b[1m3s\u001b[0m 11ms/step - accuracy: 0.8808 - loss: 0.8708\n",
      "Epoch 16/50\n",
      "\u001b[1m321/321\u001b[0m \u001b[32m━━━━━━━━━━━━━━━━━━━━\u001b[0m\u001b[37m\u001b[0m \u001b[1m4s\u001b[0m 11ms/step - accuracy: 0.9082 - loss: 0.6903\n",
      "Epoch 17/50\n",
      "\u001b[1m321/321\u001b[0m \u001b[32m━━━━━━━━━━━━━━━━━━━━\u001b[0m\u001b[37m\u001b[0m \u001b[1m4s\u001b[0m 12ms/step - accuracy: 0.9251 - loss: 0.5473\n",
      "Epoch 18/50\n",
      "\u001b[1m321/321\u001b[0m \u001b[32m━━━━━━━━━━━━━━━━━━━━\u001b[0m\u001b[37m\u001b[0m \u001b[1m3s\u001b[0m 10ms/step - accuracy: 0.9363 - loss: 0.4418\n",
      "Epoch 19/50\n",
      "\u001b[1m321/321\u001b[0m \u001b[32m━━━━━━━━━━━━━━━━━━━━\u001b[0m\u001b[37m\u001b[0m \u001b[1m3s\u001b[0m 9ms/step - accuracy: 0.9424 - loss: 0.3627\n",
      "Epoch 20/50\n",
      "\u001b[1m321/321\u001b[0m \u001b[32m━━━━━━━━━━━━━━━━━━━━\u001b[0m\u001b[37m\u001b[0m \u001b[1m3s\u001b[0m 9ms/step - accuracy: 0.9460 - loss: 0.3050\n",
      "Epoch 21/50\n",
      "\u001b[1m321/321\u001b[0m \u001b[32m━━━━━━━━━━━━━━━━━━━━\u001b[0m\u001b[37m\u001b[0m \u001b[1m3s\u001b[0m 9ms/step - accuracy: 0.9481 - loss: 0.2668\n",
      "Epoch 22/50\n",
      "\u001b[1m321/321\u001b[0m \u001b[32m━━━━━━━━━━━━━━━━━━━━\u001b[0m\u001b[37m\u001b[0m \u001b[1m4s\u001b[0m 12ms/step - accuracy: 0.9484 - loss: 0.2368\n",
      "Epoch 23/50\n",
      "\u001b[1m321/321\u001b[0m \u001b[32m━━━━━━━━━━━━━━━━━━━━\u001b[0m\u001b[37m\u001b[0m \u001b[1m4s\u001b[0m 12ms/step - accuracy: 0.9479 - loss: 0.2308\n",
      "Epoch 24/50\n",
      "\u001b[1m321/321\u001b[0m \u001b[32m━━━━━━━━━━━━━━━━━━━━\u001b[0m\u001b[37m\u001b[0m \u001b[1m5s\u001b[0m 16ms/step - accuracy: 0.9483 - loss: 0.2048\n",
      "Epoch 25/50\n",
      "\u001b[1m321/321\u001b[0m \u001b[32m━━━━━━━━━━━━━━━━━━━━\u001b[0m\u001b[37m\u001b[0m \u001b[1m5s\u001b[0m 15ms/step - accuracy: 0.9488 - loss: 0.1953\n",
      "Epoch 26/50\n",
      "\u001b[1m321/321\u001b[0m \u001b[32m━━━━━━━━━━━━━━━━━━━━\u001b[0m\u001b[37m\u001b[0m \u001b[1m4s\u001b[0m 13ms/step - accuracy: 0.9482 - loss: 0.1913\n",
      "Epoch 27/50\n",
      "\u001b[1m321/321\u001b[0m \u001b[32m━━━━━━━━━━━━━━━━━━━━\u001b[0m\u001b[37m\u001b[0m \u001b[1m3s\u001b[0m 10ms/step - accuracy: 0.9483 - loss: 0.1819\n",
      "Epoch 28/50\n",
      "\u001b[1m321/321\u001b[0m \u001b[32m━━━━━━━━━━━━━━━━━━━━\u001b[0m\u001b[37m\u001b[0m \u001b[1m3s\u001b[0m 10ms/step - accuracy: 0.9486 - loss: 0.1716\n",
      "Epoch 29/50\n",
      "\u001b[1m321/321\u001b[0m \u001b[32m━━━━━━━━━━━━━━━━━━━━\u001b[0m\u001b[37m\u001b[0m \u001b[1m3s\u001b[0m 9ms/step - accuracy: 0.9483 - loss: 0.1681\n",
      "Epoch 30/50\n",
      "\u001b[1m321/321\u001b[0m \u001b[32m━━━━━━━━━━━━━━━━━━━━\u001b[0m\u001b[37m\u001b[0m \u001b[1m3s\u001b[0m 9ms/step - accuracy: 0.9478 - loss: 0.1689\n",
      "Epoch 31/50\n",
      "\u001b[1m321/321\u001b[0m \u001b[32m━━━━━━━━━━━━━━━━━━━━\u001b[0m\u001b[37m\u001b[0m \u001b[1m3s\u001b[0m 10ms/step - accuracy: 0.9495 - loss: 0.1662\n",
      "Epoch 32/50\n",
      "\u001b[1m321/321\u001b[0m \u001b[32m━━━━━━━━━━━━━━━━━━━━\u001b[0m\u001b[37m\u001b[0m \u001b[1m3s\u001b[0m 10ms/step - accuracy: 0.9482 - loss: 0.1626\n",
      "Epoch 33/50\n",
      "\u001b[1m321/321\u001b[0m \u001b[32m━━━━━━━━━━━━━━━━━━━━\u001b[0m\u001b[37m\u001b[0m \u001b[1m3s\u001b[0m 10ms/step - accuracy: 0.9441 - loss: 0.2102\n",
      "Epoch 34/50\n",
      "\u001b[1m321/321\u001b[0m \u001b[32m━━━━━━━━━━━━━━━━━━━━\u001b[0m\u001b[37m\u001b[0m \u001b[1m3s\u001b[0m 11ms/step - accuracy: 0.9481 - loss: 0.1677\n",
      "Epoch 35/50\n",
      "\u001b[1m321/321\u001b[0m \u001b[32m━━━━━━━━━━━━━━━━━━━━\u001b[0m\u001b[37m\u001b[0m \u001b[1m3s\u001b[0m 10ms/step - accuracy: 0.9502 - loss: 0.1546\n",
      "Epoch 36/50\n",
      "\u001b[1m321/321\u001b[0m \u001b[32m━━━━━━━━━━━━━━━━━━━━\u001b[0m\u001b[37m\u001b[0m \u001b[1m3s\u001b[0m 10ms/step - accuracy: 0.9505 - loss: 0.1496\n",
      "Epoch 37/50\n",
      "\u001b[1m321/321\u001b[0m \u001b[32m━━━━━━━━━━━━━━━━━━━━\u001b[0m\u001b[37m\u001b[0m \u001b[1m3s\u001b[0m 9ms/step - accuracy: 0.9491 - loss: 0.1508\n",
      "Epoch 38/50\n",
      "\u001b[1m321/321\u001b[0m \u001b[32m━━━━━━━━━━━━━━━━━━━━\u001b[0m\u001b[37m\u001b[0m \u001b[1m3s\u001b[0m 10ms/step - accuracy: 0.9495 - loss: 0.1490\n",
      "Epoch 39/50\n",
      "\u001b[1m321/321\u001b[0m \u001b[32m━━━━━━━━━━━━━━━━━━━━\u001b[0m\u001b[37m\u001b[0m \u001b[1m3s\u001b[0m 10ms/step - accuracy: 0.9501 - loss: 0.1482\n",
      "Epoch 40/50\n",
      "\u001b[1m321/321\u001b[0m \u001b[32m━━━━━━━━━━━━━━━━━━━━\u001b[0m\u001b[37m\u001b[0m \u001b[1m3s\u001b[0m 9ms/step - accuracy: 0.9495 - loss: 0.1513\n",
      "Epoch 41/50\n",
      "\u001b[1m321/321\u001b[0m \u001b[32m━━━━━━━━━━━━━━━━━━━━\u001b[0m\u001b[37m\u001b[0m \u001b[1m4s\u001b[0m 11ms/step - accuracy: 0.9491 - loss: 0.1467\n",
      "Epoch 42/50\n",
      "\u001b[1m321/321\u001b[0m \u001b[32m━━━━━━━━━━━━━━━━━━━━\u001b[0m\u001b[37m\u001b[0m \u001b[1m3s\u001b[0m 10ms/step - accuracy: 0.9502 - loss: 0.1467\n",
      "Epoch 43/50\n",
      "\u001b[1m321/321\u001b[0m \u001b[32m━━━━━━━━━━━━━━━━━━━━\u001b[0m\u001b[37m\u001b[0m \u001b[1m3s\u001b[0m 9ms/step - accuracy: 0.9495 - loss: 0.1497\n",
      "Epoch 44/50\n",
      "\u001b[1m321/321\u001b[0m \u001b[32m━━━━━━━━━━━━━━━━━━━━\u001b[0m\u001b[37m\u001b[0m \u001b[1m3s\u001b[0m 10ms/step - accuracy: 0.9491 - loss: 0.1475\n",
      "Epoch 45/50\n",
      "\u001b[1m321/321\u001b[0m \u001b[32m━━━━━━━━━━━━━━━━━━━━\u001b[0m\u001b[37m\u001b[0m \u001b[1m3s\u001b[0m 10ms/step - accuracy: 0.9489 - loss: 0.1459\n",
      "Epoch 46/50\n",
      "\u001b[1m321/321\u001b[0m \u001b[32m━━━━━━━━━━━━━━━━━━━━\u001b[0m\u001b[37m\u001b[0m \u001b[1m3s\u001b[0m 10ms/step - accuracy: 0.9486 - loss: 0.1461\n",
      "Epoch 47/50\n",
      "\u001b[1m321/321\u001b[0m \u001b[32m━━━━━━━━━━━━━━━━━━━━\u001b[0m\u001b[37m\u001b[0m \u001b[1m3s\u001b[0m 10ms/step - accuracy: 0.9492 - loss: 0.1447\n",
      "Epoch 48/50\n",
      "\u001b[1m321/321\u001b[0m \u001b[32m━━━━━━━━━━━━━━━━━━━━\u001b[0m\u001b[37m\u001b[0m \u001b[1m3s\u001b[0m 10ms/step - accuracy: 0.9483 - loss: 0.1484\n",
      "Epoch 49/50\n",
      "\u001b[1m321/321\u001b[0m \u001b[32m━━━━━━━━━━━━━━━━━━━━\u001b[0m\u001b[37m\u001b[0m \u001b[1m3s\u001b[0m 10ms/step - accuracy: 0.9478 - loss: 0.1512\n",
      "Epoch 50/50\n",
      "\u001b[1m321/321\u001b[0m \u001b[32m━━━━━━━━━━━━━━━━━━━━\u001b[0m\u001b[37m\u001b[0m \u001b[1m3s\u001b[0m 10ms/step - accuracy: 0.9491 - loss: 0.1462\n"
     ]
    },
    {
     "data": {
      "text/plain": [
       "<keras.src.callbacks.history.History at 0x23c47421300>"
      ]
     },
     "execution_count": 19,
     "metadata": {},
     "output_type": "execute_result"
    }
   ],
   "source": [
    "model.fit(X, y, epochs=50, verbose=1, validation_batch_size=0.2)"
   ]
  },
  {
   "cell_type": "code",
   "execution_count": 20,
   "id": "38a4fafa",
   "metadata": {},
   "outputs": [
    {
     "name": "stdout",
     "output_type": "stream",
     "text": [
      "\u001b[1m321/321\u001b[0m \u001b[32m━━━━━━━━━━━━━━━━━━━━\u001b[0m\u001b[37m\u001b[0m \u001b[1m2s\u001b[0m 4ms/step - accuracy: 0.9594 - loss: 0.1036\n",
      "Loss :  0.10359061509370804\n",
      "Accuracy :  0.9593789577484131\n"
     ]
    }
   ],
   "source": [
    "loss, acc = model.evaluate(X, y)\n",
    "print(\"Loss : \", loss)\n",
    "print(\"Accuracy : \", acc)"
   ]
  },
  {
   "cell_type": "code",
   "execution_count": 21,
   "id": "31fe1547",
   "metadata": {},
   "outputs": [],
   "source": [
    "def generate_text(seed_text, n_words=5):\n",
    "    for _ in range(n_words):\n",
    "        token_list = tokenizer.texts_to_sequences([seed_text])[0]\n",
    "        token_list = sequence.pad_sequences([token_list], maxlen=max_len-1, padding='pre')\n",
    "        predicted = np.argmax(model.predict(token_list), axis=1)\n",
    "    \n",
    "        for word, index in tokenizer.word_index.items():\n",
    "            if index == predicted:\n",
    "                output_word = word\n",
    "                break\n",
    "        seed_text += \" \" + output_word\n",
    "    return seed_text.title()"
   ]
  },
  {
   "cell_type": "code",
   "execution_count": 22,
   "id": "f76124f2",
   "metadata": {},
   "outputs": [
    {
     "name": "stdout",
     "output_type": "stream",
     "text": [
      "['Over 4 Million Americans Roll Up Sleeves For Omicron-Targeted COVID Boosters', 'American Airlines Flyer Charged, Banned For Life After Punching Flight Attendant On Video', '23 Of The Funniest Tweets About Cats And Dogs This Week (Sept. 17-23)', 'The Funniest Tweets From Parents This Week (Sept. 17-23)', 'Woman Who Called Cops On Black Bird-Watcher Loses Lawsuit Against Ex-Employer', 'Cleaner Was Dead In Belk Bathroom For 4 Days Before Body Found: Police', 'Reporter Gets Adorable Surprise From Her Boyfriend While Live On TV', 'Puerto Ricans Desperate For Water After Hurricane Fiona’s Rampage', 'How A New Documentary Captures The Complexity Of Being A Child Of Immigrants', \"Biden At UN To Call Russian War An Affront To Body's Charter\"]\n"
     ]
    }
   ],
   "source": [
    "print(sample_data[:10])"
   ]
  },
  {
   "cell_type": "code",
   "execution_count": 23,
   "id": "2f45cfc6",
   "metadata": {},
   "outputs": [
    {
     "name": "stdout",
     "output_type": "stream",
     "text": [
      "\u001b[1m1/1\u001b[0m \u001b[32m━━━━━━━━━━━━━━━━━━━━\u001b[0m\u001b[37m\u001b[0m \u001b[1m0s\u001b[0m 126ms/step\n",
      "\u001b[1m1/1\u001b[0m \u001b[32m━━━━━━━━━━━━━━━━━━━━\u001b[0m\u001b[37m\u001b[0m \u001b[1m0s\u001b[0m 32ms/step\n",
      "\u001b[1m1/1\u001b[0m \u001b[32m━━━━━━━━━━━━━━━━━━━━\u001b[0m\u001b[37m\u001b[0m \u001b[1m0s\u001b[0m 33ms/step\n",
      "\u001b[1m1/1\u001b[0m \u001b[32m━━━━━━━━━━━━━━━━━━━━\u001b[0m\u001b[37m\u001b[0m \u001b[1m0s\u001b[0m 29ms/step\n",
      "\u001b[1m1/1\u001b[0m \u001b[32m━━━━━━━━━━━━━━━━━━━━\u001b[0m\u001b[37m\u001b[0m \u001b[1m0s\u001b[0m 30ms/step\n",
      "\u001b[1m1/1\u001b[0m \u001b[32m━━━━━━━━━━━━━━━━━━━━\u001b[0m\u001b[37m\u001b[0m \u001b[1m0s\u001b[0m 30ms/step\n",
      "\u001b[1m1/1\u001b[0m \u001b[32m━━━━━━━━━━━━━━━━━━━━\u001b[0m\u001b[37m\u001b[0m \u001b[1m0s\u001b[0m 32ms/step\n",
      "\u001b[1m1/1\u001b[0m \u001b[32m━━━━━━━━━━━━━━━━━━━━\u001b[0m\u001b[37m\u001b[0m \u001b[1m0s\u001b[0m 31ms/step\n",
      "\u001b[1m1/1\u001b[0m \u001b[32m━━━━━━━━━━━━━━━━━━━━\u001b[0m\u001b[37m\u001b[0m \u001b[1m0s\u001b[0m 29ms/step\n",
      "\u001b[1m1/1\u001b[0m \u001b[32m━━━━━━━━━━━━━━━━━━━━\u001b[0m\u001b[37m\u001b[0m \u001b[1m0s\u001b[0m 32ms/step\n",
      "Cleaner Dead After Russian Bomb When Thinking About Jan 6 Committee Obtains\n"
     ]
    }
   ],
   "source": [
    "seed_text = \"cleaner dead\"\n",
    "print(generate_text(seed_text, n_words=10))"
   ]
  },
  {
   "cell_type": "code",
   "execution_count": 24,
   "id": "89d3cf1e",
   "metadata": {},
   "outputs": [
    {
     "name": "stdout",
     "output_type": "stream",
     "text": [
      "\u001b[1m1/1\u001b[0m \u001b[32m━━━━━━━━━━━━━━━━━━━━\u001b[0m\u001b[37m\u001b[0m \u001b[1m0s\u001b[0m 34ms/step\n",
      "\u001b[1m1/1\u001b[0m \u001b[32m━━━━━━━━━━━━━━━━━━━━\u001b[0m\u001b[37m\u001b[0m \u001b[1m0s\u001b[0m 31ms/step\n",
      "\u001b[1m1/1\u001b[0m \u001b[32m━━━━━━━━━━━━━━━━━━━━\u001b[0m\u001b[37m\u001b[0m \u001b[1m0s\u001b[0m 30ms/step\n",
      "\u001b[1m1/1\u001b[0m \u001b[32m━━━━━━━━━━━━━━━━━━━━\u001b[0m\u001b[37m\u001b[0m \u001b[1m0s\u001b[0m 30ms/step\n",
      "\u001b[1m1/1\u001b[0m \u001b[32m━━━━━━━━━━━━━━━━━━━━\u001b[0m\u001b[37m\u001b[0m \u001b[1m0s\u001b[0m 30ms/step\n",
      "\u001b[1m1/1\u001b[0m \u001b[32m━━━━━━━━━━━━━━━━━━━━\u001b[0m\u001b[37m\u001b[0m \u001b[1m0s\u001b[0m 29ms/step\n",
      "\u001b[1m1/1\u001b[0m \u001b[32m━━━━━━━━━━━━━━━━━━━━\u001b[0m\u001b[37m\u001b[0m \u001b[1m0s\u001b[0m 30ms/step\n",
      "\u001b[1m1/1\u001b[0m \u001b[32m━━━━━━━━━━━━━━━━━━━━\u001b[0m\u001b[37m\u001b[0m \u001b[1m0s\u001b[0m 29ms/step\n",
      "\u001b[1m1/1\u001b[0m \u001b[32m━━━━━━━━━━━━━━━━━━━━\u001b[0m\u001b[37m\u001b[0m \u001b[1m0s\u001b[0m 30ms/step\n",
      "\u001b[1m1/1\u001b[0m \u001b[32m━━━━━━━━━━━━━━━━━━━━\u001b[0m\u001b[37m\u001b[0m \u001b[1m0s\u001b[0m 30ms/step\n",
      "Trump Said Wounded Veterans In Military Parades Didn’T 'Look Good' For Him\n"
     ]
    }
   ],
   "source": [
    "seed_text = \"Trump said\"\n",
    "print(generate_text(seed_text, n_words=10))"
   ]
  },
  {
   "cell_type": "code",
   "execution_count": null,
   "id": "50fbcf15",
   "metadata": {},
   "outputs": [],
   "source": []
  }
 ],
 "metadata": {
  "kernelspec": {
   "display_name": "tf",
   "language": "python",
   "name": "python3"
  },
  "language_info": {
   "codemirror_mode": {
    "name": "ipython",
    "version": 3
   },
   "file_extension": ".py",
   "mimetype": "text/x-python",
   "name": "python",
   "nbconvert_exporter": "python",
   "pygments_lexer": "ipython3",
   "version": "3.10.18"
  }
 },
 "nbformat": 4,
 "nbformat_minor": 5
}
