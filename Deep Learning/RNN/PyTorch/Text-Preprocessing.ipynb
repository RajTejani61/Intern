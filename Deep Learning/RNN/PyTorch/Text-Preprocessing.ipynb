{
 "cells": [
  {
   "cell_type": "code",
   "execution_count": 1,
   "id": "c0c806d9",
   "metadata": {},
   "outputs": [],
   "source": [
    "import torch\n",
    "import torch.nn as nn\n",
    "import torch.optim as optim\n",
    "from torch.utils.data import Dataset, DataLoader\n",
    "from sklearn.model_selection import train_test_split\n",
    "import pandas as pd\n",
    "import numpy as np\n",
    "import re\n",
    "from collections import Counter"
   ]
  },
  {
   "cell_type": "code",
   "execution_count": 2,
   "id": "88e367a3",
   "metadata": {},
   "outputs": [
    {
     "data": {
      "text/plain": [
       "device(type='cuda')"
      ]
     },
     "execution_count": 2,
     "metadata": {},
     "output_type": "execute_result"
    }
   ],
   "source": [
    "device = torch.device(\"cuda\" if torch.cuda.is_available() else \"cpu\")\n",
    "device"
   ]
  },
  {
   "cell_type": "code",
   "execution_count": 3,
   "id": "46b6f888",
   "metadata": {},
   "outputs": [
    {
     "data": {
      "text/html": [
       "<div>\n",
       "<style scoped>\n",
       "    .dataframe tbody tr th:only-of-type {\n",
       "        vertical-align: middle;\n",
       "    }\n",
       "\n",
       "    .dataframe tbody tr th {\n",
       "        vertical-align: top;\n",
       "    }\n",
       "\n",
       "    .dataframe thead th {\n",
       "        text-align: right;\n",
       "    }\n",
       "</style>\n",
       "<table border=\"1\" class=\"dataframe\">\n",
       "  <thead>\n",
       "    <tr style=\"text-align: right;\">\n",
       "      <th></th>\n",
       "      <th>review</th>\n",
       "      <th>sentiment</th>\n",
       "    </tr>\n",
       "  </thead>\n",
       "  <tbody>\n",
       "    <tr>\n",
       "      <th>0</th>\n",
       "      <td>One of the other reviewers has mentioned that ...</td>\n",
       "      <td>positive</td>\n",
       "    </tr>\n",
       "    <tr>\n",
       "      <th>1</th>\n",
       "      <td>A wonderful little production. &lt;br /&gt;&lt;br /&gt;The...</td>\n",
       "      <td>positive</td>\n",
       "    </tr>\n",
       "    <tr>\n",
       "      <th>2</th>\n",
       "      <td>I thought this was a wonderful way to spend ti...</td>\n",
       "      <td>positive</td>\n",
       "    </tr>\n",
       "    <tr>\n",
       "      <th>3</th>\n",
       "      <td>Basically there's a family where a little boy ...</td>\n",
       "      <td>negative</td>\n",
       "    </tr>\n",
       "    <tr>\n",
       "      <th>4</th>\n",
       "      <td>Petter Mattei's \"Love in the Time of Money\" is...</td>\n",
       "      <td>positive</td>\n",
       "    </tr>\n",
       "  </tbody>\n",
       "</table>\n",
       "</div>"
      ],
      "text/plain": [
       "                                              review sentiment\n",
       "0  One of the other reviewers has mentioned that ...  positive\n",
       "1  A wonderful little production. <br /><br />The...  positive\n",
       "2  I thought this was a wonderful way to spend ti...  positive\n",
       "3  Basically there's a family where a little boy ...  negative\n",
       "4  Petter Mattei's \"Love in the Time of Money\" is...  positive"
      ]
     },
     "execution_count": 3,
     "metadata": {},
     "output_type": "execute_result"
    }
   ],
   "source": [
    "df = pd.read_csv(\"D:/Intern/DataSets/IMDB Dataset.csv\")\n",
    "df.head()"
   ]
  },
  {
   "cell_type": "markdown",
   "id": "43fad68c",
   "metadata": {},
   "source": [
    "### Cleaning"
   ]
  },
  {
   "cell_type": "code",
   "execution_count": 4,
   "id": "ac5f8ad4",
   "metadata": {},
   "outputs": [],
   "source": [
    "df[\"sentiment\"] = df[\"sentiment\"].map({\"positive\": 1, \"negative\": 0})"
   ]
  },
  {
   "cell_type": "code",
   "execution_count": 5,
   "id": "1cdce5de",
   "metadata": {},
   "outputs": [],
   "source": [
    "def clean_text(text):\n",
    "    text = text.lower()\n",
    "    text = re.sub(r\"[^a-zA-Z0-9]\", \" \", text)\n",
    "    return text"
   ]
  },
  {
   "cell_type": "code",
   "execution_count": 6,
   "id": "5a155526",
   "metadata": {},
   "outputs": [],
   "source": [
    "df[\"review\"] = df[\"review\"].apply(clean_text)"
   ]
  },
  {
   "cell_type": "code",
   "execution_count": 7,
   "id": "45ed504d",
   "metadata": {},
   "outputs": [
    {
     "data": {
      "text/html": [
       "<div>\n",
       "<style scoped>\n",
       "    .dataframe tbody tr th:only-of-type {\n",
       "        vertical-align: middle;\n",
       "    }\n",
       "\n",
       "    .dataframe tbody tr th {\n",
       "        vertical-align: top;\n",
       "    }\n",
       "\n",
       "    .dataframe thead th {\n",
       "        text-align: right;\n",
       "    }\n",
       "</style>\n",
       "<table border=\"1\" class=\"dataframe\">\n",
       "  <thead>\n",
       "    <tr style=\"text-align: right;\">\n",
       "      <th></th>\n",
       "      <th>review</th>\n",
       "      <th>sentiment</th>\n",
       "    </tr>\n",
       "  </thead>\n",
       "  <tbody>\n",
       "    <tr>\n",
       "      <th>0</th>\n",
       "      <td>one of the other reviewers has mentioned that ...</td>\n",
       "      <td>1</td>\n",
       "    </tr>\n",
       "    <tr>\n",
       "      <th>1</th>\n",
       "      <td>a wonderful little production   br    br   the...</td>\n",
       "      <td>1</td>\n",
       "    </tr>\n",
       "    <tr>\n",
       "      <th>2</th>\n",
       "      <td>i thought this was a wonderful way to spend ti...</td>\n",
       "      <td>1</td>\n",
       "    </tr>\n",
       "    <tr>\n",
       "      <th>3</th>\n",
       "      <td>basically there s a family where a little boy ...</td>\n",
       "      <td>0</td>\n",
       "    </tr>\n",
       "    <tr>\n",
       "      <th>4</th>\n",
       "      <td>petter mattei s  love in the time of money  is...</td>\n",
       "      <td>1</td>\n",
       "    </tr>\n",
       "  </tbody>\n",
       "</table>\n",
       "</div>"
      ],
      "text/plain": [
       "                                              review  sentiment\n",
       "0  one of the other reviewers has mentioned that ...          1\n",
       "1  a wonderful little production   br    br   the...          1\n",
       "2  i thought this was a wonderful way to spend ti...          1\n",
       "3  basically there s a family where a little boy ...          0\n",
       "4  petter mattei s  love in the time of money  is...          1"
      ]
     },
     "execution_count": 7,
     "metadata": {},
     "output_type": "execute_result"
    }
   ],
   "source": [
    "df.head()"
   ]
  },
  {
   "cell_type": "markdown",
   "id": "8822557c",
   "metadata": {},
   "source": [
    "### Voacb"
   ]
  },
  {
   "cell_type": "code",
   "execution_count": 8,
   "id": "ac913d7c",
   "metadata": {},
   "outputs": [],
   "source": [
    "all_words = \" \".join(df[\"review\"]).split()"
   ]
  },
  {
   "cell_type": "code",
   "execution_count": 9,
   "id": "8765a85d",
   "metadata": {},
   "outputs": [
    {
     "data": {
      "text/plain": [
       "11980071"
      ]
     },
     "execution_count": 9,
     "metadata": {},
     "output_type": "execute_result"
    }
   ],
   "source": [
    "len(all_words)"
   ]
  },
  {
   "cell_type": "code",
   "execution_count": 10,
   "id": "a1bcec8c",
   "metadata": {},
   "outputs": [],
   "source": [
    "vocab_size = 20000"
   ]
  },
  {
   "cell_type": "code",
   "execution_count": 11,
   "id": "ac00395f",
   "metadata": {},
   "outputs": [],
   "source": [
    "most_common = Counter(all_words).most_common(vocab_size-2) # -2 for <pad> and <unk>"
   ]
  },
  {
   "cell_type": "code",
   "execution_count": 12,
   "id": "276defef",
   "metadata": {},
   "outputs": [
    {
     "data": {
      "text/plain": [
       "[('the', 668009),\n",
       " ('and', 324443),\n",
       " ('a', 323036),\n",
       " ('of', 289414),\n",
       " ('to', 268125),\n",
       " ('is', 211092),\n",
       " ('br', 201954),\n",
       " ('it', 190862),\n",
       " ('in', 186787),\n",
       " ('i', 175643)]"
      ]
     },
     "execution_count": 12,
     "metadata": {},
     "output_type": "execute_result"
    }
   ],
   "source": [
    "most_common[:10]"
   ]
  },
  {
   "cell_type": "code",
   "execution_count": 13,
   "id": "f0d16092",
   "metadata": {},
   "outputs": [],
   "source": [
    "word2idx = {word : idx+2 for idx, (word, _) in enumerate(most_common)} # 0 = <pad>, 1 = <unk>\n",
    "word2idx[\"<pad>\"] = 0\n",
    "word2idx[\"<unk>\"] = 1"
   ]
  },
  {
   "cell_type": "code",
   "execution_count": 14,
   "id": "bf308937",
   "metadata": {},
   "outputs": [],
   "source": [
    "def encode_text(text):\n",
    "    return [word2idx.get(word, 1) for word in text.split()] # 1 = <unk>"
   ]
  },
  {
   "cell_type": "code",
   "execution_count": 15,
   "id": "39f56427",
   "metadata": {},
   "outputs": [],
   "source": [
    "df[\"encoded\"] = df[\"review\"].apply(encode_text)"
   ]
  },
  {
   "cell_type": "code",
   "execution_count": 16,
   "id": "ff8d8e72",
   "metadata": {},
   "outputs": [
    {
     "data": {
      "text/html": [
       "<div>\n",
       "<style scoped>\n",
       "    .dataframe tbody tr th:only-of-type {\n",
       "        vertical-align: middle;\n",
       "    }\n",
       "\n",
       "    .dataframe tbody tr th {\n",
       "        vertical-align: top;\n",
       "    }\n",
       "\n",
       "    .dataframe thead th {\n",
       "        text-align: right;\n",
       "    }\n",
       "</style>\n",
       "<table border=\"1\" class=\"dataframe\">\n",
       "  <thead>\n",
       "    <tr style=\"text-align: right;\">\n",
       "      <th></th>\n",
       "      <th>review</th>\n",
       "      <th>sentiment</th>\n",
       "      <th>encoded</th>\n",
       "    </tr>\n",
       "  </thead>\n",
       "  <tbody>\n",
       "    <tr>\n",
       "      <th>0</th>\n",
       "      <td>one of the other reviewers has mentioned that ...</td>\n",
       "      <td>1</td>\n",
       "      <td>[30, 5, 2, 79, 2063, 48, 1065, 13, 102, 151, 4...</td>\n",
       "    </tr>\n",
       "    <tr>\n",
       "      <th>1</th>\n",
       "      <td>a wonderful little production   br    br   the...</td>\n",
       "      <td>1</td>\n",
       "      <td>[4, 396, 122, 356, 8, 8, 2, 1384, 2983, 7, 55,...</td>\n",
       "    </tr>\n",
       "    <tr>\n",
       "      <th>2</th>\n",
       "      <td>i thought this was a wonderful way to spend ti...</td>\n",
       "      <td>1</td>\n",
       "      <td>[11, 194, 12, 15, 4, 396, 97, 6, 1154, 59, 24,...</td>\n",
       "    </tr>\n",
       "    <tr>\n",
       "      <th>3</th>\n",
       "      <td>basically there s a family where a little boy ...</td>\n",
       "      <td>0</td>\n",
       "      <td>[684, 41, 14, 4, 229, 117, 4, 122, 403, 3362, ...</td>\n",
       "    </tr>\n",
       "    <tr>\n",
       "      <th>4</th>\n",
       "      <td>petter mattei s  love in the time of money  is...</td>\n",
       "      <td>1</td>\n",
       "      <td>[1, 10639, 14, 112, 10, 2, 59, 5, 293, 7, 4, 2...</td>\n",
       "    </tr>\n",
       "  </tbody>\n",
       "</table>\n",
       "</div>"
      ],
      "text/plain": [
       "                                              review  sentiment  \\\n",
       "0  one of the other reviewers has mentioned that ...          1   \n",
       "1  a wonderful little production   br    br   the...          1   \n",
       "2  i thought this was a wonderful way to spend ti...          1   \n",
       "3  basically there s a family where a little boy ...          0   \n",
       "4  petter mattei s  love in the time of money  is...          1   \n",
       "\n",
       "                                             encoded  \n",
       "0  [30, 5, 2, 79, 2063, 48, 1065, 13, 102, 151, 4...  \n",
       "1  [4, 396, 122, 356, 8, 8, 2, 1384, 2983, 7, 55,...  \n",
       "2  [11, 194, 12, 15, 4, 396, 97, 6, 1154, 59, 24,...  \n",
       "3  [684, 41, 14, 4, 229, 117, 4, 122, 403, 3362, ...  \n",
       "4  [1, 10639, 14, 112, 10, 2, 59, 5, 293, 7, 4, 2...  "
      ]
     },
     "execution_count": 16,
     "metadata": {},
     "output_type": "execute_result"
    }
   ],
   "source": [
    "df.head()"
   ]
  },
  {
   "cell_type": "markdown",
   "id": "5cc6c9b4",
   "metadata": {},
   "source": [
    "### Pad Sequence"
   ]
  },
  {
   "cell_type": "code",
   "execution_count": 17,
   "id": "40f09062",
   "metadata": {},
   "outputs": [],
   "source": [
    "def pad_sequence(seq, max_len=200):\n",
    "    return seq[:max_len] + [0] * (max_len - len(seq)) # max_len - len(seq) = 5 - 7 = -2 * 0 = 0"
   ]
  },
  {
   "cell_type": "code",
   "execution_count": 18,
   "id": "360e50c3",
   "metadata": {},
   "outputs": [],
   "source": [
    "df[\"padded\"] = df[\"encoded\"].apply(pad_sequence)"
   ]
  },
  {
   "cell_type": "code",
   "execution_count": 19,
   "id": "1ad25814",
   "metadata": {},
   "outputs": [
    {
     "data": {
      "text/html": [
       "<div>\n",
       "<style scoped>\n",
       "    .dataframe tbody tr th:only-of-type {\n",
       "        vertical-align: middle;\n",
       "    }\n",
       "\n",
       "    .dataframe tbody tr th {\n",
       "        vertical-align: top;\n",
       "    }\n",
       "\n",
       "    .dataframe thead th {\n",
       "        text-align: right;\n",
       "    }\n",
       "</style>\n",
       "<table border=\"1\" class=\"dataframe\">\n",
       "  <thead>\n",
       "    <tr style=\"text-align: right;\">\n",
       "      <th></th>\n",
       "      <th>review</th>\n",
       "      <th>sentiment</th>\n",
       "      <th>encoded</th>\n",
       "      <th>padded</th>\n",
       "    </tr>\n",
       "  </thead>\n",
       "  <tbody>\n",
       "    <tr>\n",
       "      <th>0</th>\n",
       "      <td>one of the other reviewers has mentioned that ...</td>\n",
       "      <td>1</td>\n",
       "      <td>[30, 5, 2, 79, 2063, 48, 1065, 13, 102, 151, 4...</td>\n",
       "      <td>[30, 5, 2, 79, 2063, 48, 1065, 13, 102, 151, 4...</td>\n",
       "    </tr>\n",
       "    <tr>\n",
       "      <th>1</th>\n",
       "      <td>a wonderful little production   br    br   the...</td>\n",
       "      <td>1</td>\n",
       "      <td>[4, 396, 122, 356, 8, 8, 2, 1384, 2983, 7, 55,...</td>\n",
       "      <td>[4, 396, 122, 356, 8, 8, 2, 1384, 2983, 7, 55,...</td>\n",
       "    </tr>\n",
       "    <tr>\n",
       "      <th>2</th>\n",
       "      <td>i thought this was a wonderful way to spend ti...</td>\n",
       "      <td>1</td>\n",
       "      <td>[11, 194, 12, 15, 4, 396, 97, 6, 1154, 59, 24,...</td>\n",
       "      <td>[11, 194, 12, 15, 4, 396, 97, 6, 1154, 59, 24,...</td>\n",
       "    </tr>\n",
       "    <tr>\n",
       "      <th>3</th>\n",
       "      <td>basically there s a family where a little boy ...</td>\n",
       "      <td>0</td>\n",
       "      <td>[684, 41, 14, 4, 229, 117, 4, 122, 403, 3362, ...</td>\n",
       "      <td>[684, 41, 14, 4, 229, 117, 4, 122, 403, 3362, ...</td>\n",
       "    </tr>\n",
       "    <tr>\n",
       "      <th>4</th>\n",
       "      <td>petter mattei s  love in the time of money  is...</td>\n",
       "      <td>1</td>\n",
       "      <td>[1, 10639, 14, 112, 10, 2, 59, 5, 293, 7, 4, 2...</td>\n",
       "      <td>[1, 10639, 14, 112, 10, 2, 59, 5, 293, 7, 4, 2...</td>\n",
       "    </tr>\n",
       "  </tbody>\n",
       "</table>\n",
       "</div>"
      ],
      "text/plain": [
       "                                              review  sentiment  \\\n",
       "0  one of the other reviewers has mentioned that ...          1   \n",
       "1  a wonderful little production   br    br   the...          1   \n",
       "2  i thought this was a wonderful way to spend ti...          1   \n",
       "3  basically there s a family where a little boy ...          0   \n",
       "4  petter mattei s  love in the time of money  is...          1   \n",
       "\n",
       "                                             encoded  \\\n",
       "0  [30, 5, 2, 79, 2063, 48, 1065, 13, 102, 151, 4...   \n",
       "1  [4, 396, 122, 356, 8, 8, 2, 1384, 2983, 7, 55,...   \n",
       "2  [11, 194, 12, 15, 4, 396, 97, 6, 1154, 59, 24,...   \n",
       "3  [684, 41, 14, 4, 229, 117, 4, 122, 403, 3362, ...   \n",
       "4  [1, 10639, 14, 112, 10, 2, 59, 5, 293, 7, 4, 2...   \n",
       "\n",
       "                                              padded  \n",
       "0  [30, 5, 2, 79, 2063, 48, 1065, 13, 102, 151, 4...  \n",
       "1  [4, 396, 122, 356, 8, 8, 2, 1384, 2983, 7, 55,...  \n",
       "2  [11, 194, 12, 15, 4, 396, 97, 6, 1154, 59, 24,...  \n",
       "3  [684, 41, 14, 4, 229, 117, 4, 122, 403, 3362, ...  \n",
       "4  [1, 10639, 14, 112, 10, 2, 59, 5, 293, 7, 4, 2...  "
      ]
     },
     "execution_count": 19,
     "metadata": {},
     "output_type": "execute_result"
    }
   ],
   "source": [
    "df.head()"
   ]
  },
  {
   "cell_type": "code",
   "execution_count": 20,
   "id": "2e899019",
   "metadata": {},
   "outputs": [],
   "source": [
    "X = np.array(df[\"padded\"].tolist())\n",
    "y = df[\"sentiment\"].values"
   ]
  },
  {
   "cell_type": "code",
   "execution_count": 21,
   "id": "61c55bd9",
   "metadata": {},
   "outputs": [],
   "source": [
    "X_train, X_test, y_train, y_test = train_test_split(X, y, test_size=0.2, random_state=42)"
   ]
  },
  {
   "cell_type": "code",
   "execution_count": 22,
   "id": "e21c077e",
   "metadata": {},
   "outputs": [
    {
     "name": "stdout",
     "output_type": "stream",
     "text": [
      "(40000, 200) (40000,)\n",
      "(10000, 200) (10000,)\n"
     ]
    }
   ],
   "source": [
    "print(X_train.shape, y_train.shape)\n",
    "print(X_test.shape, y_test.shape)"
   ]
  },
  {
   "cell_type": "code",
   "execution_count": 23,
   "id": "3abbb428",
   "metadata": {},
   "outputs": [],
   "source": [
    "class IMDBDataset(Dataset):\n",
    "    def __init__(self, X, y):\n",
    "        self.X = torch.LongTensor(X)\n",
    "        self.y = torch.LongTensor(y)\n",
    "        \n",
    "    def __len__(self):\n",
    "        return len(self.X)\n",
    "    \n",
    "    def __getitem__(self, index):\n",
    "        return self.X[index], self.y[index]"
   ]
  },
  {
   "cell_type": "code",
   "execution_count": 24,
   "id": "0b91b818",
   "metadata": {},
   "outputs": [],
   "source": [
    "train_ds = IMDBDataset(X_train, y_train)\n",
    "test_ds = IMDBDataset(X_test, y_test)"
   ]
  },
  {
   "cell_type": "code",
   "execution_count": 25,
   "id": "3ba80394",
   "metadata": {},
   "outputs": [],
   "source": [
    "train_loader = DataLoader(train_ds, batch_size=16, shuffle=True)\n",
    "test_loader = DataLoader(test_ds, batch_size=16)"
   ]
  },
  {
   "cell_type": "code",
   "execution_count": 26,
   "id": "0a4a6523",
   "metadata": {},
   "outputs": [],
   "source": [
    "class SentimentRNN(nn.Module):\n",
    "    def __init__(self, vocab_size, embedding_dim, hidden_dim, output_dim, num_layers=2, dropout=0.5, bidirectional=True):\n",
    "        super().__init__()\n",
    "        self.bidirectional = bidirectional\n",
    "        self.embedding = nn.Embedding(vocab_size, embedding_dim, padding_idx=0)\n",
    "        self.lstm = nn.LSTM(embedding_dim, \n",
    "                            hidden_dim, \n",
    "                            num_layers=num_layers, \n",
    "                            dropout=dropout, \n",
    "                            batch_first=True, \n",
    "                            bidirectional=bidirectional)\n",
    "        self.fc = nn.Linear(hidden_dim * (2 if bidirectional else 1), output_dim) # 2 for bidirectional\n",
    "        self.dropout = nn.Dropout(dropout)\n",
    "        \n",
    "    def forward(self, x):\n",
    "        embedded = self.dropout(self.embedding(x))\n",
    "        output, (hidden, cell) = self.lstm(embedded)\n",
    "        \n",
    "        # concat the both foreward and backward hidden states from both directions\n",
    "        if self.bidirectional:\n",
    "            hidden_concat = torch.cat((hidden[-2,:,:], hidden[-1,:,:]), dim=1)\n",
    "        else:\n",
    "            hidden_concat = hidden[-1,:,:]\n",
    "            \n",
    "        fc_output = self.fc(hidden_concat)\n",
    "        return fc_output"
   ]
  },
  {
   "cell_type": "code",
   "execution_count": 27,
   "id": "59d3b644",
   "metadata": {},
   "outputs": [],
   "source": [
    "model = SentimentRNN(vocab_size, embedding_dim=128, hidden_dim=128, output_dim=1, num_layers=2)\n",
    "model = model.to(device)"
   ]
  },
  {
   "cell_type": "code",
   "execution_count": 28,
   "id": "2cb6c9ad",
   "metadata": {},
   "outputs": [],
   "source": [
    "criterian = nn.BCEWithLogitsLoss()\n",
    "optimizer = optim.Adam(model.parameters(), lr=0.001)"
   ]
  },
  {
   "cell_type": "code",
   "execution_count": 29,
   "id": "8aba44bc",
   "metadata": {},
   "outputs": [],
   "source": [
    "def binary_acc(preds, y):\n",
    "    rounded = torch.round(torch.sigmoid(preds))\n",
    "    correct = (rounded == y).float()\n",
    "    return correct.sum() / len(correct)"
   ]
  },
  {
   "cell_type": "code",
   "execution_count": 30,
   "id": "ba6ce42d",
   "metadata": {},
   "outputs": [
    {
     "name": "stdout",
     "output_type": "stream",
     "text": [
      "Epoch: 1, Train Loss: 0.6795559959173203 Train Acc: 0.559125 Val Loss: 0.6667189787864685 Val Acc: 0.5959\n",
      "Epoch: 2, Train Loss: 0.506737742215395 Train Acc: 0.752075 Val Loss: 0.3859276170015335 Val Acc: 0.8263\n",
      "Epoch: 3, Train Loss: 0.3817715517908335 Train Acc: 0.8295 Val Loss: 0.3304046890676022 Val Acc: 0.8612\n",
      "Epoch: 4, Train Loss: 0.3220999955847859 Train Acc: 0.858975 Val Loss: 0.30459997407197953 Val Acc: 0.8728\n",
      "Epoch: 5, Train Loss: 0.2871860074907541 Train Acc: 0.87885 Val Loss: 0.28987975727915766 Val Acc: 0.8806\n"
     ]
    }
   ],
   "source": [
    "epochs = 5\n",
    "\n",
    "for epoch in range(epochs):\n",
    "    \n",
    "    # Training\n",
    "    model.train()\n",
    "    train_loss, train_acc = 0, 0\n",
    "    \n",
    "    for X_batch, y_batch in train_loader:\n",
    "        X_batch, y_batch = X_batch.to(device), y_batch.to(device, dtype=torch.float)\n",
    "        \n",
    "        # Zero the gradients\n",
    "        optimizer.zero_grad()\n",
    "        \n",
    "        # Forward\n",
    "        preds = model(X_batch).squeeze(1) # shape [batch_size]\n",
    "        loss = criterian(preds, y_batch)\n",
    "        \n",
    "        # Calculate accuracy\n",
    "        acc = binary_acc(preds, y_batch)\n",
    "        \n",
    "        # Backward\n",
    "        loss.backward()\n",
    "        optimizer.step()\n",
    "        \n",
    "        train_loss += loss.item()\n",
    "        train_acc += acc.item()\n",
    "    \n",
    "    # Validation\n",
    "    model.eval()\n",
    "    val_loss, val_acc = 0, 0\n",
    "\n",
    "    with torch.no_grad():\n",
    "        \n",
    "        for X_batch, y_batch in test_loader:\n",
    "            \n",
    "            X_batch, y_batch = X_batch.to(device), y_batch.to(device, dtype=torch.float)\n",
    "            \n",
    "            preds = model(X_batch).squeeze(1)\n",
    "            loss = criterian(preds, y_batch)\n",
    "            \n",
    "            acc = binary_acc(preds, y_batch)\n",
    "            \n",
    "            val_loss += loss.item()\n",
    "            val_acc += acc.item()\n",
    "            \n",
    "    print(f\"Epoch: {epoch+1}, Train Loss: {train_loss/len(train_loader)}\" , \n",
    "          f\"Train Acc: {train_acc/len(train_loader)}\", \n",
    "          f\"Val Loss: {val_loss/len(test_loader)}\", \n",
    "          f\"Val Acc: {val_acc/len(test_loader)}\")\n",
    "    \n",
    "    "
   ]
  },
  {
   "cell_type": "code",
   "execution_count": 50,
   "id": "78b76cec",
   "metadata": {},
   "outputs": [
    {
     "name": "stdout",
     "output_type": "stream",
     "text": [
      "Probability of positive sentiment: 0.9894\n",
      "Prediction: Positive\n"
     ]
    }
   ],
   "source": [
    "sample = \"this movie is so awesome.\"\n",
    "\n",
    "# Clean and encode the text\n",
    "sample = clean_text(str(sample))\n",
    "encoded = encode_text(sample)\n",
    "padded = pad_sequence(encoded)\n",
    "\n",
    "# Convert to tensor and prepare for model\n",
    "sample = torch.tensor(padded).unsqueeze(0).to(device)\n",
    "\n",
    "with torch.no_grad():\n",
    "\toutput = model(sample)\n",
    "\toutput = torch.sigmoid(output)\n",
    "\tprint(f\"Probability of positive sentiment: {output.item():.4f}\")\n",
    "\tprediction = \"Positive\" if torch.round(output).item() == 1 else \"Negative\"\n",
    "\tprint(f\"Prediction: {prediction}\")\n",
    " "
   ]
  },
  {
   "cell_type": "code",
   "execution_count": 41,
   "id": "e2cd0e29",
   "metadata": {},
   "outputs": [
    {
     "name": "stdout",
     "output_type": "stream",
     "text": [
      "Probability of positive sentiment: 0.4429\n",
      "Prediction: Negative\n"
     ]
    }
   ],
   "source": [
    "sample = \"this movie is descent.\"\n",
    "\n",
    "# Clean and encode the text\n",
    "sample = clean_text(str(sample))\n",
    "encoded = encode_text(sample)\n",
    "padded = pad_sequence(encoded)\n",
    "\n",
    "# Convert to tensor and prepare for model\n",
    "sample = torch.tensor(padded).unsqueeze(0).to(device)\n",
    "\n",
    "with torch.no_grad():\n",
    "\toutput = model(sample)\n",
    "\toutput = torch.sigmoid(output)\n",
    "\tprint(f\"Probability of positive sentiment: {output.item():.4f}\")\n",
    "\tprediction = \"Positive\" if torch.round(output).item() == 1 else \"Negative\"\n",
    "\tprint(f\"Prediction: {prediction}\")\n",
    " "
   ]
  },
  {
   "cell_type": "code",
   "execution_count": 47,
   "id": "981a24ab",
   "metadata": {},
   "outputs": [
    {
     "data": {
      "text/plain": [
       "['on top of the fact that skylar is a complete douche bag and his cons are unimaginative  his schemes require way to much preparation to make any of his scams worth while  without giving away any spoilers  as if it matters with this piece of crap  his cons are such a sham because it takes the effort of days and days of planning  and the use of multiple accomplices and an entire camera crew etc  just to scam someone into a service that would cost less than a hundred bucks     in addition if you read in the credits they re stage some of the phone calls etc  because they don t pan out   the whole concept of this show is bunk because all of his cons have the cost in both the crew and the effort of ten times the actual cost of the service he is trying to get for free   what is the con ',\n",
       " 'this off beat horror movie seems to be getting nothing but bad reviews  my question is  why  i think this movie is pretty good  dee snider did very well for his first  and only  time directing  he also plays the antagonist  captain howdy  carelton hendriks   this movie seems to have a view of the future  although it came out back in 1998  it seems to be about modern issues  internet predators seems to be the underlying plot here  although taken to another level  this is an issue which we still face today  i ll admit  the story fell short a few times  but that doesn t make this a bad movie at all  robert englund is even in this movie  that automatically makes it better  the acting wasn t bad  the characters were pretty good as well  hendriks was a pretty good antagonist i think  i give this off beat horror a 7 10  recommend for fans of saw ']"
      ]
     },
     "execution_count": 47,
     "metadata": {},
     "output_type": "execute_result"
    }
   ],
   "source": [
    "sample_list = list(df[\"review\"].sample(2))\n",
    "sample_list"
   ]
  },
  {
   "cell_type": "code",
   "execution_count": 48,
   "id": "cfde7abe",
   "metadata": {},
   "outputs": [
    {
     "name": "stdout",
     "output_type": "stream",
     "text": [
      "Probability of positive sentiment: 0.1837\n",
      "Prediction: Negative\n"
     ]
    }
   ],
   "source": [
    "sample = \"\"\" on top of the fact that skylar is a complete douche bag and his cons are unimaginative  \n",
    "\t\t\this schemes require way to much preparation to make any of his scams worth while  without giving away any spoilers  \n",
    "   \t\t\tas if it matters with this piece of crap  his cons are such a sham because it takes the effort of days and days of planning  \n",
    "      \t\tand the use of multiple accomplices and an entire camera crew etc  \n",
    "        \tjust to scam someone into a service that would cost less than a hundred bucks     \n",
    "         \tin addition if you read in the credits they re stage some of the phone calls etc  because they don t pan out   \n",
    "           \tthe whole concept of this show is bunk because all of his cons have the cost in both the crew and the effort of ten times the actual cost of the service he is trying to get for free   \n",
    "            what is the con \"\"\"\n",
    "\n",
    "# Clean and encode the text\n",
    "sample = clean_text(str(sample))\n",
    "encoded = encode_text(sample)\n",
    "padded = pad_sequence(encoded)\n",
    "\n",
    "# Convert to tensor and prepare for model\n",
    "sample = torch.tensor(padded).unsqueeze(0).to(device)\n",
    "\n",
    "with torch.no_grad():\n",
    "\toutput = model(sample)\n",
    "\toutput = torch.sigmoid(output)\n",
    "\tprint(f\"Probability of positive sentiment: {output.item():.4f}\")\n",
    "\tprediction = \"Positive\" if torch.round(output).item() == 1 else \"Negative\"\n",
    "\tprint(f\"Prediction: {prediction}\")\n",
    " "
   ]
  },
  {
   "cell_type": "code",
   "execution_count": null,
   "id": "66e14b41",
   "metadata": {},
   "outputs": [],
   "source": []
  }
 ],
 "metadata": {
  "kernelspec": {
   "display_name": "torch-gpu",
   "language": "python",
   "name": "python3"
  },
  "language_info": {
   "codemirror_mode": {
    "name": "ipython",
    "version": 3
   },
   "file_extension": ".py",
   "mimetype": "text/x-python",
   "name": "python",
   "nbconvert_exporter": "python",
   "pygments_lexer": "ipython3",
   "version": "3.10.18"
  }
 },
 "nbformat": 4,
 "nbformat_minor": 5
}
