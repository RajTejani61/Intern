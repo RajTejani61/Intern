{
 "cells": [
  {
   "cell_type": "code",
   "execution_count": 1,
   "id": "9e862ecb",
   "metadata": {},
   "outputs": [],
   "source": [
    "\n",
    "import torch \n",
    "import torch.nn as nn\n",
    "import torch.nn.functional as F\n",
    "import torch.optim as optim\n",
    "\n",
    "import numpy as np\n",
    "from sklearn.datasets import load_breast_cancer\n",
    "from sklearn.model_selection import train_test_split\n",
    "from sklearn.preprocessing import StandardScaler\n",
    "from sklearn.metrics import accuracy_score, classification_report"
   ]
  },
  {
   "cell_type": "code",
   "execution_count": 2,
   "id": "82a5e6f7",
   "metadata": {},
   "outputs": [
    {
     "name": "stdout",
     "output_type": "stream",
     "text": [
      "cuda\n"
     ]
    }
   ],
   "source": [
    "device  = torch.device('cuda' if torch.cuda.is_available() else 'cpu')\n",
    "print(device)"
   ]
  },
  {
   "cell_type": "code",
   "execution_count": 3,
   "id": "a1687e45",
   "metadata": {},
   "outputs": [],
   "source": [
    "data = load_breast_cancer()\n",
    "X, y = data.data, data.target"
   ]
  },
  {
   "cell_type": "code",
   "execution_count": 4,
   "id": "65d8dfc1",
   "metadata": {},
   "outputs": [
    {
     "name": "stdout",
     "output_type": "stream",
     "text": [
      "(569, 30) (569,)\n"
     ]
    }
   ],
   "source": [
    "print(X.shape, y.shape)"
   ]
  },
  {
   "cell_type": "code",
   "execution_count": 5,
   "id": "65e47d40",
   "metadata": {},
   "outputs": [
    {
     "name": "stdout",
     "output_type": "stream",
     "text": [
      "['mean radius' 'mean texture' 'mean perimeter' 'mean area'\n",
      " 'mean smoothness' 'mean compactness' 'mean concavity'\n",
      " 'mean concave points' 'mean symmetry' 'mean fractal dimension'\n",
      " 'radius error' 'texture error' 'perimeter error' 'area error'\n",
      " 'smoothness error' 'compactness error' 'concavity error'\n",
      " 'concave points error' 'symmetry error' 'fractal dimension error'\n",
      " 'worst radius' 'worst texture' 'worst perimeter' 'worst area'\n",
      " 'worst smoothness' 'worst compactness' 'worst concavity'\n",
      " 'worst concave points' 'worst symmetry' 'worst fractal dimension']\n"
     ]
    }
   ],
   "source": [
    "print(data['feature_names'])"
   ]
  },
  {
   "cell_type": "code",
   "execution_count": 6,
   "id": "dc72abaf",
   "metadata": {},
   "outputs": [],
   "source": [
    "X_train, X_test, y_train, y_test = train_test_split(X, y, test_size=0.2, random_state=42, stratify=y)"
   ]
  },
  {
   "cell_type": "code",
   "execution_count": 7,
   "id": "38528cae",
   "metadata": {},
   "outputs": [],
   "source": [
    "scaler = StandardScaler()\n",
    "X_train_scaled = scaler.fit_transform(X_train)\n",
    "X_test_scaled = scaler.transform(X_test)"
   ]
  },
  {
   "cell_type": "code",
   "execution_count": null,
   "id": "1ef300ec",
   "metadata": {},
   "outputs": [],
   "source": [
    "X_train_tensor = torch.from_numpy(X_train_scaled).float().to(device) # Move tensors to the same device as the model\n",
    "X_test_tensor = torch.from_numpy(X_test_scaled).float().to(device)\n",
    "y_train_tensor = torch.from_numpy(y_train).long().to(device)\n",
    "y_test_tensor = torch.from_numpy(y_test).long().to(device)"
   ]
  },
  {
   "cell_type": "code",
   "execution_count": 9,
   "id": "db7f8893",
   "metadata": {},
   "outputs": [],
   "source": [
    "class BrestCancerModel(nn.Module):\n",
    "    def __init__(self, input_dim, hidden1_dim, hidden2_dim, output_dim):\n",
    "        super(BrestCancerModel, self).__init__()\n",
    "        self.fc1 = nn.Linear(input_dim, hidden1_dim)\n",
    "        self.fc2 = nn.Linear(hidden1_dim, hidden2_dim)\n",
    "        self.fc3 = nn.Linear(hidden2_dim, output_dim)\n",
    "        \n",
    "    def forward(self, x):\n",
    "        x = F.relu(self.fc1(x))\n",
    "        x = F.relu(self.fc2(x))\n",
    "        x = self.fc3(x) # cross-entropy does categorization \n",
    "        return x"
   ]
  },
  {
   "cell_type": "code",
   "execution_count": 10,
   "id": "ac42be7b",
   "metadata": {},
   "outputs": [],
   "source": [
    "input_dim = X_train_tensor.shape[1] # 30\n",
    "hidden1_dim = 32\n",
    "hidden2_dim = 16\n",
    "output_dim = 2"
   ]
  },
  {
   "cell_type": "code",
   "execution_count": 11,
   "id": "4386b80d",
   "metadata": {},
   "outputs": [
    {
     "name": "stdout",
     "output_type": "stream",
     "text": [
      "BrestCancerModel(\n",
      "  (fc1): Linear(in_features=30, out_features=32, bias=True)\n",
      "  (fc2): Linear(in_features=32, out_features=16, bias=True)\n",
      "  (fc3): Linear(in_features=16, out_features=2, bias=True)\n",
      ")\n"
     ]
    }
   ],
   "source": [
    "model = BrestCancerModel(input_dim, hidden1_dim, hidden2_dim, output_dim)\n",
    "model.to(device)\n",
    "print(model.eval())"
   ]
  },
  {
   "cell_type": "code",
   "execution_count": 12,
   "id": "5d44c244",
   "metadata": {},
   "outputs": [],
   "source": [
    "criterian = nn.CrossEntropyLoss()\n",
    "optimize = optim.Adam(model.parameters(), lr=0.001)"
   ]
  },
  {
   "cell_type": "code",
   "execution_count": null,
   "id": "a1632dc4",
   "metadata": {},
   "outputs": [
    {
     "name": "stdout",
     "output_type": "stream",
     "text": [
      "Epoch: 0, Loss: 0.6809134483337402\n",
      "Epoch: 10, Loss: 0.6102492809295654\n",
      "Epoch: 20, Loss: 0.5248410701751709\n",
      "Epoch: 30, Loss: 0.4318874776363373\n",
      "Epoch: 40, Loss: 0.33804720640182495\n",
      "Epoch: 50, Loss: 0.25083813071250916\n",
      "Epoch: 60, Loss: 0.18144051730632782\n",
      "Epoch: 70, Loss: 0.1354677379131317\n",
      "Epoch: 80, Loss: 0.10754945874214172\n",
      "Epoch: 90, Loss: 0.09018968045711517\n",
      "Epoch: 100, Loss: 0.07873162627220154\n",
      "Total Time: 0.30585598945617676\n"
     ]
    }
   ],
   "source": [
    "import time\n",
    "\n",
    "epoch = 100\n",
    "start_time = time.time()\n",
    "\n",
    "for i in range(epoch+1):\n",
    "\n",
    "    output = model(X_train_tensor)\n",
    "    loss = criterian(output, y_train_tensor)\n",
    "    \n",
    "    optimize.zero_grad()\n",
    "    loss.backward()\n",
    "    optimize.step()\n",
    "    \n",
    "    if (i) % 10 == 0 :\n",
    "        print(f'Epoch: {i}, Loss: {loss.item()}')\n",
    "        \n",
    "end_time = time.time()\n",
    "\n",
    "print(f'Total Time: {end_time - start_time}')"
   ]
  },
  {
   "cell_type": "code",
   "execution_count": 14,
   "id": "f199ef72",
   "metadata": {},
   "outputs": [],
   "source": [
    "with torch.no_grad():\n",
    "    y_train_pred = model(X_train_tensor)\n",
    "    y_test_pred = model(X_test_tensor)\n",
    "    y_train_pred = torch.argmax(y_train_pred, dim=1).cpu().numpy()\n",
    "    y_test_pred = torch.argmax(y_test_pred, dim=1).cpu().numpy()"
   ]
  },
  {
   "cell_type": "code",
   "execution_count": 15,
   "id": "a39dc3c3",
   "metadata": {},
   "outputs": [
    {
     "name": "stdout",
     "output_type": "stream",
     "text": [
      "Accuracy Score on Training Data:  0.9824175824175824\n",
      "              precision    recall  f1-score   support\n",
      "\n",
      "           0       0.98      0.98      0.98       170\n",
      "           1       0.99      0.99      0.99       285\n",
      "\n",
      "    accuracy                           0.98       455\n",
      "   macro avg       0.98      0.98      0.98       455\n",
      "weighted avg       0.98      0.98      0.98       455\n",
      "\n",
      "Accuracy Score on Testing Data:  0.9473684210526315\n",
      "              precision    recall  f1-score   support\n",
      "\n",
      "           0       0.89      0.98      0.93        42\n",
      "           1       0.99      0.93      0.96        72\n",
      "\n",
      "    accuracy                           0.95       114\n",
      "   macro avg       0.94      0.95      0.94       114\n",
      "weighted avg       0.95      0.95      0.95       114\n",
      "\n"
     ]
    }
   ],
   "source": [
    "print(\"Accuracy Score on Training Data: \", accuracy_score(y_train, y_train_pred))\n",
    "print(classification_report(y_train, y_train_pred))\n",
    "print(\"Accuracy Score on Testing Data: \", accuracy_score(y_test, y_test_pred))\n",
    "print(classification_report(y_test, y_test_pred))\n"
   ]
  },
  {
   "cell_type": "code",
   "execution_count": 21,
   "id": "c6dff20a",
   "metadata": {},
   "outputs": [
    {
     "name": "stdout",
     "output_type": "stream",
     "text": [
      "[[ 1.56851278  2.16401585  1.74286587  1.62076364 -0.26537607  1.91593165\n",
      "   1.09245512  1.69889576  0.30958918 -0.06988421  1.6582331  -0.03455846\n",
      "   2.19927944  1.6097947  -0.2323368   1.19871549  0.18795672  0.55981664\n",
      "  -0.16207336  0.52383207  1.86216011  1.70820774  2.17062246  1.91370109\n",
      "  -0.18774006  1.74427462  0.68856004  1.20214432 -0.14043064  0.90036171]]\n",
      "tensor([[ 6.7396, -2.9284]], device='cuda:0')\n",
      "Predicted Class: 0\n"
     ]
    }
   ],
   "source": [
    "sample = X_test_scaled[0].reshape(1, -1)\n",
    "print(sample)\n",
    "sample = torch.from_numpy(sample).float().to(device)\n",
    "with torch.no_grad():\n",
    "\toutput = model(sample) # 0 : malignant, 1 : benign\n",
    "\tprint(output)\n",
    "\tpredicted_class = torch.argmax(output, dim=1).item()\n",
    "\tprint(\"Predicted Class:\", predicted_class)"
   ]
  },
  {
   "cell_type": "code",
   "execution_count": null,
   "id": "18f01344",
   "metadata": {},
   "outputs": [],
   "source": []
  }
 ],
 "metadata": {
  "kernelspec": {
   "display_name": "torch-gpu",
   "language": "python",
   "name": "python3"
  },
  "language_info": {
   "codemirror_mode": {
    "name": "ipython",
    "version": 3
   },
   "file_extension": ".py",
   "mimetype": "text/x-python",
   "name": "python",
   "nbconvert_exporter": "python",
   "pygments_lexer": "ipython3",
   "version": "3.10.18"
  }
 },
 "nbformat": 4,
 "nbformat_minor": 5
}
