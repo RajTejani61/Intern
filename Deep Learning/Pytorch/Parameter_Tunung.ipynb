{
 "cells": [
  {
   "cell_type": "code",
   "execution_count": null,
   "id": "58be9e15",
   "metadata": {},
   "outputs": [],
   "source": [
    "import torch\n",
    "import torch.nn as nn\n",
    "import torch.optim as optim\n",
    "from torch.utils.data import DataLoader\n",
    "from torch.utils.data import sampler\n",
    "\n",
    "import torchvision.datasets as dset\n",
    "import torchvision.transforms as T\n",
    "\n",
    "import numpy as np\n",
    "import optuna"
   ]
  },
  {
   "cell_type": "code",
   "execution_count": 3,
   "id": "4f901e56",
   "metadata": {},
   "outputs": [
    {
     "data": {
      "text/plain": [
       "device(type='cuda')"
      ]
     },
     "execution_count": 3,
     "metadata": {},
     "output_type": "execute_result"
    }
   ],
   "source": [
    "device = torch.device(\"cuda\" if torch.cuda.is_available() else \"cpu\")\n",
    "device"
   ]
  },
  {
   "cell_type": "code",
   "execution_count": 20,
   "id": "8094e487",
   "metadata": {},
   "outputs": [],
   "source": [
    "train_loader = DataLoader(dset.MNIST(root='data', train=True, download=True, transform=T.ToTensor()), batch_size=64, shuffle=True)\n",
    "\n",
    "test_loader = DataLoader(dset.MNIST(root='data', train=False, download=True, transform=T.ToTensor()), batch_size=64, shuffle=True)"
   ]
  },
  {
   "cell_type": "code",
   "execution_count": 15,
   "id": "6f278d79",
   "metadata": {},
   "outputs": [],
   "source": [
    "class Net(nn.Module):\n",
    "    def __init__(self, hidden_layer):\n",
    "        super(Net, self).__init__()\n",
    "        self.fc1 = nn.Linear(784, hidden_layer)\n",
    "        self.fc2 = nn.Linear(hidden_layer, 10)\n",
    "        \n",
    "    def forward(self, x):\n",
    "        x = torch.flatten(x, 1)\n",
    "        x = torch.relu(self.fc1(x))\n",
    "        x = self.fc2(x)\n",
    "        return x"
   ]
  },
  {
   "cell_type": "code",
   "execution_count": 16,
   "id": "3d1cbdb6",
   "metadata": {},
   "outputs": [],
   "source": [
    "model = Net(64)\n",
    "model.to(device)\n",
    "\n",
    "criterian = nn.CrossEntropyLoss()\n",
    "optimizer = optim.Adam(model.parameters(), lr=0.01)"
   ]
  },
  {
   "cell_type": "code",
   "execution_count": 24,
   "id": "9db9735f",
   "metadata": {},
   "outputs": [
    {
     "name": "stdout",
     "output_type": "stream",
     "text": [
      "Epoch:  0 Loss:  34.063541412353516\n",
      "Epoch:  1 Loss:  169.40570068359375\n",
      "Epoch:  2 Loss:  184.0341033935547\n",
      "Epoch:  3 Loss:  173.37156677246094\n",
      "Epoch:  4 Loss:  138.94383239746094\n",
      "Epoch:  5 Loss:  111.84375762939453\n",
      "Epoch:  6 Loss:  101.7469482421875\n",
      "Epoch:  7 Loss:  84.93761444091797\n",
      "Epoch:  8 Loss:  51.4688720703125\n",
      "Epoch:  9 Loss:  28.604713439941406\n",
      "Time:  0.8943591117858887\n"
     ]
    }
   ],
   "source": [
    "import time\n",
    "\n",
    "epoch = 10\n",
    "\n",
    "start_time = time.time()\n",
    "\n",
    "data = train_loader.dataset.train_data.to(device).float()\n",
    "target = train_loader.dataset.train_labels.to(device)\n",
    "    \n",
    "for i in range(epoch):\n",
    "    optimizer.zero_grad()\n",
    "    output = model(data)\n",
    "    \n",
    "    loss = criterian(output, target)\n",
    "    loss.backward()\n",
    "    optimizer.step()\n",
    "    print(\"Epoch: \", i, \"Loss: \", loss.item())\n",
    "    \n",
    "end_time = time.time()\n",
    "print(\"Time: \", end_time - start_time)"
   ]
  },
  {
   "cell_type": "code",
   "execution_count": null,
   "id": "e5825612",
   "metadata": {},
   "outputs": [
    {
     "name": "stdout",
     "output_type": "stream",
     "text": [
      "Accuracy of the network on the 10000 test images: 39.24 % \n"
     ]
    }
   ],
   "source": [
    "with torch.no_grad():\n",
    "\tcorrect = 0\n",
    "\ttotal = 0\n",
    "\tfor data, target in test_loader:\n",
    "\t\tdata, target = data.to(device), target.to(device)\n",
    "\t\toutputs = model(data)\n",
    "\t\tpredicted = torch.max(outputs.data, 1)[1]\n",
    "\t\ttotal += target.size(0)\n",
    "\t\tcorrect += (predicted == target).sum().item()\n",
    "\n",
    "\tprint(f'Accuracy of the network on the 10000 test images: {100 * correct / total} % ')"
   ]
  },
  {
   "cell_type": "code",
   "execution_count": null,
   "id": "99890677",
   "metadata": {},
   "outputs": [],
   "source": []
  },
  {
   "cell_type": "markdown",
   "id": "475f34a3",
   "metadata": {},
   "source": [
    "### Tunning"
   ]
  },
  {
   "cell_type": "code",
   "execution_count": null,
   "id": "a7370daf",
   "metadata": {},
   "outputs": [],
   "source": [
    "def objective(trial):\n",
    "    hidden_size = trial.suggest_int('hidden_size', 128, 512) # suggest_categorical([values]) → pick from a fixed list\n",
    "    learning_rate = trial.suggest_float('lr', 1e-4, 1e-1, log=True)\n",
    "\n",
    "    transform = T.Compose([T.ToTensor()])\n",
    "    train_loader = DataLoader(dset.MNIST(\n",
    "        'data', train=True, download=False, transform=transform), batch_size=32, shuffle=True)\n",
    "\n",
    "    model = Net(hidden_size)\n",
    "    optimizer = optim.Adam(model.parameters(), lr=learning_rate)\n",
    "    criterion = nn.CrossEntropyLoss()\n",
    "\n",
    "    model.train()\n",
    "    for epoch in range(1):\n",
    "        for batch_idx, (data, target) in enumerate(train_loader):\n",
    "            optimizer.zero_grad()\n",
    "            output = model(data)\n",
    "            loss = criterion(output, target)\n",
    "            loss.backward()\n",
    "            optimizer.step()\n",
    "\n",
    "    return loss.item()"
   ]
  },
  {
   "cell_type": "code",
   "execution_count": 40,
   "id": "58a7378e",
   "metadata": {},
   "outputs": [
    {
     "name": "stderr",
     "output_type": "stream",
     "text": [
      "[I 2025-08-21 15:23:12,864] A new study created in memory with name: no-name-c5946653-63e6-47d8-b6fd-4edf633ac270\n",
      "[I 2025-08-21 15:23:23,960] Trial 0 finished with value: 0.2864382863044739 and parameters: {'hidden_size': 469, 'lr': 0.00025684489753747956}. Best is trial 0 with value: 0.2864382863044739.\n",
      "[I 2025-08-21 15:23:32,971] Trial 1 finished with value: 0.1618974655866623 and parameters: {'hidden_size': 315, 'lr': 0.0002547368804265993}. Best is trial 1 with value: 0.1618974655866623.\n",
      "[I 2025-08-21 15:23:42,763] Trial 2 finished with value: 0.12343405187129974 and parameters: {'hidden_size': 309, 'lr': 0.023790261912498403}. Best is trial 2 with value: 0.12343405187129974.\n",
      "[I 2025-08-21 15:23:52,935] Trial 3 finished with value: 0.05030718818306923 and parameters: {'hidden_size': 458, 'lr': 0.0018221988714715515}. Best is trial 3 with value: 0.05030718818306923.\n",
      "[I 2025-08-21 15:24:04,528] Trial 4 finished with value: 0.5160250067710876 and parameters: {'hidden_size': 489, 'lr': 0.0001169170223055194}. Best is trial 3 with value: 0.05030718818306923.\n",
      "[I 2025-08-21 15:24:13,223] Trial 5 finished with value: 0.15018180012702942 and parameters: {'hidden_size': 256, 'lr': 0.0002027973571477152}. Best is trial 3 with value: 0.05030718818306923.\n",
      "[I 2025-08-21 15:24:23,868] Trial 6 finished with value: 0.40656986832618713 and parameters: {'hidden_size': 358, 'lr': 0.028518648649905037}. Best is trial 3 with value: 0.05030718818306923.\n",
      "[I 2025-08-21 15:24:33,579] Trial 7 finished with value: 0.15122270584106445 and parameters: {'hidden_size': 319, 'lr': 0.049877792342686536}. Best is trial 3 with value: 0.05030718818306923.\n",
      "[I 2025-08-21 15:24:41,828] Trial 8 finished with value: 0.13093863427639008 and parameters: {'hidden_size': 183, 'lr': 0.006033242021681739}. Best is trial 3 with value: 0.05030718818306923.\n",
      "[I 2025-08-21 15:24:53,295] Trial 9 finished with value: 0.4694836735725403 and parameters: {'hidden_size': 474, 'lr': 0.007893020164265624}. Best is trial 3 with value: 0.05030718818306923.\n"
     ]
    },
    {
     "name": "stdout",
     "output_type": "stream",
     "text": [
      "Best parameters :  {'hidden_size': 458, 'lr': 0.0018221988714715515}\n"
     ]
    }
   ],
   "source": [
    "study = optuna.create_study(direction='minimize')\n",
    "study.optimize(objective, n_trials=10)\n",
    "print(\"Best parameters : \", study.best_params)"
   ]
  },
  {
   "cell_type": "code",
   "execution_count": 43,
   "id": "2b3f29aa",
   "metadata": {},
   "outputs": [
    {
     "name": "stdout",
     "output_type": "stream",
     "text": [
      "Test Loss: 17.14533042907715\n",
      "Test Accuracy: 61.08999848365784 %\n"
     ]
    },
    {
     "name": "stderr",
     "output_type": "stream",
     "text": [
      "c:\\ProgramData\\anaconda3\\envs\\torch-gpu\\lib\\site-packages\\torchvision\\datasets\\mnist.py:81: UserWarning: test_data has been renamed data\n",
      "  warnings.warn(\"test_data has been renamed data\")\n",
      "c:\\ProgramData\\anaconda3\\envs\\torch-gpu\\lib\\site-packages\\torchvision\\datasets\\mnist.py:71: UserWarning: test_labels has been renamed targets\n",
      "  warnings.warn(\"test_labels has been renamed targets\")\n"
     ]
    }
   ],
   "source": [
    "X_test = test_loader.dataset.test_data.to(device).float()\n",
    "y_test = test_loader.dataset.test_labels.to(device)\n",
    "\n",
    "# Evaluate loss\n",
    "criterion = nn.CrossEntropyLoss()\n",
    "test_loss = criterion(model(X_test), y_test).item()\n",
    "\n",
    "# Evaluate accuracy\n",
    "with torch.no_grad():\n",
    "    y_pred = torch.argmax(model(X_test), dim=1)\n",
    "    acc = (y_pred == y_test).float().mean().item()\n",
    "print(\"Test Loss:\", test_loss)\n",
    "print(\"Test Accuracy:\", acc * 100, \"%\")\n"
   ]
  },
  {
   "cell_type": "code",
   "execution_count": null,
   "id": "e5f7ac02",
   "metadata": {},
   "outputs": [],
   "source": []
  }
 ],
 "metadata": {
  "kernelspec": {
   "display_name": "torch-gpu",
   "language": "python",
   "name": "python3"
  },
  "language_info": {
   "codemirror_mode": {
    "name": "ipython",
    "version": 3
   },
   "file_extension": ".py",
   "mimetype": "text/x-python",
   "name": "python",
   "nbconvert_exporter": "python",
   "pygments_lexer": "ipython3",
   "version": "3.10.18"
  }
 },
 "nbformat": 4,
 "nbformat_minor": 5
}
