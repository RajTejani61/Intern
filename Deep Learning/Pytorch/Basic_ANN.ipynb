{
 "cells": [
  {
   "cell_type": "code",
   "execution_count": 1,
   "id": "80f0c22c",
   "metadata": {},
   "outputs": [],
   "source": [
    "import torch\n",
    "import torch.nn as nn\n",
    "import torch.nn.functional as F\n",
    "import torch.optim as optim\n",
    "from torchvision import datasets, transforms"
   ]
  },
  {
   "cell_type": "code",
   "execution_count": 2,
   "id": "863814b7",
   "metadata": {},
   "outputs": [
    {
     "name": "stdout",
     "output_type": "stream",
     "text": [
      "cuda\n"
     ]
    }
   ],
   "source": [
    "device = torch.device('cuda' if torch.cuda.is_available() else 'cpu')\n",
    "print(device)"
   ]
  },
  {
   "cell_type": "code",
   "execution_count": null,
   "id": "b70ece95",
   "metadata": {},
   "outputs": [],
   "source": [
    "class Basic_ANN(nn.Module):\n",
    "    def __init__(self):\n",
    "        super(Basic_ANN, self).__init__()\n",
    "        self.flatten = nn.Flatten()\n",
    "        self.inp_layer = nn.Linear(784, 512)\n",
    "        self.hd_layer1 = nn.Linear(512, 512)\n",
    "        self.op_layer = nn.Linear(512, 10)\n",
    "        self.relu_func = nn.ReLU()\n",
    "        self.dropoput = nn.Dropout(0.2)\n",
    "        \n",
    "    def forward(self, x):\n",
    "        x = self.flatten(x)\n",
    "        x = self.relu_func(self.inp_layer(x))\n",
    "        x = self.dropoput(x)\n",
    "        x = self.relu_func(self.hd_layer1(x))\n",
    "        x = self.dropoput(x)\n",
    "        x = self.op_layer(x)\n",
    "        return x\n",
    "    \n",
    "    "
   ]
  },
  {
   "cell_type": "code",
   "execution_count": null,
   "id": "c4fdba97",
   "metadata": {},
   "outputs": [],
   "source": [
    "model = Basic_ANN().to(device)\n",
    "criterian = nn.CrossEntropyLoss()\n",
    "optimizer = optim.Adam(model.parameters(), lr=0.001)"
   ]
  },
  {
   "cell_type": "code",
   "execution_count": 20,
   "id": "b9cd9ee0",
   "metadata": {},
   "outputs": [],
   "source": [
    "train_data = datasets.MNIST(\n",
    "\troot='data',\n",
    "\ttrain=True,\n",
    "\tdownload=False,\n",
    "\ttransform=transforms.ToTensor(),\n",
    "\ttarget_transform=None\n",
    ")\n",
    "\n",
    "test_data = datasets.MNIST(\n",
    "\troot='data',\n",
    "\ttrain=False,\n",
    "\tdownload=False,\n",
    "\ttransform=transforms.ToTensor(),\n",
    "\ttarget_transform={lambda y: torch.zeros(10, dtype=torch.float).scatter_(0, torch.tensor(y), value=1)}\n",
    ")"
   ]
  },
  {
   "cell_type": "code",
   "execution_count": 21,
   "id": "f102a3b0",
   "metadata": {},
   "outputs": [],
   "source": [
    "X_train, y_train = train_data.data.to(device), train_data.targets.to(device)\n",
    "X_test, y_test = test_data.data.to(device), test_data.targets.to(device)"
   ]
  },
  {
   "cell_type": "code",
   "execution_count": 22,
   "id": "ad19950f",
   "metadata": {},
   "outputs": [
    {
     "name": "stdout",
     "output_type": "stream",
     "text": [
      "torch.Size([60000, 28, 28]) torch.Size([60000])\n",
      "torch.Size([10000, 28, 28]) torch.Size([10000])\n"
     ]
    }
   ],
   "source": [
    "print(X_train.shape, y_train.shape)\n",
    "print(X_test.shape, y_test.shape)"
   ]
  },
  {
   "cell_type": "code",
   "execution_count": null,
   "id": "e6ba4ceb",
   "metadata": {},
   "outputs": [
    {
     "name": "stdout",
     "output_type": "stream",
     "text": [
      "Epoch:  0 Loss:  2.3005847930908203\n",
      "Epoch:  1 Loss:  2.2190499305725098\n",
      "Epoch:  2 Loss:  2.122945547103882\n",
      "Epoch:  3 Loss:  1.9924558401107788\n",
      "Epoch:  4 Loss:  1.8262786865234375\n",
      "Training completed in 1.006288766860962 seconds\n"
     ]
    }
   ],
   "source": [
    "# training\n",
    "import time\n",
    "\n",
    "epoch = 5\n",
    "start_time = time.time()\n",
    "\n",
    "for i in range(epoch):\n",
    "    optimizer.zero_grad()\n",
    "    X_train_float = X_train.float() / 255.0 # normalize\n",
    "    output = model(X_train_float)\n",
    "    loss = criterian(output, y_train)\n",
    "    loss.backward()\n",
    "    optimizer.step()\n",
    "    print(\"Epoch: \", i, \"Loss: \", loss.item())\n",
    "    \n",
    "end_time = time.time()\n",
    "print(\"Training completed in\", end_time - start_time, \"seconds\")"
   ]
  },
  {
   "cell_type": "code",
   "execution_count": 26,
   "id": "f33172d2",
   "metadata": {},
   "outputs": [
    {
     "name": "stdout",
     "output_type": "stream",
     "text": [
      "Accuracy:  0.8384\n"
     ]
    }
   ],
   "source": [
    "model.eval()\n",
    "with torch.no_grad():\n",
    "\tX_test_float = X_test.float() / 255.0 # normalize\n",
    "\toutput = model(X_test_float)\n",
    "\t_, pred = torch.max(output, 1)\n",
    "\taccuracy = torch.sum(pred == y_test).item() / len(y_test)\n",
    "\tprint(\"Accuracy: \", accuracy)"
   ]
  },
  {
   "cell_type": "code",
   "execution_count": null,
   "id": "a80bf354",
   "metadata": {},
   "outputs": [],
   "source": []
  }
 ],
 "metadata": {
  "kernelspec": {
   "display_name": "torch-gpu",
   "language": "python",
   "name": "python3"
  },
  "language_info": {
   "codemirror_mode": {
    "name": "ipython",
    "version": 3
   },
   "file_extension": ".py",
   "mimetype": "text/x-python",
   "name": "python",
   "nbconvert_exporter": "python",
   "pygments_lexer": "ipython3",
   "version": "3.10.18"
  }
 },
 "nbformat": 4,
 "nbformat_minor": 5
}
