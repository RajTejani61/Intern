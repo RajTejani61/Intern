{
 "cells": [
  {
   "cell_type": "code",
   "execution_count": 1,
   "id": "3edf5ec5",
   "metadata": {},
   "outputs": [],
   "source": [
    "import torch\n",
    "import torch.nn as nn\n",
    "import torch.optim as optim\n",
    "from torch.utils.data import DataLoader\n",
    "import torchvision\n",
    "from torchvision import datasets, transforms\n",
    "from torchvision.utils import save_image\n",
    "import matplotlib.pyplot as plt\n",
    "import numpy as np\n",
    "import os"
   ]
  },
  {
   "cell_type": "code",
   "execution_count": 2,
   "id": "723fed9d",
   "metadata": {},
   "outputs": [
    {
     "name": "stdout",
     "output_type": "stream",
     "text": [
      "Using device: cuda\n"
     ]
    }
   ],
   "source": [
    "device = torch.device('cuda' if torch.cuda.is_available() else 'cpu')\n",
    "print(f\"Using device: {device}\")"
   ]
  },
  {
   "cell_type": "code",
   "execution_count": 3,
   "id": "fb2f54f0",
   "metadata": {},
   "outputs": [],
   "source": [
    "os.makedirs('Gray-to-RGB-Outputs', exist_ok=True)\n",
    "os.makedirs('DataSet/CIFAR10', exist_ok=True)"
   ]
  },
  {
   "cell_type": "code",
   "execution_count": 4,
   "id": "20fb0be0",
   "metadata": {},
   "outputs": [],
   "source": [
    "transform = transforms.Compose([\n",
    "\ttransforms.Resize(64),\n",
    "\ttransforms.CenterCrop(64),\n",
    "\ttransforms.ToTensor(),\n",
    "\ttransforms.Normalize((0.5, 0.5, 0.5), (0.5, 0.5, 0.5))\n",
    "])"
   ]
  },
  {
   "cell_type": "code",
   "execution_count": 5,
   "id": "15582fc0",
   "metadata": {},
   "outputs": [],
   "source": [
    "data = datasets.CIFAR10(root='./DataSet/CIFAR10', train=True, download=True, transform=transform)\n",
    "data_loader = DataLoader(data, batch_size=64, shuffle=True)"
   ]
  },
  {
   "cell_type": "code",
   "execution_count": 6,
   "id": "9302dd19",
   "metadata": {},
   "outputs": [
    {
     "name": "stdout",
     "output_type": "stream",
     "text": [
      "torch.Size([64, 3, 64, 64])\n"
     ]
    }
   ],
   "source": [
    "for img, _ in data_loader:\n",
    "\tprint(img.shape)\n",
    "\tbreak"
   ]
  },
  {
   "cell_type": "code",
   "execution_count": 7,
   "id": "22422c0f",
   "metadata": {},
   "outputs": [],
   "source": [
    "def rgb2gray(x):\n",
    "\t# return 0.2989 * x[:,0:1,:,:] + 0.5870 * x[:,1:2,:,:] + 0.1140 * x[:,2:3,:,:]\n",
    "\treturn transforms.functional.rgb_to_grayscale(x)"
   ]
  },
  {
   "cell_type": "code",
   "execution_count": null,
   "id": "77129585",
   "metadata": {},
   "outputs": [],
   "source": [
    "class Generator(nn.Module):\n",
    "    def __init__(self):\n",
    "        super().__init__()\n",
    "        \n",
    "        # Encoder (downsampling)\n",
    "        self.encoder = nn.Sequential(\n",
    "            # Input: 1 x 64 x 64 (Gray Img)\n",
    "            nn.Conv2d(1, 64, kernel_size=4, stride=2, padding=1),  # 64 x 32 x 32\n",
    "            nn.LeakyReLU(0.2, inplace=True),\n",
    "\n",
    "            nn.Conv2d(64, 128, kernel_size=4, stride=2, padding=1),  # 128 x 16 x 16\n",
    "            nn.BatchNorm2d(128),\n",
    "            nn.LeakyReLU(0.2, inplace=True),\n",
    "            \n",
    "            nn.Conv2d(128, 256, kernel_size=4, stride=2, padding=1),  # 256 x 8 x 8\n",
    "            nn.BatchNorm2d(256),\n",
    "            nn.LeakyReLU(0.2, inplace=True),\n",
    "\n",
    "            nn.Conv2d(256, 512, kernel_size=4, stride=2, padding=1),  # 512 x 4 x 4\n",
    "            nn.BatchNorm2d(512),\n",
    "            nn.LeakyReLU(0.2, inplace=True)\n",
    "        )\n",
    "\n",
    "        # Decoder (upsampling)\n",
    "        self.decoder = nn.Sequential(\n",
    "            # 512 x 4 x 4\n",
    "            nn.ConvTranspose2d(512, 256, kernel_size=4, stride=2, padding=1),  # 256 x 8 x 8\n",
    "            nn.BatchNorm2d(256),\n",
    "            nn.ReLU(inplace=True),\n",
    "\n",
    "            nn.ConvTranspose2d(256, 128, kernel_size=4, stride=2, padding=1),  # 128 x 16 x 16\n",
    "            nn.BatchNorm2d(128),\n",
    "            nn.ReLU(inplace=True),\n",
    "\n",
    "            nn.ConvTranspose2d(128, 64, kernel_size=4, stride=2, padding=1),   # 64 x 32 x 32\n",
    "            nn.BatchNorm2d(64),\n",
    "            nn.ReLU(inplace=True),\n",
    "\n",
    "            nn.ConvTranspose2d(64, 3, kernel_size=4, stride=2, padding=1),     # 3 x 64 x 64 \n",
    "            nn.Tanh()\n",
    "        )\n",
    "\n",
    "    def forward(self, x):\n",
    "        encoded = self.encoder(x)\n",
    "        decoded = self.decoder(encoded)\n",
    "        return decoded"
   ]
  },
  {
   "cell_type": "code",
   "execution_count": 9,
   "id": "cf01a130",
   "metadata": {},
   "outputs": [],
   "source": [
    "class Discriminator(nn.Module):\n",
    "    def __init__(self):\n",
    "        super().__init__()\n",
    "        \n",
    "        # Input: 4 channels (1 grayscale + 3 RGB) x 64 x 64\n",
    "        self.model = nn.Sequential(\n",
    "            nn.Conv2d(4, 64, kernel_size=4, stride=2, padding=1),   # 64 x 32 x 32\n",
    "            nn.LeakyReLU(0.2, inplace=True),\n",
    "\n",
    "            nn.Conv2d(64, 128, kernel_size=4, stride=2, padding=1), # 128 x 16 x 16\n",
    "            nn.BatchNorm2d(128),\n",
    "            nn.LeakyReLU(0.2, inplace=True),\n",
    "\n",
    "            nn.Conv2d(128, 256, kernel_size=4, stride=2, padding=1), # 256 x 8 x 8\n",
    "            nn.BatchNorm2d(256),\n",
    "            nn.LeakyReLU(0.2, inplace=True),\n",
    "\n",
    "            nn.Conv2d(256, 512, kernel_size=4, stride=2, padding=1), # 512 x 4 x 4\n",
    "            nn.BatchNorm2d(512),\n",
    "            nn.LeakyReLU(0.2, inplace=True),\n",
    "\n",
    "            nn.Conv2d(512, 1, kernel_size=4, stride=1, padding=0),   # 1 x 1 x 1\n",
    "            nn.Sigmoid()\n",
    "        )\n",
    "        \n",
    "    def forward(self, gray, color):\n",
    "        # Concatenate grayscale and color images along channel dimension\n",
    "        x = torch.cat([gray, color], dim=1)  # Shape: [batch, 4, 64, 64]\n",
    "        output = self.model(x)\n",
    "        return output.view(output.size(0), -1)  # Flatten for BCELoss\n"
   ]
  },
  {
   "cell_type": "code",
   "execution_count": 10,
   "id": "310e404b",
   "metadata": {},
   "outputs": [],
   "source": [
    "G = Generator().to(device)\n",
    "D = Discriminator().to(device)\n",
    "\n",
    "criterion_GAN = nn.BCELoss()\n",
    "criterion_L1 = nn.L1Loss()\n",
    "\n",
    "optimizer_G = optim.Adam(G.parameters(), lr=0.0002, betas=(0.5, 0.999))\n",
    "optimizer_D = optim.Adam(D.parameters(), lr=0.0002, betas=(0.5, 0.999))"
   ]
  },
  {
   "cell_type": "code",
   "execution_count": 12,
   "id": "f8ec5224",
   "metadata": {},
   "outputs": [
    {
     "name": "stdout",
     "output_type": "stream",
     "text": [
      "Starting training...\n",
      "Epoch [1/10], Step [781/782], D_loss: 0.2090, G_loss: 18.0711, GAN_loss: 2.3404, L1_loss: 0.1573\n",
      "Epoch 1/10 completed!\n",
      "Epoch [2/10], Step [781/782], D_loss: 0.0002, G_loss: 28.0465, GAN_loss: 10.5507, L1_loss: 0.1750\n",
      "Epoch 2/10 completed!\n",
      "Epoch [3/10], Step [781/782], D_loss: 0.0009, G_loss: 24.2854, GAN_loss: 7.0287, L1_loss: 0.1726\n",
      "Epoch 3/10 completed!\n",
      "Epoch [4/10], Step [781/782], D_loss: 0.3760, G_loss: 15.3767, GAN_loss: 3.0372, L1_loss: 0.1234\n",
      "Epoch 4/10 completed!\n",
      "Epoch [5/10], Step [781/782], D_loss: 0.0001, G_loss: 28.2118, GAN_loss: 10.9626, L1_loss: 0.1725\n",
      "Epoch 5/10 completed!\n",
      "Epoch [6/10], Step [781/782], D_loss: 0.0000, G_loss: 30.8276, GAN_loss: 11.6354, L1_loss: 0.1919\n",
      "Epoch 6/10 completed!\n",
      "Epoch [7/10], Step [781/782], D_loss: 0.0002, G_loss: 30.4374, GAN_loss: 13.4866, L1_loss: 0.1695\n",
      "Epoch 7/10 completed!\n",
      "Epoch [8/10], Step [781/782], D_loss: 0.0000, G_loss: 29.3135, GAN_loss: 11.6819, L1_loss: 0.1763\n",
      "Epoch 8/10 completed!\n",
      "Epoch [9/10], Step [781/782], D_loss: 0.0000, G_loss: 32.0952, GAN_loss: 14.3881, L1_loss: 0.1771\n",
      "Epoch 9/10 completed!\n",
      "Epoch [10/10], Step [781/782], D_loss: 0.0000, G_loss: 28.8848, GAN_loss: 12.5068, L1_loss: 0.1638\n",
      "Epoch 10/10 completed!\n",
      "Training completed!\n"
     ]
    }
   ],
   "source": [
    "EPOCHS = 10\n",
    "lambda_L1 = 100  # Weight for L1 loss\n",
    "\n",
    "print(\"Starting training...\")\n",
    "\n",
    "for epoch in range(EPOCHS):\n",
    "    for i, (imgs, _) in enumerate(data_loader):\n",
    "        batch_size = imgs.size(0)\n",
    "        \n",
    "        # Move to device\n",
    "        real_imgs = imgs.to(device)\n",
    "        gray_imgs = rgb2gray(real_imgs).to(device)\n",
    "        \n",
    "        # Labels for real and fake\n",
    "        real_labels = torch.ones(batch_size, 1).to(device)\n",
    "        fake_labels = torch.zeros(batch_size, 1).to(device)\n",
    "        \n",
    "        #  Train Discriminator\n",
    "        optimizer_D.zero_grad()\n",
    "        \n",
    "        # Generate fake colored images\n",
    "        fake_imgs = G(gray_imgs)\n",
    "        \n",
    "        # Real images\n",
    "        real_output = D(gray_imgs, real_imgs)\n",
    "        real_loss = criterion_GAN(real_output, real_labels)\n",
    "        \n",
    "        # Fake images (detached to avoid training generator)\n",
    "        fake_output = D(gray_imgs, fake_imgs.detach())\n",
    "        fake_loss = criterion_GAN(fake_output, fake_labels)\n",
    "        \n",
    "        # Total discriminator loss\n",
    "        d_loss = (real_loss + fake_loss) / 2\n",
    "        \n",
    "        d_loss.backward()\n",
    "        optimizer_D.step()\n",
    "        \n",
    "        #  Train Generator\n",
    "        optimizer_G.zero_grad()\n",
    "        \n",
    "        # Generator tries to fool discriminator\n",
    "        fake_output = D(gray_imgs, fake_imgs)\n",
    "        gan_loss = criterion_GAN(fake_output, real_labels)\n",
    "        \n",
    "        # L1 loss for pixel-wise similarity\n",
    "        l1_loss = criterion_L1(fake_imgs, real_imgs)\n",
    "        \n",
    "        # Total generator loss\n",
    "        g_loss = gan_loss + lambda_L1 * l1_loss\n",
    "        \n",
    "        g_loss.backward()\n",
    "        optimizer_G.step()\n",
    "        \n",
    "        # Print statistics\n",
    "        # if i % 100 == 0:\n",
    "    print(f\"Epoch [{epoch+1}/{EPOCHS}], Step [{i}/{len(data_loader)}], \"\n",
    "          f\"D_loss: {d_loss.item():.4f}, G_loss: {g_loss.item():.4f}, \"\n",
    "          f\"GAN_loss: {gan_loss.item():.4f}, L1_loss: {l1_loss.item():.4f}\")\n",
    "    \n",
    "    # Save sample images\n",
    "    with torch.no_grad():\n",
    "        # Take first 25 images from the last batch\n",
    "        sample_gray = gray_imgs[:25]\n",
    "        sample_fake = G(sample_gray)\n",
    "        sample_real = real_imgs[:25]\n",
    "        \n",
    "        # Denormalize for saving\n",
    "        sample_fake = (sample_fake + 1) / 2  # Convert from [-1,1] to [0,1]\n",
    "        sample_real = (sample_real + 1) / 2\n",
    "        sample_gray = (sample_gray + 1) / 2\n",
    "        \n",
    "        # Save images\n",
    "        save_image(sample_gray, f\"Gray-to-RGB-Outputs/epoch_{epoch+1}_gray.png\", nrow=5, normalize=False)\n",
    "        save_image(sample_fake, f\"Gray-to-RGB-Outputs/epoch_{epoch+1}_fake.png\", nrow=5, normalize=False)\n",
    "        save_image(sample_real, f\"Gray-to-RGB-Outputs/epoch_{epoch+1}_real.png\", nrow=5, normalize=False)\n",
    "    \n",
    "    print(f\"Epoch {epoch+1}/{EPOCHS} completed!\")\n",
    "\n",
    "print(\"Training completed!\")\n"
   ]
  },
  {
   "cell_type": "code",
   "execution_count": null,
   "id": "b72bb8f3",
   "metadata": {},
   "outputs": [],
   "source": [
    "# saveing model\n",
    "# torch.save(G.state_dict(), 'generator.pth')\n",
    "# torch.save(D.state_dict(), 'discriminator.pth')"
   ]
  }
 ],
 "metadata": {
  "kernelspec": {
   "display_name": "torch-gpu",
   "language": "python",
   "name": "python3"
  },
  "language_info": {
   "codemirror_mode": {
    "name": "ipython",
    "version": 3
   },
   "file_extension": ".py",
   "mimetype": "text/x-python",
   "name": "python",
   "nbconvert_exporter": "python",
   "pygments_lexer": "ipython3",
   "version": "3.10.18"
  }
 },
 "nbformat": 4,
 "nbformat_minor": 5
}
