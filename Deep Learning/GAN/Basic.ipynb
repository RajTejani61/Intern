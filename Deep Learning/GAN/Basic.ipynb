{
 "cells": [
  {
   "cell_type": "code",
   "execution_count": 4,
   "id": "62c738c1",
   "metadata": {},
   "outputs": [],
   "source": [
    "import torch\n",
    "import torch.nn as nn\t\n",
    "import torch.optim as optim\n",
    "from torch.utils.data import DataLoader\n",
    "from torchvision import datasets, transforms\n",
    "import matplotlib.pyplot as plt"
   ]
  },
  {
   "cell_type": "code",
   "execution_count": 5,
   "id": "039e10b8",
   "metadata": {},
   "outputs": [
    {
     "name": "stdout",
     "output_type": "stream",
     "text": [
      "cuda:0\n"
     ]
    }
   ],
   "source": [
    "device = torch.device(\"cuda:0\" if torch.cuda.is_available() else \"cpu\")\n",
    "print(device)"
   ]
  },
  {
   "cell_type": "code",
   "execution_count": 6,
   "id": "11b7f1be",
   "metadata": {},
   "outputs": [],
   "source": [
    "transform = transforms.Compose([\n",
    "\ttransforms.ToTensor(),\n",
    "\ttransforms.Normalize((0.5), (0.5)) # normalize [0, 1] to [-1, 1]\n",
    "])"
   ]
  },
  {
   "cell_type": "code",
   "execution_count": 7,
   "id": "be17b660",
   "metadata": {},
   "outputs": [],
   "source": [
    "batch_size = 128\n",
    "\n",
    "dataset = datasets.mnist.MNIST(root='./DataSet/mnist', train=True, download=True, transform=transform)\n",
    "dataloader = DataLoader(dataset, batch_size=batch_size, shuffle=True)"
   ]
  },
  {
   "cell_type": "code",
   "execution_count": 8,
   "id": "79f75ce7",
   "metadata": {},
   "outputs": [],
   "source": [
    "latent_dim = 100"
   ]
  },
  {
   "cell_type": "code",
   "execution_count": 9,
   "id": "535d46bc",
   "metadata": {},
   "outputs": [],
   "source": [
    "class Generator(nn.Module):\n",
    "    def __init__(self):\n",
    "        super(Generator, self).__init__()\n",
    "        self.model = nn.Sequential(\n",
    "\t\t\tnn.Linear(latent_dim, 256),\n",
    "\t\t\tnn.LeakyReLU(0.2),\n",
    "\t\t\tnn.Linear(256, 512),\n",
    "\t\t\tnn.LeakyReLU(0.2),\n",
    "\t\t\tnn.Linear(512, 28*28),\n",
    "\t\t\tnn.Tanh() # [-1, 1]\n",
    "\t\t)\n",
    "    \n",
    "    def forward(self, z):\n",
    "        img = self.model(z)\n",
    "        return img.view(-1, 1, 28, 28) # (batch_size, 1, 28, 28)"
   ]
  },
  {
   "cell_type": "code",
   "execution_count": 10,
   "id": "e860fb23",
   "metadata": {},
   "outputs": [],
   "source": [
    "class Discriminator(nn.Module):\n",
    "    def __init__(self):\n",
    "        super(Discriminator, self).__init__()\n",
    "        self.model = nn.Sequential(\n",
    "\t\t\tnn.Linear(28 * 28, 512),\n",
    "\t\t\tnn.LeakyReLU(0.2),\n",
    "\t\t\tnn.Linear(512, 256),\n",
    "\t\t\tnn.LeakyReLU(0.2),\t\n",
    "\t\t\tnn.Linear(256, 1),\n",
    "\t\t\tnn.Sigmoid() # proability (real or fake)\n",
    "\t\t)\n",
    "        \n",
    "    def forward(self, img):\n",
    "        flat = img.view(img.size(0), -1)\n",
    "        return self.model(flat)"
   ]
  },
  {
   "cell_type": "code",
   "execution_count": 11,
   "id": "23ac651c",
   "metadata": {},
   "outputs": [],
   "source": [
    "generator = Generator()\n",
    "discriminator = Discriminator()"
   ]
  },
  {
   "cell_type": "code",
   "execution_count": 12,
   "id": "5743e915",
   "metadata": {},
   "outputs": [],
   "source": [
    "criterian = nn.BCELoss()\n",
    "\n",
    "optimizer_G = optim.Adam(generator.parameters(), lr=0.0002)\n",
    "optimizer_D = optim.Adam(discriminator.parameters(), lr=0.0002)"
   ]
  },
  {
   "cell_type": "code",
   "execution_count": null,
   "id": "54074978",
   "metadata": {},
   "outputs": [
    {
     "name": "stdout",
     "output_type": "stream",
     "text": [
      "Epoch [1/20]  D_loss: 0.0909  G_loss: 5.3434\n",
      "Epoch [2/20]  D_loss: 0.4774  G_loss: 3.0146\n",
      "Epoch [3/20]  D_loss: 0.4002  G_loss: 3.3794\n",
      "Epoch [4/20]  D_loss: 1.8962  G_loss: 1.1488\n",
      "Epoch [5/20]  D_loss: 0.4339  G_loss: 1.8632\n",
      "Epoch [6/20]  D_loss: 1.1143  G_loss: 1.4890\n",
      "Epoch [7/20]  D_loss: 0.5946  G_loss: 1.9148\n",
      "Epoch [8/20]  D_loss: 1.1518  G_loss: 1.7161\n",
      "Epoch [9/20]  D_loss: 0.2028  G_loss: 2.7469\n",
      "Epoch [10/20]  D_loss: 0.1407  G_loss: 3.6114\n",
      "Epoch [11/20]  D_loss: 0.2775  G_loss: 5.7272\n",
      "Epoch [12/20]  D_loss: 0.3271  G_loss: 3.9400\n",
      "Epoch [13/20]  D_loss: 0.2330  G_loss: 4.0628\n",
      "Epoch [14/20]  D_loss: 0.8824  G_loss: 3.2118\n",
      "Epoch [15/20]  D_loss: 0.4381  G_loss: 3.3585\n",
      "Epoch [16/20]  D_loss: 0.6818  G_loss: 3.2367\n",
      "Epoch [17/20]  D_loss: 0.4528  G_loss: 3.8990\n",
      "Epoch [18/20]  D_loss: 0.3222  G_loss: 2.9716\n",
      "Epoch [19/20]  D_loss: 0.3509  G_loss: 3.0013\n",
      "Epoch [20/20]  D_loss: 0.5307  G_loss: 4.6923\n"
     ]
    }
   ],
   "source": [
    "epochs = 20\n",
    "\n",
    "for epoch in range(epochs):\n",
    "    for i, (real_imgs, _) in enumerate(dataloader):\n",
    "        \n",
    "        real_img = real_imgs.to(device)\n",
    "        \n",
    "        batch_size = real_imgs.size(0) # (batch_size, 1, 28, 28)\n",
    "        \n",
    "        real_labels = torch.ones(batch_size, 1)\n",
    "        fake_labels = torch.zeros(batch_size, 1)\n",
    "        \n",
    "        # train discriminator\n",
    "        optimizer_D.zero_grad()\n",
    "        \n",
    "        outputs = discriminator(real_imgs)\n",
    "        d_loss_real = criterian(outputs, real_labels)\n",
    "        \n",
    "        z = torch.randn(batch_size, latent_dim)\n",
    "        fake_imgs = generator(z)\n",
    "        \n",
    "        outputs = discriminator(fake_imgs.detach())\n",
    "        d_loss_fake = criterian(outputs, fake_labels)\n",
    "        \n",
    "        d_loss = d_loss_real + d_loss_fake\n",
    "        \n",
    "        d_loss.backward()\n",
    "        optimizer_D.step()\n",
    "        \n",
    "        # train generator from discriminator\n",
    "        optimizer_G.zero_grad()\n",
    "        \n",
    "        z = torch.randn(batch_size, latent_dim)\n",
    "        generator_output = generator(z)\n",
    "        outputs = discriminator(generator_output)\n",
    "        \n",
    "        g_loss = criterian(outputs, real_labels)\n",
    "        g_loss.backward()\n",
    "        optimizer_G.step()\n",
    "        \n",
    "    print(f\"Epoch [{epoch+1}/{epochs}]  D_loss: {d_loss.item():.4f}  G_loss: {g_loss.item():.4f}\")"
   ]
  },
  {
   "cell_type": "code",
   "execution_count": 14,
   "id": "56ef1abb",
   "metadata": {},
   "outputs": [
    {
     "data": {
      "image/png": "[encoded data removed]",
      "text/plain": [
       "<Figure size 600x600 with 16 Axes>"
      ]
     },
     "metadata": {},
     "output_type": "display_data"
    }
   ],
   "source": [
    "z = torch.randn(16, latent_dim)\n",
    "fake_imgs = generator(z).detach()\n",
    "\n",
    "plt.figure(figsize=(6,6))\n",
    "for i in range(16):\n",
    "    plt.subplot(4,4,i+1)\n",
    "    plt.imshow(fake_imgs[i].view(28,28), cmap=\"gray\")\n",
    "    plt.axis(\"off\")\n",
    "plt.show()"
   ]
  },
  {
   "cell_type": "code",
   "execution_count": null,
   "id": "cadd9b29",
   "metadata": {},
   "outputs": [],
   "source": []
  }
 ],
 "metadata": {
  "kernelspec": {
   "display_name": "torch-gpu",
   "language": "python",
   "name": "python3"
  },
  "language_info": {
   "codemirror_mode": {
    "name": "ipython",
    "version": 3
   },
   "file_extension": ".py",
   "mimetype": "text/x-python",
   "name": "python",
   "nbconvert_exporter": "python",
   "pygments_lexer": "ipython3",
   "version": "3.10.18"
  }
 },
 "nbformat": 4,
 "nbformat_minor": 5
}
