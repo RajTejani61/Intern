{
  "nbformat": 4,
  "nbformat_minor": 0,
  "metadata": {
    "colab": {
      "provenance": [],
      "gpuType": "T4",
      "mount_file_id": "1hilsHaT5ZjZYfVxeaRP-H7pR5Acvq4OT",
      "authorship_tag": "ABX9TyOURFo2EbYwZlSdSfbO3xGg",
      "include_colab_link": true
    },
    "kernelspec": {
      "name": "python3",
      "display_name": "Python 3"
    },
    "language_info": {
      "name": "python"
    },
    "accelerator": "GPU"
  },
  "cells": [
    {
      "cell_type": "markdown",
      "metadata": {
        "id": "view-in-github",
        "colab_type": "text"
      },
      "source": [
        "<a href=\"https://colab.research.google.com/github/RajTejani61/Intern/blob/main/Deep%20Learning/CNN/Tensorflow/Pneumonia_Pred.ipynb\" target=\"_parent\"><img src=\"https://colab.research.google.com/assets/colab-badge.svg\" alt=\"Open In Colab\"/></a>"
      ]
    },
    {
      "cell_type": "code",
      "source": [
        "# Copy kaggle.json to ~/.kaggle\n",
        "!mkdir -p ~/.kaggle\n",
        "!cp /content/drive/MyDrive/Colab\\ Notebooks/kaggle.json ~/.kaggle/"
      ],
      "metadata": {
        "id": "VhBLTJSb-rCs"
      },
      "execution_count": 1,
      "outputs": []
    },
    {
      "cell_type": "code",
      "execution_count": 2,
      "metadata": {
        "colab": {
          "base_uri": "https://localhost:8080/"
        },
        "id": "QhlIYKGI9rP9",
        "outputId": "2fb878ea-12f2-4569-f775-551b2915e49f"
      },
      "outputs": [
        {
          "output_type": "stream",
          "name": "stdout",
          "text": [
            "Dataset URL: https://www.kaggle.com/datasets/paultimothymooney/chest-xray-pneumonia\n",
            "License(s): other\n",
            "Downloading chest-xray-pneumonia.zip to /content\n",
            " 99% 2.28G/2.29G [00:20<00:00, 252MB/s]\n",
            "100% 2.29G/2.29G [00:20<00:00, 120MB/s]\n"
          ]
        }
      ],
      "source": [
        "#!/bin/bash\n",
        "!kaggle datasets download paultimothymooney/chest-xray-pneumonia"
      ]
    },
    {
      "cell_type": "code",
      "source": [
        "import zipfile\n",
        "zip_file = zipfile.ZipFile('/content/chest-xray-pneumonia.zip')\n",
        "zip_file.extractall('/content/chest-xray-pneumonia')\n",
        "zip_file.close()"
      ],
      "metadata": {
        "id": "IBzY_yjC-CDw"
      },
      "execution_count": 3,
      "outputs": []
    },
    {
      "cell_type": "code",
      "source": [
        "import tensorflow as ts\n",
        "\n",
        "from tensorflow.keras.models import Sequential\n",
        "from tensorflow.keras.layers import Dense, Dropout, Activation, Flatten, Conv2D, MaxPooling2D, BatchNormalization\n",
        "from tensorflow.keras.preprocessing.image import ImageDataGenerator\n",
        "from tensorflow.keras.callbacks import EarlyStopping, ReduceLROnPlateau\n",
        "\n",
        "import numpy as np\n",
        "from sklearn.metrics import confusion_matrix, classification_report\n",
        "import matplotlib.pyplot as plt\n",
        "import seaborn as sns"
      ],
      "metadata": {
        "id": "HhvgySs2C5WA"
      },
      "execution_count": 4,
      "outputs": []
    },
    {
      "cell_type": "code",
      "source": [
        "train_dir = '/content/chest-xray-pneumonia/chest_xray/train'\n",
        "test_dir = '/content/chest-xray-pneumonia/chest_xray/test'\n",
        "val_dir = '/content/chest-xray-pneumonia/chest_xray/val'"
      ],
      "metadata": {
        "id": "hnEEovDuCwnN"
      },
      "execution_count": 5,
      "outputs": []
    },
    {
      "cell_type": "code",
      "source": [
        "train_datagen = ImageDataGenerator(\n",
        "    rescale = 1./ 255,\n",
        "    rotation_range = 20,\n",
        "    horizontal_flip = True,\n",
        "    zoom_range = 0.2\n",
        ")\n",
        "\n",
        "val_datagen = ImageDataGenerator(rescale = 1./255)\n",
        "test_datagen = ImageDataGenerator(rescale = 1./255)"
      ],
      "metadata": {
        "id": "SBdwnTjhENP5"
      },
      "execution_count": 6,
      "outputs": []
    },
    {
      "cell_type": "code",
      "source": [
        "train_data = train_datagen.flow_from_directory(\n",
        "    train_dir,\n",
        "    batch_size = 32,\n",
        "    target_size = (224, 224),\n",
        "    class_mode = 'binary',\n",
        "    shuffle = True\n",
        ")\n",
        "test_data = test_datagen.flow_from_directory(\n",
        "    test_dir,\n",
        "    batch_size = 32,\n",
        "    target_size = (224, 224),\n",
        "    class_mode = 'binary',\n",
        "    shuffle = False\n",
        ")\n",
        "val_data = val_datagen.flow_from_directory(\n",
        "    val_dir,\n",
        "    batch_size = 32,\n",
        "    target_size = (224, 224),\n",
        "    class_mode = 'binary'\n",
        ")"
      ],
      "metadata": {
        "colab": {
          "base_uri": "https://localhost:8080/"
        },
        "id": "T3dpBjYNElMX",
        "outputId": "dd82dc24-c0f9-40af-b3cf-ba301553bd1b"
      },
      "execution_count": 7,
      "outputs": [
        {
          "output_type": "stream",
          "name": "stdout",
          "text": [
            "Found 5216 images belonging to 2 classes.\n",
            "Found 624 images belonging to 2 classes.\n",
            "Found 16 images belonging to 2 classes.\n"
          ]
        }
      ]
    },
    {
      "cell_type": "code",
      "source": [
        "model = Sequential([\n",
        "    Conv2D(32, (3,3), input_shape=(224, 224, 3), activation='relu'),\n",
        "    BatchNormalization(),\n",
        "    MaxPooling2D(2, 2),\n",
        "\n",
        "    Conv2D(64, (3, 3), activation='relu'),\n",
        "    BatchNormalization(),\n",
        "    MaxPooling2D(2, 2),\n",
        "\n",
        "    Conv2D(128, (3, 3), activation='relu'),\n",
        "    BatchNormalization(),\n",
        "    MaxPooling2D(2, 2),\n",
        "\n",
        "    Flatten(),\n",
        "    Dense(128, activation='relu'),\n",
        "    BatchNormalization(),\n",
        "    Dropout(0.5),\n",
        "    Dense(1, activation='sigmoid')\n",
        "])"
      ],
      "metadata": {
        "colab": {
          "base_uri": "https://localhost:8080/"
        },
        "id": "uy8nS9V6FHW2",
        "outputId": "4ecbc2b7-adfc-412a-bffd-0ce2c1f9bdc2"
      },
      "execution_count": 8,
      "outputs": [
        {
          "output_type": "stream",
          "name": "stderr",
          "text": [
            "/usr/local/lib/python3.12/dist-packages/keras/src/layers/convolutional/base_conv.py:113: UserWarning: Do not pass an `input_shape`/`input_dim` argument to a layer. When using Sequential models, prefer using an `Input(shape)` object as the first layer in the model instead.\n",
            "  super().__init__(activity_regularizer=activity_regularizer, **kwargs)\n"
          ]
        }
      ]
    },
    {
      "cell_type": "code",
      "source": [
        "model.compile(optimizer='adam', loss='binary_crossentropy', metrics=['accuracy'])"
      ],
      "metadata": {
        "id": "50oSiCHcGOgV"
      },
      "execution_count": 9,
      "outputs": []
    },
    {
      "cell_type": "code",
      "source": [
        "early_stop = EarlyStopping(monitor='val_loss', patience=5, verbose=1, restore_best_weights=True)\n",
        "reduce_lr = ReduceLROnPlateau(monitor='val_loss', factor=0.2, patience=3, verbose=1)"
      ],
      "metadata": {
        "id": "kjfo-iWZGWvj"
      },
      "execution_count": 10,
      "outputs": []
    },
    {
      "cell_type": "code",
      "source": [
        "model.fit(train_data, epochs=10, validation_data=val_data, callbacks=[early_stop, reduce_lr])"
      ],
      "metadata": {
        "colab": {
          "base_uri": "https://localhost:8080/"
        },
        "id": "4osWUrerGk4m",
        "outputId": "1c074fbb-6f9d-434c-83ff-b6a202532487"
      },
      "execution_count": 11,
      "outputs": [
        {
          "output_type": "stream",
          "name": "stderr",
          "text": [
            "/usr/local/lib/python3.12/dist-packages/keras/src/trainers/data_adapters/py_dataset_adapter.py:121: UserWarning: Your `PyDataset` class should call `super().__init__(**kwargs)` in its constructor. `**kwargs` can include `workers`, `use_multiprocessing`, `max_queue_size`. Do not pass these arguments to `fit()`, as they will be ignored.\n",
            "  self._warn_if_super_not_called()\n"
          ]
        },
        {
          "output_type": "stream",
          "name": "stdout",
          "text": [
            "Epoch 1/10\n",
            "\u001b[1m163/163\u001b[0m \u001b[32m━━━━━━━━━━━━━━━━━━━━\u001b[0m\u001b[37m\u001b[0m \u001b[1m127s\u001b[0m 705ms/step - accuracy: 0.8311 - loss: 0.4352 - val_accuracy: 0.5000 - val_loss: 3.3710 - learning_rate: 0.0010\n",
            "Epoch 2/10\n",
            "\u001b[1m163/163\u001b[0m \u001b[32m━━━━━━━━━━━━━━━━━━━━\u001b[0m\u001b[37m\u001b[0m \u001b[1m112s\u001b[0m 687ms/step - accuracy: 0.9264 - loss: 0.2070 - val_accuracy: 0.5000 - val_loss: 3.0476 - learning_rate: 0.0010\n",
            "Epoch 3/10\n",
            "\u001b[1m163/163\u001b[0m \u001b[32m━━━━━━━━━━━━━━━━━━━━\u001b[0m\u001b[37m\u001b[0m \u001b[1m112s\u001b[0m 687ms/step - accuracy: 0.9224 - loss: 0.2017 - val_accuracy: 0.5000 - val_loss: 4.9402 - learning_rate: 0.0010\n",
            "Epoch 4/10\n",
            "\u001b[1m163/163\u001b[0m \u001b[32m━━━━━━━━━━━━━━━━━━━━\u001b[0m\u001b[37m\u001b[0m \u001b[1m113s\u001b[0m 690ms/step - accuracy: 0.9376 - loss: 0.1722 - val_accuracy: 0.5000 - val_loss: 2.5195 - learning_rate: 0.0010\n",
            "Epoch 5/10\n",
            "\u001b[1m163/163\u001b[0m \u001b[32m━━━━━━━━━━━━━━━━━━━━\u001b[0m\u001b[37m\u001b[0m \u001b[1m115s\u001b[0m 701ms/step - accuracy: 0.9445 - loss: 0.1518 - val_accuracy: 0.5000 - val_loss: 4.9044 - learning_rate: 0.0010\n",
            "Epoch 6/10\n",
            "\u001b[1m163/163\u001b[0m \u001b[32m━━━━━━━━━━━━━━━━━━━━\u001b[0m\u001b[37m\u001b[0m \u001b[1m113s\u001b[0m 693ms/step - accuracy: 0.9439 - loss: 0.1483 - val_accuracy: 0.8750 - val_loss: 0.3530 - learning_rate: 0.0010\n",
            "Epoch 7/10\n",
            "\u001b[1m163/163\u001b[0m \u001b[32m━━━━━━━━━━━━━━━━━━━━\u001b[0m\u001b[37m\u001b[0m \u001b[1m111s\u001b[0m 681ms/step - accuracy: 0.9499 - loss: 0.1403 - val_accuracy: 0.5000 - val_loss: 5.6341 - learning_rate: 0.0010\n",
            "Epoch 8/10\n",
            "\u001b[1m163/163\u001b[0m \u001b[32m━━━━━━━━━━━━━━━━━━━━\u001b[0m\u001b[37m\u001b[0m \u001b[1m112s\u001b[0m 687ms/step - accuracy: 0.9545 - loss: 0.1191 - val_accuracy: 0.5625 - val_loss: 1.1666 - learning_rate: 0.0010\n",
            "Epoch 9/10\n",
            "\u001b[1m163/163\u001b[0m \u001b[32m━━━━━━━━━━━━━━━━━━━━\u001b[0m\u001b[37m\u001b[0m \u001b[1m0s\u001b[0m 676ms/step - accuracy: 0.9454 - loss: 0.1296\n",
            "Epoch 9: ReduceLROnPlateau reducing learning rate to 0.00020000000949949026.\n",
            "\u001b[1m163/163\u001b[0m \u001b[32m━━━━━━━━━━━━━━━━━━━━\u001b[0m\u001b[37m\u001b[0m \u001b[1m110s\u001b[0m 677ms/step - accuracy: 0.9454 - loss: 0.1296 - val_accuracy: 0.5000 - val_loss: 4.6524 - learning_rate: 0.0010\n",
            "Epoch 10/10\n",
            "\u001b[1m163/163\u001b[0m \u001b[32m━━━━━━━━━━━━━━━━━━━━\u001b[0m\u001b[37m\u001b[0m \u001b[1m111s\u001b[0m 681ms/step - accuracy: 0.9599 - loss: 0.1197 - val_accuracy: 0.6250 - val_loss: 1.4878 - learning_rate: 2.0000e-04\n",
            "Restoring model weights from the end of the best epoch: 6.\n"
          ]
        },
        {
          "output_type": "execute_result",
          "data": {
            "text/plain": [
              "<keras.src.callbacks.history.History at 0x7e02d1ef4b90>"
            ]
          },
          "metadata": {},
          "execution_count": 11
        }
      ]
    },
    {
      "cell_type": "code",
      "source": [
        "    loss, acc = model.evaluate(test_data)\n",
        "print(f'Test loss: {loss:.4f}, Test accuracy: {acc:.4f}')"
      ],
      "metadata": {
        "colab": {
          "base_uri": "https://localhost:8080/"
        },
        "id": "sXuwsp7DNfCq",
        "outputId": "a8cbfd36-b32e-4a4c-98bf-a9809493dde2"
      },
      "execution_count": 12,
      "outputs": [
        {
          "output_type": "stream",
          "name": "stdout",
          "text": [
            "\u001b[1m20/20\u001b[0m \u001b[32m━━━━━━━━━━━━━━━━━━━━\u001b[0m\u001b[37m\u001b[0m \u001b[1m7s\u001b[0m 275ms/step - accuracy: 0.6788 - loss: 0.7811\n",
            "Test loss: 0.4858, Test accuracy: 0.8045\n"
          ]
        }
      ]
    },
    {
      "cell_type": "code",
      "source": [
        "loss, acc = model.evaluate(train_data)\n",
        "print(f'Train loss: {loss:.4f}, Train accuracy: {acc:.4f}')"
      ],
      "metadata": {
        "colab": {
          "base_uri": "https://localhost:8080/"
        },
        "id": "ejSzSnlYTdu_",
        "outputId": "e3349b94-2087-40c1-d145-1c623d76e89a"
      },
      "execution_count": 16,
      "outputs": [
        {
          "output_type": "stream",
          "name": "stdout",
          "text": [
            "\u001b[1m163/163\u001b[0m \u001b[32m━━━━━━━━━━━━━━━━━━━━\u001b[0m\u001b[37m\u001b[0m \u001b[1m113s\u001b[0m 694ms/step - accuracy: 0.8978 - loss: 0.3402\n",
            "Train loss: 0.3564, Train accuracy: 0.8946\n"
          ]
        }
      ]
    },
    {
      "cell_type": "code",
      "source": [
        "y_pred = (model.predict(test_data) > 0.5).astype(\"int32\")\n",
        "cm = confusion_matrix(test_data.classes, y_pred)\n",
        "sns.heatmap(cm, annot=True, fmt=\"d\", cmap=\"Blues\",\n",
        "            xticklabels=[\"Normal\", \"Pneumonia\"],\n",
        "            yticklabels=[\"Normal\", \"Pneumonia\"])\n",
        "plt.show()\n",
        "\n",
        "print(classification_report(test_data.classes, y_pred, target_names=[\"Normal\", \"Pneumonia\"]))"
      ],
      "metadata": {
        "colab": {
          "base_uri": "https://localhost:8080/",
          "height": 604
        },
        "id": "Gz16IJ6dNkIw",
        "outputId": "0c135451-05b9-48d6-f7df-6419b2e5169f"
      },
      "execution_count": 14,
      "outputs": [
        {
          "output_type": "stream",
          "name": "stdout",
          "text": [
            "\u001b[1m20/20\u001b[0m \u001b[32m━━━━━━━━━━━━━━━━━━━━\u001b[0m\u001b[37m\u001b[0m \u001b[1m6s\u001b[0m 291ms/step\n"
          ]
        },
        {
          "output_type": "display_data",
          "data": {
            "text/plain": [
              "<Figure size 640x480 with 2 Axes>"
            ],
            "image/png": "[encoded data removed]"
          },
          "metadata": {}
        },
        {
          "output_type": "stream",
          "name": "stdout",
          "text": [
            "              precision    recall  f1-score   support\n",
            "\n",
            "      Normal       0.94      0.51      0.66       234\n",
            "   Pneumonia       0.77      0.98      0.86       390\n",
            "\n",
            "    accuracy                           0.80       624\n",
            "   macro avg       0.86      0.75      0.76       624\n",
            "weighted avg       0.83      0.80      0.79       624\n",
            "\n"
          ]
        }
      ]
    }
  ]
}