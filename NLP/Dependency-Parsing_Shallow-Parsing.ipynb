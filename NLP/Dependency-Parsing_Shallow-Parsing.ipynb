{
 "cells": [
  {
   "cell_type": "markdown",
   "id": "d67faea2",
   "metadata": {},
   "source": [
    "## Dependency parsing"
   ]
  },
  {
   "cell_type": "code",
   "execution_count": 2,
   "id": "fcfbe3b2",
   "metadata": {},
   "outputs": [],
   "source": [
    "import spacy"
   ]
  },
  {
   "cell_type": "code",
   "execution_count": 3,
   "id": "86edbb60",
   "metadata": {},
   "outputs": [],
   "source": [
    "nlp = spacy.load(\"en_core_web_sm\")"
   ]
  },
  {
   "cell_type": "code",
   "execution_count": 4,
   "id": "ec246b4d",
   "metadata": {},
   "outputs": [],
   "source": [
    "doc = nlp(\"The quick brown fox jumps over the lazy dog.\")"
   ]
  },
  {
   "cell_type": "code",
   "execution_count": 5,
   "id": "7d301fd6",
   "metadata": {},
   "outputs": [
    {
     "name": "stdout",
     "output_type": "stream",
     "text": [
      " The -> det -> fox\n",
      " quick -> amod -> fox\n",
      " brown -> amod -> fox\n",
      " fox -> nsubj -> jumps\n",
      " jumps -> ROOT -> jumps\n",
      " over -> prep -> jumps\n",
      " the -> det -> dog\n",
      " lazy -> amod -> dog\n",
      " dog -> pobj -> over\n",
      " . -> punct -> jumps\n"
     ]
    }
   ],
   "source": [
    "for token in doc:\n",
    "    print(f\" {token.text} -> {token.dep_} -> {token.head.text}\")"
   ]
  },
  {
   "cell_type": "code",
   "execution_count": null,
   "id": "fd679427",
   "metadata": {},
   "outputs": [],
   "source": [
    "'''\n",
    "                   jumps\n",
    "               /    |      \\\n",
    "            fox  \tover     .\n",
    "          / | \\     \t\\\n",
    "      The quick brown   dog\n",
    "                        /  \\\n",
    "                      the  lazy\n",
    "'''"
   ]
  },
  {
   "cell_type": "code",
   "execution_count": null,
   "id": "35f42596",
   "metadata": {},
   "outputs": [],
   "source": [
    "\"\"\"\n",
    "\tLabel\tMeaning\n",
    "\tnsubj\tNominal subject\n",
    "\tdobj\tDirect object\n",
    "\tpobj\tObject of a preposition\n",
    "\tamod\tAdjectival modifier\n",
    "\tprep\tPrepositional modifier\n",
    "\tROOT\tMain verb/root of sentence\n",
    "\tdet\t\tDeterminer\n",
    "\tadvmod\tAdverbial modifier\n",
    "\"\"\""
   ]
  },
  {
   "cell_type": "code",
   "execution_count": null,
   "id": "c1fa80aa",
   "metadata": {},
   "outputs": [],
   "source": []
  },
  {
   "cell_type": "code",
   "execution_count": 8,
   "id": "bfa87fb2",
   "metadata": {},
   "outputs": [],
   "source": [
    "def extract_subject_verb_object(text):\n",
    "    doc = nlp(text)\n",
    "    \n",
    "    subject = \"\"\n",
    "    verb = \"\"\n",
    "    object = \"\"\n",
    "    \n",
    "    for token in doc:\n",
    "        if token.dep_ == \"nsubj\":\n",
    "            subject = token.text\n",
    "        if token.dep_ == \"ROOT\":\n",
    "            verb = token.text\n",
    "        if token.dep_ == \"dobj\" or token.dep_ == \"pobj\":\n",
    "            object = token.text\n",
    "            \n",
    "    return subject, verb, object"
   ]
  },
  {
   "cell_type": "code",
   "execution_count": 9,
   "id": "21d9afcb",
   "metadata": {},
   "outputs": [
    {
     "name": "stdout",
     "output_type": "stream",
     "text": [
      "Dependency Parser\n",
      "\n",
      "Extracted parts:\n",
      "Subject: cat\n",
      "Verb: fighting\n",
      "Object: mouse\n"
     ]
    }
   ],
   "source": [
    "if __name__ == \"__main__\":\n",
    "    print(\"Dependency Parser\")\n",
    "    sentence = input(\"Enter a sentence: \")\n",
    "    subject, verb, obj = extract_subject_verb_object(sentence)\n",
    "\n",
    "    print(f\"\\nExtracted parts:\")\n",
    "    print(f\"Subject: {subject}\")\n",
    "    print(f\"Verb: {verb}\")\n",
    "    print(f\"Object: {obj}\")\n"
   ]
  },
  {
   "cell_type": "code",
   "execution_count": null,
   "id": "4058917b",
   "metadata": {},
   "outputs": [],
   "source": []
  },
  {
   "cell_type": "markdown",
   "id": "8527fd7b",
   "metadata": {},
   "source": [
    "## Chunking"
   ]
  },
  {
   "cell_type": "code",
   "execution_count": 2,
   "id": "2d484cb3",
   "metadata": {},
   "outputs": [],
   "source": [
    "import nltk\n",
    "from nltk import word_tokenize, pos_tag\n",
    "from nltk.chunk import RegexpParser"
   ]
  },
  {
   "cell_type": "code",
   "execution_count": 3,
   "id": "8a2b9a32",
   "metadata": {},
   "outputs": [],
   "source": [
    "sentence = \"The quick brown fox jumps over the lazy dog.\""
   ]
  },
  {
   "cell_type": "code",
   "execution_count": 4,
   "id": "f197ff2c",
   "metadata": {},
   "outputs": [
    {
     "name": "stdout",
     "output_type": "stream",
     "text": [
      "[('The', 'DT'), ('quick', 'JJ'), ('brown', 'NN'), ('fox', 'NN'), ('jumps', 'VBZ'), ('over', 'IN'), ('the', 'DT'), ('lazy', 'JJ'), ('dog', 'NN'), ('.', '.')]\n"
     ]
    }
   ],
   "source": [
    "tokens = word_tokenize(sentence)\n",
    "pos_tag = pos_tag(tokens)\n",
    "print(pos_tag)"
   ]
  },
  {
   "cell_type": "code",
   "execution_count": null,
   "id": "78912201",
   "metadata": {},
   "outputs": [],
   "source": [
    "\"\"\" \n",
    "Noun (NN)\n",
    "Verb (V)\n",
    "Determiner (DT)\n",
    "Adjective (JJ)\n",
    "Adverb (ADV)\n",
    "Preposition (PREP)\n",
    "Conjunction (CONJ)\n",
    "\n",
    "\n",
    "Symbol\tMeaning\n",
    "\t?\tOptional (0 or 1 occurrence)\n",
    "\t*\tZero or more occurrences\n",
    "\t+\tOne or more occurrences\n",
    "\n",
    "\n",
    "\"The quick fox\" → DT + JJ + NN \n",
    "\"lazy dog\" → JJ + NN \n",
    "\"dog\" → NN \n",
    "\"\"\""
   ]
  },
  {
   "cell_type": "code",
   "execution_count": null,
   "id": "b6c03334",
   "metadata": {},
   "outputs": [],
   "source": [
    "chunk_grammar = \"\"\" NP: {<DT>?<JJ>*<NN>}\n",
    "\t\t\t\t\tVP: {<V><NP>}\n",
    "\t\t\t\t\tPP: {<IN><NP>}\n",
    "\t\t\t\t\"\"\"\n",
    "    \n",
    "# NP : Noun Phrase, VP : Verb Phrase, PP : Preposition Phrase\n",
    "\n",
    "chunk_parser = RegexpParser(chunk_grammar)\n",
    "chunk_tree = chunk_parser.parse(pos_tag)"
   ]
  },
  {
   "cell_type": "code",
   "execution_count": 6,
   "id": "726835e7",
   "metadata": {},
   "outputs": [],
   "source": [
    "chunk_tree.draw()"
   ]
  },
  {
   "cell_type": "code",
   "execution_count": 7,
   "id": "e798947b",
   "metadata": {},
   "outputs": [
    {
     "data": {
      "text/plain": [
       "[('The', 'DT'),\n",
       " ('quick', 'JJ'),\n",
       " ('brown', 'NN'),\n",
       " ('fox', 'NN'),\n",
       " ('jumps', 'VBZ'),\n",
       " ('over', 'IN'),\n",
       " ('the', 'DT'),\n",
       " ('lazy', 'JJ'),\n",
       " ('dog', 'NN'),\n",
       " ('.', '.')]"
      ]
     },
     "execution_count": 7,
     "metadata": {},
     "output_type": "execute_result"
    }
   ],
   "source": [
    "chunk_tree.leaves()\n"
   ]
  },
  {
   "cell_type": "code",
   "execution_count": 10,
   "id": "334d7bfc",
   "metadata": {},
   "outputs": [
    {
     "data": {
      "text/plain": [
       "4"
      ]
     },
     "execution_count": 10,
     "metadata": {},
     "output_type": "execute_result"
    }
   ],
   "source": [
    "chunk_tree.height()"
   ]
  },
  {
   "cell_type": "code",
   "execution_count": 11,
   "id": "b05afc86",
   "metadata": {},
   "outputs": [
    {
     "name": "stdout",
     "output_type": "stream",
     "text": [
      "                                 S                                             \n",
      "     ____________________________|____________________________                  \n",
      "    |      |            |                |                    PP               \n",
      "    |      |            |                |        ____________|_____            \n",
      "    |      |            NP               NP      |                  NP         \n",
      "    |      |     _______|________        |       |       ___________|______     \n",
      "jumps/VBZ ./. The/DT quick/JJ brown/NN fox/NN over/IN the/DT     lazy/JJ dog/NN\n",
      "\n"
     ]
    }
   ],
   "source": [
    "chunk_tree.pretty_print()"
   ]
  },
  {
   "cell_type": "code",
   "execution_count": 12,
   "id": "0083d3b8",
   "metadata": {},
   "outputs": [
    {
     "name": "stdout",
     "output_type": "stream",
     "text": [
      "              S               \n",
      "      ________|_____           \n",
      "     |              VP        \n",
      "     |         _____|___       \n",
      "     NP       |         NP    \n",
      "  ___|___     |      ___|___   \n",
      " DT      NN   V     DT      NN\n",
      " |       |    |     |       |  \n",
      "the     dog chased the     cat\n",
      "\n"
     ]
    }
   ],
   "source": [
    "import nltk\n",
    "\n",
    "# Define grammar\n",
    "grammar = nltk.CFG.fromstring(\"\"\"\n",
    "  S -> NP VP\n",
    "  NP -> DT NN\n",
    "  VP -> V NP\n",
    "  DT -> 'the'\n",
    "  NN -> 'dog' | 'cat'\n",
    "  V -> 'chased'\n",
    "\"\"\")\n",
    "\n",
    "parser = nltk.ChartParser(grammar)\n",
    "sentence = ['the', 'dog', 'chased', 'the', 'cat']\n",
    "\n",
    "for tree in parser.parse(sentence):\n",
    "    tree.pretty_print()\n"
   ]
  },
  {
   "cell_type": "code",
   "execution_count": null,
   "id": "af04d9ac",
   "metadata": {},
   "outputs": [],
   "source": []
  }
 ],
 "metadata": {
  "kernelspec": {
   "display_name": ".venv",
   "language": "python",
   "name": "python3"
  },
  "language_info": {
   "codemirror_mode": {
    "name": "ipython",
    "version": 3
   },
   "file_extension": ".py",
   "mimetype": "text/x-python",
   "name": "python",
   "nbconvert_exporter": "python",
   "pygments_lexer": "ipython3",
   "version": "3.13.5"
  }
 },
 "nbformat": 4,
 "nbformat_minor": 5
}
