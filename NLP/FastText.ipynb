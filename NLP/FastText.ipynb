{
 "cells": [
  {
   "cell_type": "code",
   "execution_count": 1,
   "id": "d05b4b99",
   "metadata": {},
   "outputs": [],
   "source": [
    "import fasttext"
   ]
  },
  {
   "cell_type": "code",
   "execution_count": 6,
   "id": "70c2daca",
   "metadata": {},
   "outputs": [],
   "source": [
    "with open('./sentences.txt', 'r') as file:\n",
    "\tsentences = file.read().splitlines()"
   ]
  },
  {
   "cell_type": "code",
   "execution_count": 17,
   "id": "fa9e89d8",
   "metadata": {},
   "outputs": [],
   "source": [
    "model = fasttext.train_unsupervised('sentences.txt', model='skipgram', dim=50, minCount=1, epoch=50)"
   ]
  },
  {
   "cell_type": "code",
   "execution_count": null,
   "id": "72a33f86",
   "metadata": {},
   "outputs": [],
   "source": [
    "model.save_model('fasttext_model.bin') # Save the model"
   ]
  },
  {
   "cell_type": "code",
   "execution_count": null,
   "id": "28b58d6e",
   "metadata": {},
   "outputs": [
    {
     "name": "stdout",
     "output_type": "stream",
     "text": [
      "King Vector: [ 0.00162018 -0.00127537 -0.00023916 -0.00592215  0.00079957 -0.00519794\n",
      "  0.00581034 -0.00276586  0.00515469  0.00357007 -0.00148353  0.00681427\n",
      " -0.0023796  -0.00269772 -0.00144515 -0.001544    0.00311883  0.00390954\n",
      " -0.00011106  0.00157241 -0.0032873  -0.0024119  -0.00136967  0.00070313\n",
      " -0.00439159 -0.00150707  0.00186356 -0.00391774 -0.0019906   0.00548065\n",
      "  0.00192447  0.00137767 -0.00673922 -0.00063065  0.00510901 -0.00378043\n",
      " -0.00361279 -0.00018404  0.0003704   0.0049823  -0.00132409 -0.00704087\n",
      "  0.00411342 -0.00217686  0.00533049 -0.00140831  0.00353315 -0.00476816\n",
      "  0.00188801 -0.00157333]\n"
     ]
    }
   ],
   "source": [
    "king_vector = model.get_word_vector('king') # Get the vector for the word 'king'\n",
    "\n",
    "print(\"King Vector:\", king_vector)"
   ]
  },
  {
   "cell_type": "code",
   "execution_count": null,
   "id": "1a180bbb",
   "metadata": {},
   "outputs": [
    {
     "name": "stdout",
     "output_type": "stream",
     "text": [
      "Queen Vector: [-1.0957095e-03  2.3814137e-03  1.6117841e-05 -2.4812974e-03\n",
      " -2.2381260e-03 -2.0305738e-03  9.6434815e-04  8.5088122e-04\n",
      "  9.9992345e-04 -4.2878473e-04 -5.7481877e-03  4.3300088e-03\n",
      "  2.9018696e-03 -6.8678712e-03 -2.3472805e-03 -2.4392051e-03\n",
      "  2.9314249e-03  2.9708848e-03 -3.7873082e-03  1.4632856e-03\n",
      " -7.9502852e-04 -2.7227765e-03 -1.1915443e-03  8.4377517e-04\n",
      "  3.3502411e-03 -3.5014448e-03  5.5394130e-04  2.2172630e-03\n",
      " -2.6252870e-03 -2.0831374e-03  2.5122061e-03  7.2628172e-04\n",
      "  3.4401140e-03  2.5398980e-04 -4.3609489e-05 -6.1175536e-04\n",
      " -3.9369599e-03 -1.7535400e-03  1.1241126e-04  4.7286751e-04\n",
      " -3.8873574e-03  2.0681112e-03 -2.7952648e-03 -4.5701349e-04\n",
      "  1.3181767e-03 -2.0404258e-03 -2.5819623e-04 -1.9780665e-03\n",
      " -3.8502919e-03 -7.9968007e-04]\n"
     ]
    }
   ],
   "source": [
    "queen_vector = model.get_word_vector('queen') # Get the vector for the word 'queen'\n",
    "\n",
    "print(\"Queen Vector:\", queen_vector)"
   ]
  },
  {
   "cell_type": "code",
   "execution_count": null,
   "id": "3e807054",
   "metadata": {},
   "outputs": [
    {
     "data": {
      "text/plain": [
       "array([ 0.00271589, -0.00365678, -0.00025528, -0.00344085,  0.00303769,\n",
       "       -0.00316736,  0.00484599, -0.00361674,  0.00415477,  0.00399885,\n",
       "        0.00426466,  0.00248426, -0.00528147,  0.00417015,  0.00090213,\n",
       "        0.00089521,  0.0001874 ,  0.00093866,  0.00367625,  0.00010913,\n",
       "       -0.00249227,  0.00031088, -0.00017813, -0.00014064, -0.00774183,\n",
       "        0.00199437,  0.00130962, -0.006135  ,  0.00063469,  0.00756379,\n",
       "       -0.00058773,  0.00065139, -0.01017933, -0.00088464,  0.00515262,\n",
       "       -0.00316867,  0.00032417,  0.0015695 ,  0.00025799,  0.00450943,\n",
       "        0.00256326, -0.00910898,  0.00690869, -0.00171984,  0.00401231,\n",
       "        0.00063211,  0.00379134, -0.00279009,  0.0057383 , -0.00077365],\n",
       "      dtype=float32)"
      ]
     },
     "execution_count": 22,
     "metadata": {},
     "output_type": "execute_result"
    }
   ],
   "source": [
    "similarity = model.get_word_vector('king') - model.get_word_vector('queen') # Calculate the cosine similarity between 'king' and 'queen'\n",
    "similarity"
   ]
  },
  {
   "cell_type": "code",
   "execution_count": null,
   "id": "22e074a6",
   "metadata": {},
   "outputs": [
    {
     "name": "stdout",
     "output_type": "stream",
     "text": [
      "Similar words to 'king': [(0.5978978872299194, '\"Walking'), (0.35181814432144165, '\"Reading'), (0.3425758183002472, 'king\",'), (0.31247255206108093, '\"The'), (0.2341778576374054, '\"Running')]\n"
     ]
    }
   ],
   "source": [
    "similar_words = model.get_nearest_neighbors('king', k=5) # similar words to 'king'\n",
    "print(\"Similar words to 'king':\", similar_words)"
   ]
  },
  {
   "cell_type": "code",
   "execution_count": 35,
   "id": "560ad9d5",
   "metadata": {},
   "outputs": [
    {
     "name": "stdout",
     "output_type": "stream",
     "text": [
      "Similar words to 'running': [(0.47345349192619324, '\"Running'), (0.45520469546318054, 'runner'), (0.27595964074134827, 'slowly\",'), (0.271578848361969, 'healthy'), (0.22146999835968018, 'helps')]\n"
     ]
    }
   ],
   "source": [
    "similar_words = model.get_nearest_neighbors('running', k=5)\n",
    "print(\"Similar words to 'running':\", similar_words)"
   ]
  },
  {
   "cell_type": "code",
   "execution_count": null,
   "id": "0ce4c58c",
   "metadata": {},
   "outputs": [],
   "source": []
  }
 ],
 "metadata": {
  "kernelspec": {
   "display_name": "Python 3",
   "language": "python",
   "name": "python3"
  },
  "language_info": {
   "codemirror_mode": {
    "name": "ipython",
    "version": 3
   },
   "file_extension": ".py",
   "mimetype": "text/x-python",
   "name": "python",
   "nbconvert_exporter": "python",
   "pygments_lexer": "ipython3",
   "version": "3.12.8"
  }
 },
 "nbformat": 4,
 "nbformat_minor": 5
}
