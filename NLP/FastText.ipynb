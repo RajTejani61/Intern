{
 "cells": [
  {
   "cell_type": "code",
   "execution_count": 1,
   "id": "d05b4b99",
   "metadata": {},
   "outputs": [],
   "source": [
    "import fasttext"
   ]
  },
  {
   "cell_type": "code",
   "execution_count": 2,
   "id": "70c2daca",
   "metadata": {},
   "outputs": [],
   "source": [
    "with open('./sentences.txt', 'r') as file:\n",
    "\tsentences = file.read().splitlines()"
   ]
  },
  {
   "cell_type": "code",
   "execution_count": 3,
   "id": "fa9e89d8",
   "metadata": {},
   "outputs": [],
   "source": [
    "model = fasttext.train_unsupervised('sentences.txt', model='cbow', dim=50, minCount=1, epoch=50)"
   ]
  },
  {
   "cell_type": "code",
   "execution_count": 4,
   "id": "72a33f86",
   "metadata": {},
   "outputs": [],
   "source": [
    "model.save_model('fasttext_model.bin') # Save the model"
   ]
  },
  {
   "cell_type": "code",
   "execution_count": 5,
   "id": "28b58d6e",
   "metadata": {},
   "outputs": [
    {
     "name": "stdout",
     "output_type": "stream",
     "text": [
      "King Vector: [ 0.00162013 -0.00127358 -0.00023806 -0.00592427  0.00079725 -0.00519576\n",
      "  0.0058111  -0.00276458  0.00515418  0.00356883 -0.00148085  0.00681389\n",
      " -0.00237893 -0.00269669 -0.0014447  -0.00154458  0.00311976  0.0039095\n",
      " -0.00010759  0.00157108 -0.00328694 -0.00241163 -0.00137123  0.00070384\n",
      " -0.00439177 -0.00150553  0.00186213 -0.00391446 -0.00198996  0.00548101\n",
      "  0.00192311  0.00137804 -0.00673926 -0.00063314  0.00510566 -0.00377786\n",
      " -0.00361173 -0.00018591  0.00036977  0.00498319 -0.00132237 -0.0070414\n",
      "  0.00411735 -0.00218026  0.00532963 -0.00140691  0.00353326 -0.00476621\n",
      "  0.00189138 -0.00157464]\n"
     ]
    }
   ],
   "source": [
    "king_vector = model.get_word_vector('king') # Get the vector for the word 'king'\n",
    "\n",
    "print(\"King Vector:\", king_vector)"
   ]
  },
  {
   "cell_type": "code",
   "execution_count": 6,
   "id": "1a180bbb",
   "metadata": {},
   "outputs": [
    {
     "name": "stdout",
     "output_type": "stream",
     "text": [
      "Queen Vector: [-1.0957095e-03  2.3814137e-03  1.6117841e-05 -2.4812974e-03\n",
      " -2.2381260e-03 -2.0305738e-03  9.6434815e-04  8.5088122e-04\n",
      "  9.9992345e-04 -4.2878473e-04 -5.7481877e-03  4.3300088e-03\n",
      "  2.9018696e-03 -6.8678712e-03 -2.3472805e-03 -2.4392051e-03\n",
      "  2.9314249e-03  2.9708848e-03 -3.7873082e-03  1.4632856e-03\n",
      " -7.9502852e-04 -2.7227765e-03 -1.1915443e-03  8.4377517e-04\n",
      "  3.3502411e-03 -3.5014448e-03  5.5394130e-04  2.2172630e-03\n",
      " -2.6252870e-03 -2.0831374e-03  2.5122061e-03  7.2628172e-04\n",
      "  3.4401140e-03  2.5398980e-04 -4.3609489e-05 -6.1175536e-04\n",
      " -3.9369599e-03 -1.7535400e-03  1.1241126e-04  4.7286751e-04\n",
      " -3.8873574e-03  2.0681112e-03 -2.7952648e-03 -4.5701349e-04\n",
      "  1.3181767e-03 -2.0404258e-03 -2.5819623e-04 -1.9780665e-03\n",
      " -3.8502919e-03 -7.9968007e-04]\n"
     ]
    }
   ],
   "source": [
    "queen_vector = model.get_word_vector('queen') # Get the vector for the word 'queen'\n",
    "\n",
    "print(\"Queen Vector:\", queen_vector)"
   ]
  },
  {
   "cell_type": "code",
   "execution_count": 7,
   "id": "3e807054",
   "metadata": {},
   "outputs": [
    {
     "data": {
      "text/plain": [
       "array([ 0.00271584, -0.00365499, -0.00025418, -0.00344297,  0.00303537,\n",
       "       -0.00316519,  0.00484676, -0.00361547,  0.00415426,  0.00399762,\n",
       "        0.00426733,  0.00248388, -0.0052808 ,  0.00417118,  0.00090258,\n",
       "        0.00089463,  0.00018834,  0.00093861,  0.00367972,  0.00010779,\n",
       "       -0.00249191,  0.00031115, -0.00017969, -0.00013993, -0.00774201,\n",
       "        0.00199592,  0.00130819, -0.00613172,  0.00063533,  0.00756415,\n",
       "       -0.0005891 ,  0.00065176, -0.01017937, -0.00088713,  0.00514927,\n",
       "       -0.0031661 ,  0.00032523,  0.00156763,  0.00025736,  0.00451032,\n",
       "        0.00256499, -0.00910951,  0.00691262, -0.00172325,  0.00401145,\n",
       "        0.00063352,  0.00379146, -0.00278815,  0.00574167, -0.00077496],\n",
       "      dtype=float32)"
      ]
     },
     "execution_count": 7,
     "metadata": {},
     "output_type": "execute_result"
    }
   ],
   "source": [
    "similarity = model.get_word_vector('king') - model.get_word_vector('queen') # Calculate the cosine similarity between 'king' and 'queen'\n",
    "similarity"
   ]
  },
  {
   "cell_type": "code",
   "execution_count": 8,
   "id": "22e074a6",
   "metadata": {},
   "outputs": [
    {
     "name": "stdout",
     "output_type": "stream",
     "text": [
      "Similar words to 'king': [(0.5977591872215271, '\"Walking'), (0.35186922550201416, '\"Reading'), (0.34243202209472656, 'king\",'), (0.3124929368495941, '\"The'), (0.23418577015399933, '\"Running')]\n"
     ]
    }
   ],
   "source": [
    "similar_words = model.get_nearest_neighbors('king', k=5) # similar words to 'king'\n",
    "print(\"Similar words to 'king':\", similar_words)"
   ]
  },
  {
   "cell_type": "code",
   "execution_count": 9,
   "id": "560ad9d5",
   "metadata": {},
   "outputs": [
    {
     "name": "stdout",
     "output_type": "stream",
     "text": [
      "Similar words to 'running': [(0.4734562337398529, '\"Running'), (0.45513883233070374, 'runner'), (0.27595973014831543, 'slowly\",'), (0.2715648412704468, 'healthy'), (0.22156164050102234, 'helps')]\n"
     ]
    }
   ],
   "source": [
    "similar_words = model.get_nearest_neighbors('running', k=5)\n",
    "print(\"Similar words to 'running':\", similar_words)"
   ]
  },
  {
   "cell_type": "code",
   "execution_count": null,
   "id": "45888cee",
   "metadata": {},
   "outputs": [],
   "source": []
  }
 ],
 "metadata": {
  "kernelspec": {
   "display_name": "Python 3",
   "language": "python",
   "name": "python3"
  },
  "language_info": {
   "codemirror_mode": {
    "name": "ipython",
    "version": 3
   },
   "file_extension": ".py",
   "mimetype": "text/x-python",
   "name": "python",
   "nbconvert_exporter": "python",
   "pygments_lexer": "ipython3",
   "version": "3.12.8"
  }
 },
 "nbformat": 4,
 "nbformat_minor": 5
}
