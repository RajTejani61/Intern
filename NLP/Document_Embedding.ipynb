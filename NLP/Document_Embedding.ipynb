{
 "cells": [
  {
   "cell_type": "code",
   "execution_count": 1,
   "id": "ce4c88c2",
   "metadata": {},
   "outputs": [],
   "source": [
    "import gensim.downloader as api\n",
    "import numpy as np\n",
    "import numpy.linalg as norm\n",
    "from sklearn.metrics.pairwise import cosine_similarity"
   ]
  },
  {
   "cell_type": "code",
   "execution_count": 2,
   "id": "09a2c157",
   "metadata": {},
   "outputs": [],
   "source": [
    "model = api.load(\"glove-wiki-gigaword-50\")"
   ]
  },
  {
   "cell_type": "code",
   "execution_count": 3,
   "id": "98f65dc4",
   "metadata": {},
   "outputs": [],
   "source": [
    "documents = [\n",
    "    \"The king ruled the kingdom with justice and wisdom.\",\n",
    "    \"A queen leads her people with grace and intelligence.\",\n",
    "    \"I love eating pizza and pasta on weekends.\",\n",
    "    \"The monarch made a new law to help farmers.\",\n",
    "    \"My dog loves playing fetch in the park.\"\n",
    "]"
   ]
  },
  {
   "cell_type": "code",
   "execution_count": 23,
   "id": "f49ea59d",
   "metadata": {},
   "outputs": [
    {
     "data": {
      "text/plain": [
       "array([ 0.50451 ,  0.68607 , -0.59517 , -0.022801,  0.60046 , -0.13498 ,\n",
       "       -0.08813 ,  0.47377 , -0.61798 , -0.31012 , -0.076666,  1.493   ,\n",
       "       -0.034189, -0.98173 ,  0.68229 ,  0.81722 , -0.51874 , -0.31503 ,\n",
       "       -0.55809 ,  0.66421 ,  0.1961  , -0.13495 , -0.11476 , -0.30344 ,\n",
       "        0.41177 , -2.223   , -1.0756  , -1.0783  , -0.34354 ,  0.33505 ,\n",
       "        1.9927  , -0.04234 , -0.64319 ,  0.71125 ,  0.49159 ,  0.16754 ,\n",
       "        0.34344 , -0.25663 , -0.8523  ,  0.1661  ,  0.40102 ,  1.1685  ,\n",
       "       -1.0137  , -0.21585 , -0.15155 ,  0.78321 , -0.91241 , -1.6106  ,\n",
       "       -0.64426 , -0.51042 ], dtype=float32)"
      ]
     },
     "execution_count": 23,
     "metadata": {},
     "output_type": "execute_result"
    }
   ],
   "source": [
    "model['king']"
   ]
  },
  {
   "cell_type": "code",
   "execution_count": 24,
   "id": "10139c49",
   "metadata": {},
   "outputs": [],
   "source": [
    "doc_vectors = []\n",
    "\n",
    "for doc in documents:\n",
    "    words = doc.lower().split()\n",
    "    valid_words = [word for word in words if word in model]\n",
    "    \n",
    "    if len(valid_words) == 0:\n",
    "        vec = np.zeros(model.vector_size)\n",
    "    else:\n",
    "        word_vectors = [model[word] for word in valid_words]\n",
    "        vec = np.mean(word_vectors, axis=0)\n",
    "        \n",
    "    doc_vectors.append(vec)"
   ]
  },
  {
   "cell_type": "code",
   "execution_count": 28,
   "id": "81ec7764",
   "metadata": {},
   "outputs": [
    {
     "name": "stdout",
     "output_type": "stream",
     "text": [
      "\n",
      "Document Similarities:\n",
      "\n",
      "Similarity between \n",
      " Doc1 : The king ruled the kingdom with justice and wisdom. \n",
      " Doc2 : A queen leads her people with grace and intelligence. \n",
      " -> 0.8732\n",
      "Similarity between \n",
      " Doc1 : The king ruled the kingdom with justice and wisdom. \n",
      " Doc2 : I love eating pizza and pasta on weekends. \n",
      " -> 0.6785\n",
      "Similarity between \n",
      " Doc1 : The king ruled the kingdom with justice and wisdom. \n",
      " Doc2 : The monarch made a new law to help farmers. \n",
      " -> 0.9298\n",
      "Similarity between \n",
      " Doc1 : The king ruled the kingdom with justice and wisdom. \n",
      " Doc2 : My dog loves playing fetch in the park. \n",
      " -> 0.7681\n",
      "Similarity between \n",
      " Doc1 : A queen leads her people with grace and intelligence. \n",
      " Doc2 : I love eating pizza and pasta on weekends. \n",
      " -> 0.8130\n",
      "Similarity between \n",
      " Doc1 : A queen leads her people with grace and intelligence. \n",
      " Doc2 : The monarch made a new law to help farmers. \n",
      " -> 0.9042\n",
      "Similarity between \n",
      " Doc1 : A queen leads her people with grace and intelligence. \n",
      " Doc2 : My dog loves playing fetch in the park. \n",
      " -> 0.8996\n",
      "Similarity between \n",
      " Doc1 : I love eating pizza and pasta on weekends. \n",
      " Doc2 : The monarch made a new law to help farmers. \n",
      " -> 0.7454\n",
      "Similarity between \n",
      " Doc1 : I love eating pizza and pasta on weekends. \n",
      " Doc2 : My dog loves playing fetch in the park. \n",
      " -> 0.8938\n",
      "Similarity between \n",
      " Doc1 : The monarch made a new law to help farmers. \n",
      " Doc2 : My dog loves playing fetch in the park. \n",
      " -> 0.8342\n"
     ]
    }
   ],
   "source": [
    "print(\"\\nDocument Similarities:\\n\")\n",
    "\n",
    "for i in range(len(documents)):\n",
    "    for j in range(i+1, len(documents)):\n",
    "        vec1 = doc_vectors[i].reshape(1, -1)\n",
    "        vec2 = doc_vectors[j].reshape(1, -1)\n",
    "        sim = cosine_similarity(vec1, vec2)[0][0]\n",
    "        print(f\"Similarity between \\n Doc1 : {documents[i]} \\n Doc2 : {documents[j]} \\n -> {sim:.4f}\")"
   ]
  },
  {
   "cell_type": "code",
   "execution_count": null,
   "metadata": {},
   "outputs": [],
   "source": []
  },
  {
   "cell_type": "code",
   "execution_count": null,
   "id": "7b12e451",
   "metadata": {},
   "outputs": [],
   "source": []
  }
 ],
 "metadata": {
  "kernelspec": {
   "display_name": "Python 3",
   "language": "python",
   "name": "python3"
  },
  "language_info": {
   "codemirror_mode": {
    "name": "ipython",
    "version": 3
   },
   "file_extension": ".py",
   "mimetype": "text/x-python",
   "name": "python",
   "nbconvert_exporter": "python",
   "pygments_lexer": "ipython3",
   "version": "3.12.8"
  }
 },
 "nbformat": 4,
 "nbformat_minor": 5
}
