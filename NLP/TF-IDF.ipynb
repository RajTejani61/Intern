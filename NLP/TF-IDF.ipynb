{
 "cells": [
  {
   "cell_type": "code",
   "execution_count": 1,
   "id": "1d3dbbd9",
   "metadata": {},
   "outputs": [],
   "source": [
    "from sklearn.feature_extraction.text import TfidfVectorizer\n",
    "from nltk.stem import WordNetLemmatizer\n",
    "from nltk.tokenize import sent_tokenize, word_tokenize\n",
    "from nltk.corpus import stopwords\n",
    "import re"
   ]
  },
  {
   "cell_type": "code",
   "execution_count": 2,
   "id": "ac160324",
   "metadata": {},
   "outputs": [],
   "source": [
    "sample = \"\"\"\n",
    "Narendra Damodardas Modi[a] (born 17 September 1950) is an Indian politician who has served as the prime minister of India since 2014. Modi was the chief minister of Gujarat from 2001 to 2014 and is the member of parliament (MP) for Varanasi. He is a member of the Bharatiya Janata Party (BJP) and of the Rashtriya Swayamsevak Sangh (RSS), a right-wing Hindutva paramilitary volunteer organisation. He is the longest-serving prime minister outside the Indian National Congress.\n",
    "\n",
    "Modi was born and raised in Vadnagar, Bombay State (present-day Gujarat), where he completed his secondary education. He was introduced to the RSS at the age of eight, becoming a full-time worker for the organisation in Gujarat in 1971. The RSS assigned him to the BJP in 1985, and he rose through the party hierarchy, becoming general secretary in 1998.[b] In 2001, Modi was appointed chief minister of Gujarat and elected to the legislative assembly soon after. His administration is considered complicit in the 2002 Gujarat riots[c] and has been criticised for its management of the crisis. According to official records, a little over 1,000 people were killed, three-quarters of whom were Muslim; independent sources estimated 2,000 deaths, mostly Muslim.[4] A Special Investigation Team appointed by the Supreme Court of India in 2012 found no evidence to initiate prosecution proceedings against him.[d] While his policies as chief minister were credited for encouraging economic growth, his administration was criticised for failing to significantly improve health, poverty and education indices in the state.[e]\n",
    "\n",
    "In the 2014 Indian general election, Modi led the BJP to a parliamentary majority, the first for a party since 1984. His administration increased direct foreign investment and reduced spending on healthcare, education, and social-welfare programs. Modi began a high-profile sanitation campaign and weakened or abolished environmental and labour laws. His demonetisation of banknotes in 2016 and introduction of the Goods and Services Tax in 2017 sparked controversy. Modi's administration launched the 2019 Balakot airstrike against an alleged terrorist training camp in Pakistan; the airstrike failed,[5][6] but the action had nationalist appeal.[7] Modi's party won the 2019 general election which followed. In its second term, his administration revoked the special status of Jammu and Kashmir and introduced the Citizenship Amendment Act, prompting widespread protests and spurring the 2020 Delhi riots in which Muslims were brutalised and killed by Hindu mobs.[8][9][10] Three controversial farm laws led to sit-ins by farmers across the country, eventually causing their formal repeal. Modi oversaw India's response to the COVID-19 pandemic, during which, according to the World Health Organization, 4.7 million Indians died.[11][12] In the 2024 general election, Modi's party lost its majority in the lower house of Parliament and formed a government leading the National Democratic Alliance coalition. Following a terrorist attack in Indian-administered Jammu and Kashmir, Modi presided over the 2025 India–Pakistan conflict, which resulted in a ceasefire.\n",
    "\"\"\""
   ]
  },
  {
   "cell_type": "code",
   "execution_count": 3,
   "id": "729f7448",
   "metadata": {},
   "outputs": [],
   "source": [
    "sentences = sent_tokenize(sample)"
   ]
  },
  {
   "cell_type": "code",
   "execution_count": 4,
   "id": "797d8990",
   "metadata": {},
   "outputs": [
    {
     "data": {
      "text/plain": [
       "23"
      ]
     },
     "execution_count": 4,
     "metadata": {},
     "output_type": "execute_result"
    }
   ],
   "source": [
    "len(sentences)"
   ]
  },
  {
   "cell_type": "code",
   "execution_count": 5,
   "id": "b1bea7a5",
   "metadata": {},
   "outputs": [
    {
     "data": {
      "text/plain": [
       "['\\nNarendra Damodardas Modi[a] (born 17 September 1950) is an Indian politician who has served as the prime minister of India since 2014.',\n",
       " 'Modi was the chief minister of Gujarat from 2001 to 2014 and is the member of parliament (MP) for Varanasi.',\n",
       " 'He is a member of the Bharatiya Janata Party (BJP) and of the Rashtriya Swayamsevak Sangh (RSS), a right-wing Hindutva paramilitary volunteer organisation.',\n",
       " 'He is the longest-serving prime minister outside the Indian National Congress.',\n",
       " 'Modi was born and raised in Vadnagar, Bombay State (present-day Gujarat), where he completed his secondary education.',\n",
       " 'He was introduced to the RSS at the age of eight, becoming a full-time worker for the organisation in Gujarat in 1971.',\n",
       " 'The RSS assigned him to the BJP in 1985, and he rose through the party hierarchy, becoming general secretary in 1998.',\n",
       " '[b] In 2001, Modi was appointed chief minister of Gujarat and elected to the legislative assembly soon after.',\n",
       " 'His administration is considered complicit in the 2002 Gujarat riots[c] and has been criticised for its management of the crisis.',\n",
       " 'According to official records, a little over 1,000 people were killed, three-quarters of whom were Muslim; independent sources estimated 2,000 deaths, mostly Muslim.',\n",
       " '[4] A Special Investigation Team appointed by the Supreme Court of India in 2012 found no evidence to initiate prosecution proceedings against him.',\n",
       " '[d] While his policies as chief minister were credited for encouraging economic growth, his administration was criticised for failing to significantly improve health, poverty and education indices in the state.',\n",
       " '[e]\\n\\nIn the 2014 Indian general election, Modi led the BJP to a parliamentary majority, the first for a party since 1984.',\n",
       " 'His administration increased direct foreign investment and reduced spending on healthcare, education, and social-welfare programs.',\n",
       " 'Modi began a high-profile sanitation campaign and weakened or abolished environmental and labour laws.',\n",
       " 'His demonetisation of banknotes in 2016 and introduction of the Goods and Services Tax in 2017 sparked controversy.',\n",
       " \"Modi's administration launched the 2019 Balakot airstrike against an alleged terrorist training camp in Pakistan; the airstrike failed,[5][6] but the action had nationalist appeal.\",\n",
       " \"[7] Modi's party won the 2019 general election which followed.\",\n",
       " 'In its second term, his administration revoked the special status of Jammu and Kashmir and introduced the Citizenship Amendment Act, prompting widespread protests and spurring the 2020 Delhi riots in which Muslims were brutalised and killed by Hindu mobs.',\n",
       " '[8][9][10] Three controversial farm laws led to sit-ins by farmers across the country, eventually causing their formal repeal.',\n",
       " \"Modi oversaw India's response to the COVID-19 pandemic, during which, according to the World Health Organization, 4.7 million Indians died.\",\n",
       " \"[11][12] In the 2024 general election, Modi's party lost its majority in the lower house of Parliament and formed a government leading the National Democratic Alliance coalition.\",\n",
       " 'Following a terrorist attack in Indian-administered Jammu and Kashmir, Modi presided over the 2025 India–Pakistan conflict, which resulted in a ceasefire.']"
      ]
     },
     "execution_count": 5,
     "metadata": {},
     "output_type": "execute_result"
    }
   ],
   "source": [
    "sentences"
   ]
  },
  {
   "cell_type": "code",
   "execution_count": 7,
   "id": "2c0866a0",
   "metadata": {},
   "outputs": [],
   "source": [
    "lemmatizer = WordNetLemmatizer()\n",
    "corpus = []\n",
    "\n",
    "for i in range(len(sentences)):\n",
    "    review = re.sub(r'[^a-zA-Z]', ' ', sentences[i])\n",
    "    review = review.lower()\n",
    "    review = review.split()\n",
    "    review = [lemmatizer.lemmatize(word) for word in review if word not in set(stopwords.words('english'))]\n",
    "    review = ' '.join(review)\n",
    "    corpus.append(review)\n",
    "    "
   ]
  },
  {
   "cell_type": "code",
   "execution_count": 8,
   "id": "51b18dd5",
   "metadata": {},
   "outputs": [
    {
     "data": {
      "text/plain": [
       "['narendra damodardas modi born september indian politician served prime minister india since',\n",
       " 'modi chief minister gujarat member parliament mp varanasi',\n",
       " 'member bharatiya janata party bjp rashtriya swayamsevak sangh rss right wing hindutva paramilitary volunteer organisation',\n",
       " 'longest serving prime minister outside indian national congress',\n",
       " 'modi born raised vadnagar bombay state present day gujarat completed secondary education',\n",
       " 'introduced rss age eight becoming full time worker organisation gujarat',\n",
       " 'rss assigned bjp rose party hierarchy becoming general secretary',\n",
       " 'b modi appointed chief minister gujarat elected legislative assembly soon',\n",
       " 'administration considered complicit gujarat riot c criticised management crisis',\n",
       " 'according official record little people killed three quarter muslim independent source estimated death mostly muslim',\n",
       " 'special investigation team appointed supreme court india found evidence initiate prosecution proceeding',\n",
       " 'policy chief minister credited encouraging economic growth administration criticised failing significantly improve health poverty education index state',\n",
       " 'e indian general election modi led bjp parliamentary majority first party since',\n",
       " 'administration increased direct foreign investment reduced spending healthcare education social welfare program',\n",
       " 'modi began high profile sanitation campaign weakened abolished environmental labour law',\n",
       " 'demonetisation banknote introduction good service tax sparked controversy',\n",
       " 'modi administration launched balakot airstrike alleged terrorist training camp pakistan airstrike failed action nationalist appeal',\n",
       " 'modi party general election followed',\n",
       " 'second term administration revoked special status jammu kashmir introduced citizenship amendment act prompting widespread protest spurring delhi riot muslim brutalised killed hindu mob',\n",
       " 'three controversial farm law led sit in farmer across country eventually causing formal repeal',\n",
       " 'modi oversaw india response covid pandemic according world health organization million indian died',\n",
       " 'general election modi party lost majority lower house parliament formed government leading national democratic alliance coalition',\n",
       " 'following terrorist attack indian administered jammu kashmir modi presided india pakistan conflict resulted ceasefire']"
      ]
     },
     "execution_count": 8,
     "metadata": {},
     "output_type": "execute_result"
    }
   ],
   "source": [
    "corpus"
   ]
  },
  {
   "cell_type": "markdown",
   "id": "ce650454",
   "metadata": {},
   "source": [
    "## Count Vectorizer"
   ]
  },
  {
   "cell_type": "code",
   "execution_count": 12,
   "id": "3112df63",
   "metadata": {},
   "outputs": [],
   "source": [
    "from sklearn.feature_extraction.text import CountVectorizer"
   ]
  },
  {
   "cell_type": "code",
   "execution_count": 19,
   "id": "db7e9847",
   "metadata": {},
   "outputs": [
    {
     "data": {
      "text/plain": [
       "{'narendra damodardas modi': 153,\n",
       " 'damodardas modi born': 51,\n",
       " 'modi born september': 144,\n",
       " 'born september indian': 32,\n",
       " 'september indian politician': 198,\n",
       " 'indian politician served': 106,\n",
       " 'politician served prime': 172,\n",
       " 'served prime minister': 199,\n",
       " 'prime minister india': 176,\n",
       " 'minister india since': 138,\n",
       " 'modi chief minister': 145,\n",
       " 'chief minister gujarat': 38,\n",
       " 'minister gujarat member': 137,\n",
       " 'gujarat member parliament': 87,\n",
       " 'member parliament mp': 133,\n",
       " 'parliament mp varanasi': 164,\n",
       " 'member bharatiya janata': 132,\n",
       " 'bharatiya janata party': 26,\n",
       " 'janata party bjp': 115,\n",
       " 'party bjp rashtriya': 166,\n",
       " 'bjp rashtriya swayamsevak': 28,\n",
       " 'rashtriya swayamsevak sangh': 183,\n",
       " 'swayamsevak sangh rss': 213,\n",
       " 'sangh rss right': 195,\n",
       " 'rss right wing': 194,\n",
       " 'right wing hindutva': 188,\n",
       " 'wing hindutva paramilitary': 226,\n",
       " 'hindutva paramilitary volunteer': 94,\n",
       " 'paramilitary volunteer organisation': 162,\n",
       " 'longest serving prime': 127,\n",
       " 'serving prime minister': 201,\n",
       " 'prime minister outside': 177,\n",
       " 'minister outside indian': 139,\n",
       " 'outside indian national': 157,\n",
       " 'indian national congress': 105,\n",
       " 'modi born raised': 143,\n",
       " 'born raised vadnagar': 31,\n",
       " 'raised vadnagar bombay': 182,\n",
       " 'vadnagar bombay state': 223,\n",
       " 'bombay state present': 30,\n",
       " 'state present day': 210,\n",
       " 'present day gujarat': 174,\n",
       " 'day gujarat completed': 52,\n",
       " 'gujarat completed secondary': 85,\n",
       " 'completed secondary education': 40,\n",
       " 'introduced rss age': 109,\n",
       " 'rss age eight': 192,\n",
       " 'age eight becoming': 12,\n",
       " 'eight becoming full': 61,\n",
       " 'becoming full time': 23,\n",
       " 'full time worker': 79,\n",
       " 'time worker organisation': 221,\n",
       " 'worker organisation gujarat': 227,\n",
       " 'rss assigned bjp': 193,\n",
       " 'assigned bjp rose': 19,\n",
       " 'bjp rose party': 29,\n",
       " 'rose party hierarchy': 191,\n",
       " 'party hierarchy becoming': 168,\n",
       " 'hierarchy becoming general': 92,\n",
       " 'becoming general secretary': 24,\n",
       " 'modi appointed chief': 141,\n",
       " 'appointed chief minister': 17,\n",
       " 'minister gujarat elected': 136,\n",
       " 'gujarat elected legislative': 86,\n",
       " 'elected legislative assembly': 62,\n",
       " 'legislative assembly soon': 125,\n",
       " 'administration considered complicit': 7,\n",
       " 'considered complicit gujarat': 43,\n",
       " 'complicit gujarat riot': 41,\n",
       " 'gujarat riot criticised': 88,\n",
       " 'riot criticised management': 189,\n",
       " 'criticised management crisis': 50,\n",
       " 'according official record': 1,\n",
       " 'official record little': 155,\n",
       " 'record little people': 184,\n",
       " 'little people killed': 126,\n",
       " 'people killed three': 170,\n",
       " 'killed three quarter': 119,\n",
       " 'three quarter muslim': 220,\n",
       " 'quarter muslim independent': 181,\n",
       " 'muslim independent source': 152,\n",
       " 'independent source estimated': 99,\n",
       " 'source estimated death': 205,\n",
       " 'estimated death mostly': 67,\n",
       " 'death mostly muslim': 53,\n",
       " 'special investigation team': 206,\n",
       " 'investigation team appointed': 111,\n",
       " 'team appointed supreme': 215,\n",
       " 'appointed supreme court': 18,\n",
       " 'supreme court india': 212,\n",
       " 'court india found': 46,\n",
       " 'india found evidence': 100,\n",
       " 'found evidence initiate': 78,\n",
       " 'evidence initiate prosecution': 69,\n",
       " 'initiate prosecution proceeding': 107,\n",
       " 'policy chief minister': 171,\n",
       " 'chief minister credited': 37,\n",
       " 'minister credited encouraging': 135,\n",
       " 'credited encouraging economic': 48,\n",
       " 'encouraging economic growth': 65,\n",
       " 'economic growth administration': 58,\n",
       " 'growth administration criticised': 84,\n",
       " 'administration criticised failing': 8,\n",
       " 'criticised failing significantly': 49,\n",
       " 'failing significantly improve': 71,\n",
       " 'significantly improve health': 202,\n",
       " 'improve health poverty': 96,\n",
       " 'health poverty education': 90,\n",
       " 'poverty education index': 173,\n",
       " 'education index state': 59,\n",
       " 'indian general election': 104,\n",
       " 'general election modi': 81,\n",
       " 'election modi led': 63,\n",
       " 'modi led bjp': 146,\n",
       " 'led bjp parliamentary': 123,\n",
       " 'bjp parliamentary majority': 27,\n",
       " 'parliamentary majority first': 165,\n",
       " 'majority first party': 130,\n",
       " 'first party since': 74,\n",
       " 'administration increased direct': 9,\n",
       " 'increased direct foreign': 98,\n",
       " 'direct foreign investment': 57,\n",
       " 'foreign investment reduced': 76,\n",
       " 'investment reduced spending': 112,\n",
       " 'reduced spending healthcare': 185,\n",
       " 'spending healthcare education': 208,\n",
       " 'healthcare education social': 91,\n",
       " 'education social welfare': 60,\n",
       " 'social welfare program': 204,\n",
       " 'modi began high': 142,\n",
       " 'began high profile': 25,\n",
       " 'high profile sanitation': 93,\n",
       " 'profile sanitation campaign': 178,\n",
       " 'sanitation campaign weakened': 196,\n",
       " 'campaign weakened abolished': 35,\n",
       " 'weakened abolished environmental': 224,\n",
       " 'abolished environmental labour': 0,\n",
       " 'environmental labour law': 66,\n",
       " 'demonetisation banknote introduction': 56,\n",
       " 'banknote introduction good': 22,\n",
       " 'introduction good service': 110,\n",
       " 'good service tax': 82,\n",
       " 'service tax sparked': 200,\n",
       " 'tax sparked controversy': 214,\n",
       " 'modi administration launched': 140,\n",
       " 'administration launched balakot': 10,\n",
       " 'launched balakot airstrike': 120,\n",
       " 'balakot airstrike alleged': 21,\n",
       " 'airstrike alleged terrorist': 13,\n",
       " 'alleged terrorist training': 15,\n",
       " 'terrorist training camp': 218,\n",
       " 'training camp pakistan': 222,\n",
       " 'camp pakistan airstrike': 34,\n",
       " 'pakistan airstrike failed': 159,\n",
       " 'airstrike failed action': 14,\n",
       " 'failed action nationalist': 70,\n",
       " 'action nationalist appeal': 5,\n",
       " 'modi party general': 148,\n",
       " 'party general election': 167,\n",
       " 'general election followed': 80,\n",
       " 'second term administration': 197,\n",
       " 'term administration revoked': 216,\n",
       " 'administration revoked special': 11,\n",
       " 'revoked special status': 187,\n",
       " 'special status jammu': 207,\n",
       " 'status jammu kashmir': 211,\n",
       " 'jammu kashmir introduced': 113,\n",
       " 'kashmir introduced citizenship': 116,\n",
       " 'introduced citizenship amendment': 108,\n",
       " 'citizenship amendment act': 39,\n",
       " 'amendment act prompting': 16,\n",
       " 'act prompting widespread': 4,\n",
       " 'prompting widespread protest': 179,\n",
       " 'widespread protest spurring': 225,\n",
       " 'protest spurring delhi': 180,\n",
       " 'spurring delhi riot': 209,\n",
       " 'delhi riot muslim': 54,\n",
       " 'riot muslim brutalised': 190,\n",
       " 'muslim brutalised killed': 151,\n",
       " 'brutalised killed hindu': 33,\n",
       " 'killed hindu mob': 118,\n",
       " 'three controversial farm': 219,\n",
       " 'controversial farm law': 44,\n",
       " 'farm law led': 72,\n",
       " 'law led sit': 121,\n",
       " 'led sit in': 124,\n",
       " 'sit in farmer': 203,\n",
       " 'in farmer across': 97,\n",
       " 'farmer across country': 73,\n",
       " 'across country eventually': 3,\n",
       " 'country eventually causing': 45,\n",
       " 'eventually causing formal': 68,\n",
       " 'causing formal repeal': 36,\n",
       " 'modi oversaw india': 147,\n",
       " 'oversaw india response': 158,\n",
       " 'india response covid': 102,\n",
       " 'response covid pandemic': 186,\n",
       " 'covid pandemic according': 47,\n",
       " 'pandemic according world': 161,\n",
       " 'according world health': 2,\n",
       " 'world health organization': 228,\n",
       " 'health organization million': 89,\n",
       " 'organization million indian': 156,\n",
       " 'million indian died': 134,\n",
       " 'election modi party': 64,\n",
       " 'modi party lost': 149,\n",
       " 'party lost majority': 169,\n",
       " 'lost majority lower': 128,\n",
       " 'majority lower house': 131,\n",
       " 'lower house parliament': 129,\n",
       " 'house parliament formed': 95,\n",
       " 'parliament formed government': 163,\n",
       " 'formed government leading': 77,\n",
       " 'government leading national': 83,\n",
       " 'leading national democratic': 122,\n",
       " 'national democratic alliance': 154,\n",
       " 'democratic alliance coalition': 55,\n",
       " 'following terrorist attack': 75,\n",
       " 'terrorist attack indian': 217,\n",
       " 'attack indian administered': 20,\n",
       " 'indian administered jammu': 103,\n",
       " 'administered jammu kashmir': 6,\n",
       " 'jammu kashmir modi': 114,\n",
       " 'kashmir modi presided': 117,\n",
       " 'modi presided india': 150,\n",
       " 'presided india pakistan': 175,\n",
       " 'india pakistan conflict': 101,\n",
       " 'pakistan conflict resulted': 160,\n",
       " 'conflict resulted ceasefire': 42}"
      ]
     },
     "execution_count": 19,
     "metadata": {},
     "output_type": "execute_result"
    }
   ],
   "source": [
    "cv = CountVectorizer(ngram_range=(3, 3))\n",
    "X = cv.fit_transform(corpus).toarray()\n",
    "cv.vocabulary_"
   ]
  },
  {
   "cell_type": "code",
   "execution_count": 20,
   "id": "f8f1bee8",
   "metadata": {},
   "outputs": [
    {
     "name": "stdout",
     "output_type": "stream",
     "text": [
      "[[0 0 0 ... 0 0 0]\n",
      " [0 0 0 ... 0 0 0]\n",
      " [0 0 0 ... 1 0 0]\n",
      " ...\n",
      " [0 0 1 ... 0 0 1]\n",
      " [0 0 0 ... 0 0 0]\n",
      " [0 0 0 ... 0 0 0]]\n"
     ]
    }
   ],
   "source": [
    "print(X)"
   ]
  },
  {
   "cell_type": "markdown",
   "id": "1a4de4c8",
   "metadata": {},
   "source": [
    "## Term Frequency - Inverse Document Frequrncy (TF-IDF)"
   ]
  },
  {
   "cell_type": "code",
   "execution_count": 27,
   "id": "1b3a2b74",
   "metadata": {},
   "outputs": [],
   "source": [
    "tfidf = TfidfVectorizer()"
   ]
  },
  {
   "cell_type": "code",
   "execution_count": 28,
   "id": "dc50dc70",
   "metadata": {},
   "outputs": [],
   "source": [
    "X = tfidf.fit_transform(corpus)"
   ]
  },
  {
   "cell_type": "code",
   "execution_count": 29,
   "id": "20e019a6",
   "metadata": {},
   "outputs": [
    {
     "data": {
      "text/plain": [
       "array([[0.        , 0.        , 0.        , 0.        , 0.        ,\n",
       "        0.        , 0.        , 0.        , 0.        , 0.        ,\n",
       "        0.        , 0.        , 0.        , 0.        , 0.        ,\n",
       "        0.        , 0.        , 0.        , 0.        , 0.        ,\n",
       "        0.        , 0.        , 0.        , 0.        , 0.29357975,\n",
       "        0.        , 0.        , 0.        , 0.        , 0.        ,\n",
       "        0.        , 0.        , 0.        , 0.        , 0.        ,\n",
       "        0.        , 0.        , 0.        , 0.        , 0.        ,\n",
       "        0.        , 0.        , 0.        , 0.        , 0.        ,\n",
       "        0.        , 0.33223493, 0.        , 0.        , 0.        ,\n",
       "        0.        , 0.        , 0.        , 0.        , 0.        ,\n",
       "        0.        , 0.        , 0.        , 0.        , 0.        ,\n",
       "        0.        , 0.        , 0.        , 0.        , 0.        ,\n",
       "        0.        , 0.        , 0.        , 0.        , 0.        ,\n",
       "        0.        , 0.        , 0.        , 0.        , 0.        ,\n",
       "        0.        , 0.        , 0.        , 0.        , 0.        ,\n",
       "        0.        , 0.        , 0.        , 0.        , 0.        ,\n",
       "        0.        , 0.        , 0.        , 0.        , 0.        ,\n",
       "        0.        , 0.        , 0.        , 0.24487999, 0.2274983 ,\n",
       "        0.        , 0.        , 0.        , 0.        , 0.        ,\n",
       "        0.        , 0.        , 0.        , 0.        , 0.        ,\n",
       "        0.        , 0.        , 0.        , 0.        , 0.        ,\n",
       "        0.        , 0.        , 0.        , 0.        , 0.        ,\n",
       "        0.        , 0.        , 0.        , 0.2274983 , 0.        ,\n",
       "        0.16141684, 0.        , 0.        , 0.        , 0.33223493,\n",
       "        0.        , 0.        , 0.        , 0.        , 0.        ,\n",
       "        0.        , 0.        , 0.        , 0.        , 0.        ,\n",
       "        0.        , 0.        , 0.        , 0.        , 0.        ,\n",
       "        0.33223493, 0.        , 0.        , 0.        , 0.29357975,\n",
       "        0.        , 0.        , 0.        , 0.        , 0.        ,\n",
       "        0.        , 0.        , 0.        , 0.        , 0.        ,\n",
       "        0.        , 0.        , 0.        , 0.        , 0.        ,\n",
       "        0.        , 0.        , 0.        , 0.        , 0.        ,\n",
       "        0.        , 0.        , 0.        , 0.        , 0.33223493,\n",
       "        0.33223493, 0.        , 0.        , 0.        , 0.29357975,\n",
       "        0.        , 0.        , 0.        , 0.        , 0.        ,\n",
       "        0.        , 0.        , 0.        , 0.        , 0.        ,\n",
       "        0.        , 0.        , 0.        , 0.        , 0.        ,\n",
       "        0.        , 0.        , 0.        , 0.        , 0.        ,\n",
       "        0.        , 0.        , 0.        , 0.        , 0.        ,\n",
       "        0.        , 0.        , 0.        ]])"
      ]
     },
     "execution_count": 29,
     "metadata": {},
     "output_type": "execute_result"
    }
   ],
   "source": [
    "X[0].toarray()"
   ]
  },
  {
   "cell_type": "code",
   "execution_count": null,
   "id": "4b0c2c04",
   "metadata": {},
   "outputs": [
    {
     "data": {
      "text/plain": [
       "array([[0.        , 0.        , 0.        , ..., 0.        , 0.        ,\n",
       "        0.        ],\n",
       "       [0.        , 0.        , 0.        , ..., 0.        , 0.        ,\n",
       "        0.        ],\n",
       "       [0.        , 0.        , 0.        , ..., 0.        , 0.        ,\n",
       "        0.        ],\n",
       "       ...,\n",
       "       [0.        , 0.        , 0.57735027, ..., 0.        , 0.        ,\n",
       "        0.        ],\n",
       "       [0.        , 0.        , 0.        , ..., 0.        , 0.        ,\n",
       "        0.        ],\n",
       "       [0.        , 0.        , 0.        , ..., 0.        , 0.        ,\n",
       "        0.        ]], shape=(23, 100))"
      ]
     },
     "execution_count": 32,
     "metadata": {},
     "output_type": "execute_result"
    }
   ],
   "source": [
    "tfidf = TfidfVectorizer(max_features=100, ngram_range=(3, 3)) # top 100 features with high accurence\n",
    "X = tfidf.fit_transform(corpus).toarray()\n",
    "X"
   ]
  },
  {
   "cell_type": "code",
   "execution_count": null,
   "id": "4bf33ee6",
   "metadata": {},
   "outputs": [],
   "source": []
  }
 ],
 "metadata": {
  "kernelspec": {
   "display_name": "Python 3",
   "language": "python",
   "name": "python3"
  },
  "language_info": {
   "codemirror_mode": {
    "name": "ipython",
    "version": 3
   },
   "file_extension": ".py",
   "mimetype": "text/x-python",
   "name": "python",
   "nbconvert_exporter": "python",
   "pygments_lexer": "ipython3",
   "version": "3.13.4"
  }
 },
 "nbformat": 4,
 "nbformat_minor": 5
}
