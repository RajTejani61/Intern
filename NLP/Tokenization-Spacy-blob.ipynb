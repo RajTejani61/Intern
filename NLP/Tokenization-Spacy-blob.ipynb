{
 "cells": [
  {
   "cell_type": "markdown",
   "id": "0adbef08",
   "metadata": {},
   "source": [
    "### Spacy"
   ]
  },
  {
   "cell_type": "code",
   "execution_count": 2,
   "id": "636fbe09",
   "metadata": {},
   "outputs": [],
   "source": [
    "import spacy"
   ]
  },
  {
   "cell_type": "code",
   "execution_count": 5,
   "id": "347384f1",
   "metadata": {},
   "outputs": [
    {
     "name": "stdout",
     "output_type": "stream",
     "text": [
      "I  |  pronoun, personal  |  I\n",
      "am  |  verb, non-3rd person singular present  |  be\n",
      "a  |  determiner  |  a\n",
      "runner  |  noun, singular or mass  |  runner\n",
      "running  |  verb, gerund or present participle  |  run\n",
      "in  |  conjunction, subordinating or preposition  |  in\n",
      "a  |  determiner  |  a\n",
      "race  |  noun, singular or mass  |  race\n",
      "because  |  conjunction, subordinating or preposition  |  because\n",
      "I  |  pronoun, personal  |  I\n",
      "love  |  verb, non-3rd person singular present  |  love\n",
      "to  |  infinitival \"to\"  |  to\n",
      "run  |  verb, base form  |  run\n",
      "since  |  conjunction, subordinating or preposition  |  since\n",
      "I  |  pronoun, personal  |  I\n",
      "ran  |  verb, past tense  |  run\n",
      "today  |  noun, singular or mass  |  today\n"
     ]
    }
   ],
   "source": [
    "nlp = spacy.load(\"en_core_web_sm\")\n",
    "doc = nlp(\"I am a runner running in a race because I love to run since I ran today\")\n",
    "for token in doc:\n",
    "\tprint(token.text, \" | \", spacy.explain(token.tag_), \" | \", token.lemma_)"
   ]
  },
  {
   "cell_type": "code",
   "execution_count": null,
   "id": "71f5a087",
   "metadata": {},
   "outputs": [],
   "source": [
    "\t"
   ]
  },
  {
   "cell_type": "markdown",
   "id": "6ef7740c",
   "metadata": {},
   "source": [
    "### TextBlob"
   ]
  },
  {
   "cell_type": "code",
   "execution_count": 6,
   "id": "d1bc5791",
   "metadata": {},
   "outputs": [],
   "source": [
    "from textblob import TextBlob"
   ]
  },
  {
   "cell_type": "code",
   "execution_count": 7,
   "id": "fa16753a",
   "metadata": {},
   "outputs": [],
   "source": [
    "text = \"I am a runner running in a race because I love to run since I ran today\""
   ]
  },
  {
   "cell_type": "code",
   "execution_count": 8,
   "id": "898d296c",
   "metadata": {},
   "outputs": [],
   "source": [
    "blob = TextBlob(text)"
   ]
  },
  {
   "cell_type": "code",
   "execution_count": null,
   "id": "673eb70f",
   "metadata": {},
   "outputs": [
    {
     "data": {
      "text/plain": [
       "WordList(['I', 'am', 'a', 'runner', 'running', 'in', 'a', 'race', 'because', 'I', 'love', 'to', 'run', 'since', 'I', 'ran', 'today'])"
      ]
     },
     "execution_count": 12,
     "metadata": {},
     "output_type": "execute_result"
    }
   ],
   "source": [
    "words = blob.words\n",
    "words"
   ]
  },
  {
   "cell_type": "code",
   "execution_count": 14,
   "id": "be7c916e",
   "metadata": {},
   "outputs": [
    {
     "data": {
      "text/plain": [
       "[Sentence(\"I am a runner running in a race because I love to run since I ran today\")]"
      ]
     },
     "execution_count": 14,
     "metadata": {},
     "output_type": "execute_result"
    }
   ],
   "source": [
    "sentences = blob.sentences\n",
    "sentences"
   ]
  },
  {
   "cell_type": "code",
   "execution_count": 15,
   "id": "d0147cd3",
   "metadata": {},
   "outputs": [],
   "source": [
    "from nltk.corpus import stopwords\n",
    "\n",
    "stop_words = set(stopwords.words(\"english\"))"
   ]
  },
  {
   "cell_type": "code",
   "execution_count": 17,
   "id": "9231b48b",
   "metadata": {},
   "outputs": [
    {
     "data": {
      "text/plain": [
       "[Sentence(\"I am a runner running in a race because I love to run since I ran today\")]"
      ]
     },
     "execution_count": 17,
     "metadata": {},
     "output_type": "execute_result"
    }
   ],
   "source": [
    "filtered_words = [word for word in sentences if word not in stop_words]\n",
    "filtered_words"
   ]
  },
  {
   "cell_type": "code",
   "execution_count": null,
   "id": "90ae5009",
   "metadata": {},
   "outputs": [],
   "source": []
  }
 ],
 "metadata": {
  "kernelspec": {
   "display_name": ".venv",
   "language": "python",
   "name": "python3"
  },
  "language_info": {
   "codemirror_mode": {
    "name": "ipython",
    "version": 3
   },
   "file_extension": ".py",
   "mimetype": "text/x-python",
   "name": "python",
   "nbconvert_exporter": "python",
   "pygments_lexer": "ipython3",
   "version": "3.13.5"
  }
 },
 "nbformat": 4,
 "nbformat_minor": 5
}
