{
 "cells": [
  {
   "cell_type": "markdown",
   "id": "cbeed5e9",
   "metadata": {},
   "source": [
    "### Spacy"
   ]
  },
  {
   "cell_type": "code",
   "execution_count": 2,
   "id": "fd27a18b",
   "metadata": {},
   "outputs": [],
   "source": [
    "import spacy"
   ]
  },
  {
   "cell_type": "code",
   "execution_count": 3,
   "id": "33468c37",
   "metadata": {},
   "outputs": [],
   "source": [
    "nlp = spacy.load(\"en_core_web_sm\")"
   ]
  },
  {
   "cell_type": "code",
   "execution_count": 7,
   "id": "40253288",
   "metadata": {},
   "outputs": [],
   "source": [
    "text = nlp(\"The striped bats are hanging on their feet for best\")"
   ]
  },
  {
   "cell_type": "code",
   "execution_count": 8,
   "id": "2d14c363",
   "metadata": {},
   "outputs": [
    {
     "name": "stdout",
     "output_type": "stream",
     "text": [
      "the\n",
      "striped\n",
      "bat\n",
      "be\n",
      "hang\n",
      "on\n",
      "their\n",
      "foot\n",
      "for\n",
      "good\n"
     ]
    }
   ],
   "source": [
    "for token in text:\n",
    "    print(token.lemma_)"
   ]
  },
  {
   "cell_type": "code",
   "execution_count": 9,
   "id": "cf0e6cbb",
   "metadata": {},
   "outputs": [
    {
     "name": "stdout",
     "output_type": "stream",
     "text": [
      "[bats, feet]\n"
     ]
    }
   ],
   "source": [
    "nouns = [token for token in text if token.pos_ == \"NOUN\"]\n",
    "print(nouns)"
   ]
  },
  {
   "cell_type": "code",
   "execution_count": null,
   "id": "785de8c5",
   "metadata": {},
   "outputs": [],
   "source": []
  },
  {
   "cell_type": "markdown",
   "id": "520f601e",
   "metadata": {},
   "source": [
    "### TextBlob"
   ]
  },
  {
   "cell_type": "code",
   "execution_count": 16,
   "id": "ac66801c",
   "metadata": {},
   "outputs": [],
   "source": [
    "from textblob import TextBlob, Word"
   ]
  },
  {
   "cell_type": "code",
   "execution_count": 17,
   "id": "e19037fc",
   "metadata": {},
   "outputs": [
    {
     "name": "stdout",
     "output_type": "stream",
     "text": [
      "running\n"
     ]
    }
   ],
   "source": [
    "word = Word(\"running\")\n",
    "print(word.lemmatize())"
   ]
  },
  {
   "cell_type": "code",
   "execution_count": 18,
   "id": "38d60a5a",
   "metadata": {},
   "outputs": [
    {
     "name": "stdout",
     "output_type": "stream",
     "text": [
      "good\n"
     ]
    }
   ],
   "source": [
    "# You can also specify POS tags:\n",
    "print(Word(\"better\").lemmatize(\"a\")) # n-noun, a-adjective, v-verb, r-adverb\t"
   ]
  },
  {
   "cell_type": "code",
   "execution_count": 19,
   "id": "760b2e5a",
   "metadata": {},
   "outputs": [],
   "source": [
    "text = \"The striped bats are hanging on their feet for best\"\n",
    "blob = TextBlob(text)"
   ]
  },
  {
   "cell_type": "code",
   "execution_count": null,
   "id": "7a5b3d63",
   "metadata": {},
   "outputs": [
    {
     "name": "stdout",
     "output_type": "stream",
     "text": [
      "['The', 'striped', 'bat', 'are', 'hanging', 'on', 'their', 'foot', 'for', 'best']\n"
     ]
    }
   ],
   "source": [
    "lemmatized_words = [Word(word).lemmatize() for word in blob.words]\n",
    "print(lemmatized_words)"
   ]
  },
  {
   "cell_type": "code",
   "execution_count": null,
   "id": "649f0f7e",
   "metadata": {},
   "outputs": [],
   "source": []
  }
 ],
 "metadata": {
  "kernelspec": {
   "display_name": ".venv",
   "language": "python",
   "name": "python3"
  },
  "language_info": {
   "codemirror_mode": {
    "name": "ipython",
    "version": 3
   },
   "file_extension": ".py",
   "mimetype": "text/x-python",
   "name": "python",
   "nbconvert_exporter": "python",
   "pygments_lexer": "ipython3",
   "version": "3.13.5"
  }
 },
 "nbformat": 4,
 "nbformat_minor": 5
}
