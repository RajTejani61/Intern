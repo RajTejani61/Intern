{
 "cells": [
  {
   "cell_type": "code",
   "execution_count": null,
   "id": "b154e011",
   "metadata": {},
   "outputs": [],
   "source": [
    "from text_prettifier import TextPrettifier "
   ]
  },
  {
   "cell_type": "code",
   "execution_count": 14,
   "id": "171f1b55",
   "metadata": {},
   "outputs": [],
   "source": [
    "prettifier = TextPrettifier()"
   ]
  },
  {
   "cell_type": "code",
   "execution_count": 37,
   "id": "7edb1de1",
   "metadata": {},
   "outputs": [
    {
     "name": "stdout",
     "output_type": "stream",
     "text": [
      "I cannot believe it is happening!, FR\n"
     ]
    }
   ],
   "source": [
    "text = \"I can't believe it's happening!, FR\"\n",
    "\n",
    "print(prettifier.remove_contractions(text))"
   ]
  },
  {
   "cell_type": "code",
   "execution_count": null,
   "id": "5da14e57",
   "metadata": {},
   "outputs": [
    {
     "name": "stdout",
     "output_type": "stream",
     "text": [
      "Hello ! How are you today?  :)\n"
     ]
    }
   ],
   "source": [
    "text = \"Hello 🌎! How are you today? 😊\"\n",
    "\n",
    "print(prettifier.remove_emojis(text))"
   ]
  },
  {
   "cell_type": "code",
   "execution_count": 19,
   "id": "6d1edcff",
   "metadata": {},
   "outputs": [
    {
     "name": "stdout",
     "output_type": "stream",
     "text": [
      "This is a sample text.\n"
     ]
    }
   ],
   "source": [
    "text = \"<p>This is a <a href='link'>sample</a> text.</p>\"\n",
    "\n",
    "print(prettifier.remove_html_tags(text))"
   ]
  },
  {
   "cell_type": "code",
   "execution_count": 27,
   "id": "e0590694",
   "metadata": {},
   "outputs": [
    {
     "name": "stdout",
     "output_type": "stream",
     "text": [
      "laugh out loud! This is significant other amazing. #Blessed, for real, by the way\n"
     ]
    }
   ],
   "source": [
    "text = \"LOL! This is so amazing. #Blessed, FR, BTW\"\n",
    "\n",
    "print(prettifier.remove_internet_words(text))"
   ]
  },
  {
   "cell_type": "code",
   "execution_count": 28,
   "id": "8a618321",
   "metadata": {},
   "outputs": [
    {
     "name": "stdout",
     "output_type": "stream",
     "text": [
      "The meeting is at AM on th of September.\n"
     ]
    }
   ],
   "source": [
    "text = \"The meeting is at 10 AM on 15th of September.\"\n",
    "\n",
    "print(prettifier.remove_numbers(text))"
   ]
  },
  {
   "cell_type": "code",
   "execution_count": 29,
   "id": "3d782006",
   "metadata": {},
   "outputs": [
    {
     "name": "stdout",
     "output_type": "stream",
     "text": [
      "Hello Hows everything\n"
     ]
    }
   ],
   "source": [
    "text = \"Hello!!! How's everything???\"\n",
    "\n",
    "print(prettifier.remove_special_chars(text))"
   ]
  },
  {
   "cell_type": "code",
   "execution_count": null,
   "id": "1151e7fe",
   "metadata": {},
   "outputs": [
    {
     "name": "stdout",
     "output_type": "stream",
     "text": [
      "simple example stopwords removal.\n"
     ]
    }
   ],
   "source": [
    "text = \"This is a simple example of stopwords removal.\"\n",
    "\n",
    "print(prettifier.remove_stopwords(text))"
   ]
  },
  {
   "cell_type": "code",
   "execution_count": null,
   "id": "ace717ae",
   "metadata": {},
   "outputs": [
    {
     "name": "stdout",
     "output_type": "stream",
     "text": [
      "Visit us at for more information.\n"
     ]
    }
   ],
   "source": [
    "text = \"Visit us at https://example.com/ for more information.\"\n",
    "\n",
    "print(prettifier.remove_urls(text))"
   ]
  },
  {
   "cell_type": "code",
   "execution_count": null,
   "id": "59ce5bd3",
   "metadata": {},
   "outputs": [],
   "source": []
  }
 ],
 "metadata": {
  "kernelspec": {
   "display_name": ".venv",
   "language": "python",
   "name": "python3"
  },
  "language_info": {
   "codemirror_mode": {
    "name": "ipython",
    "version": 3
   },
   "file_extension": ".py",
   "mimetype": "text/x-python",
   "name": "python",
   "nbconvert_exporter": "python",
   "pygments_lexer": "ipython3",
   "version": "3.13.5"
  }
 },
 "nbformat": 4,
 "nbformat_minor": 5
}
