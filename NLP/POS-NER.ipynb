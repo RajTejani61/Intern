{
 "cells": [
  {
   "cell_type": "markdown",
   "id": "e401176d",
   "metadata": {},
   "source": [
    "### POS"
   ]
  },
  {
   "cell_type": "markdown",
   "id": "b1cbaa29",
   "metadata": {},
   "source": [
    "#### NLTK"
   ]
  },
  {
   "cell_type": "code",
   "execution_count": 1,
   "id": "be54fb63",
   "metadata": {},
   "outputs": [],
   "source": [
    "import nltk\n",
    "from nltk.tokenize import word_tokenize\n",
    "from nltk import pos_tag"
   ]
  },
  {
   "cell_type": "code",
   "execution_count": 2,
   "id": "1b3840f2",
   "metadata": {},
   "outputs": [],
   "source": [
    "text = \"\"\"\n",
    "The quick brown fox jumps over the lazy dog.\n",
    "\"\"\""
   ]
  },
  {
   "cell_type": "code",
   "execution_count": 3,
   "id": "133793bf",
   "metadata": {},
   "outputs": [
    {
     "data": {
      "text/plain": [
       "['The', 'quick', 'brown', 'fox', 'jumps', 'over', 'the', 'lazy', 'dog', '.']"
      ]
     },
     "execution_count": 3,
     "metadata": {},
     "output_type": "execute_result"
    }
   ],
   "source": [
    "words = word_tokenize(text)\n",
    "words"
   ]
  },
  {
   "cell_type": "code",
   "execution_count": 4,
   "id": "76866494",
   "metadata": {},
   "outputs": [
    {
     "data": {
      "text/plain": [
       "[('The', 'DT'),\n",
       " ('quick', 'JJ'),\n",
       " ('brown', 'NN'),\n",
       " ('fox', 'NN'),\n",
       " ('jumps', 'VBZ'),\n",
       " ('over', 'IN'),\n",
       " ('the', 'DT'),\n",
       " ('lazy', 'JJ'),\n",
       " ('dog', 'NN'),\n",
       " ('.', '.')]"
      ]
     },
     "execution_count": 4,
     "metadata": {},
     "output_type": "execute_result"
    }
   ],
   "source": [
    "pos = pos_tag(words)\n",
    "pos"
   ]
  },
  {
   "cell_type": "markdown",
   "id": "b6132d79",
   "metadata": {},
   "source": [
    "#### Spacy"
   ]
  },
  {
   "cell_type": "code",
   "execution_count": 5,
   "id": "0d740815",
   "metadata": {},
   "outputs": [],
   "source": [
    "import spacy"
   ]
  },
  {
   "cell_type": "code",
   "execution_count": 6,
   "id": "3534712c",
   "metadata": {},
   "outputs": [],
   "source": [
    "pos_spacy = spacy.load(\"en_core_web_sm\")"
   ]
  },
  {
   "cell_type": "code",
   "execution_count": 7,
   "id": "7758c40b",
   "metadata": {},
   "outputs": [],
   "source": [
    "text = \"Apple is looking at buying U.K. startup for $1 billion\""
   ]
  },
  {
   "cell_type": "code",
   "execution_count": 8,
   "id": "4b7c3073",
   "metadata": {},
   "outputs": [
    {
     "data": {
      "text/plain": [
       "Apple is looking at buying U.K. startup for $1 billion"
      ]
     },
     "execution_count": 8,
     "metadata": {},
     "output_type": "execute_result"
    }
   ],
   "source": [
    "doc = pos_spacy(text)\n",
    "doc"
   ]
  },
  {
   "cell_type": "code",
   "execution_count": 9,
   "id": "a686fdd3",
   "metadata": {},
   "outputs": [
    {
     "name": "stdout",
     "output_type": "stream",
     "text": [
      "Apple : PROPN , NNP, nsubj\n",
      "is : AUX , VBZ, aux\n",
      "looking : VERB , VBG, ROOT\n",
      "at : ADP , IN, prep\n",
      "buying : VERB , VBG, pcomp\n",
      "U.K. : PROPN , NNP, nsubj\n",
      "startup : VERB , VBD, ccomp\n",
      "for : ADP , IN, prep\n",
      "$ : SYM , $, quantmod\n",
      "1 : NUM , CD, compound\n",
      "billion : NUM , CD, pobj\n"
     ]
    }
   ],
   "source": [
    "for word in doc:\n",
    "    print(f\"{word.text} : {word.pos_} , {word.tag_}, {word.dep_}\")"
   ]
  },
  {
   "cell_type": "code",
   "execution_count": null,
   "id": "783cf032",
   "metadata": {},
   "outputs": [],
   "source": []
  },
  {
   "cell_type": "markdown",
   "id": "e8278811",
   "metadata": {},
   "source": [
    "### Name Entity Recognition"
   ]
  },
  {
   "cell_type": "code",
   "execution_count": 10,
   "id": "918e1def",
   "metadata": {},
   "outputs": [],
   "source": [
    "import spacy"
   ]
  },
  {
   "cell_type": "code",
   "execution_count": 11,
   "id": "acdaa8e4",
   "metadata": {},
   "outputs": [],
   "source": [
    "nlp = spacy.load(\"en_core_web_sm\")"
   ]
  },
  {
   "cell_type": "code",
   "execution_count": 12,
   "id": "edd85c66",
   "metadata": {},
   "outputs": [],
   "source": [
    "text = \"Apple Inc. is looking at buying U.K. startup for $1 billion, Apple was founded by Steve Jobs in California in 1976.\""
   ]
  },
  {
   "cell_type": "code",
   "execution_count": 15,
   "id": "915d5932",
   "metadata": {},
   "outputs": [
    {
     "name": "stdout",
     "output_type": "stream",
     "text": [
      "Apple Inc. ORG\n",
      "U.K. GPE\n",
      "$1 billion MONEY\n",
      "Apple ORG\n",
      "Steve Jobs PERSON\n",
      "California GPE\n",
      "1976 DATE\n"
     ]
    }
   ],
   "source": [
    "for token in nlp(text).ents:\n",
    "    print(token.text, token.label_)"
   ]
  },
  {
   "cell_type": "code",
   "execution_count": null,
   "id": "bf92add3",
   "metadata": {},
   "outputs": [],
   "source": []
  }
 ],
 "metadata": {
  "kernelspec": {
   "display_name": ".venv",
   "language": "python",
   "name": "python3"
  },
  "language_info": {
   "codemirror_mode": {
    "name": "ipython",
    "version": 3
   },
   "file_extension": ".py",
   "mimetype": "text/x-python",
   "name": "python",
   "nbconvert_exporter": "python",
   "pygments_lexer": "ipython3",
   "version": "3.13.5"
  }
 },
 "nbformat": 4,
 "nbformat_minor": 5
}
