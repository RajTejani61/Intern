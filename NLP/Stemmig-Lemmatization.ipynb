{
 "cells": [
  {
   "cell_type": "markdown",
   "id": "c7abc5fa",
   "metadata": {},
   "source": [
    "### Stemmer"
   ]
  },
  {
   "cell_type": "code",
   "execution_count": 35,
   "id": "ea8d61f5",
   "metadata": {},
   "outputs": [],
   "source": [
    "import nltk\n",
    "from nltk.stem import PorterStemmer\n",
    "from nltk.stem import SnowballStemmer\n",
    "from nltk.stem import LancasterStemmer\n",
    "from nltk.stem import RegexpStemmer"
   ]
  },
  {
   "cell_type": "code",
   "execution_count": 36,
   "id": "e64a272b",
   "metadata": {},
   "outputs": [],
   "source": [
    "words = [\"running\", \"jumps\", \"happily\", \"running\", \"happily\", \"foxes\", \"easily\"]"
   ]
  },
  {
   "cell_type": "code",
   "execution_count": 37,
   "id": "45792ef4",
   "metadata": {},
   "outputs": [
    {
     "name": "stdout",
     "output_type": "stream",
     "text": [
      "run\n",
      "jump\n",
      "happili\n",
      "run\n",
      "happili\n",
      "fox\n",
      "easili\n"
     ]
    }
   ],
   "source": [
    "stemmer = PorterStemmer()\n",
    "\n",
    "for word in words:\n",
    "    print(stemmer.stem(word))"
   ]
  },
  {
   "cell_type": "code",
   "execution_count": 38,
   "id": "9e62a978",
   "metadata": {},
   "outputs": [
    {
     "name": "stdout",
     "output_type": "stream",
     "text": [
      "run\n",
      "jump\n",
      "happili\n",
      "run\n",
      "happili\n",
      "fox\n",
      "easili\n"
     ]
    }
   ],
   "source": [
    "snow_stemmer = SnowballStemmer(\"english\") # supports multiple laanguage\n",
    "\n",
    "for word in words:\n",
    "\tprint(snow_stemmer.stem(word))"
   ]
  },
  {
   "cell_type": "code",
   "execution_count": 39,
   "id": "d8c99a1a",
   "metadata": {},
   "outputs": [
    {
     "name": "stdout",
     "output_type": "stream",
     "text": [
      "run\n",
      "jump\n",
      "happy\n",
      "run\n",
      "happy\n",
      "fox\n",
      "easy\n"
     ]
    }
   ],
   "source": [
    "lancaster_stemmer = LancasterStemmer()\n",
    "\n",
    "for word in words:\n",
    "\tprint(lancaster_stemmer.stem(word))"
   ]
  },
  {
   "cell_type": "code",
   "execution_count": 40,
   "id": "09a8a57c",
   "metadata": {},
   "outputs": [
    {
     "name": "stdout",
     "output_type": "stream",
     "text": [
      "runn\n",
      "jump\n",
      "happi\n",
      "runn\n",
      "happi\n",
      "foxe\n",
      "easi\n"
     ]
    }
   ],
   "source": [
    "rule = r'ing$|s$|ed$|ly$'\n",
    "reg_stemmer = RegexpStemmer(rule)\n",
    "\n",
    "for word in words:\n",
    "\tprint(reg_stemmer.stem(word))"
   ]
  },
  {
   "cell_type": "code",
   "execution_count": null,
   "id": "39a5b0bf",
   "metadata": {},
   "outputs": [],
   "source": []
  },
  {
   "cell_type": "markdown",
   "id": "409a3823",
   "metadata": {},
   "source": [
    "### Lemmatization "
   ]
  },
  {
   "cell_type": "code",
   "execution_count": 41,
   "id": "85cce8cc",
   "metadata": {},
   "outputs": [],
   "source": [
    "from nltk.stem import WordNetLemmatizer"
   ]
  },
  {
   "cell_type": "code",
   "execution_count": 42,
   "id": "2d90ac0b",
   "metadata": {},
   "outputs": [
    {
     "data": {
      "text/plain": [
       "['running', 'jumps', 'happily', 'running', 'happily', 'foxes', 'easily']"
      ]
     },
     "execution_count": 42,
     "metadata": {},
     "output_type": "execute_result"
    }
   ],
   "source": [
    "words"
   ]
  },
  {
   "cell_type": "code",
   "execution_count": 43,
   "id": "e9a01164",
   "metadata": {},
   "outputs": [
    {
     "name": "stdout",
     "output_type": "stream",
     "text": [
      "running\n",
      "jump\n",
      "happily\n",
      "running\n",
      "happily\n",
      "fox\n",
      "easily\n"
     ]
    }
   ],
   "source": [
    "word_lemmetizer = WordNetLemmatizer()\n",
    "\n",
    "for word in words:\n",
    "\tprint(word_lemmetizer.lemmatize(word))"
   ]
  },
  {
   "cell_type": "markdown",
   "id": "937cb2ec",
   "metadata": {},
   "source": [
    "### Bag of Words"
   ]
  },
  {
   "cell_type": "code",
   "execution_count": 44,
   "id": "94c57c0c",
   "metadata": {},
   "outputs": [],
   "source": [
    "from sklearn.feature_extraction.text import CountVectorizer"
   ]
  },
  {
   "cell_type": "code",
   "execution_count": 45,
   "id": "87cd4dcf",
   "metadata": {},
   "outputs": [],
   "source": [
    "count_vectorizer = CountVectorizer()"
   ]
  },
  {
   "cell_type": "code",
   "execution_count": 47,
   "id": "44e926f5",
   "metadata": {},
   "outputs": [],
   "source": [
    "word = count_vectorizer.fit_transform(words)"
   ]
  },
  {
   "cell_type": "code",
   "execution_count": 50,
   "id": "60aa6444",
   "metadata": {},
   "outputs": [
    {
     "name": "stdout",
     "output_type": "stream",
     "text": [
      "['running', 'jumps', 'happily', 'running', 'happily', 'foxes', 'easily']\n",
      "{'running': 4, 'jumps': 3, 'happily': 2, 'foxes': 1, 'easily': 0}\n"
     ]
    }
   ],
   "source": [
    "print(words)\n",
    "print(count_vectorizer.vocabulary_)"
   ]
  },
  {
   "cell_type": "code",
   "execution_count": 53,
   "id": "a4a872e9",
   "metadata": {},
   "outputs": [
    {
     "data": {
      "text/plain": [
       "array([[0, 0, 0, 0, 1]])"
      ]
     },
     "execution_count": 53,
     "metadata": {},
     "output_type": "execute_result"
    }
   ],
   "source": [
    "word[0].toarray()"
   ]
  },
  {
   "cell_type": "code",
   "execution_count": null,
   "id": "4693687a",
   "metadata": {},
   "outputs": [],
   "source": []
  },
  {
   "cell_type": "code",
   "execution_count": null,
   "id": "df0821f4",
   "metadata": {},
   "outputs": [],
   "source": []
  }
 ],
 "metadata": {
  "kernelspec": {
   "display_name": "Python 3",
   "language": "python",
   "name": "python3"
  },
  "language_info": {
   "codemirror_mode": {
    "name": "ipython",
    "version": 3
   },
   "file_extension": ".py",
   "mimetype": "text/x-python",
   "name": "python",
   "nbconvert_exporter": "python",
   "pygments_lexer": "ipython3",
   "version": "3.13.4"
  }
 },
 "nbformat": 4,
 "nbformat_minor": 5
}
