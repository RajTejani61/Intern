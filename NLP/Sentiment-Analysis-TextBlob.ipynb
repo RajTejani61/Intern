{
 "cells": [
  {
   "cell_type": "code",
   "execution_count": 8,
   "id": "83564756",
   "metadata": {},
   "outputs": [],
   "source": [
    "from textblob import TextBlob"
   ]
  },
  {
   "cell_type": "code",
   "execution_count": 9,
   "id": "1c54c4ae",
   "metadata": {},
   "outputs": [],
   "source": [
    "text = \"I love this phone. The camera is amazing, but the battery life is terrible.\""
   ]
  },
  {
   "cell_type": "code",
   "execution_count": 10,
   "id": "34bc3105",
   "metadata": {},
   "outputs": [],
   "source": [
    "blob = TextBlob(text)"
   ]
  },
  {
   "cell_type": "code",
   "execution_count": 11,
   "id": "d0eb8ab3",
   "metadata": {},
   "outputs": [],
   "source": [
    "sentiment = blob.sentiment"
   ]
  },
  {
   "cell_type": "code",
   "execution_count": 12,
   "id": "1b951194",
   "metadata": {},
   "outputs": [
    {
     "name": "stdout",
     "output_type": "stream",
     "text": [
      "Polarity :  0.03333333333333336\n",
      "Subjectivity :  0.8333333333333334\n"
     ]
    }
   ],
   "source": [
    "print(\"Polarity : \", sentiment.polarity)\n",
    "print(\"Subjectivity : \", sentiment.subjectivity)"
   ]
  },
  {
   "cell_type": "code",
   "execution_count": 13,
   "id": "eb8027c2",
   "metadata": {},
   "outputs": [
    {
     "name": "stdout",
     "output_type": "stream",
     "text": [
      "positive\n"
     ]
    }
   ],
   "source": [
    "if sentiment.polarity > 0:\n",
    "    print(\"positive\")\n",
    "elif sentiment.polarity < 0:\n",
    "    print(\"negative\")\n",
    "else:\n",
    "    print(\"nutral\")"
   ]
  },
  {
   "cell_type": "code",
   "execution_count": null,
   "id": "2a305466",
   "metadata": {},
   "outputs": [
    {
     "name": "stdout",
     "output_type": "stream",
     "text": [
      "0.5\n",
      "-0.8\n",
      "0.0\n"
     ]
    }
   ],
   "source": [
    "print(TextBlob(\"I love this phone\").sentiment.polarity) # positive\n",
    "print(TextBlob(\"I hate this dog\").sentiment.polarity) # negative\n",
    "print(TextBlob(\"This is chair\").sentiment.polarity) # nutral"
   ]
  },
  {
   "cell_type": "code",
   "execution_count": null,
   "id": "16407886",
   "metadata": {},
   "outputs": [],
   "source": []
  }
 ],
 "metadata": {
  "kernelspec": {
   "display_name": ".venv",
   "language": "python",
   "name": "python3"
  },
  "language_info": {
   "codemirror_mode": {
    "name": "ipython",
    "version": 3
   },
   "file_extension": ".py",
   "mimetype": "text/x-python",
   "name": "python",
   "nbconvert_exporter": "python",
   "pygments_lexer": "ipython3",
   "version": "3.13.5"
  }
 },
 "nbformat": 4,
 "nbformat_minor": 5
}
